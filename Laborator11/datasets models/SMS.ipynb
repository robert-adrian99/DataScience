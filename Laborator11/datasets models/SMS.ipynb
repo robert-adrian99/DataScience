{
 "cells": [
  {
   "cell_type": "code",
   "execution_count": 9,
   "metadata": {},
   "outputs": [
    {
     "output_type": "stream",
     "name": "stderr",
     "text": "[nltk_data] Downloading package stopwords to\n[nltk_data]     /Users/robertadrianbucur/nltk_data...\n[nltk_data]   Package stopwords is already up-to-date!\n"
    }
   ],
   "source": [
    "import numpy as np\n",
    "import pandas as pd\n",
    "import re\n",
    "import nltk\n",
    "from sklearn.datasets import load_files\n",
    "nltk.download('stopwords')\n",
    "import pickle\n",
    "from nltk.corpus import stopwords\n",
    "from sklearn.feature_extraction.text import CountVectorizer"
   ]
  },
  {
   "cell_type": "markdown",
   "metadata": {},
   "source": [
    "## Descriere set de date SMS\n",
    "\n",
    "Colecția SMS Spam v.1 (denumită în continuare corpus) este un set de mesaje marcate prin SMS care au fost colectate pentru cercetarea SMS Spam.\n",
    "\n",
    "Conține un set de mesaje SMS în limba engleză de 5.574 de mesaje, conform căruia etichetarea este ham (legitimă) sau spam.\n",
    "\n",
    "### Exemplu de continut:\n",
    "\n",
    "0   What you doing?how are you?\n",
    "\n",
    "0   Ok lar... Joking wif u oni...\n",
    "\n",
    "\n",
    "0   dun say so early hor... U c already then say...\n",
    "\n",
    "0   MY NO. IN LUTON 0125698789 RING ME IF UR AROUND! H*\n",
    "\n",
    "0   Siva is in hostel aha:-.\n",
    "\n",
    "0   Cos i was out shopping wif darren jus now n i called him 2 ask wat present he wan lor. Then he started guessing who i was wif n he finally guessed darren lor.\n",
    "\n",
    "1   FreeMsg: Txt: CALL to No: 86888 & claim your reward of 3 hours talk time to use from your phone now! ubscribe6GBP/ mnth inc 3hrs 16 stop?txtStop\n",
    "\n",
    "1   Sunshine Quiz! Win a super Sony DVD recorder if you canname the capital of Australia? Text MQUIZ to 82277. B\n",
    "\n",
    "1   URGENT! Your Mobile No 07808726822 was awarded a L2,000 Bonus Caller Prize on 02/09/03! This is our 2nd attempt to contact YOU! Call 0871-872-9758 BOX95QU\n",
    "\n",
    "### Problema este una de clasificare binara: mesaj acceptat = 0 si marcate ca spam = 1."
   ]
  },
  {
   "cell_type": "markdown",
   "metadata": {},
   "source": [
    "# Incarcarea setului de date"
   ]
  },
  {
   "cell_type": "code",
   "execution_count": 50,
   "metadata": {},
   "outputs": [
    {
     "output_type": "execute_result",
     "data": {
      "text/plain": "   0                                                  1\n0  0  Go until jurong point, crazy.. Available only ...\n1  0                      Ok lar... Joking wif u oni...\n2  1  Free entry in 2 a wkly comp to win FA Cup fina...\n3  0  U dun say so early hor... U c already then say...\n4  0  Nah I don't think he goes to usf, he lives aro...",
      "text/html": "<div>\n<style scoped>\n    .dataframe tbody tr th:only-of-type {\n        vertical-align: middle;\n    }\n\n    .dataframe tbody tr th {\n        vertical-align: top;\n    }\n\n    .dataframe thead th {\n        text-align: right;\n    }\n</style>\n<table border=\"1\" class=\"dataframe\">\n  <thead>\n    <tr style=\"text-align: right;\">\n      <th></th>\n      <th>0</th>\n      <th>1</th>\n    </tr>\n  </thead>\n  <tbody>\n    <tr>\n      <th>0</th>\n      <td>0</td>\n      <td>Go until jurong point, crazy.. Available only ...</td>\n    </tr>\n    <tr>\n      <th>1</th>\n      <td>0</td>\n      <td>Ok lar... Joking wif u oni...</td>\n    </tr>\n    <tr>\n      <th>2</th>\n      <td>1</td>\n      <td>Free entry in 2 a wkly comp to win FA Cup fina...</td>\n    </tr>\n    <tr>\n      <th>3</th>\n      <td>0</td>\n      <td>U dun say so early hor... U c already then say...</td>\n    </tr>\n    <tr>\n      <th>4</th>\n      <td>0</td>\n      <td>Nah I don't think he goes to usf, he lives aro...</td>\n    </tr>\n  </tbody>\n</table>\n</div>"
     },
     "metadata": {},
     "execution_count": 50
    }
   ],
   "source": [
    "data = pd.read_csv('SMS/SMSSpamCollection.txt', sep='\\t', header=None)\n",
    "\n",
    "data.head()"
   ]
  },
  {
   "cell_type": "markdown",
   "metadata": {},
   "source": [
    "# Afisam numarul de sms-uri acceptate si lungimile cuvintelor: minim, maxim, mediu"
   ]
  },
  {
   "cell_type": "code",
   "execution_count": 11,
   "metadata": {},
   "outputs": [
    {
     "output_type": "stream",
     "name": "stdout",
     "text": "Total accepted sms: 4825\nTotal spam sms: 747\nMin word length: 1\nMax word length: 171\nMean word length: 15\n"
    }
   ],
   "source": [
    "total_accepted_sms = len(data[data[0]==0])\n",
    "print('Total accepted sms:', total_accepted_sms)\n",
    "total_spam_sms = len(data[data[0]==1])\n",
    "print('Total spam sms:', total_spam_sms)\n",
    "\n",
    "word_length_data = data.loc[:, 1].apply(lambda x: len(x.split()))\n",
    "print('Min word length:', word_length_data.min())\n",
    "print('Max word length:', word_length_data.max())\n",
    "print('Mean word length:', int((word_length_data.mean())))"
   ]
  },
  {
   "cell_type": "markdown",
   "metadata": {},
   "source": [
    "# Eliminarea stopwords si afisarea numarului de aparitii a ficarui cuvant"
   ]
  },
  {
   "cell_type": "code",
   "execution_count": 37,
   "metadata": {
    "tags": [
     "outputPrepend"
    ]
   },
   "outputs": [
    {
     "output_type": "stream",
     "name": "stdout",
     "text": "po19': 5848, '2ez': 448, 'general': 3470, 'jetton': 4252, 'cmon': 2094, 'sticky': 7203, 'replies': 6352, 'lunsford': 4742, 'enjoying': 2912, '0796xxxxxx': 49, 'prizeawaiting': 6026, 'kfc': 4365, 'meals': 4902, 'gravy': 3613, '07008009200': 23, 'attended': 1275, 'mw': 5182, 'tuth': 7861, 'eviction': 2998, 'spiral': 7093, 'michael': 4968, 'riddance': 6424, 'suffers': 7316, 'raglan': 6166, 'edward': 2834, 'cricket': 2328, 'closeby': 2075, 'skye': 6900, 'bookedthe': 1609, 'hut': 3972, 'drastic': 2732, 'indicate': 4083, '3750': 521, 'garments': 3443, 'sez': 6725, 'arab': 1182, 'evry1': 3007, 'eshxxxxxxxxxxx': 2958, 'lay': 4499, 'bimbo': 1529, 'ugo': 7899, '3lions': 532, 'portege': 5904, 'm100': 4758, 'semiobscure': 6681, 'gprs': 3589, 'repeat': 6345, 'loosu': 4680, 'careless': 1866, 'freaking': 3334, 'myspace': 5189, 'logged': 4650, 'method': 4962, 'calculation': 1805, 'blur': 1587, 'clothes': 2081, 'jewelry': 4253, 'breaker': 1678, 'deluxe': 2512, 'features': 3131, 'graphics': 3607, 'bbdeluxe': 1423, 'lush': 4743, 'fumbling': 3400, '2find': 449, 'taunton': 7474, 'weekdays': 8252, 'haiz': 3692, 'nails': 5200, 'common': 2152, 'asia': 1232, 'greatest': 3618, 'courage': 2287, 'bear': 1440, 'defeat': 2489, 'stil': 7205, 'fucked': 3388, 'tobed': 7699, '430': 563, 'beauty': 1445, 'natalja': 5224, '440': 566, 'nat27081980': 5221, 'asthma': 1254, 'attack': 1271, 'ball': 1367, 'moving': 5121, 'spin': 7091, 'haiyoh': 3691, 'million': 4981, 'prsn': 6085, 'saves': 6588, 'sunlight': 7342, 'loss': 4687, 'audiitions': 1285, 'relocate': 6314, 'pocked': 5863, 'motivating': 5107, 'brison': 1704, 'spelled': 7081, 'caps': 1851, 'bullshit': 1753, 'motherfucker': 5105, 'kit': 4396, 'strip': 7251, '1013': 307, 'ig11': 4013, 'oja': 5459, '08712402578': 118, 'thesmszone': 7593, 'anonymous': 1109, 'masked': 4862, 'abuse': 881, 'woodland': 8399, 'avenue': 1310, 'parish': 5643, 'magazine': 4793, 'billy': 1527, 'jogging': 4269, 'awww': 1325, 'useless': 8012, 'loo': 4668, 'ed': 2824, 'shelf': 6756, 'swollen': 7409, 'glands': 3519, 'previous': 6003, 'captain': 1852, 'bcaz': 1426, 'stu': 7261, 'truble': 7824, 'evone': 3003, 'hates': 3741, 'mokka': 5070, 'view': 8087, 'gays': 3454, 'dual': 2770, 'hostile': 3908, 'haircut': 3689, 'breezy': 1689, '09061744553': 232, 'polyh': 5882, '1apple': 378, '1tulsi': 394, 'leaf': 4514, '1lemon': 385, '1cup': 380, 'bone': 1602, 'problms': 6035, 'litres': 4621, 'watr': 8216, 'diseases': 2638, 'snd': 6970, 'lavender': 4496, 'manky': 4835, 'scouse': 6619, 'steve': 7198, 'travelling': 7800, 'inmind': 4102, 'recreation': 6272, 'epsilon': 2938, 'mesages': 4952, 'judgemental': 4298, 'fridays': 3357, 'waheeda': 8157, 'bot': 1626, 'notes': 5366, 'eventually': 2983, 'tolerance': 7715, 'hits': 3838, '0789xxxxxxx': 47, 'hellogorgeous': 3791, 'lst': 4726, 'nitw': 5324, 'texd': 7546, 'hopeu': 3895, '4ward': 614, 'jaz': 4230, '09058091870': 202, 'exorcism': 3032, 'emily': 2885, 'evry': 3006, 'emotion': 2886, 'dsn': 2768, 'prayrs': 5965, 'othrwise': 5554, 'ujhhhhhhh': 7903, 'sandiago': 6556, 'parantella': 5637, 'hugging': 3945, 'sweater': 7395, 'mango': 4833, 'massive': 4865, 'involved': 4154, 'landmark': 4462, 'bob': 1593, 'barry': 1397, '83738': 772, 'absolutly': 876, 'consent': 2214, 'forms': 3308, 'tonexs': 7730, 'renewed': 6336, 'clubzed': 2089, 'billing': 1524, 'polo': 5878, '373': 520, 'w1j': 8141, '6hl': 693, 'mathews': 4877, 'tait': 7437, 'edwards': 2835, 'anderson': 1090, 'haunt': 3744, 'promoting': 6062, 'crowd': 2337, '8000930705': 735, 'snowboarding': 6978, 'christmassy': 2033, 'recpt': 6271, 'baaaaaaaabe': 1340, 'ignoring': 4016, 'shola': 6788, 'academic': 884, 'sagamu': 6537, 'lautech': 4495, 'vital': 8111, 'completes': 2171, 'education': 2831, 'zealand': 8561, 'qet': 6133, 'browser': 1724, 'surf': 7368, 'subscribers': 7297, 'convinced': 2243, 'conversations': 2237, 'senses': 6690, 'overemphasise': 5580, 'headset': 3762, 'adp': 945, 'internal': 4134, 'extract': 3059, 'immed': 4038, 'skint': 6896, 'fancied': 3100, 'bevies': 1505, 'waz': 8224, 'othrs': 5553, 'spoon': 7113, 'watchng': 8211, 'comfey': 2143, 'quitting': 6153, 'least5times': 4521, 'wudn': 8458, 'coast': 2101, 'frequently': 3351, 'cupboard': 2375, 'route': 6480, '2mro': 465, 'floppy': 3247, 'snappy': 6968, 'risk': 6443, 'grasp': 3608, 'flavour': 3231, 'laready': 4474, 'denying': 2524, 'dom': 2692, 'ffffuuuuuuu': 3157, 'julianaland': 4303, 'oblivious': 5423, 'dehydrated': 2498, 'mapquest': 4839, 'dogwood': 2682, 'tiny': 7666, 'parking': 5647, 'suppose': 7361, 'archive': 1185, '08719839835': 179, 'mgs': 4965, '89123': 816, 'lengths': 4539, 'behalf': 1472, 'stunning': 7278, 'visa': 8105, 'gucci': 3651, 'sozi': 7052, 'culdnt': 2369, 'talkbut': 7449, 'wannatell': 8185, 'wenwecan': 8275, 'smsing': 6961, 'efficient': 2842, 'explicit': 3048, 'secs': 6649, '02073162414': 12, '15pm': 365, 'erutupalam': 2953, 'thandiyachu': 7561, 'invention': 4144, 'lyrics': 4757, 'nevr': 5285, 'unrecognized': 7962, 'somone': 7012, 'valuing': 8044, 'definitly': 2494, 'undrstnd': 7934, 'ger': 3483, 'toking': 7711, 'syd': 7413, 'khelate': 4367, 'kintu': 4389, 'opponenter': 5512, 'dhorte': 2570, 'lage': 4449, 'fried': 3359, 'spares': 7061, 'looovvve': 4677, 'warwick': 8199, 'tmw': 7693, 'canceled': 1838, 'havn': 3753, 'tops': 7751, 'grandma': 3603, 'parade': 5633, 'proze': 6084, 'norcorp': 5352, 'posting': 5924, '7cfca1a': 725, 'grumble': 3642, 'linear': 4593, 'algebra': 1031, 'decorating': 2479, 'wining': 8342, '946': 837, 'roomate': 6469, 'graduated': 3596, 'adjustable': 937, 'cooperative': 2251, 'allows': 1044, 'notting0': 5373, '63miles': 670, '40mph': 555, 'clearly': 2065, 'thanku': 7567, 'guessed': 3657, '89938': 820, 'strings': 7250, '50ea': 623, 'otbox': 5550, '731': 709, 'la1': 4437, '7ws': 731, 'gain': 3423, 'beside': 1494, 'brisk': 1703, 'walks': 8173, 'sexiest': 6720, 'dirtiest': 2621, '89070': 813, 'tellmiss': 7513, 'contribute': 2234, 'greatly': 3619, 'urgh': 7996, 'coach': 2100, 'smells': 6944, 'duvet': 2791, 'predictive': 5971, 'w8in': 8147, '4utxt': 612, '24th': 424, 'beverage': 1504, 'pist': 5800, 'surrender': 7375, 'symptoms': 7417, 'rdy': 6212, 'realise': 6226, 'backwards': 1353, 'abstract': 877, 'africa': 972, 'avin': 1311, 'chit': 2017, 'logon': 4655, '8883': 809, '4217': 560, 'w1a': 8140, '6zf': 703, '118p': 322, 'quiteamuzing': 6152, 'scool': 6611, 'probpop': 6037, 'cu': 2362, 'satthen': 6581, '4brekkie': 591, 'psxtra': 6090, 'lrg': 4722, 'portions': 5905, '1000call': 302, '09071512432': 276, '300603t': 494, 'callcost150ppmmobilesvary': 1814, 'rows': 6483, 'mnths': 5046, 'engagement': 2904, 'fixd': 3219, 'njan': 5326, 'vilikkam': 8091, 'sudn': 7312, 'maths': 4878, 'chapter': 1941, 'chop': 2025, 'noooooooo': 5349, '08718727870150ppm': 168, 'firsg': 3210, 'split': 7103, 'wasnt': 8201, 'heat': 3775, 'applyed': 1161, 'sumfing': 7333, '86888': 791, 'subscribe6gbp': 7294, '3hrs': 531, 'txtstop': 7884, 'hopeso': 3894, 'amnow': 1073, 'ithink': 4188, 'tonsolitusaswell': 7737, 'layin': 4500, 'bedreal': 1455, 'lotsof': 4693, 'hiphop': 3832, 'managed': 4824, 'oxygen': 5593, 'resort': 6379, 'roller': 6464, 'recorder': 6267, 'canname': 1843, 'capital': 1849, 'australia': 1296, 'mquiz': 5123, 'showr': 6815, 'acted': 914, 'upon': 7983, 'ceiling': 1910, 'presnts': 5992, 'bcz': 1436, 'mis': 5007, 'jeevithathile': 4238, 'irulinae': 4173, 'neekunna': 5258, 'prakasamanu': 5955, 'sne0': 6971, 'prakasam': 5954, 'ennal': 2915, 'mns': 5044, 'blowing': 1580, '7634': 716, '7684': 717, 'firmware': 3209, 'vijaykanth': 8089, 'anythiing': 1131, 'ripped': 6441, 'clubmoby': 2087, '08717509990': 152, 'keypad': 4362, 'btwn': 1736, 'decades': 2467, 'goverment': 3586, 'expects': 3038, 'loyal': 4720, 'customers': 2389, '09066380611': 271, 'spice': 7087, 'prasanth': 5959, 'ettans': 2969, '08718738002': 172, '48922': 587, 'appy': 1175, 'fizz': 3223, 'contains': 2225, 'genus': 3479, 'robinson': 6452, 'print': 6014, 'outs': 5569, 'soz': 7051, 'imat': 4033, 'mums': 5161, 'freinds': 3347, 'sometext': 7002, '07099833605': 27, '9280114': 832, 'chloe': 2019, 'wewa': 8288, '130': 339, 'iriver': 4166, '255': 428, '128': 334, 'bw': 1786, 'surly': 7371, '07808726822': 42, '9758': 840, 'dokey': 2687, 'mmmmmmm': 5042, 'snuggles': 6980, 'contented': 2227, 'whispers': 8305, 'error': 2948, 'healthy': 3766, '2bold': 441, 'scraped': 6620, 'barrel': 1395, 'misfits': 5010, 'sleepin': 6909, 'sections': 6651, 'clearer': 2063, 'peach': 5698, 'tasts': 7467, 'rayman': 6204, 'golf': 3552, 'activ8': 918, 'termsapply': 7532, 'minor': 4998, 'shindig': 6768, 'phonebook': 5763, 'rocking': 6455, 'ashes': 1229, 'shijutta': 6766, 'offense': 5439, 'dvg': 2793, 'vinobanagar': 8095, 'ovulate': 5584, '3wks': 543, 'woah': 8384, 'realising': 6228, 'orh': 5540, 'hides': 3821, 'secrets': 6648, 'n8': 5191, 'axel': 1327, 'akon': 1016, 'eyed': 3063, 'cashbin': 1883, 'canteen': 1847, 'stressfull': 7245, 'adds': 934, 'continued': 2232, 'president': 5990, '140': 343, '180': 372, 'pleasured': 5833, 'providing': 6082, 'assistance': 1248, 'whens': 8298, '1172': 321, 'built': 1750, 'lonlines': 4667, 'lotz': 4696, 'memories': 4938, 'gailxx': 3422, 'complacent': 2163, 'denis': 2518, 'mina': 4985, 'miwa': 5030, 'woulda': 8431, '09066649731from': 274, 'opposite': 5515, 'heavily': 3778, 'dolls': 2691, 'patrick': 5675, 'swayze': 7393, 'santa': 6561, '09077818151': 279, 'calls1': 1825, '50ppm': 630, '30s': 501, 'santacalling': 6562, 'miserable': 5009, 'quarter': 6139, 'fired': 3205, 'limping': 4590, 'aa': 855, '078498': 45, '08719180219': 174, 'oga': 5453, 'poorly': 5894, 'punishment': 6108, 'brb': 1673, 'kill': 4379, 'predicte': 5968, 'situations': 6883, 'loosing': 4679, 'smaller': 6936, 'capacity': 1848, 'videos': 8084, 'shsex': 6822, 'netun': 5275, 'fgkslpopw': 3159, 'fgkslpo': 3158, '0871277810710p': 127, 'defer': 2490, 'admission': 941, 'checkmate': 1971, 'chess': 1986, 'persian': 5731, 'phrase': 5771, 'shah': 6734, 'maat': 4771, 'rats': 6200, 'themes': 7583, 'photoshop': 5769, 'manageable': 4823, '08715203652': 139, '42810': 562, 'shoppin': 6791, 'increase': 4072, 'north': 5359, 'carolina': 1873, 'texas': 7545, 'gre': 3616, 'bomb': 1601, 'breathing': 1687, 'powerful': 5938, 'weapon': 8230, 'lovly': 4715, 'msgrcvd': 5132, 'customercare': 2388, '08718726270': 160, 'clas': 2051, 'lit': 4619, 'loooooool': 4676, 'couch': 2274, 'celebration': 1914, 'swashbuckling': 7389, 'terror': 7536, 'cruel': 2341, 'decent': 2469, 'joker': 4275, 'dip': 2614, 'gek1510': 3468, 'nuther': 5400, 'lyricalladie': 4756, '910': 830, 'hmmross': 3850, 'happiest': 3722, 'characters': 1943, 'differences': 2593, 'lists': 4618, 'antibiotic': 1124, 'abdomen': 862, 'gynae': 3677, 'infections': 4088, '6times': 701, 'exposed': 3051, 'chastity': 1955, 'device': 2561, 'beatings': 1442, 'uses': 8014, 'gut': 3670, 'wrenching': 8437, 'tallahassee': 7455, 'ou': 5556, 'taka': 7439, 'pobox202': 5854, 'nr31': 5382, '7zs': 732, '450pw': 578, 'ritten': 6446, 'fold': 3264, 'warner': 8196, '83118': 763, 'colin': 2120, 'farrell': 3109, 'swat': 7390, 'kiosk': 4390, 'mre': 5125, 'solihull': 6992, 'nhs': 5296, '2b': 440, 'terminated': 7530, 'inconvenience': 4069, 'dentists': 2522, 'henry': 3804, 'yards': 8499, 'bergkamp': 1493, 'margin': 4846, '78': 720, 'parent': 5640, 'snot': 6975, 'unintentional': 7946, 'nonetheless': 5345, 'hooch': 3882, 'toaday': 7697, 'splat': 7101, 'grazed': 3615, 'knees': 4402, 'deny': 2523, 'hearin': 3770, 'yah': 8491, 'torture': 7756, 'hopeing': 3892, 'sisters': 6875, 'sexychat': 6724, 'lips': 4608, 'congratulation': 2206, 'court': 2290, 'chapel': 1939, 'frontierville': 3381, 'mountain': 5111, 'deer': 2486, 'mailed': 4805, 'varma': 8048, 'secure': 6652, 'parties': 5652, 'farting': 3110, 'ortxt': 5545, 'select': 6668, 'trained': 7780, 'advisors': 959, 'dialling': 2573, '402': 550, 'woot': 8402, 'stuffing': 7276, 'ahhhh': 997, 'dining': 2610, 'experiencehttp': 3041, 'vouch4me': 8129, 'etlp': 2968, 'kaila': 4324, '09058094507': 205, 'donate': 2694, 'unicef': 7944, 'asian': 1233, 'tsunami': 7842, 'disaster': 2627, 'fund': 3404, '864233': 789, 'cme': 2093, 'hos': 3903, 'collapsed': 2122, 'cumming': 2373, 'jade': 4210, 'paul': 5678, 'barmed': 1392, 'thinkthis': 7607, 'dangerous': 2423, 'goldviking': 3551, '762': 715, 'rushing': 6514, 'coulda': 2279, 'phony': 5766, 'okday': 5462, 'buz': 1782, 'wedlunch': 8246, 'outsomewhere': 5572, 'adrink': 948, '2watershd': 482, 'fromwrk': 3379, 'bthere': 1734, 'petexxx': 5745, 'hmph': 3851, 'baller': 1368, 'punto': 6110, 'ayo': 1331, 'travelled': 7799, '125': 331, 'freeentry': 3340, 'xt': 8475, 'toyota': 7772, 'camry': 1833, 'olayiwola': 5472, 'mileage': 4977, 'landing': 4458, 'clover': 2083, 'achan': 904, 'amma': 1070, 'rencontre': 6334, 'mountains': 5112, '08714712412': 135, 'nìte': 5413, 'puppy': 6111, 'noise': 5334, 'sarasota': 6567, 'meg': 4924, '08715203685': 142, '4xx26': 616, '13': 338, 'crossing': 2336, 'deepest': 2485, 'darkest': 2428, '09094646631': 283, 'inconvenient': 4070, 'adsense': 950, 'approved': 1171, 'dudette': 2777, 'perumbavoor': 5741, 'stage': 7147, 'cherish': 1984, 'clarify': 2049, 'preponed': 5982, 'natalie': 5222, '165': 367, 'natalie2k9': 5223, 'younger': 8537, 'wallpaper': 8176, '08701213186': 82, 'liver': 4625, 'opener': 5504, 'guides': 3663, 'watched': 8207, 'loneliness': 4663, 'skyving': 6903, 'onwords': 5496, 'mtnl': 5144, 'mumbai': 5158, '83039': 760, '62735': 668, '450': 575, 'accommodationvouchers': 895, 'mustprovide': 5178, '15541': 364, 'rajitha': 6178, 'ranju': 6194, 'styles': 7281, 'tscs08714740323': 7840, '1winawk': 397, '50perweeksub': 626, 'slp': 6932, 'muah': 5146, '09066361921': 261, 'disagreeable': 2624, 'afterwards': 978, 'vivekanand': 8115, 'uawake': 7894, 'feellikw': 3141, 'justfound': 4313, 'aletter': 1027, 'thatmum': 7573, 'gotmarried': 3581, '4thnov': 609, 'ourbacks': 5558, 'fuckinnice': 3391, 'deviousbitch': 2563, 'rearrange': 6237, 'dormitory': 2707, 'astronomer': 1258, 'starer': 7160, 'election': 2864, 'recount': 6269, 'hitler': 3836, 'eleven': 2868, 'worms': 8417, 'suffering': 7315, 'dysentry': 2796, 'andre': 1091, 'virgil': 8101, 'gokila': 3547, 'shanil': 6743, 'exchanged': 3017, 'uncut': 7928, 'diamond': 2575, 'dino': 2612, 'kotees': 4422, 'panther': 5623, 'sugababes': 7318, 'zebra': 8562, 'badass': 1355, 'hoody': 3883, 'resent': 6368, 'queries': 6142, 'customersqueries': 2390, 'netvision': 5276, 'hassling': 3738, 'andres': 1092, 'haughaighgtujhyguj': 3742, 'fassyole': 3111, 'blacko': 1550, 'londn': 4661, '4eva': 593, 'responsibilities': 6386, '08715205273': 144, 'vco': 8055, 'humanities': 3952, 'reassurance': 6241, 'aslamalaikkum': 1241, 'tohar': 7707, 'beeen': 1458, 'muht': 5153, 'albi': 1020, 'mufti': 5151, 'mahfuuz': 4801, '078': 38, 'enufcredeit': 2931, 'tocall': 7700, 'ileave': 4023, 'treats': 7807, 'okors': 5468, 'ibored': 3988, 'adding': 932, 'zeros': 8564, 'savings': 6589, 'goigng': 3543, 'perfume': 5721, 'sday': 6633, 'grocers': 3631, 'pubs': 6100, 'frankie': 3328, 'bennys': 1492, 'changing': 1937, 'diapers': 2577, 'owed': 5588, 'unlike': 7957, 'patients': 5674, 'turkeys': 7856, 'helens': 3787, 'princes': 6012, 'unintentionally': 7947, 'garden': 3440, 'bulbs': 1751, 'seeds': 6656, 'scotsman': 6618, 'go2': 3534, 'notxt': 5374, 'wenever': 8273, 'stability': 7143, 'tranquility': 7785, 'vibrant': 8074, 'colourful': 2132, 'bawling': 1418, 'failure': 3082, 'failing': 3080, 'velusamy': 8063, 'facilities': 3071, 'karnan': 4338, 'bluray': 1588, 'salt': 6550, 'wounds': 8432, 'logging': 4651, 'geoenvironmental': 3480, 'implications': 4044, 'fuuuuck': 3414, 'salmon': 6548, 'uploaded': 7982, 'wrkin': 8442, 'ree': 6278, 'compensation': 2161, 'awkward': 1323, 'splash': 7099, 'leg': 4530, 'musta': 5176, 'overdid': 5578, 'telediscount': 7507, 'gastroenteritis': 3446, 'replace': 6348, 'reduce': 6277, 'limiting': 4588, 'illness': 4025, 'foned': 3275, 'chuck': 2034, 'port': 5902, 'step': 7192, 'stuffs': 7277, 'juswoke': 4316, 'boatin': 1592, 'docks': 2666, 'spinout': 7092, '08715203656': 140, '42049': 559, 'uworld': 8030, 'qbank': 6132, 'assessment': 1246, 'someonone': 6999, '09064015307': 244, 'tke': 7681, 'temales': 7518, 'finishd': 3198, '09061213237': 220, '177': 370, 'm227xy': 4760, 'dull': 2780, 'studies': 7268, 'anyones': 1129, 'treadmill': 7802, 'craigslist': 2304, 'absolutely': 875, 'swan': 7386, 'sall': 6547, 'hehe': 3783, 'shexy': 6762, 'lamp': 4455, 'foward': 3320, '09061790126': 236, 'misundrstud': 5026, '2u2': 481, 'genes': 3472, 'com1win150ppmx3age16subscription': 2136, 'resuming': 6400, 'reapply': 6236, 'treatin': 7806, 'treacle': 7801, 'mumhas': 5159, 'beendropping': 1460, 'theplace': 7588, 'adress': 946, 'favorite': 3125, 'oyster': 5595, 'sashimi': 6573, 'rumbling': 6506, 'marandratha': 4842, 'correctly': 2263, 'alaikkum': 1018, 'pride': 6008, 'respectful': 6381, 'heaven': 3777, 'pisces': 5797, 'aquarius': 1180, '2yrs': 489, 'steyn': 7200, 'wicket': 8316, 'sterm': 7197, 'resolved': 6378, 'jam': 4212, 'hannaford': 3712, 'wheat': 8293, 'chex': 1988, 'grownup': 3640, 'costume': 2272, 'jerk': 4246, 'stink': 7207, 'follows': 3271, 'subsequent': 7302, 'openings': 5507, 'upcharge': 7973, 'guai': 3648, 'bottle': 1629, 'amused': 1084, 'astrology': 1257, 'slacking': 6905, 'mentor': 4946, 'percent': 5714, '09095350301': 285, 'erotic': 2946, 'ecstacy': 2822, 'dept': 2533, '08717507382': 151, 'coincidence': 2115, 'sane': 6557, 'helping': 3798, 'leading': 4512, '151': 362, 'pause': 5679, 'gr8prizes': 3593, '8800': 802, 'psp': 6089, 'spacebucks': 7055, '083': 69, '6089': 660, 'squeezed': 7135, 'maintaining': 4809, 'dreading': 2735, 'thou': 7619, 'suggestion': 7323, 'lands': 4463, 'helps': 3800, 'forgt': 3302, 'ajith': 1013, 'ooooooh': 5500, 'yoville': 8544, 'mega': 4925, 'asda': 1228, 'counts': 2284, 'officer': 5445, 'bffs': 1509, 'carly': 1872, 'seperated': 6697, 'brolly': 1713, 'franxx': 3329, 'prometazine': 6056, 'syrup': 7420, '5mls': 648, 'feed': 3136, 'shu': 6823, 'singapore': 6863, 'victoria': 8078, 'island': 4178, 'pocay': 5862, 'wocay': 8385, '2morrowxxxx': 464, 'broth': 1715, 'ramen': 6185, 'fowler': 3321, 'tats': 7470, 'flew': 3234, '09058094583': 207, 'attention': 1277, 'tix': 7679, 'fne': 3262, 'youdoing': 8534, 'worc': 8405, 'foregate': 3290, 'shrub': 6821, 'get4an18th': 3486, '32000': 508, 'legitimat': 4532, 'efreefone': 2843, 'pendent': 5707, 'toilet': 7708, 'stolen': 7212, 'cops': 2255, 'hu': 3939, 'navigate': 5234, 'choosing': 2024, 'require': 6362, 'guidance': 3661, 'chick': 1994, 'boobs': 1606, 'revealing': 6411, 'sparkling': 7063, 'breaks': 1682, '45': 574, '0121': 5, '2025050': 409, 'shortbreaks': 6797, 'org': 5537, 'gyno': 3678, 'belong': 1482, 'gamb': 3429, 'treasure': 7803, '820554ad0a1705572711': 754, '09050000332': 186, 'positive': 5912, 'negative': 5260, 'hmmmm': 3849, 'command': 2148, 'stressful': 7244, 'holby': 3860, '09064017295': 245, 'li': 4555, 'lecturer': 4527, 'repeating': 6346, 'yeovil': 8514, 'motor': 5109, 'rhode': 6420, 'bong': 1603, 'ofcourse': 5435, '2p': 473, '08448350055': 71, 'planettalkinstant': 5814, 'marvel': 4859, 'ultimate': 7907, 'spider': 7088, '83338': 766, '8ball': 822, 'tamilnadu': 7457, 'tip': 7667, '07808247860': 41, '08719899229': 181, '40411': 552, 'identification': 4003, 'limit': 4586, 'boundaries': 1632, 'endless': 2895, 'reassuring': 6242, 'young': 8536, 'referin': 6282, 'saibaba': 6538, 'colany': 2118, 'chic': 1993, 'declare': 2478, '49557': 589, 'disappointment': 2626, 'irritation': 4172, 'tantrum': 7460, 'compliments': 2175, 'adventuring': 955, 'chief': 1997, 'gsex': 3644, '2667': 431, 'wc1n': 8225, '3xx': 545, '3mobile': 536, 'chatlines': 1958, 'inclu': 4062, 'servs': 6709, 'l8er': 4432, 'bailiff': 1361, 'mouse': 5113, 'desk': 2543, 'childporn': 2002, 'jumpers': 4306, 'hat': 3739, 'belt': 1486, 'cribbs': 2327, 'spiritual': 7095, 'barring': 1396, 'sudden': 7310, 'influx': 4090, 'kane': 4333, 'shud': 6824, 'pshew': 6088, 'units': 7950, 'accent': 886, '4years': 617, 'dental': 2520, 'nmde': 5327, 'dump': 2782, 'heap': 3767, 'lowes': 4718, 'salesman': 6546, '087187272008': 165, 'now1': 5378, 'pity': 5801, 'suggestions': 7324, 'bitching': 1542}\n"
    }
   ],
   "source": [
    "countVectorizer = CountVectorizer(stop_words=stopwords.words('english'))\n",
    "countVectorizer.fit(data.loc[:, 1])\n",
    "words_frequency = dict(countVectorizer.vocabulary_.items())\n",
    "data[1] = [text.replace('〨ud', '') for text in data[1]]\n",
    "data[1] = [text.replace('ú1', '') for text in data[1]]\n",
    "\n",
    "print(words_frequency)"
   ]
  },
  {
   "cell_type": "markdown",
   "metadata": {},
   "source": [
    "# Afisarea celui mai frecvent cuvant si afisarea primelor"
   ]
  },
  {
   "cell_type": "code",
   "execution_count": 49,
   "metadata": {},
   "outputs": [
    {
     "output_type": "stream",
     "name": "stdout",
     "text": "The most frequent word: [('èn', 8572)]\n"
    }
   ],
   "source": [
    "print('The most frequent word:', [(key, value)  for (key, value) in words_frequency.items() if value == max(words_frequency.values())])"
   ]
  },
  {
   "cell_type": "markdown",
   "metadata": {},
   "source": [
    "# Afisarea fiecarui sms cu numarul de cuvinte"
   ]
  },
  {
   "cell_type": "code",
   "execution_count": 35,
   "metadata": {},
   "outputs": [
    {
     "output_type": "stream",
     "name": "stdout",
     "text": "[['Go until jurong point, crazy.. Available only in bugis n great world la e buffet... Cine there got amore wat...'\n  '20']\n ['Ok lar... Joking wif u oni...' '6']\n [\"Free entry in 2 a wkly comp to win FA Cup final tkts 21st May 2005. Text FA to 87121 to receive entry question(std txt rate)T&C's apply 08452810075over18's\"\n  '28']\n ...\n ['Pity, * was in mood for that. So...any other suggestions?' '10']\n [\"The guy did some bitching but I acted like i'd be interested in buying something else next week and he gave it to us for free\"\n  '26']\n ['Rofl. Its true to its name' '6']]\n"
    }
   ],
   "source": [
    "words_number = data.loc[:, 1].apply(lambda x:len(str(x).split(' ')))\n",
    "print(np.matrix(list(zip(data[1], words_number))))"
   ]
  },
  {
   "cell_type": "code",
   "execution_count": null,
   "metadata": {},
   "outputs": [],
   "source": []
  }
 ],
 "metadata": {
  "language_info": {
   "codemirror_mode": {
    "name": "ipython",
    "version": 3
   },
   "file_extension": ".py",
   "mimetype": "text/x-python",
   "name": "python",
   "nbconvert_exporter": "python",
   "pygments_lexer": "ipython3",
   "version": "3.7.7-final"
  },
  "orig_nbformat": 2,
  "kernelspec": {
   "name": "python37664bitismlconda6f0c095cd5244702906f716f60346828",
   "display_name": "Python 3.7.6 64-bit ('isml': conda)"
  }
 },
 "nbformat": 4,
 "nbformat_minor": 2
}