{
 "cells": [
  {
   "cell_type": "markdown",
   "metadata": {},
   "source": [
    "# Bucur Robert - Adrian\n",
    "# Bogdan Gheorghe - Nicolae\n",
    "## Grupa 10LF381"
   ]
  },
  {
   "cell_type": "markdown",
   "metadata": {},
   "source": [
    "# Laborator 9\n",
    "## Modele de regresie"
   ]
  },
  {
   "cell_type": "markdown",
   "metadata": {},
   "source": [
    "# Setul de date Boston Housing"
   ]
  },
  {
   "cell_type": "code",
   "execution_count": 1,
   "metadata": {},
   "outputs": [],
   "source": [
    "import numpy as np\n",
    "import pandas as pd\n",
    "\n",
    "from sklearn.model_selection import GridSearchCV\n",
    "from sklearn.model_selection import RandomizedSearchCV\n",
    "from sklearn.model_selection import cross_validate, cross_val_score\n",
    "\n",
    "from sklearn.metrics        import mean_absolute_error, mean_squared_error, median_absolute_error\n",
    "\n",
    "from sklearn.tree           import DecisionTreeRegressor\n",
    "from sklearn.linear_model   import LinearRegression\n",
    "from sklearn.linear_model   import Lasso\n",
    "from sklearn.ensemble       import RandomForestRegressor\n",
    "from sklearn.ensemble       import GradientBoostingRegressor"
   ]
  },
  {
   "cell_type": "markdown",
   "metadata": {},
   "source": [
    "## Definirea listelor hiperparametrilor"
   ]
  },
  {
   "cell_type": "code",
   "execution_count": 2,
   "metadata": {},
   "outputs": [],
   "source": [
    "parameters_dtr = {'criterion': ['mse', 'friedman_mse', 'mae'], 'max_depth': [0.1, 0.2, 0.3, 0.4, 0.5, 0.6, 0.7, 0.8, 0.9, 1.0]}\n",
    "dtr = DecisionTreeRegressor()\n",
    "\n",
    "parameters_linear = {'normalize': [True, False], 'fit_intercept': [True, False]}\n",
    "linear = LinearRegression()\n",
    "\n",
    "parameters_gbr = {'loss': ['ls', 'lad', 'huber', 'quantile'], 'criterion': ['mse', 'friedman_mse', 'mae'], 'random_state': [0, None]}\n",
    "gbr = GradientBoostingRegressor()\n",
    "\n",
    "parameters_rfr = {'criterion': ['mse', 'mae'], 'max_depth': [0.1, 0.2, 0.3, 0.4, 0.5, 0.6, 0.7, 0.8, 0.9, 1.0], 'random_state': [0, None]}\n",
    "rfr = RandomForestRegressor()\n",
    "\n",
    "parameters_lasso = {'alpha': [0.0, 1.0, 2.0], 'random_state': [0, None], 'normalize': [True, False]}\n",
    "lasso = Lasso()"
   ]
  },
  {
   "cell_type": "markdown",
   "metadata": {},
   "source": [
    "## Incarcarea datelor"
   ]
  },
  {
   "cell_type": "code",
   "execution_count": 3,
   "metadata": {},
   "outputs": [
    {
     "output_type": "stream",
     "name": "stdout",
     "text": "Housing shape: (506, 14) \n\n"
    },
    {
     "output_type": "execute_result",
     "data": {
      "text/plain": "      CRIM    ZN  INDUS  CHAS    NOX     RM   AGE     DIS  RAD    TAX  \\\n0  0.00632  18.0   2.31     0  0.538  6.575  65.2  4.0900    1  296.0   \n1  0.02731   0.0   7.07     0  0.469  6.421  78.9  4.9671    2  242.0   \n2  0.02729   0.0   7.07     0  0.469  7.185  61.1  4.9671    2  242.0   \n3  0.03237   0.0   2.18     0  0.458  6.998  45.8  6.0622    3  222.0   \n4  0.06905   0.0   2.18     0  0.458  7.147  54.2  6.0622    3  222.0   \n\n   PTRATIO       B  LSTAT  MEDV  \n0     15.3  396.90   4.98  24.0  \n1     17.8  396.90   9.14  21.6  \n2     17.8  392.83   4.03  34.7  \n3     18.7  394.63   2.94  33.4  \n4     18.7  396.90   5.33  36.2  ",
      "text/html": "<div>\n<style scoped>\n    .dataframe tbody tr th:only-of-type {\n        vertical-align: middle;\n    }\n\n    .dataframe tbody tr th {\n        vertical-align: top;\n    }\n\n    .dataframe thead th {\n        text-align: right;\n    }\n</style>\n<table border=\"1\" class=\"dataframe\">\n  <thead>\n    <tr style=\"text-align: right;\">\n      <th></th>\n      <th>CRIM</th>\n      <th>ZN</th>\n      <th>INDUS</th>\n      <th>CHAS</th>\n      <th>NOX</th>\n      <th>RM</th>\n      <th>AGE</th>\n      <th>DIS</th>\n      <th>RAD</th>\n      <th>TAX</th>\n      <th>PTRATIO</th>\n      <th>B</th>\n      <th>LSTAT</th>\n      <th>MEDV</th>\n    </tr>\n  </thead>\n  <tbody>\n    <tr>\n      <th>0</th>\n      <td>0.00632</td>\n      <td>18.0</td>\n      <td>2.31</td>\n      <td>0</td>\n      <td>0.538</td>\n      <td>6.575</td>\n      <td>65.2</td>\n      <td>4.0900</td>\n      <td>1</td>\n      <td>296.0</td>\n      <td>15.3</td>\n      <td>396.90</td>\n      <td>4.98</td>\n      <td>24.0</td>\n    </tr>\n    <tr>\n      <th>1</th>\n      <td>0.02731</td>\n      <td>0.0</td>\n      <td>7.07</td>\n      <td>0</td>\n      <td>0.469</td>\n      <td>6.421</td>\n      <td>78.9</td>\n      <td>4.9671</td>\n      <td>2</td>\n      <td>242.0</td>\n      <td>17.8</td>\n      <td>396.90</td>\n      <td>9.14</td>\n      <td>21.6</td>\n    </tr>\n    <tr>\n      <th>2</th>\n      <td>0.02729</td>\n      <td>0.0</td>\n      <td>7.07</td>\n      <td>0</td>\n      <td>0.469</td>\n      <td>7.185</td>\n      <td>61.1</td>\n      <td>4.9671</td>\n      <td>2</td>\n      <td>242.0</td>\n      <td>17.8</td>\n      <td>392.83</td>\n      <td>4.03</td>\n      <td>34.7</td>\n    </tr>\n    <tr>\n      <th>3</th>\n      <td>0.03237</td>\n      <td>0.0</td>\n      <td>2.18</td>\n      <td>0</td>\n      <td>0.458</td>\n      <td>6.998</td>\n      <td>45.8</td>\n      <td>6.0622</td>\n      <td>3</td>\n      <td>222.0</td>\n      <td>18.7</td>\n      <td>394.63</td>\n      <td>2.94</td>\n      <td>33.4</td>\n    </tr>\n    <tr>\n      <th>4</th>\n      <td>0.06905</td>\n      <td>0.0</td>\n      <td>2.18</td>\n      <td>0</td>\n      <td>0.458</td>\n      <td>7.147</td>\n      <td>54.2</td>\n      <td>6.0622</td>\n      <td>3</td>\n      <td>222.0</td>\n      <td>18.7</td>\n      <td>396.90</td>\n      <td>5.33</td>\n      <td>36.2</td>\n    </tr>\n  </tbody>\n</table>\n</div>"
     },
     "metadata": {},
     "execution_count": 3
    }
   ],
   "source": [
    "housing = pd.read_csv('../data/boston/housing.csv', sep=';')\n",
    "print('Housing shape:', housing.shape, '\\n')\n",
    "\n",
    "X_housing = housing.iloc[:, :-1]\n",
    "y_housing = housing.iloc[:, -1]\n",
    "\n",
    "housing.head()"
   ]
  },
  {
   "cell_type": "code",
   "execution_count": 4,
   "metadata": {},
   "outputs": [],
   "source": [
    "housing_df = pd.DataFrame()"
   ]
  },
  {
   "cell_type": "markdown",
   "metadata": {},
   "source": [
    "## Primul Model DecisionTreeRegressor"
   ]
  },
  {
   "cell_type": "code",
   "execution_count": 5,
   "metadata": {},
   "outputs": [],
   "source": [
    "grid_search_dtr_housing = GridSearchCV(estimator=dtr, param_grid=parameters_dtr, scoring='neg_mean_squared_error', cv=3)\n",
    "grid_scores_dtr_housing = cross_validate(estimator=grid_search_dtr_housing, scoring=('neg_mean_absolute_error', 'neg_mean_squared_error', 'neg_median_absolute_error'), X=X_housing, y=y_housing, cv=5, return_train_score=True)\n",
    "\n",
    "df_grid_housing = pd.DataFrame(grid_scores_dtr_housing)\n",
    "df_grid_housing = df_grid_housing.mean()\n",
    "df_grid_housing['Model_name'] = 'DecisionTreeRegressor'\n",
    "df_grid_housing['Search_strategy'] = 'GridSearch'\n",
    "\n",
    "df_grid_housing = pd.Series(df_grid_housing)\n",
    "housing_df = housing_df.append(df_grid_housing, ignore_index=True)"
   ]
  },
  {
   "cell_type": "code",
   "execution_count": 6,
   "metadata": {},
   "outputs": [],
   "source": [
    "randomized_search_dtr_housing = RandomizedSearchCV(estimator=dtr, param_distributions=parameters_dtr, random_state=0, scoring='neg_mean_squared_error', n_iter=5, cv=3)\n",
    "randomized_scores_dtr_housing = cross_validate(estimator=randomized_search_dtr_housing, scoring=('neg_mean_absolute_error', 'neg_mean_squared_error', 'neg_median_absolute_error'), X=X_housing, y=y_housing, cv=5, return_train_score=True)\n",
    "\n",
    "df_random_housing = pd.DataFrame(randomized_scores_dtr_housing)\n",
    "df_random_housing = df_random_housing.mean()\n",
    "df_random_housing['Model_name'] = 'DecisionTreeRegressor'\n",
    "df_random_housing['Search_strategy'] = 'RandomizedSearch'\n",
    "\n",
    "df_random_housing = pd.Series(df_random_housing)\n",
    "housing_df = housing_df.append(df_random_housing, ignore_index=True)"
   ]
  },
  {
   "cell_type": "markdown",
   "metadata": {},
   "source": [
    "## Al doilea model LinearRegression"
   ]
  },
  {
   "cell_type": "code",
   "execution_count": 7,
   "metadata": {},
   "outputs": [],
   "source": [
    "grid_search_linear_housing = GridSearchCV(estimator=linear, param_grid=parameters_linear, scoring='neg_mean_squared_error', cv=3)\n",
    "grid_scores_linear_housing = cross_validate(estimator=grid_search_linear_housing, scoring=('neg_mean_absolute_error', 'neg_mean_squared_error', 'neg_median_absolute_error'), X=X_housing, y=y_housing, cv=5, return_train_score=True)\n",
    "\n",
    "df_grid_housing = pd.DataFrame(grid_scores_linear_housing)\n",
    "df_grid_housing = df_grid_housing.mean()\n",
    "df_grid_housing['Model_name'] = 'LinearRegression'\n",
    "df_grid_housing['Search_strategy'] = 'GridSearch'\n",
    "\n",
    "df_grid_housing = pd.Series(df_grid_housing)\n",
    "housing_df = housing_df.append(df_grid_housing, ignore_index=True)"
   ]
  },
  {
   "cell_type": "code",
   "execution_count": 8,
   "metadata": {},
   "outputs": [],
   "source": [
    "randomized_search_linear_housing = RandomizedSearchCV(estimator=linear, param_distributions=parameters_linear, random_state=0, scoring='neg_mean_squared_error', n_iter=5, cv=3)\n",
    "randomized_scores_linear_housing = cross_validate(estimator=randomized_search_linear_housing, scoring=('neg_mean_absolute_error', 'neg_mean_squared_error', 'neg_median_absolute_error'), X=X_housing, y=y_housing, cv=5, return_train_score=True)\n",
    "\n",
    "df_random_housing = pd.DataFrame(randomized_scores_linear_housing)\n",
    "df_random_housing = df_random_housing.mean()\n",
    "df_random_housing['Model_name'] = 'LinearRegression'\n",
    "df_random_housing['Search_strategy'] = 'RandomizedSearch'\n",
    "\n",
    "df_random_housing = pd.Series(df_random_housing)\n",
    "housing_df = housing_df.append(df_random_housing, ignore_index=True)"
   ]
  },
  {
   "cell_type": "markdown",
   "metadata": {},
   "source": [
    "## Al treilea model Lasso"
   ]
  },
  {
   "cell_type": "code",
   "execution_count": 9,
   "metadata": {},
   "outputs": [],
   "source": [
    "grid_search_lasso_housing = GridSearchCV(estimator=lasso, param_grid=parameters_lasso, scoring='neg_mean_squared_error', cv=3)\n",
    "grid_scores_lasso_housing = cross_validate(estimator=grid_search_lasso_housing, scoring=('neg_mean_absolute_error', 'neg_mean_squared_error', 'neg_median_absolute_error'), X=X_housing, y=y_housing, cv=5, return_train_score=True)\n",
    "\n",
    "df_grid_housing = pd.DataFrame(grid_scores_lasso_housing)\n",
    "df_grid_housing = df_grid_housing.mean()\n",
    "df_grid_housing['Model_name'] = 'Lasso'\n",
    "df_grid_housing['Search_strategy'] = 'GridSearch'\n",
    "\n",
    "df_grid_housing = pd.Series(df_grid_housing)\n",
    "housing_df = housing_df.append(df_grid_housing, ignore_index=True)"
   ]
  },
  {
   "cell_type": "code",
   "execution_count": 10,
   "metadata": {},
   "outputs": [],
   "source": [
    "randomized_search_lasso_housing = RandomizedSearchCV(estimator=lasso, param_distributions=parameters_lasso, random_state=0, scoring='neg_mean_squared_error', n_iter=5, cv=3)\n",
    "randomized_scores_lasso_housing = cross_validate(estimator=randomized_search_lasso_housing, scoring=('neg_mean_absolute_error', 'neg_mean_squared_error', 'neg_median_absolute_error'), X=X_housing, y=y_housing, cv=5, return_train_score=True)\n",
    "\n",
    "df_random_housing = pd.DataFrame(randomized_scores_lasso_housing)\n",
    "df_random_housing = df_random_housing.mean()\n",
    "df_random_housing['Model_name'] = 'Lasso'\n",
    "df_random_housing['Search_strategy'] = 'RandomizedSearch'\n",
    "\n",
    "df_random_housing = pd.Series(df_random_housing)\n",
    "housing_df = housing_df.append(df_random_housing, ignore_index=True)"
   ]
  },
  {
   "cell_type": "markdown",
   "metadata": {},
   "source": [
    "## Al patrulea model RandomForestRegressor"
   ]
  },
  {
   "cell_type": "code",
   "execution_count": 11,
   "metadata": {},
   "outputs": [],
   "source": [
    "grid_search_rfr_housing = GridSearchCV(estimator=rfr, param_grid=parameters_rfr, scoring='neg_mean_squared_error', cv=3)\n",
    "grid_scores_rfr_housing = cross_validate(estimator=grid_search_rfr_housing, scoring=('neg_mean_absolute_error', 'neg_mean_squared_error', 'neg_median_absolute_error'), X=X_housing, y=y_housing, cv=5, return_train_score=True)\n",
    "\n",
    "df_grid_housing = pd.DataFrame(grid_scores_rfr_housing)\n",
    "df_grid_housing = df_grid_housing.mean()\n",
    "df_grid_housing['Model_name'] = 'RandomForestRegressor'\n",
    "df_grid_housing['Search_strategy'] = 'GridSearch'\n",
    "\n",
    "df_grid_housing = pd.Series(df_grid_housing)\n",
    "housing_df = housing_df.append(df_grid_housing, ignore_index=True)"
   ]
  },
  {
   "cell_type": "code",
   "execution_count": 12,
   "metadata": {},
   "outputs": [],
   "source": [
    "randomized_search_rfr_housing = RandomizedSearchCV(estimator=rfr, param_distributions=parameters_rfr, random_state=0, scoring='neg_mean_squared_error', n_iter=5, cv=3)\n",
    "randomized_scores_rfr_housing = cross_validate(estimator=randomized_search_rfr_housing, scoring=('neg_mean_absolute_error', 'neg_mean_squared_error', 'neg_median_absolute_error'), X=X_housing, y=y_housing, cv=5, return_train_score=True)\n",
    "\n",
    "df_random_housing = pd.DataFrame(randomized_scores_rfr_housing)\n",
    "df_random_housing = df_random_housing.mean()\n",
    "df_random_housing['Model_name'] = 'RandomForestRegressor'\n",
    "df_random_housing['Search_strategy'] = 'RandomizedSearch'\n",
    "\n",
    "df_random_housing = pd.Series(df_random_housing)\n",
    "housing_df = housing_df.append(df_random_housing, ignore_index=True)"
   ]
  },
  {
   "cell_type": "markdown",
   "metadata": {},
   "source": [
    "## Al cincilea model GradientBoostingRegressor"
   ]
  },
  {
   "cell_type": "code",
   "execution_count": 13,
   "metadata": {},
   "outputs": [],
   "source": [
    "grid_search_gbr_housing = GridSearchCV(estimator=gbr, param_grid=parameters_gbr, scoring='neg_mean_squared_error', cv=3)\n",
    "grid_scores_gbr_housing = cross_validate(estimator=grid_search_gbr_housing, scoring=('neg_mean_absolute_error', 'neg_mean_squared_error', 'neg_median_absolute_error'), X=X_housing, y=y_housing, cv=5, return_train_score=True)\n",
    "\n",
    "df_grid_housing = pd.DataFrame(grid_scores_gbr_housing)\n",
    "df_grid_housing = df_grid_housing.mean()\n",
    "df_grid_housing['Model_name'] = 'GradientBoostingRegressor'\n",
    "df_grid_housing['Search_strategy'] = 'GridSearch'\n",
    "\n",
    "df_grid_housing = pd.Series(df_grid_housing)\n",
    "housing_df = housing_df.append(df_grid_housing, ignore_index=True)"
   ]
  },
  {
   "cell_type": "code",
   "execution_count": 14,
   "metadata": {},
   "outputs": [],
   "source": [
    "randomized_search_gbr_housing = RandomizedSearchCV(estimator=gbr, param_distributions=parameters_gbr, random_state=0, scoring='neg_mean_squared_error', n_iter=5, cv=3)\n",
    "randomized_scores_gbr_housing = cross_validate(estimator=randomized_search_gbr_housing, scoring=('neg_mean_absolute_error', 'neg_mean_squared_error', 'neg_median_absolute_error'), X=X_housing, y=y_housing, cv=5, return_train_score=True)\n",
    "\n",
    "df_random_housing = pd.DataFrame(randomized_scores_gbr_housing)\n",
    "df_random_housing = df_random_housing.mean()\n",
    "df_random_housing['Model_name'] = 'GradientBoostingRegressor'\n",
    "df_random_housing['Search_strategy'] = 'RandomizedSearch'\n",
    "\n",
    "df_random_housing = pd.Series(df_random_housing)\n",
    "housing_df = housing_df.append(df_random_housing, ignore_index=True)"
   ]
  },
  {
   "cell_type": "markdown",
   "metadata": {},
   "source": [
    "## Raportul negativ"
   ]
  },
  {
   "cell_type": "code",
   "execution_count": 15,
   "metadata": {},
   "outputs": [
    {
     "output_type": "execute_result",
     "data": {
      "text/plain": "                  Model_name   Search_strategy   fit_time  score_time  \\\n0      DecisionTreeRegressor        GridSearch   0.736851    0.002810   \n1      DecisionTreeRegressor  RandomizedSearch   0.132935    0.003336   \n2           LinearRegression        GridSearch   0.156283    0.003691   \n3           LinearRegression  RandomizedSearch   0.124743    0.002645   \n4                      Lasso        GridSearch   0.345759    0.002279   \n5                      Lasso  RandomizedSearch   0.164918    0.002370   \n6      RandomForestRegressor        GridSearch  33.270992    0.019217   \n7      RandomForestRegressor  RandomizedSearch   4.179109    0.013105   \n8  GradientBoostingRegressor        GridSearch  45.862256    0.003185   \n9  GradientBoostingRegressor  RandomizedSearch   8.876134    0.002486   \n\n   test_neg_mean_absolute_error  test_neg_mean_squared_error  \\\n0                     -6.085792                   -67.937407   \n1                     -6.975360                   -94.536722   \n2                     -4.047265                   -35.919581   \n3                     -4.047265                   -35.919581   \n4                     -4.450778                   -40.638336   \n5                     -4.450778                   -40.638336   \n6                     -5.106941                   -51.971340   \n7                     -6.955332                   -94.099420   \n8                     -3.116205                   -20.992965   \n9                     -3.032793                   -21.173227   \n\n   test_neg_median_absolute_error  train_neg_mean_absolute_error  \\\n0                       -4.512992                      -5.038441   \n1                       -5.030000                      -6.478858   \n2                       -2.950764                      -3.295527   \n3                       -2.950764                      -3.295527   \n4                       -3.252412                      -3.761285   \n5                       -3.252412                      -3.761285   \n6                       -3.891323                      -4.320910   \n7                       -4.988800                      -6.479089   \n8                       -2.209966                      -1.216980   \n9                       -2.110591                      -1.378999   \n\n   train_neg_mean_squared_error  train_neg_median_absolute_error  \n0                    -43.537211                        -4.030576  \n1                    -85.085462                        -4.290000  \n2                    -22.761287                        -2.360447  \n3                    -22.761287                        -2.360447  \n4                    -28.770287                        -2.754841  \n5                    -28.770287                        -2.754841  \n6                    -34.816084                        -3.252730  \n7                    -85.061333                        -4.288000  \n8                     -4.967903                        -0.800447  \n9                     -8.130590                        -0.695231  ",
      "text/html": "<div>\n<style scoped>\n    .dataframe tbody tr th:only-of-type {\n        vertical-align: middle;\n    }\n\n    .dataframe tbody tr th {\n        vertical-align: top;\n    }\n\n    .dataframe thead th {\n        text-align: right;\n    }\n</style>\n<table border=\"1\" class=\"dataframe\">\n  <thead>\n    <tr style=\"text-align: right;\">\n      <th></th>\n      <th>Model_name</th>\n      <th>Search_strategy</th>\n      <th>fit_time</th>\n      <th>score_time</th>\n      <th>test_neg_mean_absolute_error</th>\n      <th>test_neg_mean_squared_error</th>\n      <th>test_neg_median_absolute_error</th>\n      <th>train_neg_mean_absolute_error</th>\n      <th>train_neg_mean_squared_error</th>\n      <th>train_neg_median_absolute_error</th>\n    </tr>\n  </thead>\n  <tbody>\n    <tr>\n      <th>0</th>\n      <td>DecisionTreeRegressor</td>\n      <td>GridSearch</td>\n      <td>0.736851</td>\n      <td>0.002810</td>\n      <td>-6.085792</td>\n      <td>-67.937407</td>\n      <td>-4.512992</td>\n      <td>-5.038441</td>\n      <td>-43.537211</td>\n      <td>-4.030576</td>\n    </tr>\n    <tr>\n      <th>1</th>\n      <td>DecisionTreeRegressor</td>\n      <td>RandomizedSearch</td>\n      <td>0.132935</td>\n      <td>0.003336</td>\n      <td>-6.975360</td>\n      <td>-94.536722</td>\n      <td>-5.030000</td>\n      <td>-6.478858</td>\n      <td>-85.085462</td>\n      <td>-4.290000</td>\n    </tr>\n    <tr>\n      <th>2</th>\n      <td>LinearRegression</td>\n      <td>GridSearch</td>\n      <td>0.156283</td>\n      <td>0.003691</td>\n      <td>-4.047265</td>\n      <td>-35.919581</td>\n      <td>-2.950764</td>\n      <td>-3.295527</td>\n      <td>-22.761287</td>\n      <td>-2.360447</td>\n    </tr>\n    <tr>\n      <th>3</th>\n      <td>LinearRegression</td>\n      <td>RandomizedSearch</td>\n      <td>0.124743</td>\n      <td>0.002645</td>\n      <td>-4.047265</td>\n      <td>-35.919581</td>\n      <td>-2.950764</td>\n      <td>-3.295527</td>\n      <td>-22.761287</td>\n      <td>-2.360447</td>\n    </tr>\n    <tr>\n      <th>4</th>\n      <td>Lasso</td>\n      <td>GridSearch</td>\n      <td>0.345759</td>\n      <td>0.002279</td>\n      <td>-4.450778</td>\n      <td>-40.638336</td>\n      <td>-3.252412</td>\n      <td>-3.761285</td>\n      <td>-28.770287</td>\n      <td>-2.754841</td>\n    </tr>\n    <tr>\n      <th>5</th>\n      <td>Lasso</td>\n      <td>RandomizedSearch</td>\n      <td>0.164918</td>\n      <td>0.002370</td>\n      <td>-4.450778</td>\n      <td>-40.638336</td>\n      <td>-3.252412</td>\n      <td>-3.761285</td>\n      <td>-28.770287</td>\n      <td>-2.754841</td>\n    </tr>\n    <tr>\n      <th>6</th>\n      <td>RandomForestRegressor</td>\n      <td>GridSearch</td>\n      <td>33.270992</td>\n      <td>0.019217</td>\n      <td>-5.106941</td>\n      <td>-51.971340</td>\n      <td>-3.891323</td>\n      <td>-4.320910</td>\n      <td>-34.816084</td>\n      <td>-3.252730</td>\n    </tr>\n    <tr>\n      <th>7</th>\n      <td>RandomForestRegressor</td>\n      <td>RandomizedSearch</td>\n      <td>4.179109</td>\n      <td>0.013105</td>\n      <td>-6.955332</td>\n      <td>-94.099420</td>\n      <td>-4.988800</td>\n      <td>-6.479089</td>\n      <td>-85.061333</td>\n      <td>-4.288000</td>\n    </tr>\n    <tr>\n      <th>8</th>\n      <td>GradientBoostingRegressor</td>\n      <td>GridSearch</td>\n      <td>45.862256</td>\n      <td>0.003185</td>\n      <td>-3.116205</td>\n      <td>-20.992965</td>\n      <td>-2.209966</td>\n      <td>-1.216980</td>\n      <td>-4.967903</td>\n      <td>-0.800447</td>\n    </tr>\n    <tr>\n      <th>9</th>\n      <td>GradientBoostingRegressor</td>\n      <td>RandomizedSearch</td>\n      <td>8.876134</td>\n      <td>0.002486</td>\n      <td>-3.032793</td>\n      <td>-21.173227</td>\n      <td>-2.110591</td>\n      <td>-1.378999</td>\n      <td>-8.130590</td>\n      <td>-0.695231</td>\n    </tr>\n  </tbody>\n</table>\n</div>"
     },
     "metadata": {},
     "execution_count": 15
    }
   ],
   "source": [
    "housing_df"
   ]
  },
  {
   "cell_type": "markdown",
   "metadata": {},
   "source": [
    "## Raportul pozitiv"
   ]
  },
  {
   "cell_type": "code",
   "execution_count": 16,
   "metadata": {},
   "outputs": [],
   "source": [
    "def highlight_max(df):\n",
    "    is_max = df == df.max()\n",
    "    return ['background-color: red' if value else '' for value in is_max]"
   ]
  },
  {
   "cell_type": "code",
   "execution_count": 17,
   "metadata": {},
   "outputs": [],
   "source": [
    "def highlight_min(df):\n",
    "    is_min = df == df.min()\n",
    "    return ['background-color: green' if value else '' for value in is_min]"
   ]
  },
  {
   "cell_type": "code",
   "execution_count": 18,
   "metadata": {},
   "outputs": [
    {
     "output_type": "execute_result",
     "data": {
      "text/plain": "<pandas.io.formats.style.Styler at 0x104e7b910>",
      "text/html": "<style  type=\"text/css\" >\n    #T_f4d3a7ec_953f_11ea_b182_98e0d99a8cd3row1_col4 {\n            background-color:  red;\n            : ;\n        }    #T_f4d3a7ec_953f_11ea_b182_98e0d99a8cd3row1_col5 {\n            background-color:  red;\n            : ;\n        }    #T_f4d3a7ec_953f_11ea_b182_98e0d99a8cd3row1_col6 {\n            background-color:  red;\n            : ;\n        }    #T_f4d3a7ec_953f_11ea_b182_98e0d99a8cd3row1_col8 {\n            background-color:  red;\n            : ;\n        }    #T_f4d3a7ec_953f_11ea_b182_98e0d99a8cd3row1_col9 {\n            background-color:  red;\n            : ;\n        }    #T_f4d3a7ec_953f_11ea_b182_98e0d99a8cd3row3_col2 {\n            : ;\n            background-color:  green;\n        }    #T_f4d3a7ec_953f_11ea_b182_98e0d99a8cd3row4_col3 {\n            : ;\n            background-color:  green;\n        }    #T_f4d3a7ec_953f_11ea_b182_98e0d99a8cd3row6_col3 {\n            background-color:  red;\n            : ;\n        }    #T_f4d3a7ec_953f_11ea_b182_98e0d99a8cd3row7_col7 {\n            background-color:  red;\n            : ;\n        }    #T_f4d3a7ec_953f_11ea_b182_98e0d99a8cd3row8_col2 {\n            background-color:  red;\n            : ;\n        }    #T_f4d3a7ec_953f_11ea_b182_98e0d99a8cd3row8_col5 {\n            : ;\n            background-color:  green;\n        }    #T_f4d3a7ec_953f_11ea_b182_98e0d99a8cd3row8_col7 {\n            : ;\n            background-color:  green;\n        }    #T_f4d3a7ec_953f_11ea_b182_98e0d99a8cd3row8_col8 {\n            : ;\n            background-color:  green;\n        }    #T_f4d3a7ec_953f_11ea_b182_98e0d99a8cd3row9_col4 {\n            : ;\n            background-color:  green;\n        }    #T_f4d3a7ec_953f_11ea_b182_98e0d99a8cd3row9_col6 {\n            : ;\n            background-color:  green;\n        }    #T_f4d3a7ec_953f_11ea_b182_98e0d99a8cd3row9_col9 {\n            : ;\n            background-color:  green;\n        }</style><table id=\"T_f4d3a7ec_953f_11ea_b182_98e0d99a8cd3\" ><thead>    <tr>        <th class=\"blank level0\" ></th>        <th class=\"col_heading level0 col0\" >Model_name</th>        <th class=\"col_heading level0 col1\" >Search_strategy</th>        <th class=\"col_heading level0 col2\" >fit_time</th>        <th class=\"col_heading level0 col3\" >score_time</th>        <th class=\"col_heading level0 col4\" >test_neg_mean_absolute_error</th>        <th class=\"col_heading level0 col5\" >test_neg_mean_squared_error</th>        <th class=\"col_heading level0 col6\" >test_neg_median_absolute_error</th>        <th class=\"col_heading level0 col7\" >train_neg_mean_absolute_error</th>        <th class=\"col_heading level0 col8\" >train_neg_mean_squared_error</th>        <th class=\"col_heading level0 col9\" >train_neg_median_absolute_error</th>    </tr></thead><tbody>\n                <tr>\n                        <th id=\"T_f4d3a7ec_953f_11ea_b182_98e0d99a8cd3level0_row0\" class=\"row_heading level0 row0\" >0</th>\n                        <td id=\"T_f4d3a7ec_953f_11ea_b182_98e0d99a8cd3row0_col0\" class=\"data row0 col0\" >DecisionTreeRegressor</td>\n                        <td id=\"T_f4d3a7ec_953f_11ea_b182_98e0d99a8cd3row0_col1\" class=\"data row0 col1\" >GridSearch</td>\n                        <td id=\"T_f4d3a7ec_953f_11ea_b182_98e0d99a8cd3row0_col2\" class=\"data row0 col2\" >0.736851</td>\n                        <td id=\"T_f4d3a7ec_953f_11ea_b182_98e0d99a8cd3row0_col3\" class=\"data row0 col3\" >0.002810</td>\n                        <td id=\"T_f4d3a7ec_953f_11ea_b182_98e0d99a8cd3row0_col4\" class=\"data row0 col4\" >6.085792</td>\n                        <td id=\"T_f4d3a7ec_953f_11ea_b182_98e0d99a8cd3row0_col5\" class=\"data row0 col5\" >67.937407</td>\n                        <td id=\"T_f4d3a7ec_953f_11ea_b182_98e0d99a8cd3row0_col6\" class=\"data row0 col6\" >4.512992</td>\n                        <td id=\"T_f4d3a7ec_953f_11ea_b182_98e0d99a8cd3row0_col7\" class=\"data row0 col7\" >5.038441</td>\n                        <td id=\"T_f4d3a7ec_953f_11ea_b182_98e0d99a8cd3row0_col8\" class=\"data row0 col8\" >43.537211</td>\n                        <td id=\"T_f4d3a7ec_953f_11ea_b182_98e0d99a8cd3row0_col9\" class=\"data row0 col9\" >4.030576</td>\n            </tr>\n            <tr>\n                        <th id=\"T_f4d3a7ec_953f_11ea_b182_98e0d99a8cd3level0_row1\" class=\"row_heading level0 row1\" >1</th>\n                        <td id=\"T_f4d3a7ec_953f_11ea_b182_98e0d99a8cd3row1_col0\" class=\"data row1 col0\" >DecisionTreeRegressor</td>\n                        <td id=\"T_f4d3a7ec_953f_11ea_b182_98e0d99a8cd3row1_col1\" class=\"data row1 col1\" >RandomizedSearch</td>\n                        <td id=\"T_f4d3a7ec_953f_11ea_b182_98e0d99a8cd3row1_col2\" class=\"data row1 col2\" >0.132935</td>\n                        <td id=\"T_f4d3a7ec_953f_11ea_b182_98e0d99a8cd3row1_col3\" class=\"data row1 col3\" >0.003336</td>\n                        <td id=\"T_f4d3a7ec_953f_11ea_b182_98e0d99a8cd3row1_col4\" class=\"data row1 col4\" >6.975360</td>\n                        <td id=\"T_f4d3a7ec_953f_11ea_b182_98e0d99a8cd3row1_col5\" class=\"data row1 col5\" >94.536722</td>\n                        <td id=\"T_f4d3a7ec_953f_11ea_b182_98e0d99a8cd3row1_col6\" class=\"data row1 col6\" >5.030000</td>\n                        <td id=\"T_f4d3a7ec_953f_11ea_b182_98e0d99a8cd3row1_col7\" class=\"data row1 col7\" >6.478858</td>\n                        <td id=\"T_f4d3a7ec_953f_11ea_b182_98e0d99a8cd3row1_col8\" class=\"data row1 col8\" >85.085462</td>\n                        <td id=\"T_f4d3a7ec_953f_11ea_b182_98e0d99a8cd3row1_col9\" class=\"data row1 col9\" >4.290000</td>\n            </tr>\n            <tr>\n                        <th id=\"T_f4d3a7ec_953f_11ea_b182_98e0d99a8cd3level0_row2\" class=\"row_heading level0 row2\" >2</th>\n                        <td id=\"T_f4d3a7ec_953f_11ea_b182_98e0d99a8cd3row2_col0\" class=\"data row2 col0\" >LinearRegression</td>\n                        <td id=\"T_f4d3a7ec_953f_11ea_b182_98e0d99a8cd3row2_col1\" class=\"data row2 col1\" >GridSearch</td>\n                        <td id=\"T_f4d3a7ec_953f_11ea_b182_98e0d99a8cd3row2_col2\" class=\"data row2 col2\" >0.156283</td>\n                        <td id=\"T_f4d3a7ec_953f_11ea_b182_98e0d99a8cd3row2_col3\" class=\"data row2 col3\" >0.003691</td>\n                        <td id=\"T_f4d3a7ec_953f_11ea_b182_98e0d99a8cd3row2_col4\" class=\"data row2 col4\" >4.047265</td>\n                        <td id=\"T_f4d3a7ec_953f_11ea_b182_98e0d99a8cd3row2_col5\" class=\"data row2 col5\" >35.919581</td>\n                        <td id=\"T_f4d3a7ec_953f_11ea_b182_98e0d99a8cd3row2_col6\" class=\"data row2 col6\" >2.950764</td>\n                        <td id=\"T_f4d3a7ec_953f_11ea_b182_98e0d99a8cd3row2_col7\" class=\"data row2 col7\" >3.295527</td>\n                        <td id=\"T_f4d3a7ec_953f_11ea_b182_98e0d99a8cd3row2_col8\" class=\"data row2 col8\" >22.761287</td>\n                        <td id=\"T_f4d3a7ec_953f_11ea_b182_98e0d99a8cd3row2_col9\" class=\"data row2 col9\" >2.360447</td>\n            </tr>\n            <tr>\n                        <th id=\"T_f4d3a7ec_953f_11ea_b182_98e0d99a8cd3level0_row3\" class=\"row_heading level0 row3\" >3</th>\n                        <td id=\"T_f4d3a7ec_953f_11ea_b182_98e0d99a8cd3row3_col0\" class=\"data row3 col0\" >LinearRegression</td>\n                        <td id=\"T_f4d3a7ec_953f_11ea_b182_98e0d99a8cd3row3_col1\" class=\"data row3 col1\" >RandomizedSearch</td>\n                        <td id=\"T_f4d3a7ec_953f_11ea_b182_98e0d99a8cd3row3_col2\" class=\"data row3 col2\" >0.124743</td>\n                        <td id=\"T_f4d3a7ec_953f_11ea_b182_98e0d99a8cd3row3_col3\" class=\"data row3 col3\" >0.002645</td>\n                        <td id=\"T_f4d3a7ec_953f_11ea_b182_98e0d99a8cd3row3_col4\" class=\"data row3 col4\" >4.047265</td>\n                        <td id=\"T_f4d3a7ec_953f_11ea_b182_98e0d99a8cd3row3_col5\" class=\"data row3 col5\" >35.919581</td>\n                        <td id=\"T_f4d3a7ec_953f_11ea_b182_98e0d99a8cd3row3_col6\" class=\"data row3 col6\" >2.950764</td>\n                        <td id=\"T_f4d3a7ec_953f_11ea_b182_98e0d99a8cd3row3_col7\" class=\"data row3 col7\" >3.295527</td>\n                        <td id=\"T_f4d3a7ec_953f_11ea_b182_98e0d99a8cd3row3_col8\" class=\"data row3 col8\" >22.761287</td>\n                        <td id=\"T_f4d3a7ec_953f_11ea_b182_98e0d99a8cd3row3_col9\" class=\"data row3 col9\" >2.360447</td>\n            </tr>\n            <tr>\n                        <th id=\"T_f4d3a7ec_953f_11ea_b182_98e0d99a8cd3level0_row4\" class=\"row_heading level0 row4\" >4</th>\n                        <td id=\"T_f4d3a7ec_953f_11ea_b182_98e0d99a8cd3row4_col0\" class=\"data row4 col0\" >Lasso</td>\n                        <td id=\"T_f4d3a7ec_953f_11ea_b182_98e0d99a8cd3row4_col1\" class=\"data row4 col1\" >GridSearch</td>\n                        <td id=\"T_f4d3a7ec_953f_11ea_b182_98e0d99a8cd3row4_col2\" class=\"data row4 col2\" >0.345759</td>\n                        <td id=\"T_f4d3a7ec_953f_11ea_b182_98e0d99a8cd3row4_col3\" class=\"data row4 col3\" >0.002279</td>\n                        <td id=\"T_f4d3a7ec_953f_11ea_b182_98e0d99a8cd3row4_col4\" class=\"data row4 col4\" >4.450778</td>\n                        <td id=\"T_f4d3a7ec_953f_11ea_b182_98e0d99a8cd3row4_col5\" class=\"data row4 col5\" >40.638336</td>\n                        <td id=\"T_f4d3a7ec_953f_11ea_b182_98e0d99a8cd3row4_col6\" class=\"data row4 col6\" >3.252412</td>\n                        <td id=\"T_f4d3a7ec_953f_11ea_b182_98e0d99a8cd3row4_col7\" class=\"data row4 col7\" >3.761285</td>\n                        <td id=\"T_f4d3a7ec_953f_11ea_b182_98e0d99a8cd3row4_col8\" class=\"data row4 col8\" >28.770287</td>\n                        <td id=\"T_f4d3a7ec_953f_11ea_b182_98e0d99a8cd3row4_col9\" class=\"data row4 col9\" >2.754841</td>\n            </tr>\n            <tr>\n                        <th id=\"T_f4d3a7ec_953f_11ea_b182_98e0d99a8cd3level0_row5\" class=\"row_heading level0 row5\" >5</th>\n                        <td id=\"T_f4d3a7ec_953f_11ea_b182_98e0d99a8cd3row5_col0\" class=\"data row5 col0\" >Lasso</td>\n                        <td id=\"T_f4d3a7ec_953f_11ea_b182_98e0d99a8cd3row5_col1\" class=\"data row5 col1\" >RandomizedSearch</td>\n                        <td id=\"T_f4d3a7ec_953f_11ea_b182_98e0d99a8cd3row5_col2\" class=\"data row5 col2\" >0.164918</td>\n                        <td id=\"T_f4d3a7ec_953f_11ea_b182_98e0d99a8cd3row5_col3\" class=\"data row5 col3\" >0.002370</td>\n                        <td id=\"T_f4d3a7ec_953f_11ea_b182_98e0d99a8cd3row5_col4\" class=\"data row5 col4\" >4.450778</td>\n                        <td id=\"T_f4d3a7ec_953f_11ea_b182_98e0d99a8cd3row5_col5\" class=\"data row5 col5\" >40.638336</td>\n                        <td id=\"T_f4d3a7ec_953f_11ea_b182_98e0d99a8cd3row5_col6\" class=\"data row5 col6\" >3.252412</td>\n                        <td id=\"T_f4d3a7ec_953f_11ea_b182_98e0d99a8cd3row5_col7\" class=\"data row5 col7\" >3.761285</td>\n                        <td id=\"T_f4d3a7ec_953f_11ea_b182_98e0d99a8cd3row5_col8\" class=\"data row5 col8\" >28.770287</td>\n                        <td id=\"T_f4d3a7ec_953f_11ea_b182_98e0d99a8cd3row5_col9\" class=\"data row5 col9\" >2.754841</td>\n            </tr>\n            <tr>\n                        <th id=\"T_f4d3a7ec_953f_11ea_b182_98e0d99a8cd3level0_row6\" class=\"row_heading level0 row6\" >6</th>\n                        <td id=\"T_f4d3a7ec_953f_11ea_b182_98e0d99a8cd3row6_col0\" class=\"data row6 col0\" >RandomForestRegressor</td>\n                        <td id=\"T_f4d3a7ec_953f_11ea_b182_98e0d99a8cd3row6_col1\" class=\"data row6 col1\" >GridSearch</td>\n                        <td id=\"T_f4d3a7ec_953f_11ea_b182_98e0d99a8cd3row6_col2\" class=\"data row6 col2\" >33.270992</td>\n                        <td id=\"T_f4d3a7ec_953f_11ea_b182_98e0d99a8cd3row6_col3\" class=\"data row6 col3\" >0.019217</td>\n                        <td id=\"T_f4d3a7ec_953f_11ea_b182_98e0d99a8cd3row6_col4\" class=\"data row6 col4\" >5.106941</td>\n                        <td id=\"T_f4d3a7ec_953f_11ea_b182_98e0d99a8cd3row6_col5\" class=\"data row6 col5\" >51.971340</td>\n                        <td id=\"T_f4d3a7ec_953f_11ea_b182_98e0d99a8cd3row6_col6\" class=\"data row6 col6\" >3.891323</td>\n                        <td id=\"T_f4d3a7ec_953f_11ea_b182_98e0d99a8cd3row6_col7\" class=\"data row6 col7\" >4.320910</td>\n                        <td id=\"T_f4d3a7ec_953f_11ea_b182_98e0d99a8cd3row6_col8\" class=\"data row6 col8\" >34.816084</td>\n                        <td id=\"T_f4d3a7ec_953f_11ea_b182_98e0d99a8cd3row6_col9\" class=\"data row6 col9\" >3.252730</td>\n            </tr>\n            <tr>\n                        <th id=\"T_f4d3a7ec_953f_11ea_b182_98e0d99a8cd3level0_row7\" class=\"row_heading level0 row7\" >7</th>\n                        <td id=\"T_f4d3a7ec_953f_11ea_b182_98e0d99a8cd3row7_col0\" class=\"data row7 col0\" >RandomForestRegressor</td>\n                        <td id=\"T_f4d3a7ec_953f_11ea_b182_98e0d99a8cd3row7_col1\" class=\"data row7 col1\" >RandomizedSearch</td>\n                        <td id=\"T_f4d3a7ec_953f_11ea_b182_98e0d99a8cd3row7_col2\" class=\"data row7 col2\" >4.179109</td>\n                        <td id=\"T_f4d3a7ec_953f_11ea_b182_98e0d99a8cd3row7_col3\" class=\"data row7 col3\" >0.013105</td>\n                        <td id=\"T_f4d3a7ec_953f_11ea_b182_98e0d99a8cd3row7_col4\" class=\"data row7 col4\" >6.955332</td>\n                        <td id=\"T_f4d3a7ec_953f_11ea_b182_98e0d99a8cd3row7_col5\" class=\"data row7 col5\" >94.099420</td>\n                        <td id=\"T_f4d3a7ec_953f_11ea_b182_98e0d99a8cd3row7_col6\" class=\"data row7 col6\" >4.988800</td>\n                        <td id=\"T_f4d3a7ec_953f_11ea_b182_98e0d99a8cd3row7_col7\" class=\"data row7 col7\" >6.479089</td>\n                        <td id=\"T_f4d3a7ec_953f_11ea_b182_98e0d99a8cd3row7_col8\" class=\"data row7 col8\" >85.061333</td>\n                        <td id=\"T_f4d3a7ec_953f_11ea_b182_98e0d99a8cd3row7_col9\" class=\"data row7 col9\" >4.288000</td>\n            </tr>\n            <tr>\n                        <th id=\"T_f4d3a7ec_953f_11ea_b182_98e0d99a8cd3level0_row8\" class=\"row_heading level0 row8\" >8</th>\n                        <td id=\"T_f4d3a7ec_953f_11ea_b182_98e0d99a8cd3row8_col0\" class=\"data row8 col0\" >GradientBoostingRegressor</td>\n                        <td id=\"T_f4d3a7ec_953f_11ea_b182_98e0d99a8cd3row8_col1\" class=\"data row8 col1\" >GridSearch</td>\n                        <td id=\"T_f4d3a7ec_953f_11ea_b182_98e0d99a8cd3row8_col2\" class=\"data row8 col2\" >45.862256</td>\n                        <td id=\"T_f4d3a7ec_953f_11ea_b182_98e0d99a8cd3row8_col3\" class=\"data row8 col3\" >0.003185</td>\n                        <td id=\"T_f4d3a7ec_953f_11ea_b182_98e0d99a8cd3row8_col4\" class=\"data row8 col4\" >3.116205</td>\n                        <td id=\"T_f4d3a7ec_953f_11ea_b182_98e0d99a8cd3row8_col5\" class=\"data row8 col5\" >20.992965</td>\n                        <td id=\"T_f4d3a7ec_953f_11ea_b182_98e0d99a8cd3row8_col6\" class=\"data row8 col6\" >2.209966</td>\n                        <td id=\"T_f4d3a7ec_953f_11ea_b182_98e0d99a8cd3row8_col7\" class=\"data row8 col7\" >1.216980</td>\n                        <td id=\"T_f4d3a7ec_953f_11ea_b182_98e0d99a8cd3row8_col8\" class=\"data row8 col8\" >4.967903</td>\n                        <td id=\"T_f4d3a7ec_953f_11ea_b182_98e0d99a8cd3row8_col9\" class=\"data row8 col9\" >0.800447</td>\n            </tr>\n            <tr>\n                        <th id=\"T_f4d3a7ec_953f_11ea_b182_98e0d99a8cd3level0_row9\" class=\"row_heading level0 row9\" >9</th>\n                        <td id=\"T_f4d3a7ec_953f_11ea_b182_98e0d99a8cd3row9_col0\" class=\"data row9 col0\" >GradientBoostingRegressor</td>\n                        <td id=\"T_f4d3a7ec_953f_11ea_b182_98e0d99a8cd3row9_col1\" class=\"data row9 col1\" >RandomizedSearch</td>\n                        <td id=\"T_f4d3a7ec_953f_11ea_b182_98e0d99a8cd3row9_col2\" class=\"data row9 col2\" >8.876134</td>\n                        <td id=\"T_f4d3a7ec_953f_11ea_b182_98e0d99a8cd3row9_col3\" class=\"data row9 col3\" >0.002486</td>\n                        <td id=\"T_f4d3a7ec_953f_11ea_b182_98e0d99a8cd3row9_col4\" class=\"data row9 col4\" >3.032793</td>\n                        <td id=\"T_f4d3a7ec_953f_11ea_b182_98e0d99a8cd3row9_col5\" class=\"data row9 col5\" >21.173227</td>\n                        <td id=\"T_f4d3a7ec_953f_11ea_b182_98e0d99a8cd3row9_col6\" class=\"data row9 col6\" >2.110591</td>\n                        <td id=\"T_f4d3a7ec_953f_11ea_b182_98e0d99a8cd3row9_col7\" class=\"data row9 col7\" >1.378999</td>\n                        <td id=\"T_f4d3a7ec_953f_11ea_b182_98e0d99a8cd3row9_col8\" class=\"data row9 col8\" >8.130590</td>\n                        <td id=\"T_f4d3a7ec_953f_11ea_b182_98e0d99a8cd3row9_col9\" class=\"data row9 col9\" >0.695231</td>\n            </tr>\n    </tbody></table>"
     },
     "metadata": {},
     "execution_count": 18
    }
   ],
   "source": [
    "housing_df_abs = pd.concat([housing_df.iloc[:,:2], housing_df.iloc[:,2:].abs()], axis=1, sort=False)\n",
    "housing_df_abs.style.highlight_max(color='red').highlight_min(color='green')"
   ]
  },
  {
   "cell_type": "markdown",
   "metadata": {},
   "source": [
    "## Randarea fisierului html"
   ]
  },
  {
   "cell_type": "code",
   "execution_count": 20,
   "metadata": {},
   "outputs": [],
   "source": [
    "housing_html = housing_df.style.render()\n",
    "housing_abs_html = housing_df_abs.style.highlight_max(color='red').highlight_min(color='green').render()\n",
    "\n",
    "text_file = open('../html_files/housing.html', 'w')\n",
    "text_file.write('<br>')\n",
    "text_file.write('<h1><center> Dataset: Boston Housing <center></h1>')\n",
    "text_file.write('<br><br>')\n",
    "text_file.write(housing_html)\n",
    "text_file.write('<br><br><br>')\n",
    "text_file.write(housing_abs_html)\n",
    "text_file.close()"
   ]
  }
 ],
 "metadata": {
  "language_info": {
   "codemirror_mode": {
    "name": "ipython",
    "version": 3
   },
   "file_extension": ".py",
   "mimetype": "text/x-python",
   "name": "python",
   "nbconvert_exporter": "python",
   "pygments_lexer": "ipython3",
   "version": "3.7.7-final"
  },
  "orig_nbformat": 2,
  "kernelspec": {
   "name": "python3",
   "display_name": "Python 3"
  }
 },
 "nbformat": 4,
 "nbformat_minor": 2
}