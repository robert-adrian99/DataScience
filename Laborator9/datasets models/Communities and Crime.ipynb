{
 "cells": [
  {
   "cell_type": "markdown",
   "metadata": {},
   "source": [
    "# Bucur Robert - Adrian\n",
    "# Bogdan Gheorghe - Nicolae\n",
    "## Grupa 10LF381"
   ]
  },
  {
   "cell_type": "markdown",
   "metadata": {},
   "source": [
    "# Laborator 9\n",
    "## Modele de regresie"
   ]
  },
  {
   "cell_type": "markdown",
   "metadata": {},
   "source": [
    "# Setul de date Communities and Crime"
   ]
  },
  {
   "cell_type": "code",
   "execution_count": 1,
   "metadata": {},
   "outputs": [],
   "source": [
    "import numpy as np\n",
    "import pandas as pd\n",
    "\n",
    "from sklearn.model_selection import GridSearchCV\n",
    "from sklearn.model_selection import RandomizedSearchCV\n",
    "from sklearn.model_selection import cross_validate, cross_val_score\n",
    "\n",
    "from sklearn.metrics        import mean_absolute_error, mean_squared_error, median_absolute_error\n",
    "\n",
    "from sklearn.tree           import DecisionTreeRegressor\n",
    "from sklearn.linear_model   import LinearRegression\n",
    "from sklearn.linear_model   import Lasso\n",
    "from sklearn.ensemble       import RandomForestRegressor\n",
    "from sklearn.ensemble       import GradientBoostingRegressor"
   ]
  },
  {
   "cell_type": "markdown",
   "metadata": {},
   "source": [
    "## Definirea listelor hiperparametrilor"
   ]
  },
  {
   "cell_type": "code",
   "execution_count": 2,
   "metadata": {},
   "outputs": [],
   "source": [
    "parameters_dtr = {'criterion': ['mse', 'friedman_mse', 'mae'], 'max_depth': [0.1, 0.2, 0.3, 0.4, 0.5, 0.6, 0.7, 0.8, 0.9, 1.0]}\n",
    "dtr = DecisionTreeRegressor()\n",
    "\n",
    "parameters_linear = {'normalize': [True, False], 'fit_intercept': [True, False]}\n",
    "linear = LinearRegression()\n",
    "\n",
    "parameters_gbr = {'loss': ['ls', 'lad', 'huber', 'quantile'], 'criterion': ['mse', 'friedman_mse', 'mae'], 'random_state': [0, None]}\n",
    "gbr = GradientBoostingRegressor()\n",
    "\n",
    "parameters_rfr = {'criterion': ['mse', 'mae'], 'max_depth': [0.1, 0.2, 0.3, 0.4, 0.5, 0.6, 0.7, 0.8, 0.9, 1.0], 'random_state': [0, None]}\n",
    "rfr = RandomForestRegressor()\n",
    "\n",
    "parameters_lasso = {'alpha': [0.0, 1.0, 2.0], 'random_state': [0, None], 'normalize': [True, False]}\n",
    "lasso = Lasso()"
   ]
  },
  {
   "cell_type": "markdown",
   "metadata": {},
   "source": [
    "## Incarcarea datelor"
   ]
  },
  {
   "cell_type": "code",
   "execution_count": 3,
   "metadata": {},
   "outputs": [
    {
     "output_type": "stream",
     "name": "stdout",
     "text": "Communities shape: (1994, 100) \n\n"
    },
    {
     "output_type": "execute_result",
     "data": {
      "text/plain": "   population  householdsize  racepctblack  racePctWhite  racePctAsian  \\\n0        0.19           0.33          0.02          0.90          0.12   \n1        0.00           0.16          0.12          0.74          0.45   \n2        0.00           0.42          0.49          0.56          0.17   \n3        0.04           0.77          1.00          0.08          0.12   \n4        0.01           0.55          0.02          0.95          0.09   \n\n   racePctHisp  agePct12t21  agePct12t29  agePct16t24  agePct65up  ...  \\\n0         0.17         0.34         0.47         0.29        0.32  ...   \n1         0.07         0.26         0.59         0.35        0.27  ...   \n2         0.04         0.39         0.47         0.28        0.32  ...   \n3         0.10         0.51         0.50         0.34        0.21  ...   \n4         0.05         0.38         0.38         0.23        0.36  ...   \n\n   PctForeignBorn  PctBornSameState  PctSameHouse85  PctSameCity85  \\\n0            0.12              0.42            0.50           0.51   \n1            0.21              0.50            0.34           0.60   \n2            0.14              0.49            0.54           0.67   \n3            0.19              0.30            0.73           0.64   \n4            0.11              0.72            0.64           0.61   \n\n   PctSameState85  LandArea  PopDens  PctUsePubTrans  LemasPctOfficDrugUn  \\\n0            0.64      0.12     0.26            0.20                 0.32   \n1            0.52      0.02     0.12            0.45                 0.00   \n2            0.56      0.01     0.21            0.02                 0.00   \n3            0.65      0.02     0.39            0.28                 0.00   \n4            0.53      0.04     0.09            0.02                 0.00   \n\n   ViolentCrimesPerPop  \n0                 0.20  \n1                 0.67  \n2                 0.43  \n3                 0.12  \n4                 0.03  \n\n[5 rows x 100 columns]",
      "text/html": "<div>\n<style scoped>\n    .dataframe tbody tr th:only-of-type {\n        vertical-align: middle;\n    }\n\n    .dataframe tbody tr th {\n        vertical-align: top;\n    }\n\n    .dataframe thead th {\n        text-align: right;\n    }\n</style>\n<table border=\"1\" class=\"dataframe\">\n  <thead>\n    <tr style=\"text-align: right;\">\n      <th></th>\n      <th>population</th>\n      <th>householdsize</th>\n      <th>racepctblack</th>\n      <th>racePctWhite</th>\n      <th>racePctAsian</th>\n      <th>racePctHisp</th>\n      <th>agePct12t21</th>\n      <th>agePct12t29</th>\n      <th>agePct16t24</th>\n      <th>agePct65up</th>\n      <th>...</th>\n      <th>PctForeignBorn</th>\n      <th>PctBornSameState</th>\n      <th>PctSameHouse85</th>\n      <th>PctSameCity85</th>\n      <th>PctSameState85</th>\n      <th>LandArea</th>\n      <th>PopDens</th>\n      <th>PctUsePubTrans</th>\n      <th>LemasPctOfficDrugUn</th>\n      <th>ViolentCrimesPerPop</th>\n    </tr>\n  </thead>\n  <tbody>\n    <tr>\n      <th>0</th>\n      <td>0.19</td>\n      <td>0.33</td>\n      <td>0.02</td>\n      <td>0.90</td>\n      <td>0.12</td>\n      <td>0.17</td>\n      <td>0.34</td>\n      <td>0.47</td>\n      <td>0.29</td>\n      <td>0.32</td>\n      <td>...</td>\n      <td>0.12</td>\n      <td>0.42</td>\n      <td>0.50</td>\n      <td>0.51</td>\n      <td>0.64</td>\n      <td>0.12</td>\n      <td>0.26</td>\n      <td>0.20</td>\n      <td>0.32</td>\n      <td>0.20</td>\n    </tr>\n    <tr>\n      <th>1</th>\n      <td>0.00</td>\n      <td>0.16</td>\n      <td>0.12</td>\n      <td>0.74</td>\n      <td>0.45</td>\n      <td>0.07</td>\n      <td>0.26</td>\n      <td>0.59</td>\n      <td>0.35</td>\n      <td>0.27</td>\n      <td>...</td>\n      <td>0.21</td>\n      <td>0.50</td>\n      <td>0.34</td>\n      <td>0.60</td>\n      <td>0.52</td>\n      <td>0.02</td>\n      <td>0.12</td>\n      <td>0.45</td>\n      <td>0.00</td>\n      <td>0.67</td>\n    </tr>\n    <tr>\n      <th>2</th>\n      <td>0.00</td>\n      <td>0.42</td>\n      <td>0.49</td>\n      <td>0.56</td>\n      <td>0.17</td>\n      <td>0.04</td>\n      <td>0.39</td>\n      <td>0.47</td>\n      <td>0.28</td>\n      <td>0.32</td>\n      <td>...</td>\n      <td>0.14</td>\n      <td>0.49</td>\n      <td>0.54</td>\n      <td>0.67</td>\n      <td>0.56</td>\n      <td>0.01</td>\n      <td>0.21</td>\n      <td>0.02</td>\n      <td>0.00</td>\n      <td>0.43</td>\n    </tr>\n    <tr>\n      <th>3</th>\n      <td>0.04</td>\n      <td>0.77</td>\n      <td>1.00</td>\n      <td>0.08</td>\n      <td>0.12</td>\n      <td>0.10</td>\n      <td>0.51</td>\n      <td>0.50</td>\n      <td>0.34</td>\n      <td>0.21</td>\n      <td>...</td>\n      <td>0.19</td>\n      <td>0.30</td>\n      <td>0.73</td>\n      <td>0.64</td>\n      <td>0.65</td>\n      <td>0.02</td>\n      <td>0.39</td>\n      <td>0.28</td>\n      <td>0.00</td>\n      <td>0.12</td>\n    </tr>\n    <tr>\n      <th>4</th>\n      <td>0.01</td>\n      <td>0.55</td>\n      <td>0.02</td>\n      <td>0.95</td>\n      <td>0.09</td>\n      <td>0.05</td>\n      <td>0.38</td>\n      <td>0.38</td>\n      <td>0.23</td>\n      <td>0.36</td>\n      <td>...</td>\n      <td>0.11</td>\n      <td>0.72</td>\n      <td>0.64</td>\n      <td>0.61</td>\n      <td>0.53</td>\n      <td>0.04</td>\n      <td>0.09</td>\n      <td>0.02</td>\n      <td>0.00</td>\n      <td>0.03</td>\n    </tr>\n  </tbody>\n</table>\n<p>5 rows × 100 columns</p>\n</div>"
     },
     "metadata": {},
     "execution_count": 3
    }
   ],
   "source": [
    "communities = pd.read_csv('../data/communities/communities.csv', sep=';')\n",
    "print('Communities shape:', communities.shape, '\\n')\n",
    "\n",
    "X_communities = communities.iloc[:, :-1]\n",
    "y_communities = communities.iloc[:, -1]\n",
    "\n",
    "communities.head()"
   ]
  },
  {
   "cell_type": "code",
   "execution_count": 4,
   "metadata": {},
   "outputs": [],
   "source": [
    "communities_df = pd.DataFrame()"
   ]
  },
  {
   "cell_type": "markdown",
   "metadata": {},
   "source": [
    "## Primul model DecisionTreeRegressor"
   ]
  },
  {
   "cell_type": "code",
   "execution_count": 5,
   "metadata": {},
   "outputs": [],
   "source": [
    "grid_search_dtr_communities = GridSearchCV(estimator=dtr, param_grid=parameters_dtr, scoring='neg_mean_squared_error', cv=3)\n",
    "grid_scores_dtr_communities = cross_validate(estimator=grid_search_dtr_communities, scoring=('neg_mean_absolute_error', 'neg_mean_squared_error', 'neg_median_absolute_error'), X=X_communities, y=y_communities, cv=5, return_train_score=True)\n",
    "\n",
    "df_grid_communities = pd.DataFrame(grid_scores_dtr_communities)\n",
    "df_grid_communities = df_grid_communities.mean()\n",
    "df_grid_communities['Model_name'] = 'DecisionTreeRegressor'\n",
    "df_grid_communities['Search_strategy'] = 'GridSearch'\n",
    "\n",
    "df_grid_communities = pd.Series(df_grid_communities)\n",
    "communities_df = communities_df.append(df_grid_communities, ignore_index=True)"
   ]
  },
  {
   "cell_type": "code",
   "execution_count": 6,
   "metadata": {},
   "outputs": [],
   "source": [
    "randomized_search_dtr_communities = RandomizedSearchCV(estimator=dtr, param_distributions=parameters_dtr, random_state=0, scoring='neg_mean_squared_error', n_iter=5, cv=3)\n",
    "randomized_scores_dtr_communities = cross_validate(estimator=randomized_search_dtr_communities, scoring=('neg_mean_absolute_error', 'neg_mean_squared_error', 'neg_median_absolute_error'), X=X_communities, y=y_communities, cv=5, return_train_score=True)\n",
    "\n",
    "df_random_communities = pd.DataFrame(randomized_scores_dtr_communities)\n",
    "df_random_communities = df_random_communities.mean()\n",
    "df_random_communities['Model_name'] = 'DecisionTreeRegressor'\n",
    "df_random_communities['Search_strategy'] = 'RandomizedSearch'\n",
    "\n",
    "df_random_communities = pd.Series(df_random_communities)\n",
    "communities_df = communities_df.append(df_random_communities, ignore_index=True)"
   ]
  },
  {
   "cell_type": "markdown",
   "metadata": {},
   "source": [
    "## Al doilea model LinearRegression"
   ]
  },
  {
   "cell_type": "code",
   "execution_count": 7,
   "metadata": {},
   "outputs": [],
   "source": [
    "grid_search_linear_communities = GridSearchCV(estimator=linear, param_grid=parameters_linear, scoring='neg_mean_squared_error', cv=3)\n",
    "grid_scores_linear_communities = cross_validate(estimator=grid_search_linear_communities, scoring=('neg_mean_absolute_error', 'neg_mean_squared_error', 'neg_median_absolute_error'), X=X_communities, y=y_communities, cv=5, return_train_score=True)\n",
    "\n",
    "df_grid_communities_linear = pd.DataFrame(grid_scores_linear_communities)\n",
    "df_grid_communities_linear = df_grid_communities_linear.mean()\n",
    "df_grid_communities_linear['Model_name'] = 'LinearRegression'\n",
    "df_grid_communities_linear['Search_strategy'] = 'GridSearch'\n",
    "\n",
    "df_grid_communities_linear = pd.Series(df_grid_communities_linear)\n",
    "communities_df = communities_df.append(df_grid_communities_linear, ignore_index=True)"
   ]
  },
  {
   "cell_type": "code",
   "execution_count": 8,
   "metadata": {},
   "outputs": [],
   "source": [
    "randomized_search_linear_communities = RandomizedSearchCV(estimator=linear, param_distributions=parameters_linear, random_state=0, scoring='neg_mean_squared_error', n_iter=5, cv=3)\n",
    "randomized_scores_linear_communities = cross_validate(estimator=randomized_search_linear_communities, scoring=('neg_mean_absolute_error', 'neg_mean_squared_error', 'neg_median_absolute_error'), X=X_communities, y=y_communities, cv=5, return_train_score=True)\n",
    "\n",
    "df_random_communities_linear = pd.DataFrame(randomized_scores_linear_communities)\n",
    "df_random_communities_linear = df_random_communities_linear.mean()\n",
    "df_random_communities_linear['Model_name'] = 'LinearRegression'\n",
    "df_random_communities_linear['Search_strategy'] = 'RandomizedSearch'\n",
    "\n",
    "df_random_communities_linear = pd.Series(df_random_communities_linear)\n",
    "communities_df = communities_df.append(df_random_communities_linear, ignore_index=True)"
   ]
  },
  {
   "cell_type": "markdown",
   "metadata": {},
   "source": [
    "## Al treilea model Lasso"
   ]
  },
  {
   "cell_type": "code",
   "execution_count": 9,
   "metadata": {},
   "outputs": [],
   "source": [
    "grid_search_lasso_communities = GridSearchCV(estimator=lasso, param_grid=parameters_lasso, scoring='neg_mean_squared_error', cv=3)\n",
    "grid_scores_lasso_communities = cross_validate(estimator=grid_search_lasso_communities, scoring=('neg_mean_absolute_error', 'neg_mean_squared_error', 'neg_median_absolute_error'), X=X_communities, y=y_communities, cv=5, return_train_score=True)\n",
    "\n",
    "df_grid_communities_lasso = pd.DataFrame(grid_scores_lasso_communities)\n",
    "df_grid_communities_lasso = df_grid_communities_lasso.mean()\n",
    "df_grid_communities_lasso['Model_name'] = 'Lasso'\n",
    "df_grid_communities_lasso['Search_strategy'] = 'GridSearch'\n",
    "\n",
    "df_grid_communities_lasso = pd.Series(df_grid_communities_lasso)\n",
    "communities_df = communities_df.append(df_grid_communities_lasso, ignore_index=True)"
   ]
  },
  {
   "cell_type": "code",
   "execution_count": 10,
   "metadata": {},
   "outputs": [],
   "source": [
    "randomized_search_lasso_communities = RandomizedSearchCV(estimator=lasso, param_distributions=parameters_lasso, random_state=0, scoring='neg_mean_squared_error', n_iter=5, cv=3)\n",
    "randomized_scores_lasso_communities = cross_validate(estimator=randomized_search_lasso_communities, scoring=('neg_mean_absolute_error', 'neg_mean_squared_error', 'neg_median_absolute_error'), X=X_communities, y=y_communities, cv=5, return_train_score=True)\n",
    "\n",
    "df_random_communities_lasso = pd.DataFrame(randomized_scores_lasso_communities)\n",
    "df_random_communities_lasso = df_random_communities_lasso.mean()\n",
    "df_random_communities_lasso['Model_name'] = 'Lasso'\n",
    "df_random_communities_lasso['Search_strategy'] = 'RandomizedSearch'\n",
    "\n",
    "df_random_communities_lasso = pd.Series(df_random_communities_lasso)\n",
    "communities_df = communities_df.append(df_random_communities_lasso, ignore_index=True)"
   ]
  },
  {
   "cell_type": "markdown",
   "metadata": {},
   "source": [
    "## Al patrulea model RandomForestRegressor"
   ]
  },
  {
   "cell_type": "code",
   "execution_count": 11,
   "metadata": {},
   "outputs": [],
   "source": [
    "grid_search_rfr_communities = GridSearchCV(estimator=rfr, param_grid=parameters_rfr, scoring='neg_mean_squared_error', cv=3)\n",
    "grid_scores_rfr_communities = cross_validate(estimator=grid_search_dtr_communities, scoring=('neg_mean_absolute_error', 'neg_mean_squared_error', 'neg_median_absolute_error'), X=X_communities, y=y_communities, cv=5, return_train_score=True)\n",
    "\n",
    "df_grid_communities_rfr = pd.DataFrame(grid_scores_rfr_communities)\n",
    "df_grid_communities_rfr = df_grid_communities_rfr.mean()\n",
    "df_grid_communities_rfr['Model_name'] = 'RandomForestRegressor'\n",
    "df_grid_communities_rfr['Search_strategy'] = 'GridSearch'\n",
    "\n",
    "df_grid_communities_rfr = pd.Series(df_grid_communities_rfr)\n",
    "communities_df = communities_df.append(df_grid_communities_rfr, ignore_index=True)"
   ]
  },
  {
   "cell_type": "code",
   "execution_count": 12,
   "metadata": {},
   "outputs": [],
   "source": [
    "randomized_search_rfr_communities = RandomizedSearchCV(estimator=rfr, param_distributions=parameters_rfr, random_state=0, scoring='neg_mean_squared_error', n_iter=5, cv=3)\n",
    "randomized_scores_rfr_communities = cross_validate(estimator=randomized_search_rfr_communities, scoring=('neg_mean_absolute_error', 'neg_mean_squared_error', 'neg_median_absolute_error'), X=X_communities, y=y_communities, cv=5, return_train_score=True)\n",
    "\n",
    "df_random_communities_rfr = pd.DataFrame(randomized_scores_rfr_communities)\n",
    "df_random_communities_rfr = df_random_communities_rfr.mean()\n",
    "df_random_communities_rfr['Model_name'] = 'RandomForestRegressor'\n",
    "df_random_communities_rfr['Search_strategy'] = 'RandomizedSearch'\n",
    "\n",
    "df_random_communities_rfr = pd.Series(df_random_communities_rfr)\n",
    "communities_df = communities_df.append(df_random_communities_rfr, ignore_index=True)"
   ]
  },
  {
   "cell_type": "markdown",
   "metadata": {},
   "source": [
    "## Al cincilea model GradientBoostingRegressor"
   ]
  },
  {
   "cell_type": "code",
   "execution_count": 13,
   "metadata": {},
   "outputs": [],
   "source": [
    "grid_search_gbr_communities = GridSearchCV(estimator=gbr, param_grid=parameters_gbr, scoring='neg_mean_squared_error', cv=3)\n",
    "grid_scores_gbr_communities = cross_validate(estimator=grid_search_gbr_communities, scoring=('neg_mean_absolute_error', 'neg_mean_squared_error', 'neg_median_absolute_error'), X=X_communities, y=y_communities, cv=5, return_train_score=True)\n",
    "\n",
    "df_grid_communities_gbr = pd.DataFrame(grid_scores_gbr_communities)\n",
    "df_grid_communities_gbr = df_grid_communities_gbr.mean()\n",
    "df_grid_communities_gbr['Model_name'] = 'GradientBoostingRegressor'\n",
    "df_grid_communities_gbr['Search_strategy'] = 'GridSearch'\n",
    "\n",
    "df_grid_communities_gbr = pd.Series(df_grid_communities_gbr)\n",
    "communities_df = communities_df.append(df_grid_communities_gbr, ignore_index=True)"
   ]
  },
  {
   "cell_type": "code",
   "execution_count": 14,
   "metadata": {},
   "outputs": [],
   "source": [
    "randomized_search_gbr_communities = RandomizedSearchCV(estimator=gbr, param_distributions=parameters_gbr, random_state=0, scoring='neg_mean_squared_error', n_iter=5, cv=3)\n",
    "randomized_scores_gbr_communities = cross_validate(estimator=randomized_search_gbr_communities, scoring=('neg_mean_absolute_error', 'neg_mean_squared_error', 'neg_median_absolute_error'), X=X_communities, y=y_communities, cv=5, return_train_score=True)\n",
    "\n",
    "df_random_communities_gbr = pd.DataFrame(randomized_scores_gbr_communities)\n",
    "df_random_communities_gbr = df_random_communities_gbr.mean()\n",
    "df_random_communities_gbr['Model_name'] = 'GradientBoostingRegressor'\n",
    "df_random_communities_gbr['Search_strategy'] = 'RandomizedSearch'\n",
    "\n",
    "df_random_communities_gbr = pd.Series(df_random_communities_gbr)\n",
    "communities_df = communities_df.append(df_random_communities_gbr, ignore_index=True)"
   ]
  },
  {
   "cell_type": "markdown",
   "metadata": {},
   "source": [
    "## Raportul negativ"
   ]
  },
  {
   "cell_type": "code",
   "execution_count": 15,
   "metadata": {},
   "outputs": [
    {
     "output_type": "execute_result",
     "data": {
      "text/plain": "                  Model_name   Search_strategy     fit_time  score_time  \\\n0      DecisionTreeRegressor        GridSearch     1.186662    0.002237   \n1      DecisionTreeRegressor  RandomizedSearch     0.099305    0.002145   \n2           LinearRegression        GridSearch     0.124021    0.002248   \n3           LinearRegression  RandomizedSearch     0.124786    0.002322   \n4                      Lasso        GridSearch     1.196772    0.002664   \n5                      Lasso  RandomizedSearch     0.434693    0.002567   \n6      RandomForestRegressor        GridSearch     1.188854    0.002282   \n7      RandomForestRegressor  RandomizedSearch     3.049118    0.010365   \n8  GradientBoostingRegressor        GridSearch  1770.405610    0.010598   \n9  GradientBoostingRegressor  RandomizedSearch   471.260393    0.003942   \n\n   test_neg_mean_absolute_error  test_neg_mean_squared_error  \\\n0                     -0.132482                    -0.033119   \n1                     -0.178362                    -0.054329   \n2                     -0.097058                    -0.019061   \n3                     -0.097058                    -0.019061   \n4                     -0.096900                    -0.018987   \n5                     -0.096900                    -0.018987   \n6                     -0.132482                    -0.033119   \n7                     -0.178486                    -0.054334   \n8                     -0.091954                    -0.019429   \n9                     -0.091045                    -0.019583   \n\n   test_neg_median_absolute_error  train_neg_mean_absolute_error  \\\n0                       -0.096646                      -0.130052   \n1                       -0.151979                      -0.178297   \n2                       -0.067362                      -0.090680   \n3                       -0.067362                      -0.090680   \n4                       -0.067062                      -0.090646   \n5                       -0.067062                      -0.090646   \n6                       -0.096646                      -0.130052   \n7                       -0.152387                      -0.178423   \n8                       -0.055680                      -0.063678   \n9                       -0.053795                      -0.065742   \n\n   train_neg_mean_squared_error  train_neg_median_absolute_error  \n0                     -0.031657                        -0.098692  \n1                     -0.054246                        -0.155004  \n2                     -0.016372                        -0.063812  \n3                     -0.016372                        -0.063812  \n4                     -0.016367                        -0.064207  \n5                     -0.016367                        -0.064207  \n6                     -0.031657                        -0.098692  \n7                     -0.054246                        -0.154658  \n8                     -0.009732                        -0.040165  \n9                     -0.011594                        -0.036611  ",
      "text/html": "<div>\n<style scoped>\n    .dataframe tbody tr th:only-of-type {\n        vertical-align: middle;\n    }\n\n    .dataframe tbody tr th {\n        vertical-align: top;\n    }\n\n    .dataframe thead th {\n        text-align: right;\n    }\n</style>\n<table border=\"1\" class=\"dataframe\">\n  <thead>\n    <tr style=\"text-align: right;\">\n      <th></th>\n      <th>Model_name</th>\n      <th>Search_strategy</th>\n      <th>fit_time</th>\n      <th>score_time</th>\n      <th>test_neg_mean_absolute_error</th>\n      <th>test_neg_mean_squared_error</th>\n      <th>test_neg_median_absolute_error</th>\n      <th>train_neg_mean_absolute_error</th>\n      <th>train_neg_mean_squared_error</th>\n      <th>train_neg_median_absolute_error</th>\n    </tr>\n  </thead>\n  <tbody>\n    <tr>\n      <th>0</th>\n      <td>DecisionTreeRegressor</td>\n      <td>GridSearch</td>\n      <td>1.186662</td>\n      <td>0.002237</td>\n      <td>-0.132482</td>\n      <td>-0.033119</td>\n      <td>-0.096646</td>\n      <td>-0.130052</td>\n      <td>-0.031657</td>\n      <td>-0.098692</td>\n    </tr>\n    <tr>\n      <th>1</th>\n      <td>DecisionTreeRegressor</td>\n      <td>RandomizedSearch</td>\n      <td>0.099305</td>\n      <td>0.002145</td>\n      <td>-0.178362</td>\n      <td>-0.054329</td>\n      <td>-0.151979</td>\n      <td>-0.178297</td>\n      <td>-0.054246</td>\n      <td>-0.155004</td>\n    </tr>\n    <tr>\n      <th>2</th>\n      <td>LinearRegression</td>\n      <td>GridSearch</td>\n      <td>0.124021</td>\n      <td>0.002248</td>\n      <td>-0.097058</td>\n      <td>-0.019061</td>\n      <td>-0.067362</td>\n      <td>-0.090680</td>\n      <td>-0.016372</td>\n      <td>-0.063812</td>\n    </tr>\n    <tr>\n      <th>3</th>\n      <td>LinearRegression</td>\n      <td>RandomizedSearch</td>\n      <td>0.124786</td>\n      <td>0.002322</td>\n      <td>-0.097058</td>\n      <td>-0.019061</td>\n      <td>-0.067362</td>\n      <td>-0.090680</td>\n      <td>-0.016372</td>\n      <td>-0.063812</td>\n    </tr>\n    <tr>\n      <th>4</th>\n      <td>Lasso</td>\n      <td>GridSearch</td>\n      <td>1.196772</td>\n      <td>0.002664</td>\n      <td>-0.096900</td>\n      <td>-0.018987</td>\n      <td>-0.067062</td>\n      <td>-0.090646</td>\n      <td>-0.016367</td>\n      <td>-0.064207</td>\n    </tr>\n    <tr>\n      <th>5</th>\n      <td>Lasso</td>\n      <td>RandomizedSearch</td>\n      <td>0.434693</td>\n      <td>0.002567</td>\n      <td>-0.096900</td>\n      <td>-0.018987</td>\n      <td>-0.067062</td>\n      <td>-0.090646</td>\n      <td>-0.016367</td>\n      <td>-0.064207</td>\n    </tr>\n    <tr>\n      <th>6</th>\n      <td>RandomForestRegressor</td>\n      <td>GridSearch</td>\n      <td>1.188854</td>\n      <td>0.002282</td>\n      <td>-0.132482</td>\n      <td>-0.033119</td>\n      <td>-0.096646</td>\n      <td>-0.130052</td>\n      <td>-0.031657</td>\n      <td>-0.098692</td>\n    </tr>\n    <tr>\n      <th>7</th>\n      <td>RandomForestRegressor</td>\n      <td>RandomizedSearch</td>\n      <td>3.049118</td>\n      <td>0.010365</td>\n      <td>-0.178486</td>\n      <td>-0.054334</td>\n      <td>-0.152387</td>\n      <td>-0.178423</td>\n      <td>-0.054246</td>\n      <td>-0.154658</td>\n    </tr>\n    <tr>\n      <th>8</th>\n      <td>GradientBoostingRegressor</td>\n      <td>GridSearch</td>\n      <td>1770.405610</td>\n      <td>0.010598</td>\n      <td>-0.091954</td>\n      <td>-0.019429</td>\n      <td>-0.055680</td>\n      <td>-0.063678</td>\n      <td>-0.009732</td>\n      <td>-0.040165</td>\n    </tr>\n    <tr>\n      <th>9</th>\n      <td>GradientBoostingRegressor</td>\n      <td>RandomizedSearch</td>\n      <td>471.260393</td>\n      <td>0.003942</td>\n      <td>-0.091045</td>\n      <td>-0.019583</td>\n      <td>-0.053795</td>\n      <td>-0.065742</td>\n      <td>-0.011594</td>\n      <td>-0.036611</td>\n    </tr>\n  </tbody>\n</table>\n</div>"
     },
     "metadata": {},
     "execution_count": 15
    }
   ],
   "source": [
    "communities_df"
   ]
  },
  {
   "cell_type": "markdown",
   "metadata": {},
   "source": [
    "## Raportul pozitiv"
   ]
  },
  {
   "cell_type": "code",
   "execution_count": 16,
   "metadata": {},
   "outputs": [],
   "source": [
    "def highlight_max(df):\n",
    "    is_max = df == df.max()\n",
    "    return ['background-color: red' if value else '' for value in is_max]"
   ]
  },
  {
   "cell_type": "code",
   "execution_count": 17,
   "metadata": {},
   "outputs": [],
   "source": [
    "def highlight_min(df):\n",
    "    is_min = df == df.min()\n",
    "    return ['background-color: green' if value else '' for value in is_min]"
   ]
  },
  {
   "cell_type": "code",
   "execution_count": 18,
   "metadata": {},
   "outputs": [
    {
     "output_type": "execute_result",
     "data": {
      "text/plain": "<pandas.io.formats.style.Styler at 0x1a187fb250>",
      "text/html": "<style  type=\"text/css\" >\n    #T_1bc31502_955b_11ea_8d1c_98e0d99a8cd3row1_col2 {\n            : ;\n            background-color:  green;\n        }    #T_1bc31502_955b_11ea_8d1c_98e0d99a8cd3row1_col3 {\n            : ;\n            background-color:  green;\n        }    #T_1bc31502_955b_11ea_8d1c_98e0d99a8cd3row1_col9 {\n            background-color:  red;\n            : ;\n        }    #T_1bc31502_955b_11ea_8d1c_98e0d99a8cd3row5_col5 {\n            : ;\n            background-color:  green;\n        }    #T_1bc31502_955b_11ea_8d1c_98e0d99a8cd3row7_col4 {\n            background-color:  red;\n            : ;\n        }    #T_1bc31502_955b_11ea_8d1c_98e0d99a8cd3row7_col5 {\n            background-color:  red;\n            : ;\n        }    #T_1bc31502_955b_11ea_8d1c_98e0d99a8cd3row7_col6 {\n            background-color:  red;\n            : ;\n        }    #T_1bc31502_955b_11ea_8d1c_98e0d99a8cd3row7_col7 {\n            background-color:  red;\n            : ;\n        }    #T_1bc31502_955b_11ea_8d1c_98e0d99a8cd3row7_col8 {\n            background-color:  red;\n            : ;\n        }    #T_1bc31502_955b_11ea_8d1c_98e0d99a8cd3row8_col2 {\n            background-color:  red;\n            : ;\n        }    #T_1bc31502_955b_11ea_8d1c_98e0d99a8cd3row8_col3 {\n            background-color:  red;\n            : ;\n        }    #T_1bc31502_955b_11ea_8d1c_98e0d99a8cd3row8_col7 {\n            : ;\n            background-color:  green;\n        }    #T_1bc31502_955b_11ea_8d1c_98e0d99a8cd3row8_col8 {\n            : ;\n            background-color:  green;\n        }    #T_1bc31502_955b_11ea_8d1c_98e0d99a8cd3row9_col4 {\n            : ;\n            background-color:  green;\n        }    #T_1bc31502_955b_11ea_8d1c_98e0d99a8cd3row9_col6 {\n            : ;\n            background-color:  green;\n        }    #T_1bc31502_955b_11ea_8d1c_98e0d99a8cd3row9_col9 {\n            : ;\n            background-color:  green;\n        }</style><table id=\"T_1bc31502_955b_11ea_8d1c_98e0d99a8cd3\" ><thead>    <tr>        <th class=\"blank level0\" ></th>        <th class=\"col_heading level0 col0\" >Model_name</th>        <th class=\"col_heading level0 col1\" >Search_strategy</th>        <th class=\"col_heading level0 col2\" >fit_time</th>        <th class=\"col_heading level0 col3\" >score_time</th>        <th class=\"col_heading level0 col4\" >test_neg_mean_absolute_error</th>        <th class=\"col_heading level0 col5\" >test_neg_mean_squared_error</th>        <th class=\"col_heading level0 col6\" >test_neg_median_absolute_error</th>        <th class=\"col_heading level0 col7\" >train_neg_mean_absolute_error</th>        <th class=\"col_heading level0 col8\" >train_neg_mean_squared_error</th>        <th class=\"col_heading level0 col9\" >train_neg_median_absolute_error</th>    </tr></thead><tbody>\n                <tr>\n                        <th id=\"T_1bc31502_955b_11ea_8d1c_98e0d99a8cd3level0_row0\" class=\"row_heading level0 row0\" >0</th>\n                        <td id=\"T_1bc31502_955b_11ea_8d1c_98e0d99a8cd3row0_col0\" class=\"data row0 col0\" >DecisionTreeRegressor</td>\n                        <td id=\"T_1bc31502_955b_11ea_8d1c_98e0d99a8cd3row0_col1\" class=\"data row0 col1\" >GridSearch</td>\n                        <td id=\"T_1bc31502_955b_11ea_8d1c_98e0d99a8cd3row0_col2\" class=\"data row0 col2\" >1.186662</td>\n                        <td id=\"T_1bc31502_955b_11ea_8d1c_98e0d99a8cd3row0_col3\" class=\"data row0 col3\" >0.002237</td>\n                        <td id=\"T_1bc31502_955b_11ea_8d1c_98e0d99a8cd3row0_col4\" class=\"data row0 col4\" >0.132482</td>\n                        <td id=\"T_1bc31502_955b_11ea_8d1c_98e0d99a8cd3row0_col5\" class=\"data row0 col5\" >0.033119</td>\n                        <td id=\"T_1bc31502_955b_11ea_8d1c_98e0d99a8cd3row0_col6\" class=\"data row0 col6\" >0.096646</td>\n                        <td id=\"T_1bc31502_955b_11ea_8d1c_98e0d99a8cd3row0_col7\" class=\"data row0 col7\" >0.130052</td>\n                        <td id=\"T_1bc31502_955b_11ea_8d1c_98e0d99a8cd3row0_col8\" class=\"data row0 col8\" >0.031657</td>\n                        <td id=\"T_1bc31502_955b_11ea_8d1c_98e0d99a8cd3row0_col9\" class=\"data row0 col9\" >0.098692</td>\n            </tr>\n            <tr>\n                        <th id=\"T_1bc31502_955b_11ea_8d1c_98e0d99a8cd3level0_row1\" class=\"row_heading level0 row1\" >1</th>\n                        <td id=\"T_1bc31502_955b_11ea_8d1c_98e0d99a8cd3row1_col0\" class=\"data row1 col0\" >DecisionTreeRegressor</td>\n                        <td id=\"T_1bc31502_955b_11ea_8d1c_98e0d99a8cd3row1_col1\" class=\"data row1 col1\" >RandomizedSearch</td>\n                        <td id=\"T_1bc31502_955b_11ea_8d1c_98e0d99a8cd3row1_col2\" class=\"data row1 col2\" >0.099305</td>\n                        <td id=\"T_1bc31502_955b_11ea_8d1c_98e0d99a8cd3row1_col3\" class=\"data row1 col3\" >0.002145</td>\n                        <td id=\"T_1bc31502_955b_11ea_8d1c_98e0d99a8cd3row1_col4\" class=\"data row1 col4\" >0.178362</td>\n                        <td id=\"T_1bc31502_955b_11ea_8d1c_98e0d99a8cd3row1_col5\" class=\"data row1 col5\" >0.054329</td>\n                        <td id=\"T_1bc31502_955b_11ea_8d1c_98e0d99a8cd3row1_col6\" class=\"data row1 col6\" >0.151979</td>\n                        <td id=\"T_1bc31502_955b_11ea_8d1c_98e0d99a8cd3row1_col7\" class=\"data row1 col7\" >0.178297</td>\n                        <td id=\"T_1bc31502_955b_11ea_8d1c_98e0d99a8cd3row1_col8\" class=\"data row1 col8\" >0.054246</td>\n                        <td id=\"T_1bc31502_955b_11ea_8d1c_98e0d99a8cd3row1_col9\" class=\"data row1 col9\" >0.155004</td>\n            </tr>\n            <tr>\n                        <th id=\"T_1bc31502_955b_11ea_8d1c_98e0d99a8cd3level0_row2\" class=\"row_heading level0 row2\" >2</th>\n                        <td id=\"T_1bc31502_955b_11ea_8d1c_98e0d99a8cd3row2_col0\" class=\"data row2 col0\" >LinearRegression</td>\n                        <td id=\"T_1bc31502_955b_11ea_8d1c_98e0d99a8cd3row2_col1\" class=\"data row2 col1\" >GridSearch</td>\n                        <td id=\"T_1bc31502_955b_11ea_8d1c_98e0d99a8cd3row2_col2\" class=\"data row2 col2\" >0.124021</td>\n                        <td id=\"T_1bc31502_955b_11ea_8d1c_98e0d99a8cd3row2_col3\" class=\"data row2 col3\" >0.002248</td>\n                        <td id=\"T_1bc31502_955b_11ea_8d1c_98e0d99a8cd3row2_col4\" class=\"data row2 col4\" >0.097058</td>\n                        <td id=\"T_1bc31502_955b_11ea_8d1c_98e0d99a8cd3row2_col5\" class=\"data row2 col5\" >0.019061</td>\n                        <td id=\"T_1bc31502_955b_11ea_8d1c_98e0d99a8cd3row2_col6\" class=\"data row2 col6\" >0.067362</td>\n                        <td id=\"T_1bc31502_955b_11ea_8d1c_98e0d99a8cd3row2_col7\" class=\"data row2 col7\" >0.090680</td>\n                        <td id=\"T_1bc31502_955b_11ea_8d1c_98e0d99a8cd3row2_col8\" class=\"data row2 col8\" >0.016372</td>\n                        <td id=\"T_1bc31502_955b_11ea_8d1c_98e0d99a8cd3row2_col9\" class=\"data row2 col9\" >0.063812</td>\n            </tr>\n            <tr>\n                        <th id=\"T_1bc31502_955b_11ea_8d1c_98e0d99a8cd3level0_row3\" class=\"row_heading level0 row3\" >3</th>\n                        <td id=\"T_1bc31502_955b_11ea_8d1c_98e0d99a8cd3row3_col0\" class=\"data row3 col0\" >LinearRegression</td>\n                        <td id=\"T_1bc31502_955b_11ea_8d1c_98e0d99a8cd3row3_col1\" class=\"data row3 col1\" >RandomizedSearch</td>\n                        <td id=\"T_1bc31502_955b_11ea_8d1c_98e0d99a8cd3row3_col2\" class=\"data row3 col2\" >0.124786</td>\n                        <td id=\"T_1bc31502_955b_11ea_8d1c_98e0d99a8cd3row3_col3\" class=\"data row3 col3\" >0.002322</td>\n                        <td id=\"T_1bc31502_955b_11ea_8d1c_98e0d99a8cd3row3_col4\" class=\"data row3 col4\" >0.097058</td>\n                        <td id=\"T_1bc31502_955b_11ea_8d1c_98e0d99a8cd3row3_col5\" class=\"data row3 col5\" >0.019061</td>\n                        <td id=\"T_1bc31502_955b_11ea_8d1c_98e0d99a8cd3row3_col6\" class=\"data row3 col6\" >0.067362</td>\n                        <td id=\"T_1bc31502_955b_11ea_8d1c_98e0d99a8cd3row3_col7\" class=\"data row3 col7\" >0.090680</td>\n                        <td id=\"T_1bc31502_955b_11ea_8d1c_98e0d99a8cd3row3_col8\" class=\"data row3 col8\" >0.016372</td>\n                        <td id=\"T_1bc31502_955b_11ea_8d1c_98e0d99a8cd3row3_col9\" class=\"data row3 col9\" >0.063812</td>\n            </tr>\n            <tr>\n                        <th id=\"T_1bc31502_955b_11ea_8d1c_98e0d99a8cd3level0_row4\" class=\"row_heading level0 row4\" >4</th>\n                        <td id=\"T_1bc31502_955b_11ea_8d1c_98e0d99a8cd3row4_col0\" class=\"data row4 col0\" >Lasso</td>\n                        <td id=\"T_1bc31502_955b_11ea_8d1c_98e0d99a8cd3row4_col1\" class=\"data row4 col1\" >GridSearch</td>\n                        <td id=\"T_1bc31502_955b_11ea_8d1c_98e0d99a8cd3row4_col2\" class=\"data row4 col2\" >1.196772</td>\n                        <td id=\"T_1bc31502_955b_11ea_8d1c_98e0d99a8cd3row4_col3\" class=\"data row4 col3\" >0.002664</td>\n                        <td id=\"T_1bc31502_955b_11ea_8d1c_98e0d99a8cd3row4_col4\" class=\"data row4 col4\" >0.096900</td>\n                        <td id=\"T_1bc31502_955b_11ea_8d1c_98e0d99a8cd3row4_col5\" class=\"data row4 col5\" >0.018987</td>\n                        <td id=\"T_1bc31502_955b_11ea_8d1c_98e0d99a8cd3row4_col6\" class=\"data row4 col6\" >0.067062</td>\n                        <td id=\"T_1bc31502_955b_11ea_8d1c_98e0d99a8cd3row4_col7\" class=\"data row4 col7\" >0.090646</td>\n                        <td id=\"T_1bc31502_955b_11ea_8d1c_98e0d99a8cd3row4_col8\" class=\"data row4 col8\" >0.016367</td>\n                        <td id=\"T_1bc31502_955b_11ea_8d1c_98e0d99a8cd3row4_col9\" class=\"data row4 col9\" >0.064207</td>\n            </tr>\n            <tr>\n                        <th id=\"T_1bc31502_955b_11ea_8d1c_98e0d99a8cd3level0_row5\" class=\"row_heading level0 row5\" >5</th>\n                        <td id=\"T_1bc31502_955b_11ea_8d1c_98e0d99a8cd3row5_col0\" class=\"data row5 col0\" >Lasso</td>\n                        <td id=\"T_1bc31502_955b_11ea_8d1c_98e0d99a8cd3row5_col1\" class=\"data row5 col1\" >RandomizedSearch</td>\n                        <td id=\"T_1bc31502_955b_11ea_8d1c_98e0d99a8cd3row5_col2\" class=\"data row5 col2\" >0.434693</td>\n                        <td id=\"T_1bc31502_955b_11ea_8d1c_98e0d99a8cd3row5_col3\" class=\"data row5 col3\" >0.002567</td>\n                        <td id=\"T_1bc31502_955b_11ea_8d1c_98e0d99a8cd3row5_col4\" class=\"data row5 col4\" >0.096900</td>\n                        <td id=\"T_1bc31502_955b_11ea_8d1c_98e0d99a8cd3row5_col5\" class=\"data row5 col5\" >0.018987</td>\n                        <td id=\"T_1bc31502_955b_11ea_8d1c_98e0d99a8cd3row5_col6\" class=\"data row5 col6\" >0.067062</td>\n                        <td id=\"T_1bc31502_955b_11ea_8d1c_98e0d99a8cd3row5_col7\" class=\"data row5 col7\" >0.090646</td>\n                        <td id=\"T_1bc31502_955b_11ea_8d1c_98e0d99a8cd3row5_col8\" class=\"data row5 col8\" >0.016367</td>\n                        <td id=\"T_1bc31502_955b_11ea_8d1c_98e0d99a8cd3row5_col9\" class=\"data row5 col9\" >0.064207</td>\n            </tr>\n            <tr>\n                        <th id=\"T_1bc31502_955b_11ea_8d1c_98e0d99a8cd3level0_row6\" class=\"row_heading level0 row6\" >6</th>\n                        <td id=\"T_1bc31502_955b_11ea_8d1c_98e0d99a8cd3row6_col0\" class=\"data row6 col0\" >RandomForestRegressor</td>\n                        <td id=\"T_1bc31502_955b_11ea_8d1c_98e0d99a8cd3row6_col1\" class=\"data row6 col1\" >GridSearch</td>\n                        <td id=\"T_1bc31502_955b_11ea_8d1c_98e0d99a8cd3row6_col2\" class=\"data row6 col2\" >1.188854</td>\n                        <td id=\"T_1bc31502_955b_11ea_8d1c_98e0d99a8cd3row6_col3\" class=\"data row6 col3\" >0.002282</td>\n                        <td id=\"T_1bc31502_955b_11ea_8d1c_98e0d99a8cd3row6_col4\" class=\"data row6 col4\" >0.132482</td>\n                        <td id=\"T_1bc31502_955b_11ea_8d1c_98e0d99a8cd3row6_col5\" class=\"data row6 col5\" >0.033119</td>\n                        <td id=\"T_1bc31502_955b_11ea_8d1c_98e0d99a8cd3row6_col6\" class=\"data row6 col6\" >0.096646</td>\n                        <td id=\"T_1bc31502_955b_11ea_8d1c_98e0d99a8cd3row6_col7\" class=\"data row6 col7\" >0.130052</td>\n                        <td id=\"T_1bc31502_955b_11ea_8d1c_98e0d99a8cd3row6_col8\" class=\"data row6 col8\" >0.031657</td>\n                        <td id=\"T_1bc31502_955b_11ea_8d1c_98e0d99a8cd3row6_col9\" class=\"data row6 col9\" >0.098692</td>\n            </tr>\n            <tr>\n                        <th id=\"T_1bc31502_955b_11ea_8d1c_98e0d99a8cd3level0_row7\" class=\"row_heading level0 row7\" >7</th>\n                        <td id=\"T_1bc31502_955b_11ea_8d1c_98e0d99a8cd3row7_col0\" class=\"data row7 col0\" >RandomForestRegressor</td>\n                        <td id=\"T_1bc31502_955b_11ea_8d1c_98e0d99a8cd3row7_col1\" class=\"data row7 col1\" >RandomizedSearch</td>\n                        <td id=\"T_1bc31502_955b_11ea_8d1c_98e0d99a8cd3row7_col2\" class=\"data row7 col2\" >3.049118</td>\n                        <td id=\"T_1bc31502_955b_11ea_8d1c_98e0d99a8cd3row7_col3\" class=\"data row7 col3\" >0.010365</td>\n                        <td id=\"T_1bc31502_955b_11ea_8d1c_98e0d99a8cd3row7_col4\" class=\"data row7 col4\" >0.178486</td>\n                        <td id=\"T_1bc31502_955b_11ea_8d1c_98e0d99a8cd3row7_col5\" class=\"data row7 col5\" >0.054334</td>\n                        <td id=\"T_1bc31502_955b_11ea_8d1c_98e0d99a8cd3row7_col6\" class=\"data row7 col6\" >0.152387</td>\n                        <td id=\"T_1bc31502_955b_11ea_8d1c_98e0d99a8cd3row7_col7\" class=\"data row7 col7\" >0.178423</td>\n                        <td id=\"T_1bc31502_955b_11ea_8d1c_98e0d99a8cd3row7_col8\" class=\"data row7 col8\" >0.054246</td>\n                        <td id=\"T_1bc31502_955b_11ea_8d1c_98e0d99a8cd3row7_col9\" class=\"data row7 col9\" >0.154658</td>\n            </tr>\n            <tr>\n                        <th id=\"T_1bc31502_955b_11ea_8d1c_98e0d99a8cd3level0_row8\" class=\"row_heading level0 row8\" >8</th>\n                        <td id=\"T_1bc31502_955b_11ea_8d1c_98e0d99a8cd3row8_col0\" class=\"data row8 col0\" >GradientBoostingRegressor</td>\n                        <td id=\"T_1bc31502_955b_11ea_8d1c_98e0d99a8cd3row8_col1\" class=\"data row8 col1\" >GridSearch</td>\n                        <td id=\"T_1bc31502_955b_11ea_8d1c_98e0d99a8cd3row8_col2\" class=\"data row8 col2\" >1770.405610</td>\n                        <td id=\"T_1bc31502_955b_11ea_8d1c_98e0d99a8cd3row8_col3\" class=\"data row8 col3\" >0.010598</td>\n                        <td id=\"T_1bc31502_955b_11ea_8d1c_98e0d99a8cd3row8_col4\" class=\"data row8 col4\" >0.091954</td>\n                        <td id=\"T_1bc31502_955b_11ea_8d1c_98e0d99a8cd3row8_col5\" class=\"data row8 col5\" >0.019429</td>\n                        <td id=\"T_1bc31502_955b_11ea_8d1c_98e0d99a8cd3row8_col6\" class=\"data row8 col6\" >0.055680</td>\n                        <td id=\"T_1bc31502_955b_11ea_8d1c_98e0d99a8cd3row8_col7\" class=\"data row8 col7\" >0.063678</td>\n                        <td id=\"T_1bc31502_955b_11ea_8d1c_98e0d99a8cd3row8_col8\" class=\"data row8 col8\" >0.009732</td>\n                        <td id=\"T_1bc31502_955b_11ea_8d1c_98e0d99a8cd3row8_col9\" class=\"data row8 col9\" >0.040165</td>\n            </tr>\n            <tr>\n                        <th id=\"T_1bc31502_955b_11ea_8d1c_98e0d99a8cd3level0_row9\" class=\"row_heading level0 row9\" >9</th>\n                        <td id=\"T_1bc31502_955b_11ea_8d1c_98e0d99a8cd3row9_col0\" class=\"data row9 col0\" >GradientBoostingRegressor</td>\n                        <td id=\"T_1bc31502_955b_11ea_8d1c_98e0d99a8cd3row9_col1\" class=\"data row9 col1\" >RandomizedSearch</td>\n                        <td id=\"T_1bc31502_955b_11ea_8d1c_98e0d99a8cd3row9_col2\" class=\"data row9 col2\" >471.260393</td>\n                        <td id=\"T_1bc31502_955b_11ea_8d1c_98e0d99a8cd3row9_col3\" class=\"data row9 col3\" >0.003942</td>\n                        <td id=\"T_1bc31502_955b_11ea_8d1c_98e0d99a8cd3row9_col4\" class=\"data row9 col4\" >0.091045</td>\n                        <td id=\"T_1bc31502_955b_11ea_8d1c_98e0d99a8cd3row9_col5\" class=\"data row9 col5\" >0.019583</td>\n                        <td id=\"T_1bc31502_955b_11ea_8d1c_98e0d99a8cd3row9_col6\" class=\"data row9 col6\" >0.053795</td>\n                        <td id=\"T_1bc31502_955b_11ea_8d1c_98e0d99a8cd3row9_col7\" class=\"data row9 col7\" >0.065742</td>\n                        <td id=\"T_1bc31502_955b_11ea_8d1c_98e0d99a8cd3row9_col8\" class=\"data row9 col8\" >0.011594</td>\n                        <td id=\"T_1bc31502_955b_11ea_8d1c_98e0d99a8cd3row9_col9\" class=\"data row9 col9\" >0.036611</td>\n            </tr>\n    </tbody></table>"
     },
     "metadata": {},
     "execution_count": 18
    }
   ],
   "source": [
    "communities_df_abs = pd.concat([communities_df.iloc[:,:2], communities_df.iloc[:,2:].abs()], axis=1, sort=False)\n",
    "communities_df_abs.style.highlight_max(color='red').highlight_min(color='green')"
   ]
  },
  {
   "cell_type": "markdown",
   "metadata": {},
   "source": [
    "## Randarea fisierului html"
   ]
  },
  {
   "cell_type": "code",
   "execution_count": 20,
   "metadata": {},
   "outputs": [],
   "source": [
    "communities_html = communities_df.style.render()\n",
    "communities_abs_html = communities_df_abs.style.highlight_max(color='red').highlight_min(color='green').render()\n",
    "\n",
    "text_file = open('../html_files/Communities.html', 'w')\n",
    "text_file.write('<br>')\n",
    "text_file.write('<h1><center> Dataset: Communities and Crime <center></h1>')\n",
    "text_file.write('<br><br>')\n",
    "text_file.write(communities_html)\n",
    "text_file.write('<br><br><br>')\n",
    "text_file.write(communities_abs_html)\n",
    "text_file.close()"
   ]
  }
 ],
 "metadata": {
  "language_info": {
   "codemirror_mode": {
    "name": "ipython",
    "version": 3
   },
   "file_extension": ".py",
   "mimetype": "text/x-python",
   "name": "python",
   "nbconvert_exporter": "python",
   "pygments_lexer": "ipython3",
   "version": "3.7.7-final"
  },
  "orig_nbformat": 2,
  "kernelspec": {
   "name": "python3",
   "display_name": "Python 3"
  }
 },
 "nbformat": 4,
 "nbformat_minor": 2
}