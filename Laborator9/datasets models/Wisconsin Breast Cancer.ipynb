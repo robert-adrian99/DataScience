{
 "cells": [
  {
   "cell_type": "markdown",
   "metadata": {},
   "source": [
    "# Bucur Robert - Adrian\n",
    "# Bogdan Gheorghe - Nicolae\n",
    "## Grupa 10LF381"
   ]
  },
  {
   "cell_type": "markdown",
   "metadata": {},
   "source": [
    "# Laborator 9\n",
    "## Modele de regresie"
   ]
  },
  {
   "cell_type": "markdown",
   "metadata": {},
   "source": [
    "# Setul de date Wisconsin Breast Cancer"
   ]
  },
  {
   "cell_type": "code",
   "execution_count": 1,
   "metadata": {},
   "outputs": [],
   "source": [
    "import numpy as np\n",
    "import pandas as pd\n",
    "\n",
    "from sklearn.model_selection import GridSearchCV\n",
    "from sklearn.model_selection import RandomizedSearchCV\n",
    "from sklearn.model_selection import cross_validate, cross_val_score\n",
    "\n",
    "from sklearn.metrics        import mean_absolute_error, mean_squared_error, median_absolute_error\n",
    "\n",
    "from sklearn.tree           import DecisionTreeRegressor\n",
    "from sklearn.linear_model   import LinearRegression\n",
    "from sklearn.linear_model   import Lasso\n",
    "from sklearn.ensemble       import RandomForestRegressor\n",
    "from sklearn.ensemble       import GradientBoostingRegressor"
   ]
  },
  {
   "cell_type": "markdown",
   "metadata": {},
   "source": [
    "## Definirea listelor hiperparametrilor"
   ]
  },
  {
   "cell_type": "code",
   "execution_count": 2,
   "metadata": {},
   "outputs": [],
   "source": [
    "parameters_dtr = {'criterion': ['mse', 'friedman_mse', 'mae'], 'max_depth': [0.1, 0.2, 0.3, 0.4, 0.5, 0.6, 0.7, 0.8, 0.9, 1.0]}\n",
    "dtr = DecisionTreeRegressor()\n",
    "\n",
    "parameters_linear = {'normalize': [True, False], 'fit_intercept': [True, False]}\n",
    "linear = LinearRegression()\n",
    "\n",
    "parameters_gbr = {'loss': ['ls', 'lad', 'huber', 'quantile'], 'criterion': ['mse', 'friedman_mse', 'mae'], 'random_state': [0, None]}\n",
    "gbr = GradientBoostingRegressor()\n",
    "\n",
    "parameters_rfr = {'criterion': ['mse', 'mae'], 'max_depth': [0.1, 0.2, 0.3, 0.4, 0.5, 0.6, 0.7, 0.8, 0.9, 1.0], 'random_state': [0, None]}\n",
    "rfr = RandomForestRegressor()\n",
    "\n",
    "parameters_lasso = {'alpha': [0.0, 1.0, 2.0], 'random_state': [0, None], 'normalize': [True, False]}\n",
    "lasso = Lasso()"
   ]
  },
  {
   "cell_type": "markdown",
   "metadata": {},
   "source": [
    "## Incarcarea datelor"
   ]
  },
  {
   "cell_type": "code",
   "execution_count": 3,
   "metadata": {},
   "outputs": [
    {
     "output_type": "stream",
     "name": "stdout",
     "text": "Wisconsin shape: (194, 33) \n\n"
    },
    {
     "output_type": "execute_result",
     "data": {
      "text/plain": "   Lymph_node  radius_mean  texture_mean  perimeter_mean  area_mean  \\\n0           5        18.02         27.60          117.50     1013.0   \n1           2        17.99         10.38          122.80     1001.0   \n2           0        21.37         17.44          137.50     1373.0   \n3           0        11.42         20.38           77.58      386.1   \n4           0        20.29         14.34          135.10     1297.0   \n\n   smoothness_mean  compactness_mean  concavity_mean  concave_points_mean  \\\n0          0.09489            0.1036          0.1086              0.07055   \n1          0.11840            0.2776          0.3001              0.14710   \n2          0.08836            0.1189          0.1255              0.08180   \n3          0.14250            0.2839          0.2414              0.10520   \n4          0.10030            0.1328        198.0000              0.10430   \n\n   symmetry_mean  ...  perimeter_worst  area_worst  smoothness_worst  \\\n0         0.1865  ...           139.70      1436.0            0.1195   \n1         0.2419  ...           184.60      2019.0            0.1622   \n2         0.2333  ...           159.10      1949.0            0.1188   \n3         0.2597  ...            98.87       567.7            0.2098   \n4         0.1809  ...           152.20      1575.0            0.1374   \n\n   compactness_worst  concavity_worst  concave_points_worst  symmetry_worst  \\\n0             0.1926         314.0000              117.0000          0.2677   \n1             0.6656           0.7119                0.2654          0.4601   \n2             0.3449           0.3414                0.2032          0.4334   \n3             0.8663           0.6869                0.2575          0.6638   \n4           205.0000           0.4000                0.1625          0.2364   \n\n   fractal_dimension_worst  Tumor_size  Time  \n0                  0.08113         5.0    31  \n1                  0.11890         3.0    61  \n2                  0.09067         2.5   116  \n3                173.00000         2.0   123  \n4                  0.07678         3.5    27  \n\n[5 rows x 33 columns]",
      "text/html": "<div>\n<style scoped>\n    .dataframe tbody tr th:only-of-type {\n        vertical-align: middle;\n    }\n\n    .dataframe tbody tr th {\n        vertical-align: top;\n    }\n\n    .dataframe thead th {\n        text-align: right;\n    }\n</style>\n<table border=\"1\" class=\"dataframe\">\n  <thead>\n    <tr style=\"text-align: right;\">\n      <th></th>\n      <th>Lymph_node</th>\n      <th>radius_mean</th>\n      <th>texture_mean</th>\n      <th>perimeter_mean</th>\n      <th>area_mean</th>\n      <th>smoothness_mean</th>\n      <th>compactness_mean</th>\n      <th>concavity_mean</th>\n      <th>concave_points_mean</th>\n      <th>symmetry_mean</th>\n      <th>...</th>\n      <th>perimeter_worst</th>\n      <th>area_worst</th>\n      <th>smoothness_worst</th>\n      <th>compactness_worst</th>\n      <th>concavity_worst</th>\n      <th>concave_points_worst</th>\n      <th>symmetry_worst</th>\n      <th>fractal_dimension_worst</th>\n      <th>Tumor_size</th>\n      <th>Time</th>\n    </tr>\n  </thead>\n  <tbody>\n    <tr>\n      <th>0</th>\n      <td>5</td>\n      <td>18.02</td>\n      <td>27.60</td>\n      <td>117.50</td>\n      <td>1013.0</td>\n      <td>0.09489</td>\n      <td>0.1036</td>\n      <td>0.1086</td>\n      <td>0.07055</td>\n      <td>0.1865</td>\n      <td>...</td>\n      <td>139.70</td>\n      <td>1436.0</td>\n      <td>0.1195</td>\n      <td>0.1926</td>\n      <td>314.0000</td>\n      <td>117.0000</td>\n      <td>0.2677</td>\n      <td>0.08113</td>\n      <td>5.0</td>\n      <td>31</td>\n    </tr>\n    <tr>\n      <th>1</th>\n      <td>2</td>\n      <td>17.99</td>\n      <td>10.38</td>\n      <td>122.80</td>\n      <td>1001.0</td>\n      <td>0.11840</td>\n      <td>0.2776</td>\n      <td>0.3001</td>\n      <td>0.14710</td>\n      <td>0.2419</td>\n      <td>...</td>\n      <td>184.60</td>\n      <td>2019.0</td>\n      <td>0.1622</td>\n      <td>0.6656</td>\n      <td>0.7119</td>\n      <td>0.2654</td>\n      <td>0.4601</td>\n      <td>0.11890</td>\n      <td>3.0</td>\n      <td>61</td>\n    </tr>\n    <tr>\n      <th>2</th>\n      <td>0</td>\n      <td>21.37</td>\n      <td>17.44</td>\n      <td>137.50</td>\n      <td>1373.0</td>\n      <td>0.08836</td>\n      <td>0.1189</td>\n      <td>0.1255</td>\n      <td>0.08180</td>\n      <td>0.2333</td>\n      <td>...</td>\n      <td>159.10</td>\n      <td>1949.0</td>\n      <td>0.1188</td>\n      <td>0.3449</td>\n      <td>0.3414</td>\n      <td>0.2032</td>\n      <td>0.4334</td>\n      <td>0.09067</td>\n      <td>2.5</td>\n      <td>116</td>\n    </tr>\n    <tr>\n      <th>3</th>\n      <td>0</td>\n      <td>11.42</td>\n      <td>20.38</td>\n      <td>77.58</td>\n      <td>386.1</td>\n      <td>0.14250</td>\n      <td>0.2839</td>\n      <td>0.2414</td>\n      <td>0.10520</td>\n      <td>0.2597</td>\n      <td>...</td>\n      <td>98.87</td>\n      <td>567.7</td>\n      <td>0.2098</td>\n      <td>0.8663</td>\n      <td>0.6869</td>\n      <td>0.2575</td>\n      <td>0.6638</td>\n      <td>173.00000</td>\n      <td>2.0</td>\n      <td>123</td>\n    </tr>\n    <tr>\n      <th>4</th>\n      <td>0</td>\n      <td>20.29</td>\n      <td>14.34</td>\n      <td>135.10</td>\n      <td>1297.0</td>\n      <td>0.10030</td>\n      <td>0.1328</td>\n      <td>198.0000</td>\n      <td>0.10430</td>\n      <td>0.1809</td>\n      <td>...</td>\n      <td>152.20</td>\n      <td>1575.0</td>\n      <td>0.1374</td>\n      <td>205.0000</td>\n      <td>0.4000</td>\n      <td>0.1625</td>\n      <td>0.2364</td>\n      <td>0.07678</td>\n      <td>3.5</td>\n      <td>27</td>\n    </tr>\n  </tbody>\n</table>\n<p>5 rows × 33 columns</p>\n</div>"
     },
     "metadata": {},
     "execution_count": 3
    }
   ],
   "source": [
    "wisconsin = pd.read_csv('../data/wisconsin/r_wpbc.csv', sep=';')\n",
    "print('Wisconsin shape:', wisconsin.shape, '\\n')\n",
    "\n",
    "X_wisconsin = wisconsin.iloc[:, :-1]\n",
    "y_wisconsin = wisconsin.iloc[:, -1]\n",
    "\n",
    "wisconsin.head()"
   ]
  },
  {
   "cell_type": "code",
   "execution_count": 4,
   "metadata": {},
   "outputs": [],
   "source": [
    "wisconsin_df = pd.DataFrame()"
   ]
  },
  {
   "cell_type": "markdown",
   "metadata": {},
   "source": [
    "## Primul model DecisionTreeRegressor"
   ]
  },
  {
   "cell_type": "code",
   "execution_count": 5,
   "metadata": {},
   "outputs": [],
   "source": [
    "grid_search_dtr_wisconsin = GridSearchCV(estimator=dtr, param_grid=parameters_dtr, scoring='neg_mean_squared_error', cv=3)\n",
    "grid_scores_dtr_wisconsin = cross_validate(estimator=grid_search_dtr_wisconsin, scoring=('neg_mean_absolute_error', 'neg_mean_squared_error', 'neg_median_absolute_error'), X=X_wisconsin, y=y_wisconsin, cv=5, return_train_score=True)\n",
    "\n",
    "df_grid_wisconsin = pd.DataFrame(grid_scores_dtr_wisconsin)\n",
    "df_grid_wisconsin = df_grid_wisconsin.mean()\n",
    "df_grid_wisconsin['Model_name'] = 'DecisionTreeRegressor'\n",
    "df_grid_wisconsin['Search_strategy'] = 'GridSearch'\n",
    "\n",
    "df_grid_wisconsin = pd.Series(df_grid_wisconsin)\n",
    "wisconsin_df = wisconsin_df.append(df_grid_wisconsin, ignore_index=True)"
   ]
  },
  {
   "cell_type": "code",
   "execution_count": 6,
   "metadata": {},
   "outputs": [],
   "source": [
    "randomized_search_dtr_wisconsin = RandomizedSearchCV(estimator=dtr, param_distributions=parameters_dtr, random_state=0, scoring='neg_mean_squared_error', n_iter=5)\n",
    "randomized_scores_dtr_wisconsin = cross_validate(estimator=randomized_search_dtr_wisconsin, scoring=('neg_mean_absolute_error', 'neg_mean_squared_error', 'neg_median_absolute_error'), X=X_wisconsin, y=y_wisconsin, cv=3, return_train_score=True)\n",
    "\n",
    "df_random_wisconsin = pd.DataFrame(randomized_scores_dtr_wisconsin)\n",
    "df_random_wisconsin = df_random_wisconsin.mean()\n",
    "df_random_wisconsin['Model_name'] = 'DecisionTreeRegressor'\n",
    "df_random_wisconsin['Search_strategy'] = 'RandomizedSearch'\n",
    "\n",
    "df_random_wisconsin = pd.Series(df_random_wisconsin)\n",
    "wisconsin_df = wisconsin_df.append(df_random_wisconsin, ignore_index=True)"
   ]
  },
  {
   "cell_type": "markdown",
   "metadata": {},
   "source": [
    "## Al doilea model LinearRegression"
   ]
  },
  {
   "cell_type": "code",
   "execution_count": 7,
   "metadata": {},
   "outputs": [],
   "source": [
    "grid_search_linear_wisconsin = GridSearchCV(estimator=linear, param_grid=parameters_linear, scoring='neg_mean_squared_error', cv=3)\n",
    "grid_scores_linear_wisconsin = cross_validate(estimator=grid_search_linear_wisconsin, scoring=('neg_mean_absolute_error', 'neg_mean_squared_error', 'neg_median_absolute_error'), X=X_wisconsin, y=y_wisconsin, cv=5, return_train_score=True)\n",
    "\n",
    "df_grid_wisconsin_linear = pd.DataFrame(grid_scores_linear_wisconsin)\n",
    "df_grid_wisconsin_linear = df_grid_wisconsin_linear.mean()\n",
    "df_grid_wisconsin_linear['Model_name'] = 'LinearRegression'\n",
    "df_grid_wisconsin_linear['Search_strategy'] = 'GridSearch'\n",
    "\n",
    "df_grid_wisconsin_linear = pd.Series(df_grid_wisconsin_linear)\n",
    "wisconsin_df = wisconsin_df.append(df_grid_wisconsin_linear, ignore_index=True)"
   ]
  },
  {
   "cell_type": "code",
   "execution_count": 8,
   "metadata": {},
   "outputs": [],
   "source": [
    "randomized_search_linear_wisconsin = RandomizedSearchCV(estimator=linear, param_distributions=parameters_linear, random_state=0, scoring='neg_mean_squared_error', n_iter=5)\n",
    "randomized_scores_linear_wisconsin = cross_validate(estimator=randomized_search_linear_wisconsin, scoring=('neg_mean_absolute_error', 'neg_mean_squared_error', 'neg_median_absolute_error'), X=X_wisconsin, y=y_wisconsin, cv=3, return_train_score=True)\n",
    "\n",
    "df_random_wisconsin_linear = pd.DataFrame(randomized_scores_linear_wisconsin)\n",
    "df_random_wisconsin_linear = df_random_wisconsin_linear.mean()\n",
    "df_random_wisconsin_linear['Model_name'] = 'LinearRegression'\n",
    "df_random_wisconsin_linear['Search_strategy'] = 'RandomizedSearch'\n",
    "\n",
    "df_random_wisconsin_linear = pd.Series(df_random_wisconsin_linear)\n",
    "wisconsin_df = wisconsin_df.append(df_random_wisconsin_linear, ignore_index=True)"
   ]
  },
  {
   "cell_type": "markdown",
   "metadata": {},
   "source": [
    "## Al treilea model Lasso"
   ]
  },
  {
   "cell_type": "code",
   "execution_count": 9,
   "metadata": {},
   "outputs": [],
   "source": [
    "grid_search_lasso_wisconsin = GridSearchCV(estimator=lasso, param_grid=parameters_lasso, scoring='neg_mean_squared_error', cv=3)\n",
    "grid_scores_lasso_wisconsin = cross_validate(estimator=grid_search_lasso_wisconsin, scoring=('neg_mean_absolute_error', 'neg_mean_squared_error', 'neg_median_absolute_error'), X=X_wisconsin, y=y_wisconsin, cv=5, return_train_score=True)\n",
    "\n",
    "df_grid_wisconsin_lasso = pd.DataFrame(grid_scores_lasso_wisconsin)\n",
    "df_grid_wisconsin_lasso = df_grid_wisconsin_lasso.mean()\n",
    "df_grid_wisconsin_lasso['Model_name'] = 'Lasso'\n",
    "df_grid_wisconsin_lasso['Search_strategy'] = 'GridSearch'\n",
    "\n",
    "df_grid_wisconsin_lasso = pd.Series(df_grid_wisconsin_lasso)\n",
    "wisconsin_df = wisconsin_df.append(df_grid_wisconsin_lasso, ignore_index=True)"
   ]
  },
  {
   "cell_type": "code",
   "execution_count": 10,
   "metadata": {},
   "outputs": [],
   "source": [
    "randomized_search_lasso_wisconsin = RandomizedSearchCV(estimator=lasso, param_distributions=parameters_lasso, random_state=0, scoring='neg_mean_squared_error', n_iter=5)\n",
    "randomized_scores_lasso_wisconsin = cross_validate(estimator=randomized_search_lasso_wisconsin, scoring=('neg_mean_absolute_error', 'neg_mean_squared_error', 'neg_median_absolute_error'), X=X_wisconsin, y=y_wisconsin, cv=3, return_train_score=True)\n",
    "\n",
    "df_random_wisconsin_lasso = pd.DataFrame(randomized_scores_lasso_wisconsin)\n",
    "df_random_wisconsin_lasso = df_random_wisconsin_lasso.mean()\n",
    "df_random_wisconsin_lasso['Model_name'] = 'Lasso'\n",
    "df_random_wisconsin_lasso['Search_strategy'] = 'RandomizedSearch'\n",
    "\n",
    "df_random_wisconsin_lasso = pd.Series(df_random_wisconsin_lasso)\n",
    "wisconsin_df = wisconsin_df.append(df_random_wisconsin_lasso, ignore_index=True)"
   ]
  },
  {
   "cell_type": "markdown",
   "metadata": {},
   "source": [
    "## Al patrulea model RandomForestRegressor"
   ]
  },
  {
   "cell_type": "code",
   "execution_count": 11,
   "metadata": {},
   "outputs": [],
   "source": [
    "grid_search_rfr_wisconsin = GridSearchCV(estimator=rfr, param_grid=parameters_rfr, scoring='neg_mean_squared_error', cv=3)\n",
    "grid_scores_rfr_wisconsin = cross_validate(estimator=grid_search_rfr_wisconsin, scoring=('neg_mean_absolute_error', 'neg_mean_squared_error', 'neg_median_absolute_error'), X=X_wisconsin, y=y_wisconsin, cv=5, return_train_score=True)\n",
    "\n",
    "df_grid_wisconsin_rfr = pd.DataFrame(grid_scores_rfr_wisconsin)\n",
    "df_grid_wisconsin_rfr = df_grid_wisconsin_rfr.mean()\n",
    "df_grid_wisconsin_rfr['Model_name'] = 'RandomForestRegressor'\n",
    "df_grid_wisconsin_rfr['Search_strategy'] = 'GridSearch'\n",
    "\n",
    "df_grid_wisconsin_rfr = pd.Series(df_grid_wisconsin_rfr)\n",
    "wisconsin_df = wisconsin_df.append(df_grid_wisconsin_rfr, ignore_index=True)"
   ]
  },
  {
   "cell_type": "code",
   "execution_count": 12,
   "metadata": {},
   "outputs": [],
   "source": [
    "randomized_search_rfr_wisconsin = RandomizedSearchCV(estimator=rfr, param_distributions=parameters_rfr, random_state=0, scoring='neg_mean_squared_error', n_iter=5)\n",
    "randomized_scores_rfr_wisconsin = cross_validate(estimator=randomized_search_rfr_wisconsin, scoring=('neg_mean_absolute_error', 'neg_mean_squared_error', 'neg_median_absolute_error'), X=X_wisconsin, y=y_wisconsin, cv=3, return_train_score=True)\n",
    "\n",
    "df_random_wisconsin_rfr = pd.DataFrame(randomized_scores_rfr_wisconsin)\n",
    "df_random_wisconsin_rfr = df_random_wisconsin_rfr.mean()\n",
    "df_random_wisconsin_rfr['Model_name'] = 'RandomForestRegressor'\n",
    "df_random_wisconsin_rfr['Search_strategy'] = 'RandomizedSearch'\n",
    "\n",
    "df_random_wisconsin_rfr = pd.Series(df_random_wisconsin_rfr)\n",
    "wisconsin_df = wisconsin_df.append(df_random_wisconsin_rfr, ignore_index=True)"
   ]
  },
  {
   "cell_type": "markdown",
   "metadata": {},
   "source": [
    "## Al cincilea model GradientBoostingRegressor"
   ]
  },
  {
   "cell_type": "code",
   "execution_count": 13,
   "metadata": {},
   "outputs": [],
   "source": [
    "grid_search_gbr_wisconsin = GridSearchCV(estimator=gbr, param_grid=parameters_gbr, scoring='neg_mean_squared_error', cv=3)\n",
    "grid_scores_gbr_wisconsin = cross_validate(estimator=grid_search_gbr_wisconsin, scoring=('neg_mean_absolute_error', 'neg_mean_squared_error', 'neg_median_absolute_error'), X=X_wisconsin, y=y_wisconsin, cv=5, return_train_score=True)\n",
    "\n",
    "df_grid_wisconsin_gbr = pd.DataFrame(grid_scores_gbr_wisconsin)\n",
    "df_grid_wisconsin_gbr = df_grid_wisconsin_gbr.mean()\n",
    "df_grid_wisconsin_gbr['Model_name'] = 'GradientBoostingRegressor'\n",
    "df_grid_wisconsin_gbr['Search_strategy'] = 'GridSearch'\n",
    "\n",
    "df_grid_wisconsin_gbr = pd.Series(df_grid_wisconsin_gbr)\n",
    "wisconsin_df = wisconsin_df.append(df_grid_wisconsin_gbr, ignore_index=True)"
   ]
  },
  {
   "cell_type": "code",
   "execution_count": 14,
   "metadata": {},
   "outputs": [],
   "source": [
    "randomized_search_gbr_wisconsin = RandomizedSearchCV(estimator=gbr, param_distributions=parameters_gbr, random_state=0, scoring='neg_mean_squared_error', n_iter=5)\n",
    "randomized_scores_gbr_wisconsin = cross_validate(estimator=randomized_search_gbr_wisconsin, scoring=('neg_mean_absolute_error', 'neg_mean_squared_error', 'neg_median_absolute_error'), X=X_wisconsin, y=y_wisconsin, cv=3, return_train_score=True)\n",
    "\n",
    "df_random_wisconsin_gbr = pd.DataFrame(randomized_scores_gbr_wisconsin)\n",
    "df_random_wisconsin_gbr = df_random_wisconsin_gbr.mean()\n",
    "df_random_wisconsin_gbr['Model_name'] = 'GradientBoostingRegressor'\n",
    "df_random_wisconsin_gbr['Search_strategy'] = 'RandomizedSearch'\n",
    "\n",
    "df_random_wisconsin_gbr = pd.Series(df_random_wisconsin_gbr)\n",
    "wisconsin_df = wisconsin_df.append(df_random_wisconsin_gbr, ignore_index=True)"
   ]
  },
  {
   "cell_type": "markdown",
   "metadata": {},
   "source": [
    "## Raportul negativ"
   ]
  },
  {
   "cell_type": "code",
   "execution_count": 15,
   "metadata": {},
   "outputs": [
    {
     "output_type": "execute_result",
     "data": {
      "text/plain": "                  Model_name   Search_strategy   fit_time  score_time  \\\n0      DecisionTreeRegressor        GridSearch   0.414772    0.001799   \n1      DecisionTreeRegressor  RandomizedSearch   0.126651    0.001836   \n2           LinearRegression        GridSearch   0.071603    0.001985   \n3           LinearRegression  RandomizedSearch   0.116714    0.002057   \n4                      Lasso        GridSearch   0.280175    0.002039   \n5                      Lasso  RandomizedSearch   0.200263    0.001797   \n6      RandomForestRegressor        GridSearch  24.748550    0.018447   \n7      RandomForestRegressor  RandomizedSearch   4.717218    0.011720   \n8  GradientBoostingRegressor        GridSearch  26.963639    0.002310   \n9  GradientBoostingRegressor  RandomizedSearch  11.288010    0.002216   \n\n   test_neg_mean_absolute_error  test_neg_mean_squared_error  \\\n0                    -31.633935                -1.391857e+03   \n1                    -33.925030                -1.599853e+03   \n2                    -59.975895                -1.472759e+05   \n3                   -118.992298                -1.400914e+06   \n4                    -32.429568                -1.469511e+03   \n5                    -33.582725                -1.577456e+03   \n6                    -30.932559                -1.354933e+03   \n7                    -33.761873                -1.589802e+03   \n8                    -32.647788                -1.517805e+03   \n9                    -33.034876                -1.532466e+03   \n\n   test_neg_median_absolute_error  train_neg_mean_absolute_error  \\\n0                      -29.892035                     -28.656979   \n1                      -34.538322                     -28.136131   \n2                      -28.490236                     -22.510146   \n3                      -30.984780                     -21.127346   \n4                      -31.112005                     -26.630068   \n5                      -34.106320                     -27.677067   \n6                      -28.508371                     -27.232197   \n7                      -34.546226                     -28.110169   \n8                      -29.799614                      -8.469232   \n9                      -29.641424                      -8.156620   \n\n   train_neg_mean_squared_error  train_neg_median_absolute_error  \n0                  -1126.653513                       -27.734781  \n1                  -1102.523880                       -27.515504  \n2                   -766.254162                       -19.428278  \n3                   -697.115261                       -18.575684  \n4                   -997.889536                       -24.971286  \n5                  -1061.244015                       -26.931445  \n6                  -1021.448593                       -25.964868  \n7                  -1102.778041                       -27.280594  \n8                   -182.330556                        -5.297181  \n9                   -189.374859                        -3.129049  ",
      "text/html": "<div>\n<style scoped>\n    .dataframe tbody tr th:only-of-type {\n        vertical-align: middle;\n    }\n\n    .dataframe tbody tr th {\n        vertical-align: top;\n    }\n\n    .dataframe thead th {\n        text-align: right;\n    }\n</style>\n<table border=\"1\" class=\"dataframe\">\n  <thead>\n    <tr style=\"text-align: right;\">\n      <th></th>\n      <th>Model_name</th>\n      <th>Search_strategy</th>\n      <th>fit_time</th>\n      <th>score_time</th>\n      <th>test_neg_mean_absolute_error</th>\n      <th>test_neg_mean_squared_error</th>\n      <th>test_neg_median_absolute_error</th>\n      <th>train_neg_mean_absolute_error</th>\n      <th>train_neg_mean_squared_error</th>\n      <th>train_neg_median_absolute_error</th>\n    </tr>\n  </thead>\n  <tbody>\n    <tr>\n      <th>0</th>\n      <td>DecisionTreeRegressor</td>\n      <td>GridSearch</td>\n      <td>0.414772</td>\n      <td>0.001799</td>\n      <td>-31.633935</td>\n      <td>-1.391857e+03</td>\n      <td>-29.892035</td>\n      <td>-28.656979</td>\n      <td>-1126.653513</td>\n      <td>-27.734781</td>\n    </tr>\n    <tr>\n      <th>1</th>\n      <td>DecisionTreeRegressor</td>\n      <td>RandomizedSearch</td>\n      <td>0.126651</td>\n      <td>0.001836</td>\n      <td>-33.925030</td>\n      <td>-1.599853e+03</td>\n      <td>-34.538322</td>\n      <td>-28.136131</td>\n      <td>-1102.523880</td>\n      <td>-27.515504</td>\n    </tr>\n    <tr>\n      <th>2</th>\n      <td>LinearRegression</td>\n      <td>GridSearch</td>\n      <td>0.071603</td>\n      <td>0.001985</td>\n      <td>-59.975895</td>\n      <td>-1.472759e+05</td>\n      <td>-28.490236</td>\n      <td>-22.510146</td>\n      <td>-766.254162</td>\n      <td>-19.428278</td>\n    </tr>\n    <tr>\n      <th>3</th>\n      <td>LinearRegression</td>\n      <td>RandomizedSearch</td>\n      <td>0.116714</td>\n      <td>0.002057</td>\n      <td>-118.992298</td>\n      <td>-1.400914e+06</td>\n      <td>-30.984780</td>\n      <td>-21.127346</td>\n      <td>-697.115261</td>\n      <td>-18.575684</td>\n    </tr>\n    <tr>\n      <th>4</th>\n      <td>Lasso</td>\n      <td>GridSearch</td>\n      <td>0.280175</td>\n      <td>0.002039</td>\n      <td>-32.429568</td>\n      <td>-1.469511e+03</td>\n      <td>-31.112005</td>\n      <td>-26.630068</td>\n      <td>-997.889536</td>\n      <td>-24.971286</td>\n    </tr>\n    <tr>\n      <th>5</th>\n      <td>Lasso</td>\n      <td>RandomizedSearch</td>\n      <td>0.200263</td>\n      <td>0.001797</td>\n      <td>-33.582725</td>\n      <td>-1.577456e+03</td>\n      <td>-34.106320</td>\n      <td>-27.677067</td>\n      <td>-1061.244015</td>\n      <td>-26.931445</td>\n    </tr>\n    <tr>\n      <th>6</th>\n      <td>RandomForestRegressor</td>\n      <td>GridSearch</td>\n      <td>24.748550</td>\n      <td>0.018447</td>\n      <td>-30.932559</td>\n      <td>-1.354933e+03</td>\n      <td>-28.508371</td>\n      <td>-27.232197</td>\n      <td>-1021.448593</td>\n      <td>-25.964868</td>\n    </tr>\n    <tr>\n      <th>7</th>\n      <td>RandomForestRegressor</td>\n      <td>RandomizedSearch</td>\n      <td>4.717218</td>\n      <td>0.011720</td>\n      <td>-33.761873</td>\n      <td>-1.589802e+03</td>\n      <td>-34.546226</td>\n      <td>-28.110169</td>\n      <td>-1102.778041</td>\n      <td>-27.280594</td>\n    </tr>\n    <tr>\n      <th>8</th>\n      <td>GradientBoostingRegressor</td>\n      <td>GridSearch</td>\n      <td>26.963639</td>\n      <td>0.002310</td>\n      <td>-32.647788</td>\n      <td>-1.517805e+03</td>\n      <td>-29.799614</td>\n      <td>-8.469232</td>\n      <td>-182.330556</td>\n      <td>-5.297181</td>\n    </tr>\n    <tr>\n      <th>9</th>\n      <td>GradientBoostingRegressor</td>\n      <td>RandomizedSearch</td>\n      <td>11.288010</td>\n      <td>0.002216</td>\n      <td>-33.034876</td>\n      <td>-1.532466e+03</td>\n      <td>-29.641424</td>\n      <td>-8.156620</td>\n      <td>-189.374859</td>\n      <td>-3.129049</td>\n    </tr>\n  </tbody>\n</table>\n</div>"
     },
     "metadata": {},
     "execution_count": 15
    }
   ],
   "source": [
    "wisconsin_df"
   ]
  },
  {
   "cell_type": "markdown",
   "metadata": {},
   "source": [
    "## Raportul pozitiv"
   ]
  },
  {
   "cell_type": "code",
   "execution_count": 16,
   "metadata": {},
   "outputs": [],
   "source": [
    "def highlight_max(df):\n",
    "    is_max = df == df.max()\n",
    "    return ['background-color: red' if value else '' for value in is_max]"
   ]
  },
  {
   "cell_type": "code",
   "execution_count": 17,
   "metadata": {},
   "outputs": [],
   "source": [
    "def highlight_min(df):\n",
    "    is_min = df == df.min()\n",
    "    return ['background-color: green' if value else '' for value in is_min]"
   ]
  },
  {
   "cell_type": "code",
   "execution_count": 18,
   "metadata": {},
   "outputs": [
    {
     "output_type": "execute_result",
     "data": {
      "text/plain": "<pandas.io.formats.style.Styler at 0x1a1f6e5790>",
      "text/html": "<style  type=\"text/css\" >\n    #T_caeae7f0_9540_11ea_9dc8_98e0d99a8cd3row0_col7 {\n            background-color:  red;\n            : ;\n        }    #T_caeae7f0_9540_11ea_9dc8_98e0d99a8cd3row0_col8 {\n            background-color:  red;\n            : ;\n        }    #T_caeae7f0_9540_11ea_9dc8_98e0d99a8cd3row0_col9 {\n            background-color:  red;\n            : ;\n        }    #T_caeae7f0_9540_11ea_9dc8_98e0d99a8cd3row2_col2 {\n            : ;\n            background-color:  green;\n        }    #T_caeae7f0_9540_11ea_9dc8_98e0d99a8cd3row2_col6 {\n            : ;\n            background-color:  green;\n        }    #T_caeae7f0_9540_11ea_9dc8_98e0d99a8cd3row3_col4 {\n            background-color:  red;\n            : ;\n        }    #T_caeae7f0_9540_11ea_9dc8_98e0d99a8cd3row3_col5 {\n            background-color:  red;\n            : ;\n        }    #T_caeae7f0_9540_11ea_9dc8_98e0d99a8cd3row5_col3 {\n            : ;\n            background-color:  green;\n        }    #T_caeae7f0_9540_11ea_9dc8_98e0d99a8cd3row6_col3 {\n            background-color:  red;\n            : ;\n        }    #T_caeae7f0_9540_11ea_9dc8_98e0d99a8cd3row6_col4 {\n            : ;\n            background-color:  green;\n        }    #T_caeae7f0_9540_11ea_9dc8_98e0d99a8cd3row6_col5 {\n            : ;\n            background-color:  green;\n        }    #T_caeae7f0_9540_11ea_9dc8_98e0d99a8cd3row7_col6 {\n            background-color:  red;\n            : ;\n        }    #T_caeae7f0_9540_11ea_9dc8_98e0d99a8cd3row8_col2 {\n            background-color:  red;\n            : ;\n        }    #T_caeae7f0_9540_11ea_9dc8_98e0d99a8cd3row8_col8 {\n            : ;\n            background-color:  green;\n        }    #T_caeae7f0_9540_11ea_9dc8_98e0d99a8cd3row9_col7 {\n            : ;\n            background-color:  green;\n        }    #T_caeae7f0_9540_11ea_9dc8_98e0d99a8cd3row9_col9 {\n            : ;\n            background-color:  green;\n        }</style><table id=\"T_caeae7f0_9540_11ea_9dc8_98e0d99a8cd3\" ><thead>    <tr>        <th class=\"blank level0\" ></th>        <th class=\"col_heading level0 col0\" >Model_name</th>        <th class=\"col_heading level0 col1\" >Search_strategy</th>        <th class=\"col_heading level0 col2\" >fit_time</th>        <th class=\"col_heading level0 col3\" >score_time</th>        <th class=\"col_heading level0 col4\" >test_neg_mean_absolute_error</th>        <th class=\"col_heading level0 col5\" >test_neg_mean_squared_error</th>        <th class=\"col_heading level0 col6\" >test_neg_median_absolute_error</th>        <th class=\"col_heading level0 col7\" >train_neg_mean_absolute_error</th>        <th class=\"col_heading level0 col8\" >train_neg_mean_squared_error</th>        <th class=\"col_heading level0 col9\" >train_neg_median_absolute_error</th>    </tr></thead><tbody>\n                <tr>\n                        <th id=\"T_caeae7f0_9540_11ea_9dc8_98e0d99a8cd3level0_row0\" class=\"row_heading level0 row0\" >0</th>\n                        <td id=\"T_caeae7f0_9540_11ea_9dc8_98e0d99a8cd3row0_col0\" class=\"data row0 col0\" >DecisionTreeRegressor</td>\n                        <td id=\"T_caeae7f0_9540_11ea_9dc8_98e0d99a8cd3row0_col1\" class=\"data row0 col1\" >GridSearch</td>\n                        <td id=\"T_caeae7f0_9540_11ea_9dc8_98e0d99a8cd3row0_col2\" class=\"data row0 col2\" >0.414772</td>\n                        <td id=\"T_caeae7f0_9540_11ea_9dc8_98e0d99a8cd3row0_col3\" class=\"data row0 col3\" >0.001799</td>\n                        <td id=\"T_caeae7f0_9540_11ea_9dc8_98e0d99a8cd3row0_col4\" class=\"data row0 col4\" >31.633935</td>\n                        <td id=\"T_caeae7f0_9540_11ea_9dc8_98e0d99a8cd3row0_col5\" class=\"data row0 col5\" >1391.856897</td>\n                        <td id=\"T_caeae7f0_9540_11ea_9dc8_98e0d99a8cd3row0_col6\" class=\"data row0 col6\" >29.892035</td>\n                        <td id=\"T_caeae7f0_9540_11ea_9dc8_98e0d99a8cd3row0_col7\" class=\"data row0 col7\" >28.656979</td>\n                        <td id=\"T_caeae7f0_9540_11ea_9dc8_98e0d99a8cd3row0_col8\" class=\"data row0 col8\" >1126.653513</td>\n                        <td id=\"T_caeae7f0_9540_11ea_9dc8_98e0d99a8cd3row0_col9\" class=\"data row0 col9\" >27.734781</td>\n            </tr>\n            <tr>\n                        <th id=\"T_caeae7f0_9540_11ea_9dc8_98e0d99a8cd3level0_row1\" class=\"row_heading level0 row1\" >1</th>\n                        <td id=\"T_caeae7f0_9540_11ea_9dc8_98e0d99a8cd3row1_col0\" class=\"data row1 col0\" >DecisionTreeRegressor</td>\n                        <td id=\"T_caeae7f0_9540_11ea_9dc8_98e0d99a8cd3row1_col1\" class=\"data row1 col1\" >RandomizedSearch</td>\n                        <td id=\"T_caeae7f0_9540_11ea_9dc8_98e0d99a8cd3row1_col2\" class=\"data row1 col2\" >0.126651</td>\n                        <td id=\"T_caeae7f0_9540_11ea_9dc8_98e0d99a8cd3row1_col3\" class=\"data row1 col3\" >0.001836</td>\n                        <td id=\"T_caeae7f0_9540_11ea_9dc8_98e0d99a8cd3row1_col4\" class=\"data row1 col4\" >33.925030</td>\n                        <td id=\"T_caeae7f0_9540_11ea_9dc8_98e0d99a8cd3row1_col5\" class=\"data row1 col5\" >1599.852712</td>\n                        <td id=\"T_caeae7f0_9540_11ea_9dc8_98e0d99a8cd3row1_col6\" class=\"data row1 col6\" >34.538322</td>\n                        <td id=\"T_caeae7f0_9540_11ea_9dc8_98e0d99a8cd3row1_col7\" class=\"data row1 col7\" >28.136131</td>\n                        <td id=\"T_caeae7f0_9540_11ea_9dc8_98e0d99a8cd3row1_col8\" class=\"data row1 col8\" >1102.523880</td>\n                        <td id=\"T_caeae7f0_9540_11ea_9dc8_98e0d99a8cd3row1_col9\" class=\"data row1 col9\" >27.515504</td>\n            </tr>\n            <tr>\n                        <th id=\"T_caeae7f0_9540_11ea_9dc8_98e0d99a8cd3level0_row2\" class=\"row_heading level0 row2\" >2</th>\n                        <td id=\"T_caeae7f0_9540_11ea_9dc8_98e0d99a8cd3row2_col0\" class=\"data row2 col0\" >LinearRegression</td>\n                        <td id=\"T_caeae7f0_9540_11ea_9dc8_98e0d99a8cd3row2_col1\" class=\"data row2 col1\" >GridSearch</td>\n                        <td id=\"T_caeae7f0_9540_11ea_9dc8_98e0d99a8cd3row2_col2\" class=\"data row2 col2\" >0.071603</td>\n                        <td id=\"T_caeae7f0_9540_11ea_9dc8_98e0d99a8cd3row2_col3\" class=\"data row2 col3\" >0.001985</td>\n                        <td id=\"T_caeae7f0_9540_11ea_9dc8_98e0d99a8cd3row2_col4\" class=\"data row2 col4\" >59.975895</td>\n                        <td id=\"T_caeae7f0_9540_11ea_9dc8_98e0d99a8cd3row2_col5\" class=\"data row2 col5\" >147275.945697</td>\n                        <td id=\"T_caeae7f0_9540_11ea_9dc8_98e0d99a8cd3row2_col6\" class=\"data row2 col6\" >28.490236</td>\n                        <td id=\"T_caeae7f0_9540_11ea_9dc8_98e0d99a8cd3row2_col7\" class=\"data row2 col7\" >22.510146</td>\n                        <td id=\"T_caeae7f0_9540_11ea_9dc8_98e0d99a8cd3row2_col8\" class=\"data row2 col8\" >766.254162</td>\n                        <td id=\"T_caeae7f0_9540_11ea_9dc8_98e0d99a8cd3row2_col9\" class=\"data row2 col9\" >19.428278</td>\n            </tr>\n            <tr>\n                        <th id=\"T_caeae7f0_9540_11ea_9dc8_98e0d99a8cd3level0_row3\" class=\"row_heading level0 row3\" >3</th>\n                        <td id=\"T_caeae7f0_9540_11ea_9dc8_98e0d99a8cd3row3_col0\" class=\"data row3 col0\" >LinearRegression</td>\n                        <td id=\"T_caeae7f0_9540_11ea_9dc8_98e0d99a8cd3row3_col1\" class=\"data row3 col1\" >RandomizedSearch</td>\n                        <td id=\"T_caeae7f0_9540_11ea_9dc8_98e0d99a8cd3row3_col2\" class=\"data row3 col2\" >0.116714</td>\n                        <td id=\"T_caeae7f0_9540_11ea_9dc8_98e0d99a8cd3row3_col3\" class=\"data row3 col3\" >0.002057</td>\n                        <td id=\"T_caeae7f0_9540_11ea_9dc8_98e0d99a8cd3row3_col4\" class=\"data row3 col4\" >118.992298</td>\n                        <td id=\"T_caeae7f0_9540_11ea_9dc8_98e0d99a8cd3row3_col5\" class=\"data row3 col5\" >1400913.774990</td>\n                        <td id=\"T_caeae7f0_9540_11ea_9dc8_98e0d99a8cd3row3_col6\" class=\"data row3 col6\" >30.984780</td>\n                        <td id=\"T_caeae7f0_9540_11ea_9dc8_98e0d99a8cd3row3_col7\" class=\"data row3 col7\" >21.127346</td>\n                        <td id=\"T_caeae7f0_9540_11ea_9dc8_98e0d99a8cd3row3_col8\" class=\"data row3 col8\" >697.115261</td>\n                        <td id=\"T_caeae7f0_9540_11ea_9dc8_98e0d99a8cd3row3_col9\" class=\"data row3 col9\" >18.575684</td>\n            </tr>\n            <tr>\n                        <th id=\"T_caeae7f0_9540_11ea_9dc8_98e0d99a8cd3level0_row4\" class=\"row_heading level0 row4\" >4</th>\n                        <td id=\"T_caeae7f0_9540_11ea_9dc8_98e0d99a8cd3row4_col0\" class=\"data row4 col0\" >Lasso</td>\n                        <td id=\"T_caeae7f0_9540_11ea_9dc8_98e0d99a8cd3row4_col1\" class=\"data row4 col1\" >GridSearch</td>\n                        <td id=\"T_caeae7f0_9540_11ea_9dc8_98e0d99a8cd3row4_col2\" class=\"data row4 col2\" >0.280175</td>\n                        <td id=\"T_caeae7f0_9540_11ea_9dc8_98e0d99a8cd3row4_col3\" class=\"data row4 col3\" >0.002039</td>\n                        <td id=\"T_caeae7f0_9540_11ea_9dc8_98e0d99a8cd3row4_col4\" class=\"data row4 col4\" >32.429568</td>\n                        <td id=\"T_caeae7f0_9540_11ea_9dc8_98e0d99a8cd3row4_col5\" class=\"data row4 col5\" >1469.511032</td>\n                        <td id=\"T_caeae7f0_9540_11ea_9dc8_98e0d99a8cd3row4_col6\" class=\"data row4 col6\" >31.112005</td>\n                        <td id=\"T_caeae7f0_9540_11ea_9dc8_98e0d99a8cd3row4_col7\" class=\"data row4 col7\" >26.630068</td>\n                        <td id=\"T_caeae7f0_9540_11ea_9dc8_98e0d99a8cd3row4_col8\" class=\"data row4 col8\" >997.889536</td>\n                        <td id=\"T_caeae7f0_9540_11ea_9dc8_98e0d99a8cd3row4_col9\" class=\"data row4 col9\" >24.971286</td>\n            </tr>\n            <tr>\n                        <th id=\"T_caeae7f0_9540_11ea_9dc8_98e0d99a8cd3level0_row5\" class=\"row_heading level0 row5\" >5</th>\n                        <td id=\"T_caeae7f0_9540_11ea_9dc8_98e0d99a8cd3row5_col0\" class=\"data row5 col0\" >Lasso</td>\n                        <td id=\"T_caeae7f0_9540_11ea_9dc8_98e0d99a8cd3row5_col1\" class=\"data row5 col1\" >RandomizedSearch</td>\n                        <td id=\"T_caeae7f0_9540_11ea_9dc8_98e0d99a8cd3row5_col2\" class=\"data row5 col2\" >0.200263</td>\n                        <td id=\"T_caeae7f0_9540_11ea_9dc8_98e0d99a8cd3row5_col3\" class=\"data row5 col3\" >0.001797</td>\n                        <td id=\"T_caeae7f0_9540_11ea_9dc8_98e0d99a8cd3row5_col4\" class=\"data row5 col4\" >33.582725</td>\n                        <td id=\"T_caeae7f0_9540_11ea_9dc8_98e0d99a8cd3row5_col5\" class=\"data row5 col5\" >1577.455713</td>\n                        <td id=\"T_caeae7f0_9540_11ea_9dc8_98e0d99a8cd3row5_col6\" class=\"data row5 col6\" >34.106320</td>\n                        <td id=\"T_caeae7f0_9540_11ea_9dc8_98e0d99a8cd3row5_col7\" class=\"data row5 col7\" >27.677067</td>\n                        <td id=\"T_caeae7f0_9540_11ea_9dc8_98e0d99a8cd3row5_col8\" class=\"data row5 col8\" >1061.244015</td>\n                        <td id=\"T_caeae7f0_9540_11ea_9dc8_98e0d99a8cd3row5_col9\" class=\"data row5 col9\" >26.931445</td>\n            </tr>\n            <tr>\n                        <th id=\"T_caeae7f0_9540_11ea_9dc8_98e0d99a8cd3level0_row6\" class=\"row_heading level0 row6\" >6</th>\n                        <td id=\"T_caeae7f0_9540_11ea_9dc8_98e0d99a8cd3row6_col0\" class=\"data row6 col0\" >RandomForestRegressor</td>\n                        <td id=\"T_caeae7f0_9540_11ea_9dc8_98e0d99a8cd3row6_col1\" class=\"data row6 col1\" >GridSearch</td>\n                        <td id=\"T_caeae7f0_9540_11ea_9dc8_98e0d99a8cd3row6_col2\" class=\"data row6 col2\" >24.748550</td>\n                        <td id=\"T_caeae7f0_9540_11ea_9dc8_98e0d99a8cd3row6_col3\" class=\"data row6 col3\" >0.018447</td>\n                        <td id=\"T_caeae7f0_9540_11ea_9dc8_98e0d99a8cd3row6_col4\" class=\"data row6 col4\" >30.932559</td>\n                        <td id=\"T_caeae7f0_9540_11ea_9dc8_98e0d99a8cd3row6_col5\" class=\"data row6 col5\" >1354.932653</td>\n                        <td id=\"T_caeae7f0_9540_11ea_9dc8_98e0d99a8cd3row6_col6\" class=\"data row6 col6\" >28.508371</td>\n                        <td id=\"T_caeae7f0_9540_11ea_9dc8_98e0d99a8cd3row6_col7\" class=\"data row6 col7\" >27.232197</td>\n                        <td id=\"T_caeae7f0_9540_11ea_9dc8_98e0d99a8cd3row6_col8\" class=\"data row6 col8\" >1021.448593</td>\n                        <td id=\"T_caeae7f0_9540_11ea_9dc8_98e0d99a8cd3row6_col9\" class=\"data row6 col9\" >25.964868</td>\n            </tr>\n            <tr>\n                        <th id=\"T_caeae7f0_9540_11ea_9dc8_98e0d99a8cd3level0_row7\" class=\"row_heading level0 row7\" >7</th>\n                        <td id=\"T_caeae7f0_9540_11ea_9dc8_98e0d99a8cd3row7_col0\" class=\"data row7 col0\" >RandomForestRegressor</td>\n                        <td id=\"T_caeae7f0_9540_11ea_9dc8_98e0d99a8cd3row7_col1\" class=\"data row7 col1\" >RandomizedSearch</td>\n                        <td id=\"T_caeae7f0_9540_11ea_9dc8_98e0d99a8cd3row7_col2\" class=\"data row7 col2\" >4.717218</td>\n                        <td id=\"T_caeae7f0_9540_11ea_9dc8_98e0d99a8cd3row7_col3\" class=\"data row7 col3\" >0.011720</td>\n                        <td id=\"T_caeae7f0_9540_11ea_9dc8_98e0d99a8cd3row7_col4\" class=\"data row7 col4\" >33.761873</td>\n                        <td id=\"T_caeae7f0_9540_11ea_9dc8_98e0d99a8cd3row7_col5\" class=\"data row7 col5\" >1589.802207</td>\n                        <td id=\"T_caeae7f0_9540_11ea_9dc8_98e0d99a8cd3row7_col6\" class=\"data row7 col6\" >34.546226</td>\n                        <td id=\"T_caeae7f0_9540_11ea_9dc8_98e0d99a8cd3row7_col7\" class=\"data row7 col7\" >28.110169</td>\n                        <td id=\"T_caeae7f0_9540_11ea_9dc8_98e0d99a8cd3row7_col8\" class=\"data row7 col8\" >1102.778041</td>\n                        <td id=\"T_caeae7f0_9540_11ea_9dc8_98e0d99a8cd3row7_col9\" class=\"data row7 col9\" >27.280594</td>\n            </tr>\n            <tr>\n                        <th id=\"T_caeae7f0_9540_11ea_9dc8_98e0d99a8cd3level0_row8\" class=\"row_heading level0 row8\" >8</th>\n                        <td id=\"T_caeae7f0_9540_11ea_9dc8_98e0d99a8cd3row8_col0\" class=\"data row8 col0\" >GradientBoostingRegressor</td>\n                        <td id=\"T_caeae7f0_9540_11ea_9dc8_98e0d99a8cd3row8_col1\" class=\"data row8 col1\" >GridSearch</td>\n                        <td id=\"T_caeae7f0_9540_11ea_9dc8_98e0d99a8cd3row8_col2\" class=\"data row8 col2\" >26.963639</td>\n                        <td id=\"T_caeae7f0_9540_11ea_9dc8_98e0d99a8cd3row8_col3\" class=\"data row8 col3\" >0.002310</td>\n                        <td id=\"T_caeae7f0_9540_11ea_9dc8_98e0d99a8cd3row8_col4\" class=\"data row8 col4\" >32.647788</td>\n                        <td id=\"T_caeae7f0_9540_11ea_9dc8_98e0d99a8cd3row8_col5\" class=\"data row8 col5\" >1517.804939</td>\n                        <td id=\"T_caeae7f0_9540_11ea_9dc8_98e0d99a8cd3row8_col6\" class=\"data row8 col6\" >29.799614</td>\n                        <td id=\"T_caeae7f0_9540_11ea_9dc8_98e0d99a8cd3row8_col7\" class=\"data row8 col7\" >8.469232</td>\n                        <td id=\"T_caeae7f0_9540_11ea_9dc8_98e0d99a8cd3row8_col8\" class=\"data row8 col8\" >182.330556</td>\n                        <td id=\"T_caeae7f0_9540_11ea_9dc8_98e0d99a8cd3row8_col9\" class=\"data row8 col9\" >5.297181</td>\n            </tr>\n            <tr>\n                        <th id=\"T_caeae7f0_9540_11ea_9dc8_98e0d99a8cd3level0_row9\" class=\"row_heading level0 row9\" >9</th>\n                        <td id=\"T_caeae7f0_9540_11ea_9dc8_98e0d99a8cd3row9_col0\" class=\"data row9 col0\" >GradientBoostingRegressor</td>\n                        <td id=\"T_caeae7f0_9540_11ea_9dc8_98e0d99a8cd3row9_col1\" class=\"data row9 col1\" >RandomizedSearch</td>\n                        <td id=\"T_caeae7f0_9540_11ea_9dc8_98e0d99a8cd3row9_col2\" class=\"data row9 col2\" >11.288010</td>\n                        <td id=\"T_caeae7f0_9540_11ea_9dc8_98e0d99a8cd3row9_col3\" class=\"data row9 col3\" >0.002216</td>\n                        <td id=\"T_caeae7f0_9540_11ea_9dc8_98e0d99a8cd3row9_col4\" class=\"data row9 col4\" >33.034876</td>\n                        <td id=\"T_caeae7f0_9540_11ea_9dc8_98e0d99a8cd3row9_col5\" class=\"data row9 col5\" >1532.466359</td>\n                        <td id=\"T_caeae7f0_9540_11ea_9dc8_98e0d99a8cd3row9_col6\" class=\"data row9 col6\" >29.641424</td>\n                        <td id=\"T_caeae7f0_9540_11ea_9dc8_98e0d99a8cd3row9_col7\" class=\"data row9 col7\" >8.156620</td>\n                        <td id=\"T_caeae7f0_9540_11ea_9dc8_98e0d99a8cd3row9_col8\" class=\"data row9 col8\" >189.374859</td>\n                        <td id=\"T_caeae7f0_9540_11ea_9dc8_98e0d99a8cd3row9_col9\" class=\"data row9 col9\" >3.129049</td>\n            </tr>\n    </tbody></table>"
     },
     "metadata": {},
     "execution_count": 18
    }
   ],
   "source": [
    "wisconsin_df_abs = pd.concat([wisconsin_df.iloc[:,:2], wisconsin_df.iloc[:,2:].abs()], axis=1, sort=False)\n",
    "wisconsin_df_abs.style.highlight_max(color='red').highlight_min(color='green')"
   ]
  },
  {
   "cell_type": "markdown",
   "metadata": {},
   "source": [
    "## Randarea fisierului html"
   ]
  },
  {
   "cell_type": "code",
   "execution_count": 19,
   "metadata": {},
   "outputs": [],
   "source": [
    "wisconsin_html = wisconsin_df.style.render()\n",
    "wisconsin_abs_html = wisconsin_df_abs.style.highlight_max(color='red').highlight_min(color='green').render()\n",
    "\n",
    "text_file = open('../html_files/wisconsin.html', 'w')\n",
    "text_file.write('<br>')\n",
    "text_file.write('<h1><center> Dataset: Wisonsin Breast Cancer <center></h1>')\n",
    "text_file.write('<br><br>')\n",
    "text_file.write(wisconsin_html)\n",
    "text_file.write('<br><br><br>')\n",
    "text_file.write(wisconsin_abs_html)\n",
    "text_file.close()"
   ]
  }
 ],
 "metadata": {
  "language_info": {
   "codemirror_mode": {
    "name": "ipython",
    "version": 3
   },
   "file_extension": ".py",
   "mimetype": "text/x-python",
   "name": "python",
   "nbconvert_exporter": "python",
   "pygments_lexer": "ipython3",
   "version": "3.7.7-final"
  },
  "orig_nbformat": 2,
  "kernelspec": {
   "name": "python3",
   "display_name": "Python 3"
  }
 },
 "nbformat": 4,
 "nbformat_minor": 2
}