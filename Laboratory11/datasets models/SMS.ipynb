{
 "cells": [
  {
   "cell_type": "markdown",
   "metadata": {},
   "source": [
    "# Bucur Robert - Adrian\n",
    "# Bogdan Gheorghe - Nicolae\n",
    "## Grupa 10LF381"
   ]
  },
  {
   "cell_type": "markdown",
   "metadata": {},
   "source": [
    "# Laborator 11\n",
    "## Modele de clasificare text"
   ]
  },
  {
   "cell_type": "markdown",
   "metadata": {},
   "source": [
    "# Setul de date SMS Spam Collection"
   ]
  },
  {
   "cell_type": "code",
   "execution_count": 1,
   "metadata": {},
   "outputs": [
    {
     "output_type": "stream",
     "name": "stderr",
     "text": "[nltk_data] Downloading package stopwords to\n[nltk_data]     C:\\Users\\Bogdan\\AppData\\Roaming\\nltk_data...\n[nltk_data]   Package stopwords is already up-to-date!\n"
    }
   ],
   "source": [
    "import numpy as np\n",
    "import pandas as pd\n",
    "import string\n",
    "import re\n",
    "\n",
    "import nltk\n",
    "nltk.download('stopwords')\n",
    "from nltk.corpus import stopwords\n",
    "from nltk import word_tokenize\n",
    "from nltk.stem import PorterStemmer\n",
    "from nltk.util import ngrams\n",
    "\n",
    "import matplotlib.pyplot as plt\n",
    "\n",
    "from gensim.models import Word2Vec\n",
    "\n",
    "from sklearn.feature_extraction.text import CountVectorizer\n",
    "\n",
    "from sklearn.model_selection import cross_validate, cross_val_score\n",
    "from sklearn.metrics import accuracy_score, f1_score\n",
    "\n",
    "from sklearn.svm import SVC\n",
    "from sklearn.neighbors import KNeighborsClassifier\n",
    "from sklearn.tree import DecisionTreeClassifier\n",
    "from sklearn.gaussian_process import GaussianProcessClassifier\n",
    "from sklearn.gaussian_process.kernels import RBF\n",
    "from sklearn.ensemble import RandomForestClassifier\n",
    "\n",
    "from sklearn.model_selection import GridSearchCV\n",
    "from sklearn.model_selection import RandomizedSearchCV"
   ]
  },
  {
   "cell_type": "markdown",
   "metadata": {},
   "source": [
    "# Incarcarea setului de date"
   ]
  },
  {
   "cell_type": "code",
   "execution_count": 2,
   "metadata": {},
   "outputs": [
    {
     "output_type": "execute_result",
     "data": {
      "text/plain": "   0                                                  1\n0  0  Go until jurong point, crazy.. Available only ...\n1  0                      Ok lar... Joking wif u oni...\n2  1  Free entry in 2 a wkly comp to win FA Cup fina...\n3  0  U dun say so early hor... U c already then say...\n4  0  Nah I don't think he goes to usf, he lives aro...",
      "text/html": "<div>\n<style scoped>\n    .dataframe tbody tr th:only-of-type {\n        vertical-align: middle;\n    }\n\n    .dataframe tbody tr th {\n        vertical-align: top;\n    }\n\n    .dataframe thead th {\n        text-align: right;\n    }\n</style>\n<table border=\"1\" class=\"dataframe\">\n  <thead>\n    <tr style=\"text-align: right;\">\n      <th></th>\n      <th>0</th>\n      <th>1</th>\n    </tr>\n  </thead>\n  <tbody>\n    <tr>\n      <th>0</th>\n      <td>0</td>\n      <td>Go until jurong point, crazy.. Available only ...</td>\n    </tr>\n    <tr>\n      <th>1</th>\n      <td>0</td>\n      <td>Ok lar... Joking wif u oni...</td>\n    </tr>\n    <tr>\n      <th>2</th>\n      <td>1</td>\n      <td>Free entry in 2 a wkly comp to win FA Cup fina...</td>\n    </tr>\n    <tr>\n      <th>3</th>\n      <td>0</td>\n      <td>U dun say so early hor... U c already then say...</td>\n    </tr>\n    <tr>\n      <th>4</th>\n      <td>0</td>\n      <td>Nah I don't think he goes to usf, he lives aro...</td>\n    </tr>\n  </tbody>\n</table>\n</div>"
     },
     "metadata": {},
     "execution_count": 2
    }
   ],
   "source": [
    "sms = pd.read_csv('../data/SMS/SMSSpamCollection.txt', sep='\\t', header=None)\n",
    "\n",
    "sms.head()"
   ]
  },
  {
   "cell_type": "markdown",
   "metadata": {},
   "source": [
    "# Statistica"
   ]
  },
  {
   "cell_type": "markdown",
   "metadata": {},
   "source": [
    "# Eliminarea stopwords si afisarea numarului de aparitii a ficarui cuvant"
   ]
  },
  {
   "cell_type": "code",
   "execution_count": 3,
   "metadata": {
    "tags": [
     "outputPrepend"
    ]
   },
   "outputs": [
    {
     "output_type": "execute_result",
     "data": {
      "text/plain": "              word frequency\n0               go      3533\n1           jurong      4310\n2            point      5870\n3            crazy      2314\n4        available      1303\n...            ...       ...\n8570  087187272008       165\n8571          now1      5378\n8572          pity      5801\n8573   suggestions      7324\n8574      bitching      1542\n\n[8575 rows x 2 columns]",
      "text/html": "<div>\n<style scoped>\n    .dataframe tbody tr th:only-of-type {\n        vertical-align: middle;\n    }\n\n    .dataframe tbody tr th {\n        vertical-align: top;\n    }\n\n    .dataframe thead th {\n        text-align: right;\n    }\n</style>\n<table border=\"1\" class=\"dataframe\">\n  <thead>\n    <tr style=\"text-align: right;\">\n      <th></th>\n      <th>word</th>\n      <th>frequency</th>\n    </tr>\n  </thead>\n  <tbody>\n    <tr>\n      <th>0</th>\n      <td>go</td>\n      <td>3533</td>\n    </tr>\n    <tr>\n      <th>1</th>\n      <td>jurong</td>\n      <td>4310</td>\n    </tr>\n    <tr>\n      <th>2</th>\n      <td>point</td>\n      <td>5870</td>\n    </tr>\n    <tr>\n      <th>3</th>\n      <td>crazy</td>\n      <td>2314</td>\n    </tr>\n    <tr>\n      <th>4</th>\n      <td>available</td>\n      <td>1303</td>\n    </tr>\n    <tr>\n      <th>...</th>\n      <td>...</td>\n      <td>...</td>\n    </tr>\n    <tr>\n      <th>8570</th>\n      <td>087187272008</td>\n      <td>165</td>\n    </tr>\n    <tr>\n      <th>8571</th>\n      <td>now1</td>\n      <td>5378</td>\n    </tr>\n    <tr>\n      <th>8572</th>\n      <td>pity</td>\n      <td>5801</td>\n    </tr>\n    <tr>\n      <th>8573</th>\n      <td>suggestions</td>\n      <td>7324</td>\n    </tr>\n    <tr>\n      <th>8574</th>\n      <td>bitching</td>\n      <td>1542</td>\n    </tr>\n  </tbody>\n</table>\n<p>8575 rows × 2 columns</p>\n</div>"
     },
     "metadata": {},
     "execution_count": 3
    }
   ],
   "source": [
    "countVectorizer = CountVectorizer(stop_words=stopwords.words('english'))\n",
    "countVectorizer.fit(sms.loc[:, 1])\n",
    "words_frequency = dict(countVectorizer.vocabulary_.items())\n",
    "sms[1] = [text.replace('〨ud', '') for text in sms[1]]\n",
    "sms[1] = [text.replace('ú1', '') for text in sms[1]]\n",
    "\n",
    "pd.DataFrame(np.matrix(list(countVectorizer.vocabulary_.items())), columns=['word', 'frequency'])"
   ]
  },
  {
   "cell_type": "markdown",
   "metadata": {},
   "source": [
    "# Afisam numarul de sms-uri acceptate si lungimile cuvintelor: minim, maxim, mediu"
   ]
  },
  {
   "cell_type": "code",
   "execution_count": 4,
   "metadata": {},
   "outputs": [
    {
     "output_type": "stream",
     "name": "stdout",
     "text": "Total accepted sms: 4825\nTotal spam sms: 747\nMin word length: 1\nMax word length: 171\nMean word length: 15\nThe most frequent word: [('〨ud', 8574)]\n"
    },
    {
     "output_type": "display_data",
     "data": {
      "text/plain": "<Figure size 432x288 with 1 Axes>",
      "image/svg+xml": "<?xml version=\"1.0\" encoding=\"utf-8\" standalone=\"no\"?>\r\n<!DOCTYPE svg PUBLIC \"-//W3C//DTD SVG 1.1//EN\"\r\n  \"http://www.w3.org/Graphics/SVG/1.1/DTD/svg11.dtd\">\r\n<!-- Created with matplotlib (https://matplotlib.org/) -->\r\n<svg height=\"306.9875pt\" version=\"1.1\" viewBox=\"0 0 395.328125 306.9875\" width=\"395.328125pt\" xmlns=\"http://www.w3.org/2000/svg\" xmlns:xlink=\"http://www.w3.org/1999/xlink\">\r\n <defs>\r\n  <style type=\"text/css\">\r\n*{stroke-linecap:butt;stroke-linejoin:round;}\r\n  </style>\r\n </defs>\r\n <g id=\"figure_1\">\r\n  <g id=\"patch_1\">\r\n   <path d=\"M 0 306.9875 \r\nL 395.328125 306.9875 \r\nL 395.328125 0 \r\nL 0 0 \r\nz\r\n\" style=\"fill:none;\"/>\r\n  </g>\r\n  <g id=\"axes_1\">\r\n   <g id=\"patch_2\">\r\n    <path d=\"M 53.328125 224.64 \r\nL 388.128125 224.64 \r\nL 388.128125 7.2 \r\nL 53.328125 7.2 \r\nz\r\n\" style=\"fill:#ffffff;\"/>\r\n   </g>\r\n   <g id=\"patch_3\">\r\n    <path clip-path=\"url(#pebe456e0b7)\" d=\"M 68.546307 224.64 \r\nL 110.527498 224.64 \r\nL 110.527498 108.102961 \r\nL 68.546307 108.102961 \r\nz\r\n\" style=\"fill:#1f77b4;\"/>\r\n   </g>\r\n   <g id=\"patch_4\">\r\n    <path clip-path=\"url(#pebe456e0b7)\" d=\"M 121.022796 224.64 \r\nL 163.003987 224.64 \r\nL 163.003987 206.597893 \r\nL 121.022796 206.597893 \r\nz\r\n\" style=\"fill:#1f77b4;\"/>\r\n   </g>\r\n   <g id=\"patch_5\">\r\n    <path clip-path=\"url(#pebe456e0b7)\" d=\"M 173.499285 224.64 \r\nL 215.480476 224.64 \r\nL 215.480476 224.615847 \r\nL 173.499285 224.615847 \r\nz\r\n\" style=\"fill:#1f77b4;\"/>\r\n   </g>\r\n   <g id=\"patch_6\">\r\n    <path clip-path=\"url(#pebe456e0b7)\" d=\"M 225.975774 224.64 \r\nL 267.956965 224.64 \r\nL 267.956965 220.509879 \r\nL 225.975774 220.509879 \r\nz\r\n\" style=\"fill:#1f77b4;\"/>\r\n   </g>\r\n   <g id=\"patch_7\">\r\n    <path clip-path=\"url(#pebe456e0b7)\" d=\"M 278.452263 224.64 \r\nL 320.433454 224.64 \r\nL 320.433454 224.277709 \r\nL 278.452263 224.277709 \r\nz\r\n\" style=\"fill:#1f77b4;\"/>\r\n   </g>\r\n   <g id=\"patch_8\">\r\n    <path clip-path=\"url(#pebe456e0b7)\" d=\"M 330.928752 224.64 \r\nL 372.909943 224.64 \r\nL 372.909943 17.554286 \r\nL 330.928752 17.554286 \r\nz\r\n\" style=\"fill:#1f77b4;\"/>\r\n   </g>\r\n   <g id=\"matplotlib.axis_1\">\r\n    <g id=\"xtick_1\">\r\n     <g id=\"line2d_1\">\r\n      <defs>\r\n       <path d=\"M 0 0 \r\nL 0 3.5 \r\n\" id=\"ma2e4b4ca3d\" style=\"stroke:#000000;stroke-width:0.8;\"/>\r\n      </defs>\r\n      <g>\r\n       <use style=\"stroke:#000000;stroke-width:0.8;\" x=\"89.536902\" xlink:href=\"#ma2e4b4ca3d\" y=\"224.64\"/>\r\n      </g>\r\n     </g>\r\n     <g id=\"text_1\">\r\n      <!-- Total -->\r\n      <defs>\r\n       <path d=\"M -0.296875 72.90625 \r\nL 61.375 72.90625 \r\nL 61.375 64.59375 \r\nL 35.5 64.59375 \r\nL 35.5 0 \r\nL 25.59375 0 \r\nL 25.59375 64.59375 \r\nL -0.296875 64.59375 \r\nz\r\n\" id=\"DejaVuSans-84\"/>\r\n       <path d=\"M 30.609375 48.390625 \r\nQ 23.390625 48.390625 19.1875 42.75 \r\nQ 14.984375 37.109375 14.984375 27.296875 \r\nQ 14.984375 17.484375 19.15625 11.84375 \r\nQ 23.34375 6.203125 30.609375 6.203125 \r\nQ 37.796875 6.203125 41.984375 11.859375 \r\nQ 46.1875 17.53125 46.1875 27.296875 \r\nQ 46.1875 37.015625 41.984375 42.703125 \r\nQ 37.796875 48.390625 30.609375 48.390625 \r\nz\r\nM 30.609375 56 \r\nQ 42.328125 56 49.015625 48.375 \r\nQ 55.71875 40.765625 55.71875 27.296875 \r\nQ 55.71875 13.875 49.015625 6.21875 \r\nQ 42.328125 -1.421875 30.609375 -1.421875 \r\nQ 18.84375 -1.421875 12.171875 6.21875 \r\nQ 5.515625 13.875 5.515625 27.296875 \r\nQ 5.515625 40.765625 12.171875 48.375 \r\nQ 18.84375 56 30.609375 56 \r\nz\r\n\" id=\"DejaVuSans-111\"/>\r\n       <path d=\"M 18.3125 70.21875 \r\nL 18.3125 54.6875 \r\nL 36.8125 54.6875 \r\nL 36.8125 47.703125 \r\nL 18.3125 47.703125 \r\nL 18.3125 18.015625 \r\nQ 18.3125 11.328125 20.140625 9.421875 \r\nQ 21.96875 7.515625 27.59375 7.515625 \r\nL 36.8125 7.515625 \r\nL 36.8125 0 \r\nL 27.59375 0 \r\nQ 17.1875 0 13.234375 3.875 \r\nQ 9.28125 7.765625 9.28125 18.015625 \r\nL 9.28125 47.703125 \r\nL 2.6875 47.703125 \r\nL 2.6875 54.6875 \r\nL 9.28125 54.6875 \r\nL 9.28125 70.21875 \r\nz\r\n\" id=\"DejaVuSans-116\"/>\r\n       <path d=\"M 34.28125 27.484375 \r\nQ 23.390625 27.484375 19.1875 25 \r\nQ 14.984375 22.515625 14.984375 16.5 \r\nQ 14.984375 11.71875 18.140625 8.90625 \r\nQ 21.296875 6.109375 26.703125 6.109375 \r\nQ 34.1875 6.109375 38.703125 11.40625 \r\nQ 43.21875 16.703125 43.21875 25.484375 \r\nL 43.21875 27.484375 \r\nz\r\nM 52.203125 31.203125 \r\nL 52.203125 0 \r\nL 43.21875 0 \r\nL 43.21875 8.296875 \r\nQ 40.140625 3.328125 35.546875 0.953125 \r\nQ 30.953125 -1.421875 24.3125 -1.421875 \r\nQ 15.921875 -1.421875 10.953125 3.296875 \r\nQ 6 8.015625 6 15.921875 \r\nQ 6 25.140625 12.171875 29.828125 \r\nQ 18.359375 34.515625 30.609375 34.515625 \r\nL 43.21875 34.515625 \r\nL 43.21875 35.40625 \r\nQ 43.21875 41.609375 39.140625 45 \r\nQ 35.0625 48.390625 27.6875 48.390625 \r\nQ 23 48.390625 18.546875 47.265625 \r\nQ 14.109375 46.140625 10.015625 43.890625 \r\nL 10.015625 52.203125 \r\nQ 14.9375 54.109375 19.578125 55.046875 \r\nQ 24.21875 56 28.609375 56 \r\nQ 40.484375 56 46.34375 49.84375 \r\nQ 52.203125 43.703125 52.203125 31.203125 \r\nz\r\n\" id=\"DejaVuSans-97\"/>\r\n       <path d=\"M 9.421875 75.984375 \r\nL 18.40625 75.984375 \r\nL 18.40625 0 \r\nL 9.421875 0 \r\nz\r\n\" id=\"DejaVuSans-108\"/>\r\n      </defs>\r\n      <g transform=\"translate(77.023621 239.238438)scale(0.1 -0.1)\">\r\n       <use xlink:href=\"#DejaVuSans-84\"/>\r\n       <use x=\"60.818359\" xlink:href=\"#DejaVuSans-111\"/>\r\n       <use x=\"122\" xlink:href=\"#DejaVuSans-116\"/>\r\n       <use x=\"161.208984\" xlink:href=\"#DejaVuSans-97\"/>\r\n       <use x=\"222.488281\" xlink:href=\"#DejaVuSans-108\"/>\r\n      </g>\r\n      <!-- accepted -->\r\n      <defs>\r\n       <path d=\"M 48.78125 52.59375 \r\nL 48.78125 44.1875 \r\nQ 44.96875 46.296875 41.140625 47.34375 \r\nQ 37.3125 48.390625 33.40625 48.390625 \r\nQ 24.65625 48.390625 19.8125 42.84375 \r\nQ 14.984375 37.3125 14.984375 27.296875 \r\nQ 14.984375 17.28125 19.8125 11.734375 \r\nQ 24.65625 6.203125 33.40625 6.203125 \r\nQ 37.3125 6.203125 41.140625 7.25 \r\nQ 44.96875 8.296875 48.78125 10.40625 \r\nL 48.78125 2.09375 \r\nQ 45.015625 0.34375 40.984375 -0.53125 \r\nQ 36.96875 -1.421875 32.421875 -1.421875 \r\nQ 20.0625 -1.421875 12.78125 6.34375 \r\nQ 5.515625 14.109375 5.515625 27.296875 \r\nQ 5.515625 40.671875 12.859375 48.328125 \r\nQ 20.21875 56 33.015625 56 \r\nQ 37.15625 56 41.109375 55.140625 \r\nQ 45.0625 54.296875 48.78125 52.59375 \r\nz\r\n\" id=\"DejaVuSans-99\"/>\r\n       <path d=\"M 56.203125 29.59375 \r\nL 56.203125 25.203125 \r\nL 14.890625 25.203125 \r\nQ 15.484375 15.921875 20.484375 11.0625 \r\nQ 25.484375 6.203125 34.421875 6.203125 \r\nQ 39.59375 6.203125 44.453125 7.46875 \r\nQ 49.3125 8.734375 54.109375 11.28125 \r\nL 54.109375 2.78125 \r\nQ 49.265625 0.734375 44.1875 -0.34375 \r\nQ 39.109375 -1.421875 33.890625 -1.421875 \r\nQ 20.796875 -1.421875 13.15625 6.1875 \r\nQ 5.515625 13.8125 5.515625 26.8125 \r\nQ 5.515625 40.234375 12.765625 48.109375 \r\nQ 20.015625 56 32.328125 56 \r\nQ 43.359375 56 49.78125 48.890625 \r\nQ 56.203125 41.796875 56.203125 29.59375 \r\nz\r\nM 47.21875 32.234375 \r\nQ 47.125 39.59375 43.09375 43.984375 \r\nQ 39.0625 48.390625 32.421875 48.390625 \r\nQ 24.90625 48.390625 20.390625 44.140625 \r\nQ 15.875 39.890625 15.1875 32.171875 \r\nz\r\n\" id=\"DejaVuSans-101\"/>\r\n       <path d=\"M 18.109375 8.203125 \r\nL 18.109375 -20.796875 \r\nL 9.078125 -20.796875 \r\nL 9.078125 54.6875 \r\nL 18.109375 54.6875 \r\nL 18.109375 46.390625 \r\nQ 20.953125 51.265625 25.265625 53.625 \r\nQ 29.59375 56 35.59375 56 \r\nQ 45.5625 56 51.78125 48.09375 \r\nQ 58.015625 40.1875 58.015625 27.296875 \r\nQ 58.015625 14.40625 51.78125 6.484375 \r\nQ 45.5625 -1.421875 35.59375 -1.421875 \r\nQ 29.59375 -1.421875 25.265625 0.953125 \r\nQ 20.953125 3.328125 18.109375 8.203125 \r\nz\r\nM 48.6875 27.296875 \r\nQ 48.6875 37.203125 44.609375 42.84375 \r\nQ 40.53125 48.484375 33.40625 48.484375 \r\nQ 26.265625 48.484375 22.1875 42.84375 \r\nQ 18.109375 37.203125 18.109375 27.296875 \r\nQ 18.109375 17.390625 22.1875 11.75 \r\nQ 26.265625 6.109375 33.40625 6.109375 \r\nQ 40.53125 6.109375 44.609375 11.75 \r\nQ 48.6875 17.390625 48.6875 27.296875 \r\nz\r\n\" id=\"DejaVuSans-112\"/>\r\n       <path d=\"M 45.40625 46.390625 \r\nL 45.40625 75.984375 \r\nL 54.390625 75.984375 \r\nL 54.390625 0 \r\nL 45.40625 0 \r\nL 45.40625 8.203125 \r\nQ 42.578125 3.328125 38.25 0.953125 \r\nQ 33.9375 -1.421875 27.875 -1.421875 \r\nQ 17.96875 -1.421875 11.734375 6.484375 \r\nQ 5.515625 14.40625 5.515625 27.296875 \r\nQ 5.515625 40.1875 11.734375 48.09375 \r\nQ 17.96875 56 27.875 56 \r\nQ 33.9375 56 38.25 53.625 \r\nQ 42.578125 51.265625 45.40625 46.390625 \r\nz\r\nM 14.796875 27.296875 \r\nQ 14.796875 17.390625 18.875 11.75 \r\nQ 22.953125 6.109375 30.078125 6.109375 \r\nQ 37.203125 6.109375 41.296875 11.75 \r\nQ 45.40625 17.390625 45.40625 27.296875 \r\nQ 45.40625 37.203125 41.296875 42.84375 \r\nQ 37.203125 48.484375 30.078125 48.484375 \r\nQ 22.953125 48.484375 18.875 42.84375 \r\nQ 14.796875 37.203125 14.796875 27.296875 \r\nz\r\n\" id=\"DejaVuSans-100\"/>\r\n      </defs>\r\n      <g transform=\"translate(66.512684 250.43625)scale(0.1 -0.1)\">\r\n       <use xlink:href=\"#DejaVuSans-97\"/>\r\n       <use x=\"61.279297\" xlink:href=\"#DejaVuSans-99\"/>\r\n       <use x=\"116.259766\" xlink:href=\"#DejaVuSans-99\"/>\r\n       <use x=\"171.240234\" xlink:href=\"#DejaVuSans-101\"/>\r\n       <use x=\"232.763672\" xlink:href=\"#DejaVuSans-112\"/>\r\n       <use x=\"296.240234\" xlink:href=\"#DejaVuSans-116\"/>\r\n       <use x=\"335.449219\" xlink:href=\"#DejaVuSans-101\"/>\r\n       <use x=\"396.972656\" xlink:href=\"#DejaVuSans-100\"/>\r\n      </g>\r\n      <!-- sms: -->\r\n      <defs>\r\n       <path d=\"M 44.28125 53.078125 \r\nL 44.28125 44.578125 \r\nQ 40.484375 46.53125 36.375 47.5 \r\nQ 32.28125 48.484375 27.875 48.484375 \r\nQ 21.1875 48.484375 17.84375 46.4375 \r\nQ 14.5 44.390625 14.5 40.28125 \r\nQ 14.5 37.15625 16.890625 35.375 \r\nQ 19.28125 33.59375 26.515625 31.984375 \r\nL 29.59375 31.296875 \r\nQ 39.15625 29.25 43.1875 25.515625 \r\nQ 47.21875 21.78125 47.21875 15.09375 \r\nQ 47.21875 7.46875 41.1875 3.015625 \r\nQ 35.15625 -1.421875 24.609375 -1.421875 \r\nQ 20.21875 -1.421875 15.453125 -0.5625 \r\nQ 10.6875 0.296875 5.421875 2 \r\nL 5.421875 11.28125 \r\nQ 10.40625 8.6875 15.234375 7.390625 \r\nQ 20.0625 6.109375 24.8125 6.109375 \r\nQ 31.15625 6.109375 34.5625 8.28125 \r\nQ 37.984375 10.453125 37.984375 14.40625 \r\nQ 37.984375 18.0625 35.515625 20.015625 \r\nQ 33.0625 21.96875 24.703125 23.78125 \r\nL 21.578125 24.515625 \r\nQ 13.234375 26.265625 9.515625 29.90625 \r\nQ 5.8125 33.546875 5.8125 39.890625 \r\nQ 5.8125 47.609375 11.28125 51.796875 \r\nQ 16.75 56 26.8125 56 \r\nQ 31.78125 56 36.171875 55.265625 \r\nQ 40.578125 54.546875 44.28125 53.078125 \r\nz\r\n\" id=\"DejaVuSans-115\"/>\r\n       <path d=\"M 52 44.1875 \r\nQ 55.375 50.25 60.0625 53.125 \r\nQ 64.75 56 71.09375 56 \r\nQ 79.640625 56 84.28125 50.015625 \r\nQ 88.921875 44.046875 88.921875 33.015625 \r\nL 88.921875 0 \r\nL 79.890625 0 \r\nL 79.890625 32.71875 \r\nQ 79.890625 40.578125 77.09375 44.375 \r\nQ 74.3125 48.1875 68.609375 48.1875 \r\nQ 61.625 48.1875 57.5625 43.546875 \r\nQ 53.515625 38.921875 53.515625 30.90625 \r\nL 53.515625 0 \r\nL 44.484375 0 \r\nL 44.484375 32.71875 \r\nQ 44.484375 40.625 41.703125 44.40625 \r\nQ 38.921875 48.1875 33.109375 48.1875 \r\nQ 26.21875 48.1875 22.15625 43.53125 \r\nQ 18.109375 38.875 18.109375 30.90625 \r\nL 18.109375 0 \r\nL 9.078125 0 \r\nL 9.078125 54.6875 \r\nL 18.109375 54.6875 \r\nL 18.109375 46.1875 \r\nQ 21.1875 51.21875 25.484375 53.609375 \r\nQ 29.78125 56 35.6875 56 \r\nQ 41.65625 56 45.828125 52.96875 \r\nQ 50 49.953125 52 44.1875 \r\nz\r\n\" id=\"DejaVuSans-109\"/>\r\n       <path d=\"M 11.71875 12.40625 \r\nL 22.015625 12.40625 \r\nL 22.015625 0 \r\nL 11.71875 0 \r\nz\r\nM 11.71875 51.703125 \r\nL 22.015625 51.703125 \r\nL 22.015625 39.3125 \r\nL 11.71875 39.3125 \r\nz\r\n\" id=\"DejaVuSans-58\"/>\r\n      </defs>\r\n      <g transform=\"translate(77.77284 261.634063)scale(0.1 -0.1)\">\r\n       <use xlink:href=\"#DejaVuSans-115\"/>\r\n       <use x=\"52.099609\" xlink:href=\"#DejaVuSans-109\"/>\r\n       <use x=\"149.511719\" xlink:href=\"#DejaVuSans-115\"/>\r\n       <use x=\"201.611328\" xlink:href=\"#DejaVuSans-58\"/>\r\n      </g>\r\n     </g>\r\n    </g>\r\n    <g id=\"xtick_2\">\r\n     <g id=\"line2d_2\">\r\n      <g>\r\n       <use style=\"stroke:#000000;stroke-width:0.8;\" x=\"142.013391\" xlink:href=\"#ma2e4b4ca3d\" y=\"224.64\"/>\r\n      </g>\r\n     </g>\r\n     <g id=\"text_2\">\r\n      <!-- Total -->\r\n      <g transform=\"translate(129.50011 239.238438)scale(0.1 -0.1)\">\r\n       <use xlink:href=\"#DejaVuSans-84\"/>\r\n       <use x=\"60.818359\" xlink:href=\"#DejaVuSans-111\"/>\r\n       <use x=\"122\" xlink:href=\"#DejaVuSans-116\"/>\r\n       <use x=\"161.208984\" xlink:href=\"#DejaVuSans-97\"/>\r\n       <use x=\"222.488281\" xlink:href=\"#DejaVuSans-108\"/>\r\n      </g>\r\n      <!-- spam -->\r\n      <g transform=\"translate(128.30011 250.43625)scale(0.1 -0.1)\">\r\n       <use xlink:href=\"#DejaVuSans-115\"/>\r\n       <use x=\"52.099609\" xlink:href=\"#DejaVuSans-112\"/>\r\n       <use x=\"115.576172\" xlink:href=\"#DejaVuSans-97\"/>\r\n       <use x=\"176.855469\" xlink:href=\"#DejaVuSans-109\"/>\r\n      </g>\r\n      <!-- sms: -->\r\n      <g transform=\"translate(130.249329 261.634063)scale(0.1 -0.1)\">\r\n       <use xlink:href=\"#DejaVuSans-115\"/>\r\n       <use x=\"52.099609\" xlink:href=\"#DejaVuSans-109\"/>\r\n       <use x=\"149.511719\" xlink:href=\"#DejaVuSans-115\"/>\r\n       <use x=\"201.611328\" xlink:href=\"#DejaVuSans-58\"/>\r\n      </g>\r\n     </g>\r\n    </g>\r\n    <g id=\"xtick_3\">\r\n     <g id=\"line2d_3\">\r\n      <g>\r\n       <use style=\"stroke:#000000;stroke-width:0.8;\" x=\"194.48988\" xlink:href=\"#ma2e4b4ca3d\" y=\"224.64\"/>\r\n      </g>\r\n     </g>\r\n     <g id=\"text_3\">\r\n      <!-- Min -->\r\n      <defs>\r\n       <path d=\"M 9.8125 72.90625 \r\nL 24.515625 72.90625 \r\nL 43.109375 23.296875 \r\nL 61.8125 72.90625 \r\nL 76.515625 72.90625 \r\nL 76.515625 0 \r\nL 66.890625 0 \r\nL 66.890625 64.015625 \r\nL 48.09375 14.015625 \r\nL 38.1875 14.015625 \r\nL 19.390625 64.015625 \r\nL 19.390625 0 \r\nL 9.8125 0 \r\nz\r\n\" id=\"DejaVuSans-77\"/>\r\n       <path d=\"M 9.421875 54.6875 \r\nL 18.40625 54.6875 \r\nL 18.40625 0 \r\nL 9.421875 0 \r\nz\r\nM 9.421875 75.984375 \r\nL 18.40625 75.984375 \r\nL 18.40625 64.59375 \r\nL 9.421875 64.59375 \r\nz\r\n\" id=\"DejaVuSans-105\"/>\r\n       <path d=\"M 54.890625 33.015625 \r\nL 54.890625 0 \r\nL 45.90625 0 \r\nL 45.90625 32.71875 \r\nQ 45.90625 40.484375 42.875 44.328125 \r\nQ 39.84375 48.1875 33.796875 48.1875 \r\nQ 26.515625 48.1875 22.3125 43.546875 \r\nQ 18.109375 38.921875 18.109375 30.90625 \r\nL 18.109375 0 \r\nL 9.078125 0 \r\nL 9.078125 54.6875 \r\nL 18.109375 54.6875 \r\nL 18.109375 46.1875 \r\nQ 21.34375 51.125 25.703125 53.5625 \r\nQ 30.078125 56 35.796875 56 \r\nQ 45.21875 56 50.046875 50.171875 \r\nQ 54.890625 44.34375 54.890625 33.015625 \r\nz\r\n\" id=\"DejaVuSans-110\"/>\r\n      </defs>\r\n      <g transform=\"translate(185.618005 239.238438)scale(0.1 -0.1)\">\r\n       <use xlink:href=\"#DejaVuSans-77\"/>\r\n       <use x=\"86.279297\" xlink:href=\"#DejaVuSans-105\"/>\r\n       <use x=\"114.0625\" xlink:href=\"#DejaVuSans-110\"/>\r\n      </g>\r\n      <!-- word -->\r\n      <defs>\r\n       <path d=\"M 4.203125 54.6875 \r\nL 13.1875 54.6875 \r\nL 24.421875 12.015625 \r\nL 35.59375 54.6875 \r\nL 46.1875 54.6875 \r\nL 57.421875 12.015625 \r\nL 68.609375 54.6875 \r\nL 77.59375 54.6875 \r\nL 63.28125 0 \r\nL 52.6875 0 \r\nL 40.921875 44.828125 \r\nL 29.109375 0 \r\nL 18.5 0 \r\nz\r\n\" id=\"DejaVuSans-119\"/>\r\n       <path d=\"M 41.109375 46.296875 \r\nQ 39.59375 47.171875 37.8125 47.578125 \r\nQ 36.03125 48 33.890625 48 \r\nQ 26.265625 48 22.1875 43.046875 \r\nQ 18.109375 38.09375 18.109375 28.8125 \r\nL 18.109375 0 \r\nL 9.078125 0 \r\nL 9.078125 54.6875 \r\nL 18.109375 54.6875 \r\nL 18.109375 46.1875 \r\nQ 20.953125 51.171875 25.484375 53.578125 \r\nQ 30.03125 56 36.53125 56 \r\nQ 37.453125 56 38.578125 55.875 \r\nQ 39.703125 55.765625 41.0625 55.515625 \r\nz\r\n\" id=\"DejaVuSans-114\"/>\r\n      </defs>\r\n      <g transform=\"translate(182.112537 250.43625)scale(0.1 -0.1)\">\r\n       <use xlink:href=\"#DejaVuSans-119\"/>\r\n       <use x=\"81.787109\" xlink:href=\"#DejaVuSans-111\"/>\r\n       <use x=\"142.96875\" xlink:href=\"#DejaVuSans-114\"/>\r\n       <use x=\"184.066406\" xlink:href=\"#DejaVuSans-100\"/>\r\n      </g>\r\n      <!-- length: -->\r\n      <defs>\r\n       <path d=\"M 45.40625 27.984375 \r\nQ 45.40625 37.75 41.375 43.109375 \r\nQ 37.359375 48.484375 30.078125 48.484375 \r\nQ 22.859375 48.484375 18.828125 43.109375 \r\nQ 14.796875 37.75 14.796875 27.984375 \r\nQ 14.796875 18.265625 18.828125 12.890625 \r\nQ 22.859375 7.515625 30.078125 7.515625 \r\nQ 37.359375 7.515625 41.375 12.890625 \r\nQ 45.40625 18.265625 45.40625 27.984375 \r\nz\r\nM 54.390625 6.78125 \r\nQ 54.390625 -7.171875 48.1875 -13.984375 \r\nQ 42 -20.796875 29.203125 -20.796875 \r\nQ 24.46875 -20.796875 20.265625 -20.09375 \r\nQ 16.0625 -19.390625 12.109375 -17.921875 \r\nL 12.109375 -9.1875 \r\nQ 16.0625 -11.328125 19.921875 -12.34375 \r\nQ 23.78125 -13.375 27.78125 -13.375 \r\nQ 36.625 -13.375 41.015625 -8.765625 \r\nQ 45.40625 -4.15625 45.40625 5.171875 \r\nL 45.40625 9.625 \r\nQ 42.625 4.78125 38.28125 2.390625 \r\nQ 33.9375 0 27.875 0 \r\nQ 17.828125 0 11.671875 7.65625 \r\nQ 5.515625 15.328125 5.515625 27.984375 \r\nQ 5.515625 40.671875 11.671875 48.328125 \r\nQ 17.828125 56 27.875 56 \r\nQ 33.9375 56 38.28125 53.609375 \r\nQ 42.625 51.21875 45.40625 46.390625 \r\nL 45.40625 54.6875 \r\nL 54.390625 54.6875 \r\nz\r\n\" id=\"DejaVuSans-103\"/>\r\n       <path d=\"M 54.890625 33.015625 \r\nL 54.890625 0 \r\nL 45.90625 0 \r\nL 45.90625 32.71875 \r\nQ 45.90625 40.484375 42.875 44.328125 \r\nQ 39.84375 48.1875 33.796875 48.1875 \r\nQ 26.515625 48.1875 22.3125 43.546875 \r\nQ 18.109375 38.921875 18.109375 30.90625 \r\nL 18.109375 0 \r\nL 9.078125 0 \r\nL 9.078125 75.984375 \r\nL 18.109375 75.984375 \r\nL 18.109375 46.1875 \r\nQ 21.34375 51.125 25.703125 53.5625 \r\nQ 30.078125 56 35.796875 56 \r\nQ 45.21875 56 50.046875 50.171875 \r\nQ 54.890625 44.34375 54.890625 33.015625 \r\nz\r\n\" id=\"DejaVuSans-104\"/>\r\n      </defs>\r\n      <g transform=\"translate(176.868005 261.634063)scale(0.1 -0.1)\">\r\n       <use xlink:href=\"#DejaVuSans-108\"/>\r\n       <use x=\"27.783203\" xlink:href=\"#DejaVuSans-101\"/>\r\n       <use x=\"89.306641\" xlink:href=\"#DejaVuSans-110\"/>\r\n       <use x=\"152.685547\" xlink:href=\"#DejaVuSans-103\"/>\r\n       <use x=\"216.162109\" xlink:href=\"#DejaVuSans-116\"/>\r\n       <use x=\"255.371094\" xlink:href=\"#DejaVuSans-104\"/>\r\n       <use x=\"318.75\" xlink:href=\"#DejaVuSans-58\"/>\r\n      </g>\r\n     </g>\r\n    </g>\r\n    <g id=\"xtick_4\">\r\n     <g id=\"line2d_4\">\r\n      <g>\r\n       <use style=\"stroke:#000000;stroke-width:0.8;\" x=\"246.96637\" xlink:href=\"#ma2e4b4ca3d\" y=\"224.64\"/>\r\n      </g>\r\n     </g>\r\n     <g id=\"text_4\">\r\n      <!-- Max -->\r\n      <defs>\r\n       <path d=\"M 54.890625 54.6875 \r\nL 35.109375 28.078125 \r\nL 55.90625 0 \r\nL 45.3125 0 \r\nL 29.390625 21.484375 \r\nL 13.484375 0 \r\nL 2.875 0 \r\nL 24.125 28.609375 \r\nL 4.6875 54.6875 \r\nL 15.28125 54.6875 \r\nL 29.78125 35.203125 \r\nL 44.28125 54.6875 \r\nz\r\n\" id=\"DejaVuSans-120\"/>\r\n      </defs>\r\n      <g transform=\"translate(236.62887 239.238438)scale(0.1 -0.1)\">\r\n       <use xlink:href=\"#DejaVuSans-77\"/>\r\n       <use x=\"86.279297\" xlink:href=\"#DejaVuSans-97\"/>\r\n       <use x=\"147.558594\" xlink:href=\"#DejaVuSans-120\"/>\r\n      </g>\r\n      <!-- word -->\r\n      <g transform=\"translate(234.589026 250.43625)scale(0.1 -0.1)\">\r\n       <use xlink:href=\"#DejaVuSans-119\"/>\r\n       <use x=\"81.787109\" xlink:href=\"#DejaVuSans-111\"/>\r\n       <use x=\"142.96875\" xlink:href=\"#DejaVuSans-114\"/>\r\n       <use x=\"184.066406\" xlink:href=\"#DejaVuSans-100\"/>\r\n      </g>\r\n      <!-- length: -->\r\n      <g transform=\"translate(229.344495 261.634063)scale(0.1 -0.1)\">\r\n       <use xlink:href=\"#DejaVuSans-108\"/>\r\n       <use x=\"27.783203\" xlink:href=\"#DejaVuSans-101\"/>\r\n       <use x=\"89.306641\" xlink:href=\"#DejaVuSans-110\"/>\r\n       <use x=\"152.685547\" xlink:href=\"#DejaVuSans-103\"/>\r\n       <use x=\"216.162109\" xlink:href=\"#DejaVuSans-116\"/>\r\n       <use x=\"255.371094\" xlink:href=\"#DejaVuSans-104\"/>\r\n       <use x=\"318.75\" xlink:href=\"#DejaVuSans-58\"/>\r\n      </g>\r\n     </g>\r\n    </g>\r\n    <g id=\"xtick_5\">\r\n     <g id=\"line2d_5\">\r\n      <g>\r\n       <use style=\"stroke:#000000;stroke-width:0.8;\" x=\"299.442859\" xlink:href=\"#ma2e4b4ca3d\" y=\"224.64\"/>\r\n      </g>\r\n     </g>\r\n     <g id=\"text_5\">\r\n      <!-- Mean -->\r\n      <g transform=\"translate(285.819421 239.238438)scale(0.1 -0.1)\">\r\n       <use xlink:href=\"#DejaVuSans-77\"/>\r\n       <use x=\"86.279297\" xlink:href=\"#DejaVuSans-101\"/>\r\n       <use x=\"147.802734\" xlink:href=\"#DejaVuSans-97\"/>\r\n       <use x=\"209.082031\" xlink:href=\"#DejaVuSans-110\"/>\r\n      </g>\r\n      <!-- word -->\r\n      <g transform=\"translate(287.065515 250.43625)scale(0.1 -0.1)\">\r\n       <use xlink:href=\"#DejaVuSans-119\"/>\r\n       <use x=\"81.787109\" xlink:href=\"#DejaVuSans-111\"/>\r\n       <use x=\"142.96875\" xlink:href=\"#DejaVuSans-114\"/>\r\n       <use x=\"184.066406\" xlink:href=\"#DejaVuSans-100\"/>\r\n      </g>\r\n      <!-- length: -->\r\n      <g transform=\"translate(281.820984 261.634063)scale(0.1 -0.1)\">\r\n       <use xlink:href=\"#DejaVuSans-108\"/>\r\n       <use x=\"27.783203\" xlink:href=\"#DejaVuSans-101\"/>\r\n       <use x=\"89.306641\" xlink:href=\"#DejaVuSans-110\"/>\r\n       <use x=\"152.685547\" xlink:href=\"#DejaVuSans-103\"/>\r\n       <use x=\"216.162109\" xlink:href=\"#DejaVuSans-116\"/>\r\n       <use x=\"255.371094\" xlink:href=\"#DejaVuSans-104\"/>\r\n       <use x=\"318.75\" xlink:href=\"#DejaVuSans-58\"/>\r\n      </g>\r\n     </g>\r\n    </g>\r\n    <g id=\"xtick_6\">\r\n     <g id=\"line2d_6\">\r\n      <g>\r\n       <use style=\"stroke:#000000;stroke-width:0.8;\" x=\"351.919348\" xlink:href=\"#ma2e4b4ca3d\" y=\"224.64\"/>\r\n      </g>\r\n     </g>\r\n     <g id=\"text_6\">\r\n      <!-- The -->\r\n      <g transform=\"translate(342.620129 239.238438)scale(0.1 -0.1)\">\r\n       <use xlink:href=\"#DejaVuSans-84\"/>\r\n       <use x=\"61.083984\" xlink:href=\"#DejaVuSans-104\"/>\r\n       <use x=\"124.462891\" xlink:href=\"#DejaVuSans-101\"/>\r\n      </g>\r\n      <!-- most -->\r\n      <g transform=\"translate(339.424816 250.43625)scale(0.1 -0.1)\">\r\n       <use xlink:href=\"#DejaVuSans-109\"/>\r\n       <use x=\"97.412109\" xlink:href=\"#DejaVuSans-111\"/>\r\n       <use x=\"158.59375\" xlink:href=\"#DejaVuSans-115\"/>\r\n       <use x=\"210.693359\" xlink:href=\"#DejaVuSans-116\"/>\r\n      </g>\r\n      <!-- frequent -->\r\n      <defs>\r\n       <path d=\"M 37.109375 75.984375 \r\nL 37.109375 68.5 \r\nL 28.515625 68.5 \r\nQ 23.6875 68.5 21.796875 66.546875 \r\nQ 19.921875 64.59375 19.921875 59.515625 \r\nL 19.921875 54.6875 \r\nL 34.71875 54.6875 \r\nL 34.71875 47.703125 \r\nL 19.921875 47.703125 \r\nL 19.921875 0 \r\nL 10.890625 0 \r\nL 10.890625 47.703125 \r\nL 2.296875 47.703125 \r\nL 2.296875 54.6875 \r\nL 10.890625 54.6875 \r\nL 10.890625 58.5 \r\nQ 10.890625 67.625 15.140625 71.796875 \r\nQ 19.390625 75.984375 28.609375 75.984375 \r\nz\r\n\" id=\"DejaVuSans-102\"/>\r\n       <path d=\"M 14.796875 27.296875 \r\nQ 14.796875 17.390625 18.875 11.75 \r\nQ 22.953125 6.109375 30.078125 6.109375 \r\nQ 37.203125 6.109375 41.296875 11.75 \r\nQ 45.40625 17.390625 45.40625 27.296875 \r\nQ 45.40625 37.203125 41.296875 42.84375 \r\nQ 37.203125 48.484375 30.078125 48.484375 \r\nQ 22.953125 48.484375 18.875 42.84375 \r\nQ 14.796875 37.203125 14.796875 27.296875 \r\nz\r\nM 45.40625 8.203125 \r\nQ 42.578125 3.328125 38.25 0.953125 \r\nQ 33.9375 -1.421875 27.875 -1.421875 \r\nQ 17.96875 -1.421875 11.734375 6.484375 \r\nQ 5.515625 14.40625 5.515625 27.296875 \r\nQ 5.515625 40.1875 11.734375 48.09375 \r\nQ 17.96875 56 27.875 56 \r\nQ 33.9375 56 38.25 53.625 \r\nQ 42.578125 51.265625 45.40625 46.390625 \r\nL 45.40625 54.6875 \r\nL 54.390625 54.6875 \r\nL 54.390625 -20.796875 \r\nL 45.40625 -20.796875 \r\nz\r\n\" id=\"DejaVuSans-113\"/>\r\n       <path d=\"M 8.5 21.578125 \r\nL 8.5 54.6875 \r\nL 17.484375 54.6875 \r\nL 17.484375 21.921875 \r\nQ 17.484375 14.15625 20.5 10.265625 \r\nQ 23.53125 6.390625 29.59375 6.390625 \r\nQ 36.859375 6.390625 41.078125 11.03125 \r\nQ 45.3125 15.671875 45.3125 23.6875 \r\nL 45.3125 54.6875 \r\nL 54.296875 54.6875 \r\nL 54.296875 0 \r\nL 45.3125 0 \r\nL 45.3125 8.40625 \r\nQ 42.046875 3.421875 37.71875 1 \r\nQ 33.40625 -1.421875 27.6875 -1.421875 \r\nQ 18.265625 -1.421875 13.375 4.4375 \r\nQ 8.5 10.296875 8.5 21.578125 \r\nz\r\nM 31.109375 56 \r\nz\r\n\" id=\"DejaVuSans-117\"/>\r\n      </defs>\r\n      <g transform=\"translate(330.480285 261.634063)scale(0.1 -0.1)\">\r\n       <use xlink:href=\"#DejaVuSans-102\"/>\r\n       <use x=\"35.205078\" xlink:href=\"#DejaVuSans-114\"/>\r\n       <use x=\"76.287109\" xlink:href=\"#DejaVuSans-101\"/>\r\n       <use x=\"137.810547\" xlink:href=\"#DejaVuSans-113\"/>\r\n       <use x=\"201.287109\" xlink:href=\"#DejaVuSans-117\"/>\r\n       <use x=\"264.666016\" xlink:href=\"#DejaVuSans-101\"/>\r\n       <use x=\"326.189453\" xlink:href=\"#DejaVuSans-110\"/>\r\n       <use x=\"389.568359\" xlink:href=\"#DejaVuSans-116\"/>\r\n      </g>\r\n      <!-- word: -->\r\n      <g transform=\"translate(337.857629 272.831875)scale(0.1 -0.1)\">\r\n       <use xlink:href=\"#DejaVuSans-119\"/>\r\n       <use x=\"81.787109\" xlink:href=\"#DejaVuSans-111\"/>\r\n       <use x=\"142.96875\" xlink:href=\"#DejaVuSans-114\"/>\r\n       <use x=\"184.066406\" xlink:href=\"#DejaVuSans-100\"/>\r\n       <use x=\"247.542969\" xlink:href=\"#DejaVuSans-58\"/>\r\n      </g>\r\n      <!-- 〨ud -->\r\n      <defs>\r\n       <path d=\"M 4.984375 -17.671875 \r\nL 4.984375 70.515625 \r\nL 54.984375 70.515625 \r\nL 54.984375 -17.671875 \r\nz\r\nM 10.59375 -12.109375 \r\nL 49.421875 -12.109375 \r\nL 49.421875 64.890625 \r\nL 10.59375 64.890625 \r\nz\r\n\" id=\"DejaVuSans-12328\"/>\r\n      </defs>\r\n      <g transform=\"translate(342.575598 284.029688)scale(0.1 -0.1)\">\r\n       <use xlink:href=\"#DejaVuSans-12328\"/>\r\n       <use x=\"60.009766\" xlink:href=\"#DejaVuSans-117\"/>\r\n       <use x=\"123.388672\" xlink:href=\"#DejaVuSans-100\"/>\r\n      </g>\r\n     </g>\r\n    </g>\r\n    <g id=\"text_7\">\r\n     <!-- Criteria -->\r\n     <defs>\r\n      <path d=\"M 64.40625 67.28125 \r\nL 64.40625 56.890625 \r\nQ 59.421875 61.53125 53.78125 63.8125 \r\nQ 48.140625 66.109375 41.796875 66.109375 \r\nQ 29.296875 66.109375 22.65625 58.46875 \r\nQ 16.015625 50.828125 16.015625 36.375 \r\nQ 16.015625 21.96875 22.65625 14.328125 \r\nQ 29.296875 6.6875 41.796875 6.6875 \r\nQ 48.140625 6.6875 53.78125 8.984375 \r\nQ 59.421875 11.28125 64.40625 15.921875 \r\nL 64.40625 5.609375 \r\nQ 59.234375 2.09375 53.4375 0.328125 \r\nQ 47.65625 -1.421875 41.21875 -1.421875 \r\nQ 24.65625 -1.421875 15.125 8.703125 \r\nQ 5.609375 18.84375 5.609375 36.375 \r\nQ 5.609375 53.953125 15.125 64.078125 \r\nQ 24.65625 74.21875 41.21875 74.21875 \r\nQ 47.75 74.21875 53.53125 72.484375 \r\nQ 59.328125 70.75 64.40625 67.28125 \r\nz\r\n\" id=\"DejaVuSans-67\"/>\r\n     </defs>\r\n     <g transform=\"translate(202.246875 297.707812)scale(0.1 -0.1)\">\r\n      <use xlink:href=\"#DejaVuSans-67\"/>\r\n      <use x=\"69.824219\" xlink:href=\"#DejaVuSans-114\"/>\r\n      <use x=\"110.9375\" xlink:href=\"#DejaVuSans-105\"/>\r\n      <use x=\"138.720703\" xlink:href=\"#DejaVuSans-116\"/>\r\n      <use x=\"177.929688\" xlink:href=\"#DejaVuSans-101\"/>\r\n      <use x=\"239.453125\" xlink:href=\"#DejaVuSans-114\"/>\r\n      <use x=\"280.566406\" xlink:href=\"#DejaVuSans-105\"/>\r\n      <use x=\"308.349609\" xlink:href=\"#DejaVuSans-97\"/>\r\n     </g>\r\n    </g>\r\n   </g>\r\n   <g id=\"matplotlib.axis_2\">\r\n    <g id=\"ytick_1\">\r\n     <g id=\"line2d_7\">\r\n      <defs>\r\n       <path d=\"M 0 0 \r\nL -3.5 0 \r\n\" id=\"mc13c9f8afb\" style=\"stroke:#000000;stroke-width:0.8;\"/>\r\n      </defs>\r\n      <g>\r\n       <use style=\"stroke:#000000;stroke-width:0.8;\" x=\"53.328125\" xlink:href=\"#mc13c9f8afb\" y=\"224.64\"/>\r\n      </g>\r\n     </g>\r\n     <g id=\"text_8\">\r\n      <!-- 0 -->\r\n      <defs>\r\n       <path d=\"M 31.78125 66.40625 \r\nQ 24.171875 66.40625 20.328125 58.90625 \r\nQ 16.5 51.421875 16.5 36.375 \r\nQ 16.5 21.390625 20.328125 13.890625 \r\nQ 24.171875 6.390625 31.78125 6.390625 \r\nQ 39.453125 6.390625 43.28125 13.890625 \r\nQ 47.125 21.390625 47.125 36.375 \r\nQ 47.125 51.421875 43.28125 58.90625 \r\nQ 39.453125 66.40625 31.78125 66.40625 \r\nz\r\nM 31.78125 74.21875 \r\nQ 44.046875 74.21875 50.515625 64.515625 \r\nQ 56.984375 54.828125 56.984375 36.375 \r\nQ 56.984375 17.96875 50.515625 8.265625 \r\nQ 44.046875 -1.421875 31.78125 -1.421875 \r\nQ 19.53125 -1.421875 13.0625 8.265625 \r\nQ 6.59375 17.96875 6.59375 36.375 \r\nQ 6.59375 54.828125 13.0625 64.515625 \r\nQ 19.53125 74.21875 31.78125 74.21875 \r\nz\r\n\" id=\"DejaVuSans-48\"/>\r\n      </defs>\r\n      <g transform=\"translate(39.965625 228.439219)scale(0.1 -0.1)\">\r\n       <use xlink:href=\"#DejaVuSans-48\"/>\r\n      </g>\r\n     </g>\r\n    </g>\r\n    <g id=\"ytick_2\">\r\n     <g id=\"line2d_8\">\r\n      <g>\r\n       <use style=\"stroke:#000000;stroke-width:0.8;\" x=\"53.328125\" xlink:href=\"#mc13c9f8afb\" y=\"176.334492\"/>\r\n      </g>\r\n     </g>\r\n     <g id=\"text_9\">\r\n      <!-- 2000 -->\r\n      <defs>\r\n       <path d=\"M 19.1875 8.296875 \r\nL 53.609375 8.296875 \r\nL 53.609375 0 \r\nL 7.328125 0 \r\nL 7.328125 8.296875 \r\nQ 12.9375 14.109375 22.625 23.890625 \r\nQ 32.328125 33.6875 34.8125 36.53125 \r\nQ 39.546875 41.84375 41.421875 45.53125 \r\nQ 43.3125 49.21875 43.3125 52.78125 \r\nQ 43.3125 58.59375 39.234375 62.25 \r\nQ 35.15625 65.921875 28.609375 65.921875 \r\nQ 23.96875 65.921875 18.8125 64.3125 \r\nQ 13.671875 62.703125 7.8125 59.421875 \r\nL 7.8125 69.390625 \r\nQ 13.765625 71.78125 18.9375 73 \r\nQ 24.125 74.21875 28.421875 74.21875 \r\nQ 39.75 74.21875 46.484375 68.546875 \r\nQ 53.21875 62.890625 53.21875 53.421875 \r\nQ 53.21875 48.921875 51.53125 44.890625 \r\nQ 49.859375 40.875 45.40625 35.40625 \r\nQ 44.1875 33.984375 37.640625 27.21875 \r\nQ 31.109375 20.453125 19.1875 8.296875 \r\nz\r\n\" id=\"DejaVuSans-50\"/>\r\n      </defs>\r\n      <g transform=\"translate(20.878125 180.13371)scale(0.1 -0.1)\">\r\n       <use xlink:href=\"#DejaVuSans-50\"/>\r\n       <use x=\"63.623047\" xlink:href=\"#DejaVuSans-48\"/>\r\n       <use x=\"127.246094\" xlink:href=\"#DejaVuSans-48\"/>\r\n       <use x=\"190.869141\" xlink:href=\"#DejaVuSans-48\"/>\r\n      </g>\r\n     </g>\r\n    </g>\r\n    <g id=\"ytick_3\">\r\n     <g id=\"line2d_9\">\r\n      <g>\r\n       <use style=\"stroke:#000000;stroke-width:0.8;\" x=\"53.328125\" xlink:href=\"#mc13c9f8afb\" y=\"128.028983\"/>\r\n      </g>\r\n     </g>\r\n     <g id=\"text_10\">\r\n      <!-- 4000 -->\r\n      <defs>\r\n       <path d=\"M 37.796875 64.3125 \r\nL 12.890625 25.390625 \r\nL 37.796875 25.390625 \r\nz\r\nM 35.203125 72.90625 \r\nL 47.609375 72.90625 \r\nL 47.609375 25.390625 \r\nL 58.015625 25.390625 \r\nL 58.015625 17.1875 \r\nL 47.609375 17.1875 \r\nL 47.609375 0 \r\nL 37.796875 0 \r\nL 37.796875 17.1875 \r\nL 4.890625 17.1875 \r\nL 4.890625 26.703125 \r\nz\r\n\" id=\"DejaVuSans-52\"/>\r\n      </defs>\r\n      <g transform=\"translate(20.878125 131.828202)scale(0.1 -0.1)\">\r\n       <use xlink:href=\"#DejaVuSans-52\"/>\r\n       <use x=\"63.623047\" xlink:href=\"#DejaVuSans-48\"/>\r\n       <use x=\"127.246094\" xlink:href=\"#DejaVuSans-48\"/>\r\n       <use x=\"190.869141\" xlink:href=\"#DejaVuSans-48\"/>\r\n      </g>\r\n     </g>\r\n    </g>\r\n    <g id=\"ytick_4\">\r\n     <g id=\"line2d_10\">\r\n      <g>\r\n       <use style=\"stroke:#000000;stroke-width:0.8;\" x=\"53.328125\" xlink:href=\"#mc13c9f8afb\" y=\"79.723475\"/>\r\n      </g>\r\n     </g>\r\n     <g id=\"text_11\">\r\n      <!-- 6000 -->\r\n      <defs>\r\n       <path d=\"M 33.015625 40.375 \r\nQ 26.375 40.375 22.484375 35.828125 \r\nQ 18.609375 31.296875 18.609375 23.390625 \r\nQ 18.609375 15.53125 22.484375 10.953125 \r\nQ 26.375 6.390625 33.015625 6.390625 \r\nQ 39.65625 6.390625 43.53125 10.953125 \r\nQ 47.40625 15.53125 47.40625 23.390625 \r\nQ 47.40625 31.296875 43.53125 35.828125 \r\nQ 39.65625 40.375 33.015625 40.375 \r\nz\r\nM 52.59375 71.296875 \r\nL 52.59375 62.3125 \r\nQ 48.875 64.0625 45.09375 64.984375 \r\nQ 41.3125 65.921875 37.59375 65.921875 \r\nQ 27.828125 65.921875 22.671875 59.328125 \r\nQ 17.53125 52.734375 16.796875 39.40625 \r\nQ 19.671875 43.65625 24.015625 45.921875 \r\nQ 28.375 48.1875 33.59375 48.1875 \r\nQ 44.578125 48.1875 50.953125 41.515625 \r\nQ 57.328125 34.859375 57.328125 23.390625 \r\nQ 57.328125 12.15625 50.6875 5.359375 \r\nQ 44.046875 -1.421875 33.015625 -1.421875 \r\nQ 20.359375 -1.421875 13.671875 8.265625 \r\nQ 6.984375 17.96875 6.984375 36.375 \r\nQ 6.984375 53.65625 15.1875 63.9375 \r\nQ 23.390625 74.21875 37.203125 74.21875 \r\nQ 40.921875 74.21875 44.703125 73.484375 \r\nQ 48.484375 72.75 52.59375 71.296875 \r\nz\r\n\" id=\"DejaVuSans-54\"/>\r\n      </defs>\r\n      <g transform=\"translate(20.878125 83.522694)scale(0.1 -0.1)\">\r\n       <use xlink:href=\"#DejaVuSans-54\"/>\r\n       <use x=\"63.623047\" xlink:href=\"#DejaVuSans-48\"/>\r\n       <use x=\"127.246094\" xlink:href=\"#DejaVuSans-48\"/>\r\n       <use x=\"190.869141\" xlink:href=\"#DejaVuSans-48\"/>\r\n      </g>\r\n     </g>\r\n    </g>\r\n    <g id=\"ytick_5\">\r\n     <g id=\"line2d_11\">\r\n      <g>\r\n       <use style=\"stroke:#000000;stroke-width:0.8;\" x=\"53.328125\" xlink:href=\"#mc13c9f8afb\" y=\"31.417967\"/>\r\n      </g>\r\n     </g>\r\n     <g id=\"text_12\">\r\n      <!-- 8000 -->\r\n      <defs>\r\n       <path d=\"M 31.78125 34.625 \r\nQ 24.75 34.625 20.71875 30.859375 \r\nQ 16.703125 27.09375 16.703125 20.515625 \r\nQ 16.703125 13.921875 20.71875 10.15625 \r\nQ 24.75 6.390625 31.78125 6.390625 \r\nQ 38.8125 6.390625 42.859375 10.171875 \r\nQ 46.921875 13.96875 46.921875 20.515625 \r\nQ 46.921875 27.09375 42.890625 30.859375 \r\nQ 38.875 34.625 31.78125 34.625 \r\nz\r\nM 21.921875 38.8125 \r\nQ 15.578125 40.375 12.03125 44.71875 \r\nQ 8.5 49.078125 8.5 55.328125 \r\nQ 8.5 64.0625 14.71875 69.140625 \r\nQ 20.953125 74.21875 31.78125 74.21875 \r\nQ 42.671875 74.21875 48.875 69.140625 \r\nQ 55.078125 64.0625 55.078125 55.328125 \r\nQ 55.078125 49.078125 51.53125 44.71875 \r\nQ 48 40.375 41.703125 38.8125 \r\nQ 48.828125 37.15625 52.796875 32.3125 \r\nQ 56.78125 27.484375 56.78125 20.515625 \r\nQ 56.78125 9.90625 50.3125 4.234375 \r\nQ 43.84375 -1.421875 31.78125 -1.421875 \r\nQ 19.734375 -1.421875 13.25 4.234375 \r\nQ 6.78125 9.90625 6.78125 20.515625 \r\nQ 6.78125 27.484375 10.78125 32.3125 \r\nQ 14.796875 37.15625 21.921875 38.8125 \r\nz\r\nM 18.3125 54.390625 \r\nQ 18.3125 48.734375 21.84375 45.5625 \r\nQ 25.390625 42.390625 31.78125 42.390625 \r\nQ 38.140625 42.390625 41.71875 45.5625 \r\nQ 45.3125 48.734375 45.3125 54.390625 \r\nQ 45.3125 60.0625 41.71875 63.234375 \r\nQ 38.140625 66.40625 31.78125 66.40625 \r\nQ 25.390625 66.40625 21.84375 63.234375 \r\nQ 18.3125 60.0625 18.3125 54.390625 \r\nz\r\n\" id=\"DejaVuSans-56\"/>\r\n      </defs>\r\n      <g transform=\"translate(20.878125 35.217185)scale(0.1 -0.1)\">\r\n       <use xlink:href=\"#DejaVuSans-56\"/>\r\n       <use x=\"63.623047\" xlink:href=\"#DejaVuSans-48\"/>\r\n       <use x=\"127.246094\" xlink:href=\"#DejaVuSans-48\"/>\r\n       <use x=\"190.869141\" xlink:href=\"#DejaVuSans-48\"/>\r\n      </g>\r\n     </g>\r\n    </g>\r\n    <g id=\"text_13\">\r\n     <!-- Value -->\r\n     <defs>\r\n      <path d=\"M 28.609375 0 \r\nL 0.78125 72.90625 \r\nL 11.078125 72.90625 \r\nL 34.1875 11.53125 \r\nL 57.328125 72.90625 \r\nL 67.578125 72.90625 \r\nL 39.796875 0 \r\nz\r\n\" id=\"DejaVuSans-86\"/>\r\n     </defs>\r\n     <g transform=\"translate(14.798438 130.033281)rotate(-90)scale(0.1 -0.1)\">\r\n      <use xlink:href=\"#DejaVuSans-86\"/>\r\n      <use x=\"68.298828\" xlink:href=\"#DejaVuSans-97\"/>\r\n      <use x=\"129.578125\" xlink:href=\"#DejaVuSans-108\"/>\r\n      <use x=\"157.361328\" xlink:href=\"#DejaVuSans-117\"/>\r\n      <use x=\"220.740234\" xlink:href=\"#DejaVuSans-101\"/>\r\n     </g>\r\n    </g>\r\n   </g>\r\n   <g id=\"patch_9\">\r\n    <path d=\"M 53.328125 224.64 \r\nL 53.328125 7.2 \r\n\" style=\"fill:none;stroke:#000000;stroke-linecap:square;stroke-linejoin:miter;stroke-width:0.8;\"/>\r\n   </g>\r\n   <g id=\"patch_10\">\r\n    <path d=\"M 388.128125 224.64 \r\nL 388.128125 7.2 \r\n\" style=\"fill:none;stroke:#000000;stroke-linecap:square;stroke-linejoin:miter;stroke-width:0.8;\"/>\r\n   </g>\r\n   <g id=\"patch_11\">\r\n    <path d=\"M 53.328125 224.64 \r\nL 388.128125 224.64 \r\n\" style=\"fill:none;stroke:#000000;stroke-linecap:square;stroke-linejoin:miter;stroke-width:0.8;\"/>\r\n   </g>\r\n   <g id=\"patch_12\">\r\n    <path d=\"M 53.328125 7.2 \r\nL 388.128125 7.2 \r\n\" style=\"fill:none;stroke:#000000;stroke-linecap:square;stroke-linejoin:miter;stroke-width:0.8;\"/>\r\n   </g>\r\n  </g>\r\n </g>\r\n <defs>\r\n  <clipPath id=\"pebe456e0b7\">\r\n   <rect height=\"217.44\" width=\"334.8\" x=\"53.328125\" y=\"7.2\"/>\r\n  </clipPath>\r\n </defs>\r\n</svg>\r\n",
      "image/png": "[encoded data removed]"
     },
     "metadata": {
      "needs_background": "light"
     }
    }
   ],
   "source": [
    "total_accepted_sms = len(sms[sms[0]==0])\n",
    "print('Total accepted sms:', total_accepted_sms)\n",
    "total_spam_sms = len(sms[sms[0]==1])\n",
    "print('Total spam sms:', total_spam_sms)\n",
    "\n",
    "word_length_data = sms.loc[:, 1].apply(lambda x: len(x.split()))\n",
    "print('Min word length:', word_length_data.min())\n",
    "print('Max word length:', word_length_data.max())\n",
    "print('Mean word length:', int((word_length_data.mean())))\n",
    "\n",
    "most_frequent_word = [(key, value)  for (key, value) in words_frequency.items() if value == max(words_frequency.values())]\n",
    "print('The most frequent word:', most_frequent_word)\n",
    "\n",
    "x = np.array(['Total\\naccepted\\nsms:', 'Total\\nspam\\nsms:', 'Min\\nword\\nlength:', 'Max\\nword\\nlength:', 'Mean\\nword\\nlength:', 'The\\nmost\\nfrequent\\nword:\\n' + most_frequent_word[0][0]])\n",
    "y = np.array([total_accepted_sms, total_spam_sms, word_length_data.min(), word_length_data.max(), int((word_length_data.mean())), most_frequent_word[0][1]])\n",
    "plt.bar(x, y)\n",
    "plt.xlabel('Criteria')\n",
    "plt.ylabel('Value')\n",
    "plt.show()"
   ]
  },
  {
   "cell_type": "markdown",
   "metadata": {},
   "source": [
    "# Afisarea fiecarui sms cu numarul de cuvinte"
   ]
  },
  {
   "cell_type": "code",
   "execution_count": 5,
   "metadata": {},
   "outputs": [
    {
     "output_type": "execute_result",
     "data": {
      "text/plain": "                                                   text no_words\n0     Go until jurong point, crazy.. Available only ...       20\n1                         Ok lar... Joking wif u oni...        6\n2     Free entry in 2 a wkly comp to win FA Cup fina...       28\n3     U dun say so early hor... U c already then say...       11\n4     Nah I don't think he goes to usf, he lives aro...       13\n...                                                 ...      ...\n5567  This is the 2nd time we have tried 2 contact u...       30\n5568               Will ü b going to esplanade fr home?        8\n5569  Pity, * was in mood for that. So...any other s...       10\n5570  The guy did some bitching but I acted like i'd...       26\n5571                         Rofl. Its true to its name        6\n\n[5572 rows x 2 columns]",
      "text/html": "<div>\n<style scoped>\n    .dataframe tbody tr th:only-of-type {\n        vertical-align: middle;\n    }\n\n    .dataframe tbody tr th {\n        vertical-align: top;\n    }\n\n    .dataframe thead th {\n        text-align: right;\n    }\n</style>\n<table border=\"1\" class=\"dataframe\">\n  <thead>\n    <tr style=\"text-align: right;\">\n      <th></th>\n      <th>text</th>\n      <th>no_words</th>\n    </tr>\n  </thead>\n  <tbody>\n    <tr>\n      <th>0</th>\n      <td>Go until jurong point, crazy.. Available only ...</td>\n      <td>20</td>\n    </tr>\n    <tr>\n      <th>1</th>\n      <td>Ok lar... Joking wif u oni...</td>\n      <td>6</td>\n    </tr>\n    <tr>\n      <th>2</th>\n      <td>Free entry in 2 a wkly comp to win FA Cup fina...</td>\n      <td>28</td>\n    </tr>\n    <tr>\n      <th>3</th>\n      <td>U dun say so early hor... U c already then say...</td>\n      <td>11</td>\n    </tr>\n    <tr>\n      <th>4</th>\n      <td>Nah I don't think he goes to usf, he lives aro...</td>\n      <td>13</td>\n    </tr>\n    <tr>\n      <th>...</th>\n      <td>...</td>\n      <td>...</td>\n    </tr>\n    <tr>\n      <th>5567</th>\n      <td>This is the 2nd time we have tried 2 contact u...</td>\n      <td>30</td>\n    </tr>\n    <tr>\n      <th>5568</th>\n      <td>Will ü b going to esplanade fr home?</td>\n      <td>8</td>\n    </tr>\n    <tr>\n      <th>5569</th>\n      <td>Pity, * was in mood for that. So...any other s...</td>\n      <td>10</td>\n    </tr>\n    <tr>\n      <th>5570</th>\n      <td>The guy did some bitching but I acted like i'd...</td>\n      <td>26</td>\n    </tr>\n    <tr>\n      <th>5571</th>\n      <td>Rofl. Its true to its name</td>\n      <td>6</td>\n    </tr>\n  </tbody>\n</table>\n<p>5572 rows × 2 columns</p>\n</div>"
     },
     "metadata": {},
     "execution_count": 5
    }
   ],
   "source": [
    "words_number = sms.loc[:, 1].apply(lambda x:len(str(x).split(' ')))\n",
    "\n",
    "pd.DataFrame(np.matrix(list(zip(sms[1], words_number))), columns=['text', 'no_words'])"
   ]
  },
  {
   "cell_type": "markdown",
   "metadata": {},
   "source": [
    "# Preprocesare"
   ]
  },
  {
   "cell_type": "markdown",
   "metadata": {},
   "source": [
    "## Am convertit la litere mici"
   ]
  },
  {
   "cell_type": "code",
   "execution_count": 6,
   "metadata": {},
   "outputs": [
    {
     "output_type": "execute_result",
     "data": {
      "text/plain": "0       go until jurong point, crazy.. available only ...\n1                           ok lar... joking wif u oni...\n2       free entry in 2 a wkly comp to win fa cup fina...\n3       u dun say so early hor... u c already then say...\n4       nah i don't think he goes to usf, he lives aro...\n                              ...                        \n5567    this is the 2nd time we have tried 2 contact u...\n5568                 will ü b going to esplanade fr home?\n5569    pity, * was in mood for that. so...any other s...\n5570    the guy did some bitching but i acted like i'd...\n5571                           rofl. its true to its name\nName: 1, Length: 5572, dtype: object"
     },
     "metadata": {},
     "execution_count": 6
    }
   ],
   "source": [
    "sms[1] = sms[1].apply(lambda x: x.lower())\n",
    "sms[1]"
   ]
  },
  {
   "cell_type": "markdown",
   "metadata": {},
   "source": [
    "## Am eliminat cifrele/numerele"
   ]
  },
  {
   "cell_type": "code",
   "execution_count": 7,
   "metadata": {},
   "outputs": [
    {
     "output_type": "execute_result",
     "data": {
      "text/plain": "0       go until jurong point, crazy.. available only ...\n1                           ok lar... joking wif u oni...\n2       free entry in   a wkly comp to win fa cup fina...\n3       u dun say so early hor... u c already then say...\n4       nah i don't think he goes to usf, he lives aro...\n                              ...                        \n5567    this is the  nd time we have tried   contact u...\n5568                 will ü b going to esplanade fr home?\n5569    pity, * was in mood for that. so...any other s...\n5570    the guy did some bitching but i acted like i'd...\n5571                           rofl. its true to its name\nName: 1, Length: 5572, dtype: object"
     },
     "metadata": {},
     "execution_count": 7
    }
   ],
   "source": [
    "sms[1] = sms[1].apply(lambda x: re.sub(r'\\d+', ' ', x))\n",
    "sms[1]\n"
   ]
  },
  {
   "cell_type": "markdown",
   "metadata": {},
   "source": [
    "## Am eliminat semnele de punctuatie"
   ]
  },
  {
   "cell_type": "code",
   "execution_count": 8,
   "metadata": {},
   "outputs": [
    {
     "output_type": "execute_result",
     "data": {
      "text/plain": "0       go until jurong point crazy available only in ...\n1                                 ok lar joking wif u oni\n2       free entry in   a wkly comp to win fa cup fina...\n3             u dun say so early hor u c already then say\n4       nah i dont think he goes to usf he lives aroun...\n                              ...                        \n5567    this is the  nd time we have tried   contact u...\n5568                  will ü b going to esplanade fr home\n5569    pity  was in mood for that soany other suggest...\n5570    the guy did some bitching but i acted like id ...\n5571                            rofl its true to its name\nName: 1, Length: 5572, dtype: object"
     },
     "metadata": {},
     "execution_count": 8
    }
   ],
   "source": [
    "sms[1] = sms[1].apply(lambda x: re.sub(r'[!\"#$%&\\'()*+,-./:;<=>?@[\\]ˆ_`{|}~]', '', x))\n",
    "sms[1]"
   ]
  },
  {
   "cell_type": "markdown",
   "metadata": {},
   "source": [
    "## Am eliminat spatiile albe (mai exact tab-urile \\t)"
   ]
  },
  {
   "cell_type": "code",
   "execution_count": 9,
   "metadata": {},
   "outputs": [
    {
     "output_type": "execute_result",
     "data": {
      "text/plain": "0       go until jurong point crazy available only in ...\n1                                 ok lar joking wif u oni\n2       free entry in   a wkly comp to win fa cup fina...\n3             u dun say so early hor u c already then say\n4       nah i dont think he goes to usf he lives aroun...\n                              ...                        \n5567    this is the  nd time we have tried   contact u...\n5568                  will ü b going to esplanade fr home\n5569    pity  was in mood for that soany other suggest...\n5570    the guy did some bitching but i acted like id ...\n5571                            rofl its true to its name\nName: 1, Length: 5572, dtype: object"
     },
     "metadata": {},
     "execution_count": 9
    }
   ],
   "source": [
    "sms[1] = sms[1].apply(lambda x: x.strip())\n",
    "sms[1]"
   ]
  },
  {
   "cell_type": "markdown",
   "metadata": {},
   "source": [
    "## Am eliminat spatiile duble"
   ]
  },
  {
   "cell_type": "code",
   "execution_count": 10,
   "metadata": {},
   "outputs": [
    {
     "output_type": "execute_result",
     "data": {
      "text/plain": "0       go until jurong point crazy available only in ...\n1                                 ok lar joking wif u oni\n2       free entry in a wkly comp to win fa cup final ...\n3             u dun say so early hor u c already then say\n4       nah i dont think he goes to usf he lives aroun...\n                              ...                        \n5567    this is the nd time we have tried contact u u ...\n5568                  will ü b going to esplanade fr home\n5569    pity was in mood for that soany other suggestions\n5570    the guy did some bitching but i acted like id ...\n5571                            rofl its true to its name\nName: 1, Length: 5572, dtype: object"
     },
     "metadata": {},
     "execution_count": 10
    }
   ],
   "source": [
    "sms[1] = sms[1].apply(lambda x: re.sub(r'\\s{2,}', ' ', x))\n",
    "sms[1]"
   ]
  },
  {
   "cell_type": "markdown",
   "metadata": {},
   "source": [
    "## Am transformat cuvintele derivate in cuvinte radacina"
   ]
  },
  {
   "cell_type": "code",
   "execution_count": 11,
   "metadata": {},
   "outputs": [
    {
     "output_type": "execute_result",
     "data": {
      "text/plain": "0       go until jurong point crazy available only in ...\n1                                 ok lar joking wif u oni\n2       free entry in a wkly comp to win fa cup final ...\n3             u dun say so early hor u c already then say\n4       nah i dont think he goes to usf he lives aroun...\n                              ...                        \n5567    this is the nd time we have tried contact u u ...\n5568                   will ü b going to esplanade fr hom\n5569        pity was in mood for that soany other suggest\n5570    the guy did some bitching but i acted like id ...\n5571                             rofl its true to its nam\nName: 1, Length: 5572, dtype: object"
     },
     "metadata": {},
     "execution_count": 11
    }
   ],
   "source": [
    "stemmer= PorterStemmer()\n",
    "sms[1] = sms[1].apply(lambda x: stemmer.stem(x))\n",
    "sms[1]"
   ]
  },
  {
   "cell_type": "markdown",
   "metadata": {},
   "source": [
    "# Codificare BoW"
   ]
  },
  {
   "cell_type": "code",
   "execution_count": 12,
   "metadata": {},
   "outputs": [],
   "source": [
    "bow = CountVectorizer(analyzer=\"word\")\n",
    "X = bow.fit_transform(sms.iloc[:, 1])\n",
    "y = sms.iloc[:, 0]"
   ]
  },
  {
   "cell_type": "markdown",
   "metadata": {},
   "source": [
    "# Clasificare"
   ]
  },
  {
   "cell_type": "code",
   "execution_count": 13,
   "metadata": {},
   "outputs": [],
   "source": [
    "sms_df = pd.DataFrame()"
   ]
  },
  {
   "cell_type": "code",
   "execution_count": 14,
   "metadata": {},
   "outputs": [],
   "source": [
    "parameters_dtc = {'splitter': ['best', 'random'], 'max_depth': [0.1, 0.2, 0.3, 0.4, 0.5, 0.6, 0.7, 0.8, 0.9, 1.0]}\n",
    "parameters_knn = {'n_neighbors': list(range(1, 10)), 'p': [1, 2, 3, 4.7]}\n",
    "parameters_svc = {'gamma': ['auto', 'scale'], 'C': list(range(1, 10))}\n",
    "parameters_rfc = {'max_depth': [0.1, 0.2, 0.3, 0.4, 0.5, 0.6, 0.7, 0.8, 0.9, 1.0]}"
   ]
  },
  {
   "cell_type": "markdown",
   "metadata": {},
   "source": [
    "## Primul model de clasificare: DecisionTreeClassifier"
   ]
  },
  {
   "cell_type": "code",
   "execution_count": 15,
   "metadata": {},
   "outputs": [],
   "source": [
    "grid_search_dtc = GridSearchCV(estimator=DecisionTreeClassifier(), param_grid=parameters_dtc, scoring='f1', cv=3)\n",
    "grid_scores_dtc = cross_validate(estimator=grid_search_dtc, scoring=('accuracy', 'f1'), X=X, y=y, cv=5, return_train_score=True)\n",
    "\n",
    "df_grid_sms = pd.DataFrame(grid_scores_dtc)\n",
    "df_grid_sms = df_grid_sms.mean()\n",
    "df_grid_sms['Model_name'] = 'DecisionTreeClassifier'\n",
    "df_grid_sms['Search_strategy'] = 'GridSearch'\n",
    "\n",
    "df_grid_sms = pd.Series(df_grid_sms)\n",
    "sms_df = sms_df.append(df_grid_sms, ignore_index=True)"
   ]
  },
  {
   "cell_type": "code",
   "execution_count": 16,
   "metadata": {},
   "outputs": [],
   "source": [
    "randomized_search_dtc = RandomizedSearchCV(estimator=DecisionTreeClassifier(), param_distributions=parameters_dtc, random_state=0, scoring='f1', cv=3, n_iter=5)\n",
    "randomized_scores_dtc = cross_validate(estimator=randomized_search_dtc, scoring=('accuracy', 'f1'), X=X, y=y, cv=5, return_train_score=True)\n",
    "\n",
    "df_randomized_sms = pd.DataFrame(randomized_scores_dtc)\n",
    "df_randomized_sms = df_randomized_sms.mean()\n",
    "df_randomized_sms['Model_name'] = 'DecisionTreeClassifier'\n",
    "df_randomized_sms['Search_strategy'] = 'RandomizedSearch'\n",
    "\n",
    "df_randomized_sms = pd.Series(df_randomized_sms)\n",
    "sms_df = sms_df.append(df_randomized_sms, ignore_index=True)"
   ]
  },
  {
   "cell_type": "markdown",
   "metadata": {},
   "source": [
    "## Al doilea model de clasificare: KNeighborsClassifier"
   ]
  },
  {
   "cell_type": "code",
   "execution_count": 17,
   "metadata": {},
   "outputs": [],
   "source": [
    "grid_search_knn = GridSearchCV(estimator=KNeighborsClassifier(), param_grid=parameters_knn, scoring='f1', cv=3)\n",
    "grid_scores_knn = cross_validate(estimator=grid_search_knn, scoring=('accuracy', 'f1'), X=X, y=y, cv=5, return_train_score=True)\n",
    "\n",
    "df_grid_sms = pd.DataFrame(grid_scores_knn)\n",
    "df_grid_sms = df_grid_sms.mean()\n",
    "df_grid_sms['Model_name'] = 'KNeighborsClassifier'\n",
    "df_grid_sms['Search_strategy'] = 'GridSearch'\n",
    "\n",
    "df_grid_sms = pd.Series(df_grid_sms)\n",
    "sms_df = sms_df.append(df_grid_sms, ignore_index=True)"
   ]
  },
  {
   "cell_type": "code",
   "execution_count": 18,
   "metadata": {},
   "outputs": [],
   "source": [
    "randomized_search_knn = RandomizedSearchCV(estimator=KNeighborsClassifier(), param_distributions=parameters_knn, random_state=0, scoring='f1', cv=3, n_iter=5)\n",
    "randomized_scores_knn = cross_validate(estimator=randomized_search_knn, scoring=('accuracy', 'f1'), X=X, y=y, cv=5, return_train_score=True)\n",
    "\n",
    "df_randomized_sms = pd.DataFrame(randomized_scores_knn)\n",
    "df_randomized_sms = df_randomized_sms.mean()\n",
    "df_randomized_sms['Model_name'] = 'KNeighborsClassifier'\n",
    "df_randomized_sms['Search_strategy'] = 'RandomizedSearch'\n",
    "\n",
    "df_randomized_sms = pd.Series(df_randomized_sms)\n",
    "sms_df = sms_df.append(df_randomized_sms, ignore_index=True)"
   ]
  },
  {
   "cell_type": "markdown",
   "metadata": {},
   "source": [
    "## Al treilea model de clasificare: SVM.SVC"
   ]
  },
  {
   "cell_type": "code",
   "execution_count": 19,
   "metadata": {},
   "outputs": [],
   "source": [
    "grid_search_svc = GridSearchCV(estimator=SVC(), param_grid=parameters_svc, scoring='f1', cv=3)\n",
    "grid_scores_svc = cross_validate(estimator=grid_search_svc, scoring=('accuracy', 'f1'), X=X, y=y, cv=5, return_train_score=True)\n",
    "\n",
    "df_grid_sms = pd.DataFrame(grid_scores_svc)\n",
    "df_grid_sms = df_grid_sms.mean()\n",
    "df_grid_sms['Model_name'] = 'SVC'\n",
    "df_grid_sms['Search_strategy'] = 'GridSearch'\n",
    "\n",
    "df_grid_sms = pd.Series(df_grid_sms)\n",
    "sms_df = sms_df.append(df_grid_sms, ignore_index=True)"
   ]
  },
  {
   "cell_type": "code",
   "execution_count": 20,
   "metadata": {},
   "outputs": [],
   "source": [
    "randomized_search_svc = RandomizedSearchCV(estimator=SVC(), param_distributions=parameters_svc, random_state=0, scoring='f1', cv=3, n_iter=5)\n",
    "randomized_scores_svc = cross_validate(estimator=randomized_search_svc, scoring=('accuracy', 'f1'), X=X, y=y, cv=5, return_train_score=True)\n",
    "\n",
    "df_randomized_sms = pd.DataFrame(randomized_scores_svc)\n",
    "df_randomized_sms = df_randomized_sms.mean()\n",
    "df_randomized_sms['Model_name'] = 'SVC'\n",
    "df_randomized_sms['Search_strategy'] = 'RandomizedSearch'\n",
    "\n",
    "df_randomized_sms = pd.Series(df_randomized_sms)\n",
    "sms_df = sms_df.append(df_randomized_sms, ignore_index=True)"
   ]
  },
  {
   "cell_type": "markdown",
   "metadata": {},
   "source": [
    "## Al patrulea model de clasificare: RandomForestClassifier"
   ]
  },
  {
   "cell_type": "code",
   "execution_count": 21,
   "metadata": {},
   "outputs": [],
   "source": [
    "grid_search_rfc = GridSearchCV(estimator=RandomForestClassifier(), param_grid=parameters_rfc, scoring='f1', cv=3)\n",
    "grid_scores_rfc = cross_validate(estimator=grid_search_rfc, scoring=('accuracy', 'f1'), X=X, y=y, cv=5, return_train_score=True)\n",
    "\n",
    "df_grid_sms = pd.DataFrame(grid_scores_rfc)\n",
    "df_grid_sms = df_grid_sms.mean()\n",
    "df_grid_sms['Model_name'] = 'RandomForestClassifier'\n",
    "df_grid_sms['Search_strategy'] = 'GridSearch'\n",
    "\n",
    "df_grid_sms = pd.Series(df_grid_sms)\n",
    "sms_df = sms_df.append(df_grid_sms, ignore_index=True)"
   ]
  },
  {
   "cell_type": "code",
   "execution_count": 22,
   "metadata": {},
   "outputs": [],
   "source": [
    "randomized_search_rfc = RandomizedSearchCV(estimator=RandomForestClassifier(), param_distributions=parameters_rfc, random_state=0, scoring='f1', cv=3, n_iter=5)\n",
    "randomized_scores_rfc = cross_validate(estimator=randomized_search_rfc, scoring=('accuracy', 'f1'), X=X, y=y, cv=5, return_train_score=True)\n",
    "\n",
    "df_randomized_sms = pd.DataFrame(randomized_scores_rfc)\n",
    "df_randomized_sms = df_randomized_sms.mean()\n",
    "df_randomized_sms['Model_name'] = 'RandomForestClassifier'\n",
    "df_randomized_sms['Search_strategy'] = 'RandomizedSearch'\n",
    "\n",
    "df_randomized_sms = pd.Series(df_randomized_sms)\n",
    "sms_df = sms_df.append(df_randomized_sms, ignore_index=True)"
   ]
  },
  {
   "cell_type": "markdown",
   "metadata": {},
   "source": [
    "# Raportul final"
   ]
  },
  {
   "cell_type": "code",
   "execution_count": 24,
   "metadata": {},
   "outputs": [
    {
     "output_type": "execute_result",
     "data": {
      "text/plain": "               Model_name   Search_strategy   fit_time  score_time  \\\n0  DecisionTreeClassifier        GridSearch   0.619141    0.003513   \n1  DecisionTreeClassifier  RandomizedSearch   0.375353    0.003196   \n2    KNeighborsClassifier        GridSearch  17.080231    0.244479   \n3    KNeighborsClassifier  RandomizedSearch   2.160306    0.378514   \n4                     SVC        GridSearch  47.792582    0.323490   \n5                     SVC  RandomizedSearch  14.366491    0.332816   \n6  RandomForestClassifier        GridSearch   7.797618    0.025346   \n7  RandomForestClassifier  RandomizedSearch   4.758844    0.034509   \n\n   test_accuracy   test_f1  train_accuracy  train_f1  \n0       0.879757  0.405432        0.884243  0.448013  \n1       0.879218  0.394608        0.881685  0.415575  \n2       0.950107  0.775309        1.000000  1.000000  \n3       0.919778  0.573848        0.933462  0.669939  \n4       0.976131  0.902440        0.999192  0.996978  \n5       0.973439  0.890467        0.994661  0.979682  \n6       0.865937  0.000000        0.865937  0.000000  \n7       0.865937  0.000000        0.865937  0.000000  ",
      "text/html": "<div>\n<style scoped>\n    .dataframe tbody tr th:only-of-type {\n        vertical-align: middle;\n    }\n\n    .dataframe tbody tr th {\n        vertical-align: top;\n    }\n\n    .dataframe thead th {\n        text-align: right;\n    }\n</style>\n<table border=\"1\" class=\"dataframe\">\n  <thead>\n    <tr style=\"text-align: right;\">\n      <th></th>\n      <th>Model_name</th>\n      <th>Search_strategy</th>\n      <th>fit_time</th>\n      <th>score_time</th>\n      <th>test_accuracy</th>\n      <th>test_f1</th>\n      <th>train_accuracy</th>\n      <th>train_f1</th>\n    </tr>\n  </thead>\n  <tbody>\n    <tr>\n      <th>0</th>\n      <td>DecisionTreeClassifier</td>\n      <td>GridSearch</td>\n      <td>0.619141</td>\n      <td>0.003513</td>\n      <td>0.879757</td>\n      <td>0.405432</td>\n      <td>0.884243</td>\n      <td>0.448013</td>\n    </tr>\n    <tr>\n      <th>1</th>\n      <td>DecisionTreeClassifier</td>\n      <td>RandomizedSearch</td>\n      <td>0.375353</td>\n      <td>0.003196</td>\n      <td>0.879218</td>\n      <td>0.394608</td>\n      <td>0.881685</td>\n      <td>0.415575</td>\n    </tr>\n    <tr>\n      <th>2</th>\n      <td>KNeighborsClassifier</td>\n      <td>GridSearch</td>\n      <td>17.080231</td>\n      <td>0.244479</td>\n      <td>0.950107</td>\n      <td>0.775309</td>\n      <td>1.000000</td>\n      <td>1.000000</td>\n    </tr>\n    <tr>\n      <th>3</th>\n      <td>KNeighborsClassifier</td>\n      <td>RandomizedSearch</td>\n      <td>2.160306</td>\n      <td>0.378514</td>\n      <td>0.919778</td>\n      <td>0.573848</td>\n      <td>0.933462</td>\n      <td>0.669939</td>\n    </tr>\n    <tr>\n      <th>4</th>\n      <td>SVC</td>\n      <td>GridSearch</td>\n      <td>47.792582</td>\n      <td>0.323490</td>\n      <td>0.976131</td>\n      <td>0.902440</td>\n      <td>0.999192</td>\n      <td>0.996978</td>\n    </tr>\n    <tr>\n      <th>5</th>\n      <td>SVC</td>\n      <td>RandomizedSearch</td>\n      <td>14.366491</td>\n      <td>0.332816</td>\n      <td>0.973439</td>\n      <td>0.890467</td>\n      <td>0.994661</td>\n      <td>0.979682</td>\n    </tr>\n    <tr>\n      <th>6</th>\n      <td>RandomForestClassifier</td>\n      <td>GridSearch</td>\n      <td>7.797618</td>\n      <td>0.025346</td>\n      <td>0.865937</td>\n      <td>0.000000</td>\n      <td>0.865937</td>\n      <td>0.000000</td>\n    </tr>\n    <tr>\n      <th>7</th>\n      <td>RandomForestClassifier</td>\n      <td>RandomizedSearch</td>\n      <td>4.758844</td>\n      <td>0.034509</td>\n      <td>0.865937</td>\n      <td>0.000000</td>\n      <td>0.865937</td>\n      <td>0.000000</td>\n    </tr>\n  </tbody>\n</table>\n</div>"
     },
     "metadata": {},
     "execution_count": 24
    }
   ],
   "source": [
    "sms_df"
   ]
  },
  {
   "cell_type": "code",
   "execution_count": 25,
   "metadata": {},
   "outputs": [
    {
     "output_type": "execute_result",
     "data": {
      "text/plain": "<pandas.io.formats.style.Styler at 0x2010a407448>",
      "text/html": "<style  type=\"text/css\" >\n    #T_fee3ba50_a103_11ea_8027_802bf95802a4row1_col2 {\n            : ;\n            background-color:  green;\n        }    #T_fee3ba50_a103_11ea_8027_802bf95802a4row1_col3 {\n            : ;\n            background-color:  green;\n        }    #T_fee3ba50_a103_11ea_8027_802bf95802a4row2_col6 {\n            background-color:  red;\n            : ;\n        }    #T_fee3ba50_a103_11ea_8027_802bf95802a4row2_col7 {\n            background-color:  red;\n            : ;\n        }    #T_fee3ba50_a103_11ea_8027_802bf95802a4row3_col3 {\n            background-color:  red;\n            : ;\n        }    #T_fee3ba50_a103_11ea_8027_802bf95802a4row4_col2 {\n            background-color:  red;\n            : ;\n        }    #T_fee3ba50_a103_11ea_8027_802bf95802a4row4_col4 {\n            background-color:  red;\n            : ;\n        }    #T_fee3ba50_a103_11ea_8027_802bf95802a4row4_col5 {\n            background-color:  red;\n            : ;\n        }    #T_fee3ba50_a103_11ea_8027_802bf95802a4row6_col4 {\n            : ;\n            background-color:  green;\n        }    #T_fee3ba50_a103_11ea_8027_802bf95802a4row6_col5 {\n            : ;\n            background-color:  green;\n        }    #T_fee3ba50_a103_11ea_8027_802bf95802a4row6_col6 {\n            : ;\n            background-color:  green;\n        }    #T_fee3ba50_a103_11ea_8027_802bf95802a4row6_col7 {\n            : ;\n            background-color:  green;\n        }    #T_fee3ba50_a103_11ea_8027_802bf95802a4row7_col4 {\n            : ;\n            background-color:  green;\n        }    #T_fee3ba50_a103_11ea_8027_802bf95802a4row7_col5 {\n            : ;\n            background-color:  green;\n        }    #T_fee3ba50_a103_11ea_8027_802bf95802a4row7_col6 {\n            : ;\n            background-color:  green;\n        }    #T_fee3ba50_a103_11ea_8027_802bf95802a4row7_col7 {\n            : ;\n            background-color:  green;\n        }</style><table id=\"T_fee3ba50_a103_11ea_8027_802bf95802a4\" ><thead>    <tr>        <th class=\"blank level0\" ></th>        <th class=\"col_heading level0 col0\" >Model_name</th>        <th class=\"col_heading level0 col1\" >Search_strategy</th>        <th class=\"col_heading level0 col2\" >fit_time</th>        <th class=\"col_heading level0 col3\" >score_time</th>        <th class=\"col_heading level0 col4\" >test_accuracy</th>        <th class=\"col_heading level0 col5\" >test_f1</th>        <th class=\"col_heading level0 col6\" >train_accuracy</th>        <th class=\"col_heading level0 col7\" >train_f1</th>    </tr></thead><tbody>\n                <tr>\n                        <th id=\"T_fee3ba50_a103_11ea_8027_802bf95802a4level0_row0\" class=\"row_heading level0 row0\" >0</th>\n                        <td id=\"T_fee3ba50_a103_11ea_8027_802bf95802a4row0_col0\" class=\"data row0 col0\" >DecisionTreeClassifier</td>\n                        <td id=\"T_fee3ba50_a103_11ea_8027_802bf95802a4row0_col1\" class=\"data row0 col1\" >GridSearch</td>\n                        <td id=\"T_fee3ba50_a103_11ea_8027_802bf95802a4row0_col2\" class=\"data row0 col2\" >0.619141</td>\n                        <td id=\"T_fee3ba50_a103_11ea_8027_802bf95802a4row0_col3\" class=\"data row0 col3\" >0.003513</td>\n                        <td id=\"T_fee3ba50_a103_11ea_8027_802bf95802a4row0_col4\" class=\"data row0 col4\" >0.879757</td>\n                        <td id=\"T_fee3ba50_a103_11ea_8027_802bf95802a4row0_col5\" class=\"data row0 col5\" >0.405432</td>\n                        <td id=\"T_fee3ba50_a103_11ea_8027_802bf95802a4row0_col6\" class=\"data row0 col6\" >0.884243</td>\n                        <td id=\"T_fee3ba50_a103_11ea_8027_802bf95802a4row0_col7\" class=\"data row0 col7\" >0.448013</td>\n            </tr>\n            <tr>\n                        <th id=\"T_fee3ba50_a103_11ea_8027_802bf95802a4level0_row1\" class=\"row_heading level0 row1\" >1</th>\n                        <td id=\"T_fee3ba50_a103_11ea_8027_802bf95802a4row1_col0\" class=\"data row1 col0\" >DecisionTreeClassifier</td>\n                        <td id=\"T_fee3ba50_a103_11ea_8027_802bf95802a4row1_col1\" class=\"data row1 col1\" >RandomizedSearch</td>\n                        <td id=\"T_fee3ba50_a103_11ea_8027_802bf95802a4row1_col2\" class=\"data row1 col2\" >0.375353</td>\n                        <td id=\"T_fee3ba50_a103_11ea_8027_802bf95802a4row1_col3\" class=\"data row1 col3\" >0.003196</td>\n                        <td id=\"T_fee3ba50_a103_11ea_8027_802bf95802a4row1_col4\" class=\"data row1 col4\" >0.879218</td>\n                        <td id=\"T_fee3ba50_a103_11ea_8027_802bf95802a4row1_col5\" class=\"data row1 col5\" >0.394608</td>\n                        <td id=\"T_fee3ba50_a103_11ea_8027_802bf95802a4row1_col6\" class=\"data row1 col6\" >0.881685</td>\n                        <td id=\"T_fee3ba50_a103_11ea_8027_802bf95802a4row1_col7\" class=\"data row1 col7\" >0.415575</td>\n            </tr>\n            <tr>\n                        <th id=\"T_fee3ba50_a103_11ea_8027_802bf95802a4level0_row2\" class=\"row_heading level0 row2\" >2</th>\n                        <td id=\"T_fee3ba50_a103_11ea_8027_802bf95802a4row2_col0\" class=\"data row2 col0\" >KNeighborsClassifier</td>\n                        <td id=\"T_fee3ba50_a103_11ea_8027_802bf95802a4row2_col1\" class=\"data row2 col1\" >GridSearch</td>\n                        <td id=\"T_fee3ba50_a103_11ea_8027_802bf95802a4row2_col2\" class=\"data row2 col2\" >17.080231</td>\n                        <td id=\"T_fee3ba50_a103_11ea_8027_802bf95802a4row2_col3\" class=\"data row2 col3\" >0.244479</td>\n                        <td id=\"T_fee3ba50_a103_11ea_8027_802bf95802a4row2_col4\" class=\"data row2 col4\" >0.950107</td>\n                        <td id=\"T_fee3ba50_a103_11ea_8027_802bf95802a4row2_col5\" class=\"data row2 col5\" >0.775309</td>\n                        <td id=\"T_fee3ba50_a103_11ea_8027_802bf95802a4row2_col6\" class=\"data row2 col6\" >1.000000</td>\n                        <td id=\"T_fee3ba50_a103_11ea_8027_802bf95802a4row2_col7\" class=\"data row2 col7\" >1.000000</td>\n            </tr>\n            <tr>\n                        <th id=\"T_fee3ba50_a103_11ea_8027_802bf95802a4level0_row3\" class=\"row_heading level0 row3\" >3</th>\n                        <td id=\"T_fee3ba50_a103_11ea_8027_802bf95802a4row3_col0\" class=\"data row3 col0\" >KNeighborsClassifier</td>\n                        <td id=\"T_fee3ba50_a103_11ea_8027_802bf95802a4row3_col1\" class=\"data row3 col1\" >RandomizedSearch</td>\n                        <td id=\"T_fee3ba50_a103_11ea_8027_802bf95802a4row3_col2\" class=\"data row3 col2\" >2.160306</td>\n                        <td id=\"T_fee3ba50_a103_11ea_8027_802bf95802a4row3_col3\" class=\"data row3 col3\" >0.378514</td>\n                        <td id=\"T_fee3ba50_a103_11ea_8027_802bf95802a4row3_col4\" class=\"data row3 col4\" >0.919778</td>\n                        <td id=\"T_fee3ba50_a103_11ea_8027_802bf95802a4row3_col5\" class=\"data row3 col5\" >0.573848</td>\n                        <td id=\"T_fee3ba50_a103_11ea_8027_802bf95802a4row3_col6\" class=\"data row3 col6\" >0.933462</td>\n                        <td id=\"T_fee3ba50_a103_11ea_8027_802bf95802a4row3_col7\" class=\"data row3 col7\" >0.669939</td>\n            </tr>\n            <tr>\n                        <th id=\"T_fee3ba50_a103_11ea_8027_802bf95802a4level0_row4\" class=\"row_heading level0 row4\" >4</th>\n                        <td id=\"T_fee3ba50_a103_11ea_8027_802bf95802a4row4_col0\" class=\"data row4 col0\" >SVC</td>\n                        <td id=\"T_fee3ba50_a103_11ea_8027_802bf95802a4row4_col1\" class=\"data row4 col1\" >GridSearch</td>\n                        <td id=\"T_fee3ba50_a103_11ea_8027_802bf95802a4row4_col2\" class=\"data row4 col2\" >47.792582</td>\n                        <td id=\"T_fee3ba50_a103_11ea_8027_802bf95802a4row4_col3\" class=\"data row4 col3\" >0.323490</td>\n                        <td id=\"T_fee3ba50_a103_11ea_8027_802bf95802a4row4_col4\" class=\"data row4 col4\" >0.976131</td>\n                        <td id=\"T_fee3ba50_a103_11ea_8027_802bf95802a4row4_col5\" class=\"data row4 col5\" >0.902440</td>\n                        <td id=\"T_fee3ba50_a103_11ea_8027_802bf95802a4row4_col6\" class=\"data row4 col6\" >0.999192</td>\n                        <td id=\"T_fee3ba50_a103_11ea_8027_802bf95802a4row4_col7\" class=\"data row4 col7\" >0.996978</td>\n            </tr>\n            <tr>\n                        <th id=\"T_fee3ba50_a103_11ea_8027_802bf95802a4level0_row5\" class=\"row_heading level0 row5\" >5</th>\n                        <td id=\"T_fee3ba50_a103_11ea_8027_802bf95802a4row5_col0\" class=\"data row5 col0\" >SVC</td>\n                        <td id=\"T_fee3ba50_a103_11ea_8027_802bf95802a4row5_col1\" class=\"data row5 col1\" >RandomizedSearch</td>\n                        <td id=\"T_fee3ba50_a103_11ea_8027_802bf95802a4row5_col2\" class=\"data row5 col2\" >14.366491</td>\n                        <td id=\"T_fee3ba50_a103_11ea_8027_802bf95802a4row5_col3\" class=\"data row5 col3\" >0.332816</td>\n                        <td id=\"T_fee3ba50_a103_11ea_8027_802bf95802a4row5_col4\" class=\"data row5 col4\" >0.973439</td>\n                        <td id=\"T_fee3ba50_a103_11ea_8027_802bf95802a4row5_col5\" class=\"data row5 col5\" >0.890467</td>\n                        <td id=\"T_fee3ba50_a103_11ea_8027_802bf95802a4row5_col6\" class=\"data row5 col6\" >0.994661</td>\n                        <td id=\"T_fee3ba50_a103_11ea_8027_802bf95802a4row5_col7\" class=\"data row5 col7\" >0.979682</td>\n            </tr>\n            <tr>\n                        <th id=\"T_fee3ba50_a103_11ea_8027_802bf95802a4level0_row6\" class=\"row_heading level0 row6\" >6</th>\n                        <td id=\"T_fee3ba50_a103_11ea_8027_802bf95802a4row6_col0\" class=\"data row6 col0\" >RandomForestClassifier</td>\n                        <td id=\"T_fee3ba50_a103_11ea_8027_802bf95802a4row6_col1\" class=\"data row6 col1\" >GridSearch</td>\n                        <td id=\"T_fee3ba50_a103_11ea_8027_802bf95802a4row6_col2\" class=\"data row6 col2\" >7.797618</td>\n                        <td id=\"T_fee3ba50_a103_11ea_8027_802bf95802a4row6_col3\" class=\"data row6 col3\" >0.025346</td>\n                        <td id=\"T_fee3ba50_a103_11ea_8027_802bf95802a4row6_col4\" class=\"data row6 col4\" >0.865937</td>\n                        <td id=\"T_fee3ba50_a103_11ea_8027_802bf95802a4row6_col5\" class=\"data row6 col5\" >0.000000</td>\n                        <td id=\"T_fee3ba50_a103_11ea_8027_802bf95802a4row6_col6\" class=\"data row6 col6\" >0.865937</td>\n                        <td id=\"T_fee3ba50_a103_11ea_8027_802bf95802a4row6_col7\" class=\"data row6 col7\" >0.000000</td>\n            </tr>\n            <tr>\n                        <th id=\"T_fee3ba50_a103_11ea_8027_802bf95802a4level0_row7\" class=\"row_heading level0 row7\" >7</th>\n                        <td id=\"T_fee3ba50_a103_11ea_8027_802bf95802a4row7_col0\" class=\"data row7 col0\" >RandomForestClassifier</td>\n                        <td id=\"T_fee3ba50_a103_11ea_8027_802bf95802a4row7_col1\" class=\"data row7 col1\" >RandomizedSearch</td>\n                        <td id=\"T_fee3ba50_a103_11ea_8027_802bf95802a4row7_col2\" class=\"data row7 col2\" >4.758844</td>\n                        <td id=\"T_fee3ba50_a103_11ea_8027_802bf95802a4row7_col3\" class=\"data row7 col3\" >0.034509</td>\n                        <td id=\"T_fee3ba50_a103_11ea_8027_802bf95802a4row7_col4\" class=\"data row7 col4\" >0.865937</td>\n                        <td id=\"T_fee3ba50_a103_11ea_8027_802bf95802a4row7_col5\" class=\"data row7 col5\" >0.000000</td>\n                        <td id=\"T_fee3ba50_a103_11ea_8027_802bf95802a4row7_col6\" class=\"data row7 col6\" >0.865937</td>\n                        <td id=\"T_fee3ba50_a103_11ea_8027_802bf95802a4row7_col7\" class=\"data row7 col7\" >0.000000</td>\n            </tr>\n    </tbody></table>"
     },
     "metadata": {},
     "execution_count": 25
    }
   ],
   "source": [
    "sms_df.style.highlight_max(color='red').highlight_min(color='green')"
   ]
  },
  {
   "cell_type": "markdown",
   "metadata": {},
   "source": [
    "## Randarea fisierului html"
   ]
  },
  {
   "cell_type": "code",
   "execution_count": 26,
   "metadata": {},
   "outputs": [],
   "source": [
    "sms_html = sms_df.style.highlight_max(color='red').highlight_min(color='green').render()\n",
    "\n",
    "text_file = open('../html_files/sms.html', 'w')\n",
    "text_file.write('<br>')\n",
    "text_file.write('<h1><center> Dataset: SMS Spam Collection <center></h1>')\n",
    "text_file.write('<br><br><br><br><br><br><br><center>')\n",
    "text_file.write(sms_html)\n",
    "text_file.write('</center>')\n",
    "text_file.close()"
   ]
  }
 ],
 "metadata": {
  "language_info": {
   "codemirror_mode": {
    "name": "ipython",
    "version": 3
   },
   "file_extension": ".py",
   "mimetype": "text/x-python",
   "name": "python",
   "nbconvert_exporter": "python",
   "pygments_lexer": "ipython3",
   "version": "3.7.6-final"
  },
  "orig_nbformat": 2,
  "kernelspec": {
   "name": "python37664bitidscondaa9d6b05661b5435ca2f5cd64ba23be97",
   "display_name": "Python 3.7.6 64-bit ('ids': conda)"
  }
 },
 "nbformat": 4,
 "nbformat_minor": 2
}