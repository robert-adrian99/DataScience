{
 "cells": [
  {
   "cell_type": "markdown",
   "metadata": {},
   "source": [
    "# Bucur Robert - Adrian\n",
    "# Bogdan Gheorghe - Nicolae\n",
    "## Grupa 10LF381"
   ]
  },
  {
   "cell_type": "markdown",
   "metadata": {},
   "source": [
    "# Laborator 11\n",
    "## Modele de clasificare text"
   ]
  },
  {
   "cell_type": "markdown",
   "metadata": {},
   "source": [
    "# Setul de date Sentiment Labelled Sentences"
   ]
  },
  {
   "cell_type": "code",
   "execution_count": 1,
   "metadata": {},
   "outputs": [
    {
     "output_type": "stream",
     "name": "stderr",
     "text": "[nltk_data] Downloading package stopwords to\n[nltk_data]     /Users/robertadrianbucur/nltk_data...\n[nltk_data]   Package stopwords is already up-to-date!\n"
    }
   ],
   "source": [
    "import numpy as np\n",
    "import pandas as pd\n",
    "import string\n",
    "import re\n",
    "\n",
    "import nltk\n",
    "nltk.download('stopwords')\n",
    "from nltk.corpus import stopwords\n",
    "from nltk import word_tokenize\n",
    "from nltk.stem import PorterStemmer\n",
    "from nltk.util import ngrams\n",
    "\n",
    "import matplotlib.pyplot as plt\n",
    "\n",
    "from gensim.models import Word2Vec\n",
    "\n",
    "from sklearn.feature_extraction.text import CountVectorizer\n",
    "\n",
    "from sklearn.model_selection import cross_validate, cross_val_score\n",
    "from sklearn.metrics import accuracy_score, f1_score\n",
    "\n",
    "from sklearn.svm import SVC\n",
    "from sklearn.neighbors import KNeighborsClassifier\n",
    "from sklearn.tree import DecisionTreeClassifier\n",
    "from sklearn.gaussian_process import GaussianProcessClassifier\n",
    "from sklearn.gaussian_process.kernels import RBF\n",
    "from sklearn.ensemble import RandomForestClassifier\n",
    "\n",
    "from sklearn.model_selection import GridSearchCV\n",
    "from sklearn.model_selection import RandomizedSearchCV"
   ]
  },
  {
   "cell_type": "markdown",
   "metadata": {},
   "source": [
    "# Incarcarea setului de date"
   ]
  },
  {
   "cell_type": "code",
   "execution_count": 2,
   "metadata": {},
   "outputs": [
    {
     "output_type": "execute_result",
     "data": {
      "text/plain": "                                                   0  1\n0  A very, very, very slow-moving, aimless movie ...  0\n1  Not sure who was more lost - the flat characte...  0\n2  Attempting artiness with black & white and cle...  0\n3       Very little music or anything to speak of.    0\n4  The best scene in the movie was when Gerardo i...  1",
      "text/html": "<div>\n<style scoped>\n    .dataframe tbody tr th:only-of-type {\n        vertical-align: middle;\n    }\n\n    .dataframe tbody tr th {\n        vertical-align: top;\n    }\n\n    .dataframe thead th {\n        text-align: right;\n    }\n</style>\n<table border=\"1\" class=\"dataframe\">\n  <thead>\n    <tr style=\"text-align: right;\">\n      <th></th>\n      <th>0</th>\n      <th>1</th>\n    </tr>\n  </thead>\n  <tbody>\n    <tr>\n      <th>0</th>\n      <td>A very, very, very slow-moving, aimless movie ...</td>\n      <td>0</td>\n    </tr>\n    <tr>\n      <th>1</th>\n      <td>Not sure who was more lost - the flat characte...</td>\n      <td>0</td>\n    </tr>\n    <tr>\n      <th>2</th>\n      <td>Attempting artiness with black &amp; white and cle...</td>\n      <td>0</td>\n    </tr>\n    <tr>\n      <th>3</th>\n      <td>Very little music or anything to speak of.</td>\n      <td>0</td>\n    </tr>\n    <tr>\n      <th>4</th>\n      <td>The best scene in the movie was when Gerardo i...</td>\n      <td>1</td>\n    </tr>\n  </tbody>\n</table>\n</div>"
     },
     "metadata": {},
     "execution_count": 2
    }
   ],
   "source": [
    "sentiment = pd.read_csv('../data/sentiment/imdb_labelled.txt', sep=\"\\t\", header=None)\n",
    "\n",
    "sentiment.head()"
   ]
  },
  {
   "cell_type": "markdown",
   "metadata": {},
   "source": [
    "# Statistica"
   ]
  },
  {
   "cell_type": "markdown",
   "metadata": {},
   "source": [
    "## Eliminarea stopwords si afisarea numarului de aparitii a ficarui cuvant"
   ]
  },
  {
   "cell_type": "code",
   "execution_count": 3,
   "metadata": {
    "tags": [
     "outputPrepend"
    ]
   },
   "outputs": [
    {
     "output_type": "execute_result",
     "data": {
      "text/plain": "               word frequency\n0              slow      2316\n1            moving      1683\n2           aimless        87\n3             movie      1681\n4        distressed       720\n...             ...       ...\n2911        jessice      1384\n2912        clothes       461\n2913         virtue      2775\n2914    regrettable      2058\n2915  exceptionally       875\n\n[2916 rows x 2 columns]",
      "text/html": "<div>\n<style scoped>\n    .dataframe tbody tr th:only-of-type {\n        vertical-align: middle;\n    }\n\n    .dataframe tbody tr th {\n        vertical-align: top;\n    }\n\n    .dataframe thead th {\n        text-align: right;\n    }\n</style>\n<table border=\"1\" class=\"dataframe\">\n  <thead>\n    <tr style=\"text-align: right;\">\n      <th></th>\n      <th>word</th>\n      <th>frequency</th>\n    </tr>\n  </thead>\n  <tbody>\n    <tr>\n      <th>0</th>\n      <td>slow</td>\n      <td>2316</td>\n    </tr>\n    <tr>\n      <th>1</th>\n      <td>moving</td>\n      <td>1683</td>\n    </tr>\n    <tr>\n      <th>2</th>\n      <td>aimless</td>\n      <td>87</td>\n    </tr>\n    <tr>\n      <th>3</th>\n      <td>movie</td>\n      <td>1681</td>\n    </tr>\n    <tr>\n      <th>4</th>\n      <td>distressed</td>\n      <td>720</td>\n    </tr>\n    <tr>\n      <th>...</th>\n      <td>...</td>\n      <td>...</td>\n    </tr>\n    <tr>\n      <th>2911</th>\n      <td>jessice</td>\n      <td>1384</td>\n    </tr>\n    <tr>\n      <th>2912</th>\n      <td>clothes</td>\n      <td>461</td>\n    </tr>\n    <tr>\n      <th>2913</th>\n      <td>virtue</td>\n      <td>2775</td>\n    </tr>\n    <tr>\n      <th>2914</th>\n      <td>regrettable</td>\n      <td>2058</td>\n    </tr>\n    <tr>\n      <th>2915</th>\n      <td>exceptionally</td>\n      <td>875</td>\n    </tr>\n  </tbody>\n</table>\n<p>2916 rows × 2 columns</p>\n</div>"
     },
     "metadata": {},
     "execution_count": 3
    }
   ],
   "source": [
    "countVectorizer = CountVectorizer(stop_words=stopwords.words('english'))\n",
    "countVectorizer.fit(sentiment.loc[:,0])\n",
    "words_frequency = dict(countVectorizer.vocabulary_.items())\n",
    "\n",
    "pd.DataFrame(np.matrix(list(countVectorizer.vocabulary_.items())), columns=['word', 'frequency'])"
   ]
  },
  {
   "cell_type": "markdown",
   "metadata": {},
   "source": [
    "## Afisam numarul de review-uri pozitive/negative,\n",
    "## lungimile cuvintelor: minim, maxim, mediu\n",
    "## si cel mai frecvent cuvant"
   ]
  },
  {
   "cell_type": "code",
   "execution_count": 4,
   "metadata": {},
   "outputs": [
    {
     "output_type": "stream",
     "name": "stdout",
     "text": "Total pozitive reviews: 362\nTotal negative reviews: 386\nMin word length: 1\nMax word length: 1390\nMean word length: 19\nThe most frequent word: [('zombiez', 2915)]\n"
    },
    {
     "output_type": "display_data",
     "data": {
      "text/plain": "<Figure size 432x288 with 1 Axes>",
      "image/svg+xml": "<?xml version=\"1.0\" encoding=\"utf-8\" standalone=\"no\"?>\n<!DOCTYPE svg PUBLIC \"-//W3C//DTD SVG 1.1//EN\"\n  \"http://www.w3.org/Graphics/SVG/1.1/DTD/svg11.dtd\">\n<!-- Created with matplotlib (https://matplotlib.org/) -->\n<svg height=\"306.9875pt\" version=\"1.1\" viewBox=\"0 0 395.328125 306.9875\" width=\"395.328125pt\" xmlns=\"http://www.w3.org/2000/svg\" xmlns:xlink=\"http://www.w3.org/1999/xlink\">\n <defs>\n  <style type=\"text/css\">\n*{stroke-linecap:butt;stroke-linejoin:round;}\n  </style>\n </defs>\n <g id=\"figure_1\">\n  <g id=\"patch_1\">\n   <path d=\"M 0 306.9875 \nL 395.328125 306.9875 \nL 395.328125 0 \nL 0 0 \nz\n\" style=\"fill:none;\"/>\n  </g>\n  <g id=\"axes_1\">\n   <g id=\"patch_2\">\n    <path d=\"M 53.328125 224.64 \nL 388.128125 224.64 \nL 388.128125 7.2 \nL 53.328125 7.2 \nz\n\" style=\"fill:#ffffff;\"/>\n   </g>\n   <g id=\"patch_3\">\n    <path clip-path=\"url(#p457c5fc286)\" d=\"M 68.546307 224.64 \nL 110.527498 224.64 \nL 110.527498 198.923009 \nL 68.546307 198.923009 \nz\n\" style=\"fill:#1f77b4;\"/>\n   </g>\n   <g id=\"patch_4\">\n    <path clip-path=\"url(#p457c5fc286)\" d=\"M 121.022796 224.64 \nL 163.003987 224.64 \nL 163.003987 197.218015 \nL 121.022796 197.218015 \nz\n\" style=\"fill:#1f77b4;\"/>\n   </g>\n   <g id=\"patch_5\">\n    <path clip-path=\"url(#p457c5fc286)\" d=\"M 173.499285 224.64 \nL 215.480476 224.64 \nL 215.480476 224.568959 \nL 173.499285 224.568959 \nz\n\" style=\"fill:#1f77b4;\"/>\n   </g>\n   <g id=\"patch_6\">\n    <path clip-path=\"url(#p457c5fc286)\" d=\"M 225.975774 224.64 \nL 267.956965 224.64 \nL 267.956965 125.892438 \nL 225.975774 125.892438 \nz\n\" style=\"fill:#1f77b4;\"/>\n   </g>\n   <g id=\"patch_7\">\n    <path clip-path=\"url(#p457c5fc286)\" d=\"M 278.452263 224.64 \nL 320.433454 224.64 \nL 320.433454 223.290213 \nL 278.452263 223.290213 \nz\n\" style=\"fill:#1f77b4;\"/>\n   </g>\n   <g id=\"patch_8\">\n    <path clip-path=\"url(#p457c5fc286)\" d=\"M 330.928752 224.64 \nL 372.909943 224.64 \nL 372.909943 17.554286 \nL 330.928752 17.554286 \nz\n\" style=\"fill:#1f77b4;\"/>\n   </g>\n   <g id=\"matplotlib.axis_1\">\n    <g id=\"xtick_1\">\n     <g id=\"line2d_1\">\n      <defs>\n       <path d=\"M 0 0 \nL 0 3.5 \n\" id=\"m837868d09b\" style=\"stroke:#000000;stroke-width:0.8;\"/>\n      </defs>\n      <g>\n       <use style=\"stroke:#000000;stroke-width:0.8;\" x=\"89.536902\" xlink:href=\"#m837868d09b\" y=\"224.64\"/>\n      </g>\n     </g>\n     <g id=\"text_1\">\n      <!-- Total -->\n      <defs>\n       <path d=\"M -0.296875 72.90625 \nL 61.375 72.90625 \nL 61.375 64.59375 \nL 35.5 64.59375 \nL 35.5 0 \nL 25.59375 0 \nL 25.59375 64.59375 \nL -0.296875 64.59375 \nz\n\" id=\"DejaVuSans-84\"/>\n       <path d=\"M 30.609375 48.390625 \nQ 23.390625 48.390625 19.1875 42.75 \nQ 14.984375 37.109375 14.984375 27.296875 \nQ 14.984375 17.484375 19.15625 11.84375 \nQ 23.34375 6.203125 30.609375 6.203125 \nQ 37.796875 6.203125 41.984375 11.859375 \nQ 46.1875 17.53125 46.1875 27.296875 \nQ 46.1875 37.015625 41.984375 42.703125 \nQ 37.796875 48.390625 30.609375 48.390625 \nz\nM 30.609375 56 \nQ 42.328125 56 49.015625 48.375 \nQ 55.71875 40.765625 55.71875 27.296875 \nQ 55.71875 13.875 49.015625 6.21875 \nQ 42.328125 -1.421875 30.609375 -1.421875 \nQ 18.84375 -1.421875 12.171875 6.21875 \nQ 5.515625 13.875 5.515625 27.296875 \nQ 5.515625 40.765625 12.171875 48.375 \nQ 18.84375 56 30.609375 56 \nz\n\" id=\"DejaVuSans-111\"/>\n       <path d=\"M 18.3125 70.21875 \nL 18.3125 54.6875 \nL 36.8125 54.6875 \nL 36.8125 47.703125 \nL 18.3125 47.703125 \nL 18.3125 18.015625 \nQ 18.3125 11.328125 20.140625 9.421875 \nQ 21.96875 7.515625 27.59375 7.515625 \nL 36.8125 7.515625 \nL 36.8125 0 \nL 27.59375 0 \nQ 17.1875 0 13.234375 3.875 \nQ 9.28125 7.765625 9.28125 18.015625 \nL 9.28125 47.703125 \nL 2.6875 47.703125 \nL 2.6875 54.6875 \nL 9.28125 54.6875 \nL 9.28125 70.21875 \nz\n\" id=\"DejaVuSans-116\"/>\n       <path d=\"M 34.28125 27.484375 \nQ 23.390625 27.484375 19.1875 25 \nQ 14.984375 22.515625 14.984375 16.5 \nQ 14.984375 11.71875 18.140625 8.90625 \nQ 21.296875 6.109375 26.703125 6.109375 \nQ 34.1875 6.109375 38.703125 11.40625 \nQ 43.21875 16.703125 43.21875 25.484375 \nL 43.21875 27.484375 \nz\nM 52.203125 31.203125 \nL 52.203125 0 \nL 43.21875 0 \nL 43.21875 8.296875 \nQ 40.140625 3.328125 35.546875 0.953125 \nQ 30.953125 -1.421875 24.3125 -1.421875 \nQ 15.921875 -1.421875 10.953125 3.296875 \nQ 6 8.015625 6 15.921875 \nQ 6 25.140625 12.171875 29.828125 \nQ 18.359375 34.515625 30.609375 34.515625 \nL 43.21875 34.515625 \nL 43.21875 35.40625 \nQ 43.21875 41.609375 39.140625 45 \nQ 35.0625 48.390625 27.6875 48.390625 \nQ 23 48.390625 18.546875 47.265625 \nQ 14.109375 46.140625 10.015625 43.890625 \nL 10.015625 52.203125 \nQ 14.9375 54.109375 19.578125 55.046875 \nQ 24.21875 56 28.609375 56 \nQ 40.484375 56 46.34375 49.84375 \nQ 52.203125 43.703125 52.203125 31.203125 \nz\n\" id=\"DejaVuSans-97\"/>\n       <path d=\"M 9.421875 75.984375 \nL 18.40625 75.984375 \nL 18.40625 0 \nL 9.421875 0 \nz\n\" id=\"DejaVuSans-108\"/>\n      </defs>\n      <g transform=\"translate(77.023621 239.238437)scale(0.1 -0.1)\">\n       <use xlink:href=\"#DejaVuSans-84\"/>\n       <use x=\"60.818359\" xlink:href=\"#DejaVuSans-111\"/>\n       <use x=\"122\" xlink:href=\"#DejaVuSans-116\"/>\n       <use x=\"161.208984\" xlink:href=\"#DejaVuSans-97\"/>\n       <use x=\"222.488281\" xlink:href=\"#DejaVuSans-108\"/>\n      </g>\n      <!-- pozitive -->\n      <defs>\n       <path d=\"M 18.109375 8.203125 \nL 18.109375 -20.796875 \nL 9.078125 -20.796875 \nL 9.078125 54.6875 \nL 18.109375 54.6875 \nL 18.109375 46.390625 \nQ 20.953125 51.265625 25.265625 53.625 \nQ 29.59375 56 35.59375 56 \nQ 45.5625 56 51.78125 48.09375 \nQ 58.015625 40.1875 58.015625 27.296875 \nQ 58.015625 14.40625 51.78125 6.484375 \nQ 45.5625 -1.421875 35.59375 -1.421875 \nQ 29.59375 -1.421875 25.265625 0.953125 \nQ 20.953125 3.328125 18.109375 8.203125 \nz\nM 48.6875 27.296875 \nQ 48.6875 37.203125 44.609375 42.84375 \nQ 40.53125 48.484375 33.40625 48.484375 \nQ 26.265625 48.484375 22.1875 42.84375 \nQ 18.109375 37.203125 18.109375 27.296875 \nQ 18.109375 17.390625 22.1875 11.75 \nQ 26.265625 6.109375 33.40625 6.109375 \nQ 40.53125 6.109375 44.609375 11.75 \nQ 48.6875 17.390625 48.6875 27.296875 \nz\n\" id=\"DejaVuSans-112\"/>\n       <path d=\"M 5.515625 54.6875 \nL 48.1875 54.6875 \nL 48.1875 46.484375 \nL 14.40625 7.171875 \nL 48.1875 7.171875 \nL 48.1875 0 \nL 4.296875 0 \nL 4.296875 8.203125 \nL 38.09375 47.515625 \nL 5.515625 47.515625 \nz\n\" id=\"DejaVuSans-122\"/>\n       <path d=\"M 9.421875 54.6875 \nL 18.40625 54.6875 \nL 18.40625 0 \nL 9.421875 0 \nz\nM 9.421875 75.984375 \nL 18.40625 75.984375 \nL 18.40625 64.59375 \nL 9.421875 64.59375 \nz\n\" id=\"DejaVuSans-105\"/>\n       <path d=\"M 2.984375 54.6875 \nL 12.5 54.6875 \nL 29.59375 8.796875 \nL 46.6875 54.6875 \nL 56.203125 54.6875 \nL 35.6875 0 \nL 23.484375 0 \nz\n\" id=\"DejaVuSans-118\"/>\n       <path d=\"M 56.203125 29.59375 \nL 56.203125 25.203125 \nL 14.890625 25.203125 \nQ 15.484375 15.921875 20.484375 11.0625 \nQ 25.484375 6.203125 34.421875 6.203125 \nQ 39.59375 6.203125 44.453125 7.46875 \nQ 49.3125 8.734375 54.109375 11.28125 \nL 54.109375 2.78125 \nQ 49.265625 0.734375 44.1875 -0.34375 \nQ 39.109375 -1.421875 33.890625 -1.421875 \nQ 20.796875 -1.421875 13.15625 6.1875 \nQ 5.515625 13.8125 5.515625 26.8125 \nQ 5.515625 40.234375 12.765625 48.109375 \nQ 20.015625 56 32.328125 56 \nQ 43.359375 56 49.78125 48.890625 \nQ 56.203125 41.796875 56.203125 29.59375 \nz\nM 47.21875 32.234375 \nQ 47.125 39.59375 43.09375 43.984375 \nQ 39.0625 48.390625 32.421875 48.390625 \nQ 24.90625 48.390625 20.390625 44.140625 \nQ 15.875 39.890625 15.1875 32.171875 \nz\n\" id=\"DejaVuSans-101\"/>\n      </defs>\n      <g transform=\"translate(69.904871 250.43625)scale(0.1 -0.1)\">\n       <use xlink:href=\"#DejaVuSans-112\"/>\n       <use x=\"63.476562\" xlink:href=\"#DejaVuSans-111\"/>\n       <use x=\"124.658203\" xlink:href=\"#DejaVuSans-122\"/>\n       <use x=\"177.148438\" xlink:href=\"#DejaVuSans-105\"/>\n       <use x=\"204.931641\" xlink:href=\"#DejaVuSans-116\"/>\n       <use x=\"244.140625\" xlink:href=\"#DejaVuSans-105\"/>\n       <use x=\"271.923828\" xlink:href=\"#DejaVuSans-118\"/>\n       <use x=\"331.103516\" xlink:href=\"#DejaVuSans-101\"/>\n      </g>\n      <!-- reviews: -->\n      <defs>\n       <path d=\"M 41.109375 46.296875 \nQ 39.59375 47.171875 37.8125 47.578125 \nQ 36.03125 48 33.890625 48 \nQ 26.265625 48 22.1875 43.046875 \nQ 18.109375 38.09375 18.109375 28.8125 \nL 18.109375 0 \nL 9.078125 0 \nL 9.078125 54.6875 \nL 18.109375 54.6875 \nL 18.109375 46.1875 \nQ 20.953125 51.171875 25.484375 53.578125 \nQ 30.03125 56 36.53125 56 \nQ 37.453125 56 38.578125 55.875 \nQ 39.703125 55.765625 41.0625 55.515625 \nz\n\" id=\"DejaVuSans-114\"/>\n       <path d=\"M 4.203125 54.6875 \nL 13.1875 54.6875 \nL 24.421875 12.015625 \nL 35.59375 54.6875 \nL 46.1875 54.6875 \nL 57.421875 12.015625 \nL 68.609375 54.6875 \nL 77.59375 54.6875 \nL 63.28125 0 \nL 52.6875 0 \nL 40.921875 44.828125 \nL 29.109375 0 \nL 18.5 0 \nz\n\" id=\"DejaVuSans-119\"/>\n       <path d=\"M 44.28125 53.078125 \nL 44.28125 44.578125 \nQ 40.484375 46.53125 36.375 47.5 \nQ 32.28125 48.484375 27.875 48.484375 \nQ 21.1875 48.484375 17.84375 46.4375 \nQ 14.5 44.390625 14.5 40.28125 \nQ 14.5 37.15625 16.890625 35.375 \nQ 19.28125 33.59375 26.515625 31.984375 \nL 29.59375 31.296875 \nQ 39.15625 29.25 43.1875 25.515625 \nQ 47.21875 21.78125 47.21875 15.09375 \nQ 47.21875 7.46875 41.1875 3.015625 \nQ 35.15625 -1.421875 24.609375 -1.421875 \nQ 20.21875 -1.421875 15.453125 -0.5625 \nQ 10.6875 0.296875 5.421875 2 \nL 5.421875 11.28125 \nQ 10.40625 8.6875 15.234375 7.390625 \nQ 20.0625 6.109375 24.8125 6.109375 \nQ 31.15625 6.109375 34.5625 8.28125 \nQ 37.984375 10.453125 37.984375 14.40625 \nQ 37.984375 18.0625 35.515625 20.015625 \nQ 33.0625 21.96875 24.703125 23.78125 \nL 21.578125 24.515625 \nQ 13.234375 26.265625 9.515625 29.90625 \nQ 5.8125 33.546875 5.8125 39.890625 \nQ 5.8125 47.609375 11.28125 51.796875 \nQ 16.75 56 26.8125 56 \nQ 31.78125 56 36.171875 55.265625 \nQ 40.578125 54.546875 44.28125 53.078125 \nz\n\" id=\"DejaVuSans-115\"/>\n       <path d=\"M 11.71875 12.40625 \nL 22.015625 12.40625 \nL 22.015625 0 \nL 11.71875 0 \nz\nM 11.71875 51.703125 \nL 22.015625 51.703125 \nL 22.015625 39.3125 \nL 11.71875 39.3125 \nz\n\" id=\"DejaVuSans-58\"/>\n      </defs>\n      <g transform=\"translate(68.603309 261.634062)scale(0.1 -0.1)\">\n       <use xlink:href=\"#DejaVuSans-114\"/>\n       <use x=\"41.082031\" xlink:href=\"#DejaVuSans-101\"/>\n       <use x=\"102.605469\" xlink:href=\"#DejaVuSans-118\"/>\n       <use x=\"161.785156\" xlink:href=\"#DejaVuSans-105\"/>\n       <use x=\"189.568359\" xlink:href=\"#DejaVuSans-101\"/>\n       <use x=\"251.091797\" xlink:href=\"#DejaVuSans-119\"/>\n       <use x=\"332.878906\" xlink:href=\"#DejaVuSans-115\"/>\n       <use x=\"384.978516\" xlink:href=\"#DejaVuSans-58\"/>\n      </g>\n     </g>\n    </g>\n    <g id=\"xtick_2\">\n     <g id=\"line2d_2\">\n      <g>\n       <use style=\"stroke:#000000;stroke-width:0.8;\" x=\"142.013391\" xlink:href=\"#m837868d09b\" y=\"224.64\"/>\n      </g>\n     </g>\n     <g id=\"text_2\">\n      <!-- Total -->\n      <g transform=\"translate(129.50011 239.238437)scale(0.1 -0.1)\">\n       <use xlink:href=\"#DejaVuSans-84\"/>\n       <use x=\"60.818359\" xlink:href=\"#DejaVuSans-111\"/>\n       <use x=\"122\" xlink:href=\"#DejaVuSans-116\"/>\n       <use x=\"161.208984\" xlink:href=\"#DejaVuSans-97\"/>\n       <use x=\"222.488281\" xlink:href=\"#DejaVuSans-108\"/>\n      </g>\n      <!-- negative -->\n      <defs>\n       <path d=\"M 54.890625 33.015625 \nL 54.890625 0 \nL 45.90625 0 \nL 45.90625 32.71875 \nQ 45.90625 40.484375 42.875 44.328125 \nQ 39.84375 48.1875 33.796875 48.1875 \nQ 26.515625 48.1875 22.3125 43.546875 \nQ 18.109375 38.921875 18.109375 30.90625 \nL 18.109375 0 \nL 9.078125 0 \nL 9.078125 54.6875 \nL 18.109375 54.6875 \nL 18.109375 46.1875 \nQ 21.34375 51.125 25.703125 53.5625 \nQ 30.078125 56 35.796875 56 \nQ 45.21875 56 50.046875 50.171875 \nQ 54.890625 44.34375 54.890625 33.015625 \nz\n\" id=\"DejaVuSans-110\"/>\n       <path d=\"M 45.40625 27.984375 \nQ 45.40625 37.75 41.375 43.109375 \nQ 37.359375 48.484375 30.078125 48.484375 \nQ 22.859375 48.484375 18.828125 43.109375 \nQ 14.796875 37.75 14.796875 27.984375 \nQ 14.796875 18.265625 18.828125 12.890625 \nQ 22.859375 7.515625 30.078125 7.515625 \nQ 37.359375 7.515625 41.375 12.890625 \nQ 45.40625 18.265625 45.40625 27.984375 \nz\nM 54.390625 6.78125 \nQ 54.390625 -7.171875 48.1875 -13.984375 \nQ 42 -20.796875 29.203125 -20.796875 \nQ 24.46875 -20.796875 20.265625 -20.09375 \nQ 16.0625 -19.390625 12.109375 -17.921875 \nL 12.109375 -9.1875 \nQ 16.0625 -11.328125 19.921875 -12.34375 \nQ 23.78125 -13.375 27.78125 -13.375 \nQ 36.625 -13.375 41.015625 -8.765625 \nQ 45.40625 -4.15625 45.40625 5.171875 \nL 45.40625 9.625 \nQ 42.625 4.78125 38.28125 2.390625 \nQ 33.9375 0 27.875 0 \nQ 17.828125 0 11.671875 7.65625 \nQ 5.515625 15.328125 5.515625 27.984375 \nQ 5.515625 40.671875 11.671875 48.328125 \nQ 17.828125 56 27.875 56 \nQ 33.9375 56 38.28125 53.609375 \nQ 42.625 51.21875 45.40625 46.390625 \nL 45.40625 54.6875 \nL 54.390625 54.6875 \nz\n\" id=\"DejaVuSans-103\"/>\n      </defs>\n      <g transform=\"translate(120.144641 250.43625)scale(0.1 -0.1)\">\n       <use xlink:href=\"#DejaVuSans-110\"/>\n       <use x=\"63.378906\" xlink:href=\"#DejaVuSans-101\"/>\n       <use x=\"124.902344\" xlink:href=\"#DejaVuSans-103\"/>\n       <use x=\"188.378906\" xlink:href=\"#DejaVuSans-97\"/>\n       <use x=\"249.658203\" xlink:href=\"#DejaVuSans-116\"/>\n       <use x=\"288.867188\" xlink:href=\"#DejaVuSans-105\"/>\n       <use x=\"316.650391\" xlink:href=\"#DejaVuSans-118\"/>\n       <use x=\"375.830078\" xlink:href=\"#DejaVuSans-101\"/>\n      </g>\n      <!-- reviews: -->\n      <g transform=\"translate(121.079798 261.634062)scale(0.1 -0.1)\">\n       <use xlink:href=\"#DejaVuSans-114\"/>\n       <use x=\"41.082031\" xlink:href=\"#DejaVuSans-101\"/>\n       <use x=\"102.605469\" xlink:href=\"#DejaVuSans-118\"/>\n       <use x=\"161.785156\" xlink:href=\"#DejaVuSans-105\"/>\n       <use x=\"189.568359\" xlink:href=\"#DejaVuSans-101\"/>\n       <use x=\"251.091797\" xlink:href=\"#DejaVuSans-119\"/>\n       <use x=\"332.878906\" xlink:href=\"#DejaVuSans-115\"/>\n       <use x=\"384.978516\" xlink:href=\"#DejaVuSans-58\"/>\n      </g>\n     </g>\n    </g>\n    <g id=\"xtick_3\">\n     <g id=\"line2d_3\">\n      <g>\n       <use style=\"stroke:#000000;stroke-width:0.8;\" x=\"194.48988\" xlink:href=\"#m837868d09b\" y=\"224.64\"/>\n      </g>\n     </g>\n     <g id=\"text_3\">\n      <!-- Min -->\n      <defs>\n       <path d=\"M 9.8125 72.90625 \nL 24.515625 72.90625 \nL 43.109375 23.296875 \nL 61.8125 72.90625 \nL 76.515625 72.90625 \nL 76.515625 0 \nL 66.890625 0 \nL 66.890625 64.015625 \nL 48.09375 14.015625 \nL 38.1875 14.015625 \nL 19.390625 64.015625 \nL 19.390625 0 \nL 9.8125 0 \nz\n\" id=\"DejaVuSans-77\"/>\n      </defs>\n      <g transform=\"translate(185.618005 239.238437)scale(0.1 -0.1)\">\n       <use xlink:href=\"#DejaVuSans-77\"/>\n       <use x=\"86.279297\" xlink:href=\"#DejaVuSans-105\"/>\n       <use x=\"114.0625\" xlink:href=\"#DejaVuSans-110\"/>\n      </g>\n      <!-- word -->\n      <defs>\n       <path d=\"M 45.40625 46.390625 \nL 45.40625 75.984375 \nL 54.390625 75.984375 \nL 54.390625 0 \nL 45.40625 0 \nL 45.40625 8.203125 \nQ 42.578125 3.328125 38.25 0.953125 \nQ 33.9375 -1.421875 27.875 -1.421875 \nQ 17.96875 -1.421875 11.734375 6.484375 \nQ 5.515625 14.40625 5.515625 27.296875 \nQ 5.515625 40.1875 11.734375 48.09375 \nQ 17.96875 56 27.875 56 \nQ 33.9375 56 38.25 53.625 \nQ 42.578125 51.265625 45.40625 46.390625 \nz\nM 14.796875 27.296875 \nQ 14.796875 17.390625 18.875 11.75 \nQ 22.953125 6.109375 30.078125 6.109375 \nQ 37.203125 6.109375 41.296875 11.75 \nQ 45.40625 17.390625 45.40625 27.296875 \nQ 45.40625 37.203125 41.296875 42.84375 \nQ 37.203125 48.484375 30.078125 48.484375 \nQ 22.953125 48.484375 18.875 42.84375 \nQ 14.796875 37.203125 14.796875 27.296875 \nz\n\" id=\"DejaVuSans-100\"/>\n      </defs>\n      <g transform=\"translate(182.112537 250.43625)scale(0.1 -0.1)\">\n       <use xlink:href=\"#DejaVuSans-119\"/>\n       <use x=\"81.787109\" xlink:href=\"#DejaVuSans-111\"/>\n       <use x=\"142.96875\" xlink:href=\"#DejaVuSans-114\"/>\n       <use x=\"184.066406\" xlink:href=\"#DejaVuSans-100\"/>\n      </g>\n      <!-- length: -->\n      <defs>\n       <path d=\"M 54.890625 33.015625 \nL 54.890625 0 \nL 45.90625 0 \nL 45.90625 32.71875 \nQ 45.90625 40.484375 42.875 44.328125 \nQ 39.84375 48.1875 33.796875 48.1875 \nQ 26.515625 48.1875 22.3125 43.546875 \nQ 18.109375 38.921875 18.109375 30.90625 \nL 18.109375 0 \nL 9.078125 0 \nL 9.078125 75.984375 \nL 18.109375 75.984375 \nL 18.109375 46.1875 \nQ 21.34375 51.125 25.703125 53.5625 \nQ 30.078125 56 35.796875 56 \nQ 45.21875 56 50.046875 50.171875 \nQ 54.890625 44.34375 54.890625 33.015625 \nz\n\" id=\"DejaVuSans-104\"/>\n      </defs>\n      <g transform=\"translate(176.868005 261.634062)scale(0.1 -0.1)\">\n       <use xlink:href=\"#DejaVuSans-108\"/>\n       <use x=\"27.783203\" xlink:href=\"#DejaVuSans-101\"/>\n       <use x=\"89.306641\" xlink:href=\"#DejaVuSans-110\"/>\n       <use x=\"152.685547\" xlink:href=\"#DejaVuSans-103\"/>\n       <use x=\"216.162109\" xlink:href=\"#DejaVuSans-116\"/>\n       <use x=\"255.371094\" xlink:href=\"#DejaVuSans-104\"/>\n       <use x=\"318.75\" xlink:href=\"#DejaVuSans-58\"/>\n      </g>\n     </g>\n    </g>\n    <g id=\"xtick_4\">\n     <g id=\"line2d_4\">\n      <g>\n       <use style=\"stroke:#000000;stroke-width:0.8;\" x=\"246.96637\" xlink:href=\"#m837868d09b\" y=\"224.64\"/>\n      </g>\n     </g>\n     <g id=\"text_4\">\n      <!-- Max -->\n      <defs>\n       <path d=\"M 54.890625 54.6875 \nL 35.109375 28.078125 \nL 55.90625 0 \nL 45.3125 0 \nL 29.390625 21.484375 \nL 13.484375 0 \nL 2.875 0 \nL 24.125 28.609375 \nL 4.6875 54.6875 \nL 15.28125 54.6875 \nL 29.78125 35.203125 \nL 44.28125 54.6875 \nz\n\" id=\"DejaVuSans-120\"/>\n      </defs>\n      <g transform=\"translate(236.62887 239.238437)scale(0.1 -0.1)\">\n       <use xlink:href=\"#DejaVuSans-77\"/>\n       <use x=\"86.279297\" xlink:href=\"#DejaVuSans-97\"/>\n       <use x=\"147.558594\" xlink:href=\"#DejaVuSans-120\"/>\n      </g>\n      <!-- word -->\n      <g transform=\"translate(234.589026 250.43625)scale(0.1 -0.1)\">\n       <use xlink:href=\"#DejaVuSans-119\"/>\n       <use x=\"81.787109\" xlink:href=\"#DejaVuSans-111\"/>\n       <use x=\"142.96875\" xlink:href=\"#DejaVuSans-114\"/>\n       <use x=\"184.066406\" xlink:href=\"#DejaVuSans-100\"/>\n      </g>\n      <!-- length: -->\n      <g transform=\"translate(229.344495 261.634062)scale(0.1 -0.1)\">\n       <use xlink:href=\"#DejaVuSans-108\"/>\n       <use x=\"27.783203\" xlink:href=\"#DejaVuSans-101\"/>\n       <use x=\"89.306641\" xlink:href=\"#DejaVuSans-110\"/>\n       <use x=\"152.685547\" xlink:href=\"#DejaVuSans-103\"/>\n       <use x=\"216.162109\" xlink:href=\"#DejaVuSans-116\"/>\n       <use x=\"255.371094\" xlink:href=\"#DejaVuSans-104\"/>\n       <use x=\"318.75\" xlink:href=\"#DejaVuSans-58\"/>\n      </g>\n     </g>\n    </g>\n    <g id=\"xtick_5\">\n     <g id=\"line2d_5\">\n      <g>\n       <use style=\"stroke:#000000;stroke-width:0.8;\" x=\"299.442859\" xlink:href=\"#m837868d09b\" y=\"224.64\"/>\n      </g>\n     </g>\n     <g id=\"text_5\">\n      <!-- Mean -->\n      <g transform=\"translate(285.819421 239.238437)scale(0.1 -0.1)\">\n       <use xlink:href=\"#DejaVuSans-77\"/>\n       <use x=\"86.279297\" xlink:href=\"#DejaVuSans-101\"/>\n       <use x=\"147.802734\" xlink:href=\"#DejaVuSans-97\"/>\n       <use x=\"209.082031\" xlink:href=\"#DejaVuSans-110\"/>\n      </g>\n      <!-- word -->\n      <g transform=\"translate(287.065515 250.43625)scale(0.1 -0.1)\">\n       <use xlink:href=\"#DejaVuSans-119\"/>\n       <use x=\"81.787109\" xlink:href=\"#DejaVuSans-111\"/>\n       <use x=\"142.96875\" xlink:href=\"#DejaVuSans-114\"/>\n       <use x=\"184.066406\" xlink:href=\"#DejaVuSans-100\"/>\n      </g>\n      <!-- length: -->\n      <g transform=\"translate(281.820984 261.634062)scale(0.1 -0.1)\">\n       <use xlink:href=\"#DejaVuSans-108\"/>\n       <use x=\"27.783203\" xlink:href=\"#DejaVuSans-101\"/>\n       <use x=\"89.306641\" xlink:href=\"#DejaVuSans-110\"/>\n       <use x=\"152.685547\" xlink:href=\"#DejaVuSans-103\"/>\n       <use x=\"216.162109\" xlink:href=\"#DejaVuSans-116\"/>\n       <use x=\"255.371094\" xlink:href=\"#DejaVuSans-104\"/>\n       <use x=\"318.75\" xlink:href=\"#DejaVuSans-58\"/>\n      </g>\n     </g>\n    </g>\n    <g id=\"xtick_6\">\n     <g id=\"line2d_6\">\n      <g>\n       <use style=\"stroke:#000000;stroke-width:0.8;\" x=\"351.919348\" xlink:href=\"#m837868d09b\" y=\"224.64\"/>\n      </g>\n     </g>\n     <g id=\"text_6\">\n      <!-- The -->\n      <g transform=\"translate(342.620129 239.238437)scale(0.1 -0.1)\">\n       <use xlink:href=\"#DejaVuSans-84\"/>\n       <use x=\"61.083984\" xlink:href=\"#DejaVuSans-104\"/>\n       <use x=\"124.462891\" xlink:href=\"#DejaVuSans-101\"/>\n      </g>\n      <!-- most -->\n      <defs>\n       <path d=\"M 52 44.1875 \nQ 55.375 50.25 60.0625 53.125 \nQ 64.75 56 71.09375 56 \nQ 79.640625 56 84.28125 50.015625 \nQ 88.921875 44.046875 88.921875 33.015625 \nL 88.921875 0 \nL 79.890625 0 \nL 79.890625 32.71875 \nQ 79.890625 40.578125 77.09375 44.375 \nQ 74.3125 48.1875 68.609375 48.1875 \nQ 61.625 48.1875 57.5625 43.546875 \nQ 53.515625 38.921875 53.515625 30.90625 \nL 53.515625 0 \nL 44.484375 0 \nL 44.484375 32.71875 \nQ 44.484375 40.625 41.703125 44.40625 \nQ 38.921875 48.1875 33.109375 48.1875 \nQ 26.21875 48.1875 22.15625 43.53125 \nQ 18.109375 38.875 18.109375 30.90625 \nL 18.109375 0 \nL 9.078125 0 \nL 9.078125 54.6875 \nL 18.109375 54.6875 \nL 18.109375 46.1875 \nQ 21.1875 51.21875 25.484375 53.609375 \nQ 29.78125 56 35.6875 56 \nQ 41.65625 56 45.828125 52.96875 \nQ 50 49.953125 52 44.1875 \nz\n\" id=\"DejaVuSans-109\"/>\n      </defs>\n      <g transform=\"translate(339.424816 250.43625)scale(0.1 -0.1)\">\n       <use xlink:href=\"#DejaVuSans-109\"/>\n       <use x=\"97.412109\" xlink:href=\"#DejaVuSans-111\"/>\n       <use x=\"158.59375\" xlink:href=\"#DejaVuSans-115\"/>\n       <use x=\"210.693359\" xlink:href=\"#DejaVuSans-116\"/>\n      </g>\n      <!-- frequent -->\n      <defs>\n       <path d=\"M 37.109375 75.984375 \nL 37.109375 68.5 \nL 28.515625 68.5 \nQ 23.6875 68.5 21.796875 66.546875 \nQ 19.921875 64.59375 19.921875 59.515625 \nL 19.921875 54.6875 \nL 34.71875 54.6875 \nL 34.71875 47.703125 \nL 19.921875 47.703125 \nL 19.921875 0 \nL 10.890625 0 \nL 10.890625 47.703125 \nL 2.296875 47.703125 \nL 2.296875 54.6875 \nL 10.890625 54.6875 \nL 10.890625 58.5 \nQ 10.890625 67.625 15.140625 71.796875 \nQ 19.390625 75.984375 28.609375 75.984375 \nz\n\" id=\"DejaVuSans-102\"/>\n       <path d=\"M 14.796875 27.296875 \nQ 14.796875 17.390625 18.875 11.75 \nQ 22.953125 6.109375 30.078125 6.109375 \nQ 37.203125 6.109375 41.296875 11.75 \nQ 45.40625 17.390625 45.40625 27.296875 \nQ 45.40625 37.203125 41.296875 42.84375 \nQ 37.203125 48.484375 30.078125 48.484375 \nQ 22.953125 48.484375 18.875 42.84375 \nQ 14.796875 37.203125 14.796875 27.296875 \nz\nM 45.40625 8.203125 \nQ 42.578125 3.328125 38.25 0.953125 \nQ 33.9375 -1.421875 27.875 -1.421875 \nQ 17.96875 -1.421875 11.734375 6.484375 \nQ 5.515625 14.40625 5.515625 27.296875 \nQ 5.515625 40.1875 11.734375 48.09375 \nQ 17.96875 56 27.875 56 \nQ 33.9375 56 38.25 53.625 \nQ 42.578125 51.265625 45.40625 46.390625 \nL 45.40625 54.6875 \nL 54.390625 54.6875 \nL 54.390625 -20.796875 \nL 45.40625 -20.796875 \nz\n\" id=\"DejaVuSans-113\"/>\n       <path d=\"M 8.5 21.578125 \nL 8.5 54.6875 \nL 17.484375 54.6875 \nL 17.484375 21.921875 \nQ 17.484375 14.15625 20.5 10.265625 \nQ 23.53125 6.390625 29.59375 6.390625 \nQ 36.859375 6.390625 41.078125 11.03125 \nQ 45.3125 15.671875 45.3125 23.6875 \nL 45.3125 54.6875 \nL 54.296875 54.6875 \nL 54.296875 0 \nL 45.3125 0 \nL 45.3125 8.40625 \nQ 42.046875 3.421875 37.71875 1 \nQ 33.40625 -1.421875 27.6875 -1.421875 \nQ 18.265625 -1.421875 13.375 4.4375 \nQ 8.5 10.296875 8.5 21.578125 \nz\nM 31.109375 56 \nz\n\" id=\"DejaVuSans-117\"/>\n      </defs>\n      <g transform=\"translate(330.480285 261.634062)scale(0.1 -0.1)\">\n       <use xlink:href=\"#DejaVuSans-102\"/>\n       <use x=\"35.205078\" xlink:href=\"#DejaVuSans-114\"/>\n       <use x=\"76.287109\" xlink:href=\"#DejaVuSans-101\"/>\n       <use x=\"137.810547\" xlink:href=\"#DejaVuSans-113\"/>\n       <use x=\"201.287109\" xlink:href=\"#DejaVuSans-117\"/>\n       <use x=\"264.666016\" xlink:href=\"#DejaVuSans-101\"/>\n       <use x=\"326.189453\" xlink:href=\"#DejaVuSans-110\"/>\n       <use x=\"389.568359\" xlink:href=\"#DejaVuSans-116\"/>\n      </g>\n      <!-- word: -->\n      <g transform=\"translate(337.857629 272.831875)scale(0.1 -0.1)\">\n       <use xlink:href=\"#DejaVuSans-119\"/>\n       <use x=\"81.787109\" xlink:href=\"#DejaVuSans-111\"/>\n       <use x=\"142.96875\" xlink:href=\"#DejaVuSans-114\"/>\n       <use x=\"184.066406\" xlink:href=\"#DejaVuSans-100\"/>\n       <use x=\"247.542969\" xlink:href=\"#DejaVuSans-58\"/>\n      </g>\n      <!-- zombiez -->\n      <defs>\n       <path d=\"M 48.6875 27.296875 \nQ 48.6875 37.203125 44.609375 42.84375 \nQ 40.53125 48.484375 33.40625 48.484375 \nQ 26.265625 48.484375 22.1875 42.84375 \nQ 18.109375 37.203125 18.109375 27.296875 \nQ 18.109375 17.390625 22.1875 11.75 \nQ 26.265625 6.109375 33.40625 6.109375 \nQ 40.53125 6.109375 44.609375 11.75 \nQ 48.6875 17.390625 48.6875 27.296875 \nz\nM 18.109375 46.390625 \nQ 20.953125 51.265625 25.265625 53.625 \nQ 29.59375 56 35.59375 56 \nQ 45.5625 56 51.78125 48.09375 \nQ 58.015625 40.1875 58.015625 27.296875 \nQ 58.015625 14.40625 51.78125 6.484375 \nQ 45.5625 -1.421875 35.59375 -1.421875 \nQ 29.59375 -1.421875 25.265625 0.953125 \nQ 20.953125 3.328125 18.109375 8.203125 \nL 18.109375 0 \nL 9.078125 0 \nL 9.078125 75.984375 \nL 18.109375 75.984375 \nz\n\" id=\"DejaVuSans-98\"/>\n      </defs>\n      <g transform=\"translate(331.101379 284.029687)scale(0.1 -0.1)\">\n       <use xlink:href=\"#DejaVuSans-122\"/>\n       <use x=\"52.490234\" xlink:href=\"#DejaVuSans-111\"/>\n       <use x=\"113.671875\" xlink:href=\"#DejaVuSans-109\"/>\n       <use x=\"211.083984\" xlink:href=\"#DejaVuSans-98\"/>\n       <use x=\"274.560547\" xlink:href=\"#DejaVuSans-105\"/>\n       <use x=\"302.34375\" xlink:href=\"#DejaVuSans-101\"/>\n       <use x=\"363.867188\" xlink:href=\"#DejaVuSans-122\"/>\n      </g>\n     </g>\n    </g>\n    <g id=\"text_7\">\n     <!-- Criteria -->\n     <defs>\n      <path d=\"M 64.40625 67.28125 \nL 64.40625 56.890625 \nQ 59.421875 61.53125 53.78125 63.8125 \nQ 48.140625 66.109375 41.796875 66.109375 \nQ 29.296875 66.109375 22.65625 58.46875 \nQ 16.015625 50.828125 16.015625 36.375 \nQ 16.015625 21.96875 22.65625 14.328125 \nQ 29.296875 6.6875 41.796875 6.6875 \nQ 48.140625 6.6875 53.78125 8.984375 \nQ 59.421875 11.28125 64.40625 15.921875 \nL 64.40625 5.609375 \nQ 59.234375 2.09375 53.4375 0.328125 \nQ 47.65625 -1.421875 41.21875 -1.421875 \nQ 24.65625 -1.421875 15.125 8.703125 \nQ 5.609375 18.84375 5.609375 36.375 \nQ 5.609375 53.953125 15.125 64.078125 \nQ 24.65625 74.21875 41.21875 74.21875 \nQ 47.75 74.21875 53.53125 72.484375 \nQ 59.328125 70.75 64.40625 67.28125 \nz\n\" id=\"DejaVuSans-67\"/>\n     </defs>\n     <g transform=\"translate(202.246875 297.707812)scale(0.1 -0.1)\">\n      <use xlink:href=\"#DejaVuSans-67\"/>\n      <use x=\"69.824219\" xlink:href=\"#DejaVuSans-114\"/>\n      <use x=\"110.9375\" xlink:href=\"#DejaVuSans-105\"/>\n      <use x=\"138.720703\" xlink:href=\"#DejaVuSans-116\"/>\n      <use x=\"177.929688\" xlink:href=\"#DejaVuSans-101\"/>\n      <use x=\"239.453125\" xlink:href=\"#DejaVuSans-114\"/>\n      <use x=\"280.566406\" xlink:href=\"#DejaVuSans-105\"/>\n      <use x=\"308.349609\" xlink:href=\"#DejaVuSans-97\"/>\n     </g>\n    </g>\n   </g>\n   <g id=\"matplotlib.axis_2\">\n    <g id=\"ytick_1\">\n     <g id=\"line2d_7\">\n      <defs>\n       <path d=\"M 0 0 \nL -3.5 0 \n\" id=\"m65edb2fd10\" style=\"stroke:#000000;stroke-width:0.8;\"/>\n      </defs>\n      <g>\n       <use style=\"stroke:#000000;stroke-width:0.8;\" x=\"53.328125\" xlink:href=\"#m65edb2fd10\" y=\"224.64\"/>\n      </g>\n     </g>\n     <g id=\"text_8\">\n      <!-- 0 -->\n      <defs>\n       <path d=\"M 31.78125 66.40625 \nQ 24.171875 66.40625 20.328125 58.90625 \nQ 16.5 51.421875 16.5 36.375 \nQ 16.5 21.390625 20.328125 13.890625 \nQ 24.171875 6.390625 31.78125 6.390625 \nQ 39.453125 6.390625 43.28125 13.890625 \nQ 47.125 21.390625 47.125 36.375 \nQ 47.125 51.421875 43.28125 58.90625 \nQ 39.453125 66.40625 31.78125 66.40625 \nz\nM 31.78125 74.21875 \nQ 44.046875 74.21875 50.515625 64.515625 \nQ 56.984375 54.828125 56.984375 36.375 \nQ 56.984375 17.96875 50.515625 8.265625 \nQ 44.046875 -1.421875 31.78125 -1.421875 \nQ 19.53125 -1.421875 13.0625 8.265625 \nQ 6.59375 17.96875 6.59375 36.375 \nQ 6.59375 54.828125 13.0625 64.515625 \nQ 19.53125 74.21875 31.78125 74.21875 \nz\n\" id=\"DejaVuSans-48\"/>\n      </defs>\n      <g transform=\"translate(39.965625 228.439219)scale(0.1 -0.1)\">\n       <use xlink:href=\"#DejaVuSans-48\"/>\n      </g>\n     </g>\n    </g>\n    <g id=\"ytick_2\">\n     <g id=\"line2d_8\">\n      <g>\n       <use style=\"stroke:#000000;stroke-width:0.8;\" x=\"53.328125\" xlink:href=\"#m65edb2fd10\" y=\"189.119294\"/>\n      </g>\n     </g>\n     <g id=\"text_9\">\n      <!-- 500 -->\n      <defs>\n       <path d=\"M 10.796875 72.90625 \nL 49.515625 72.90625 \nL 49.515625 64.59375 \nL 19.828125 64.59375 \nL 19.828125 46.734375 \nQ 21.96875 47.46875 24.109375 47.828125 \nQ 26.265625 48.1875 28.421875 48.1875 \nQ 40.625 48.1875 47.75 41.5 \nQ 54.890625 34.8125 54.890625 23.390625 \nQ 54.890625 11.625 47.5625 5.09375 \nQ 40.234375 -1.421875 26.90625 -1.421875 \nQ 22.3125 -1.421875 17.546875 -0.640625 \nQ 12.796875 0.140625 7.71875 1.703125 \nL 7.71875 11.625 \nQ 12.109375 9.234375 16.796875 8.0625 \nQ 21.484375 6.890625 26.703125 6.890625 \nQ 35.15625 6.890625 40.078125 11.328125 \nQ 45.015625 15.765625 45.015625 23.390625 \nQ 45.015625 31 40.078125 35.4375 \nQ 35.15625 39.890625 26.703125 39.890625 \nQ 22.75 39.890625 18.8125 39.015625 \nQ 14.890625 38.140625 10.796875 36.28125 \nz\n\" id=\"DejaVuSans-53\"/>\n      </defs>\n      <g transform=\"translate(27.240625 192.918513)scale(0.1 -0.1)\">\n       <use xlink:href=\"#DejaVuSans-53\"/>\n       <use x=\"63.623047\" xlink:href=\"#DejaVuSans-48\"/>\n       <use x=\"127.246094\" xlink:href=\"#DejaVuSans-48\"/>\n      </g>\n     </g>\n    </g>\n    <g id=\"ytick_3\">\n     <g id=\"line2d_9\">\n      <g>\n       <use style=\"stroke:#000000;stroke-width:0.8;\" x=\"53.328125\" xlink:href=\"#m65edb2fd10\" y=\"153.598589\"/>\n      </g>\n     </g>\n     <g id=\"text_10\">\n      <!-- 1000 -->\n      <defs>\n       <path d=\"M 12.40625 8.296875 \nL 28.515625 8.296875 \nL 28.515625 63.921875 \nL 10.984375 60.40625 \nL 10.984375 69.390625 \nL 28.421875 72.90625 \nL 38.28125 72.90625 \nL 38.28125 8.296875 \nL 54.390625 8.296875 \nL 54.390625 0 \nL 12.40625 0 \nz\n\" id=\"DejaVuSans-49\"/>\n      </defs>\n      <g transform=\"translate(20.878125 157.397807)scale(0.1 -0.1)\">\n       <use xlink:href=\"#DejaVuSans-49\"/>\n       <use x=\"63.623047\" xlink:href=\"#DejaVuSans-48\"/>\n       <use x=\"127.246094\" xlink:href=\"#DejaVuSans-48\"/>\n       <use x=\"190.869141\" xlink:href=\"#DejaVuSans-48\"/>\n      </g>\n     </g>\n    </g>\n    <g id=\"ytick_4\">\n     <g id=\"line2d_10\">\n      <g>\n       <use style=\"stroke:#000000;stroke-width:0.8;\" x=\"53.328125\" xlink:href=\"#m65edb2fd10\" y=\"118.077883\"/>\n      </g>\n     </g>\n     <g id=\"text_11\">\n      <!-- 1500 -->\n      <g transform=\"translate(20.878125 121.877102)scale(0.1 -0.1)\">\n       <use xlink:href=\"#DejaVuSans-49\"/>\n       <use x=\"63.623047\" xlink:href=\"#DejaVuSans-53\"/>\n       <use x=\"127.246094\" xlink:href=\"#DejaVuSans-48\"/>\n       <use x=\"190.869141\" xlink:href=\"#DejaVuSans-48\"/>\n      </g>\n     </g>\n    </g>\n    <g id=\"ytick_5\">\n     <g id=\"line2d_11\">\n      <g>\n       <use style=\"stroke:#000000;stroke-width:0.8;\" x=\"53.328125\" xlink:href=\"#m65edb2fd10\" y=\"82.557177\"/>\n      </g>\n     </g>\n     <g id=\"text_12\">\n      <!-- 2000 -->\n      <defs>\n       <path d=\"M 19.1875 8.296875 \nL 53.609375 8.296875 \nL 53.609375 0 \nL 7.328125 0 \nL 7.328125 8.296875 \nQ 12.9375 14.109375 22.625 23.890625 \nQ 32.328125 33.6875 34.8125 36.53125 \nQ 39.546875 41.84375 41.421875 45.53125 \nQ 43.3125 49.21875 43.3125 52.78125 \nQ 43.3125 58.59375 39.234375 62.25 \nQ 35.15625 65.921875 28.609375 65.921875 \nQ 23.96875 65.921875 18.8125 64.3125 \nQ 13.671875 62.703125 7.8125 59.421875 \nL 7.8125 69.390625 \nQ 13.765625 71.78125 18.9375 73 \nQ 24.125 74.21875 28.421875 74.21875 \nQ 39.75 74.21875 46.484375 68.546875 \nQ 53.21875 62.890625 53.21875 53.421875 \nQ 53.21875 48.921875 51.53125 44.890625 \nQ 49.859375 40.875 45.40625 35.40625 \nQ 44.1875 33.984375 37.640625 27.21875 \nQ 31.109375 20.453125 19.1875 8.296875 \nz\n\" id=\"DejaVuSans-50\"/>\n      </defs>\n      <g transform=\"translate(20.878125 86.356396)scale(0.1 -0.1)\">\n       <use xlink:href=\"#DejaVuSans-50\"/>\n       <use x=\"63.623047\" xlink:href=\"#DejaVuSans-48\"/>\n       <use x=\"127.246094\" xlink:href=\"#DejaVuSans-48\"/>\n       <use x=\"190.869141\" xlink:href=\"#DejaVuSans-48\"/>\n      </g>\n     </g>\n    </g>\n    <g id=\"ytick_6\">\n     <g id=\"line2d_12\">\n      <g>\n       <use style=\"stroke:#000000;stroke-width:0.8;\" x=\"53.328125\" xlink:href=\"#m65edb2fd10\" y=\"47.036471\"/>\n      </g>\n     </g>\n     <g id=\"text_13\">\n      <!-- 2500 -->\n      <g transform=\"translate(20.878125 50.83569)scale(0.1 -0.1)\">\n       <use xlink:href=\"#DejaVuSans-50\"/>\n       <use x=\"63.623047\" xlink:href=\"#DejaVuSans-53\"/>\n       <use x=\"127.246094\" xlink:href=\"#DejaVuSans-48\"/>\n       <use x=\"190.869141\" xlink:href=\"#DejaVuSans-48\"/>\n      </g>\n     </g>\n    </g>\n    <g id=\"ytick_7\">\n     <g id=\"line2d_13\">\n      <g>\n       <use style=\"stroke:#000000;stroke-width:0.8;\" x=\"53.328125\" xlink:href=\"#m65edb2fd10\" y=\"11.515766\"/>\n      </g>\n     </g>\n     <g id=\"text_14\">\n      <!-- 3000 -->\n      <defs>\n       <path d=\"M 40.578125 39.3125 \nQ 47.65625 37.796875 51.625 33 \nQ 55.609375 28.21875 55.609375 21.1875 \nQ 55.609375 10.40625 48.1875 4.484375 \nQ 40.765625 -1.421875 27.09375 -1.421875 \nQ 22.515625 -1.421875 17.65625 -0.515625 \nQ 12.796875 0.390625 7.625 2.203125 \nL 7.625 11.71875 \nQ 11.71875 9.328125 16.59375 8.109375 \nQ 21.484375 6.890625 26.8125 6.890625 \nQ 36.078125 6.890625 40.9375 10.546875 \nQ 45.796875 14.203125 45.796875 21.1875 \nQ 45.796875 27.640625 41.28125 31.265625 \nQ 36.765625 34.90625 28.71875 34.90625 \nL 20.21875 34.90625 \nL 20.21875 43.015625 \nL 29.109375 43.015625 \nQ 36.375 43.015625 40.234375 45.921875 \nQ 44.09375 48.828125 44.09375 54.296875 \nQ 44.09375 59.90625 40.109375 62.90625 \nQ 36.140625 65.921875 28.71875 65.921875 \nQ 24.65625 65.921875 20.015625 65.03125 \nQ 15.375 64.15625 9.8125 62.3125 \nL 9.8125 71.09375 \nQ 15.4375 72.65625 20.34375 73.4375 \nQ 25.25 74.21875 29.59375 74.21875 \nQ 40.828125 74.21875 47.359375 69.109375 \nQ 53.90625 64.015625 53.90625 55.328125 \nQ 53.90625 49.265625 50.4375 45.09375 \nQ 46.96875 40.921875 40.578125 39.3125 \nz\n\" id=\"DejaVuSans-51\"/>\n      </defs>\n      <g transform=\"translate(20.878125 15.314984)scale(0.1 -0.1)\">\n       <use xlink:href=\"#DejaVuSans-51\"/>\n       <use x=\"63.623047\" xlink:href=\"#DejaVuSans-48\"/>\n       <use x=\"127.246094\" xlink:href=\"#DejaVuSans-48\"/>\n       <use x=\"190.869141\" xlink:href=\"#DejaVuSans-48\"/>\n      </g>\n     </g>\n    </g>\n    <g id=\"text_15\">\n     <!-- Value -->\n     <defs>\n      <path d=\"M 28.609375 0 \nL 0.78125 72.90625 \nL 11.078125 72.90625 \nL 34.1875 11.53125 \nL 57.328125 72.90625 \nL 67.578125 72.90625 \nL 39.796875 0 \nz\n\" id=\"DejaVuSans-86\"/>\n     </defs>\n     <g transform=\"translate(14.798438 130.033281)rotate(-90)scale(0.1 -0.1)\">\n      <use xlink:href=\"#DejaVuSans-86\"/>\n      <use x=\"68.298828\" xlink:href=\"#DejaVuSans-97\"/>\n      <use x=\"129.578125\" xlink:href=\"#DejaVuSans-108\"/>\n      <use x=\"157.361328\" xlink:href=\"#DejaVuSans-117\"/>\n      <use x=\"220.740234\" xlink:href=\"#DejaVuSans-101\"/>\n     </g>\n    </g>\n   </g>\n   <g id=\"patch_9\">\n    <path d=\"M 53.328125 224.64 \nL 53.328125 7.2 \n\" style=\"fill:none;stroke:#000000;stroke-linecap:square;stroke-linejoin:miter;stroke-width:0.8;\"/>\n   </g>\n   <g id=\"patch_10\">\n    <path d=\"M 388.128125 224.64 \nL 388.128125 7.2 \n\" style=\"fill:none;stroke:#000000;stroke-linecap:square;stroke-linejoin:miter;stroke-width:0.8;\"/>\n   </g>\n   <g id=\"patch_11\">\n    <path d=\"M 53.328125 224.64 \nL 388.128125 224.64 \n\" style=\"fill:none;stroke:#000000;stroke-linecap:square;stroke-linejoin:miter;stroke-width:0.8;\"/>\n   </g>\n   <g id=\"patch_12\">\n    <path d=\"M 53.328125 7.2 \nL 388.128125 7.2 \n\" style=\"fill:none;stroke:#000000;stroke-linecap:square;stroke-linejoin:miter;stroke-width:0.8;\"/>\n   </g>\n  </g>\n </g>\n <defs>\n  <clipPath id=\"p457c5fc286\">\n   <rect height=\"217.44\" width=\"334.8\" x=\"53.328125\" y=\"7.2\"/>\n  </clipPath>\n </defs>\n</svg>\n",
      "image/png": "[encoded data removed]"
     },
     "metadata": {
      "needs_background": "light"
     }
    }
   ],
   "source": [
    "total_pozitive_reviews = len(sentiment[sentiment[1]==0])\n",
    "print('Total pozitive reviews:', total_pozitive_reviews)\n",
    "total_negative_reviews = len(sentiment[sentiment[1]==1])\n",
    "print('Total negative reviews:', total_negative_reviews)\n",
    "\n",
    "word_length_sentiment = sentiment.loc[:,0].apply(lambda x: len(x.split()))\n",
    "print('Min word length:', word_length_sentiment.min())\n",
    "print('Max word length:', word_length_sentiment.max())\n",
    "print('Mean word length:', int((word_length_sentiment.mean())))\n",
    "\n",
    "most_frequent_word = [(key, value)  for (key, value) in words_frequency.items() if value == max(words_frequency.values())]\n",
    "print('The most frequent word:', most_frequent_word)\n",
    "\n",
    "x = np.array(['Total\\npozitive\\nreviews:', 'Total\\nnegative\\nreviews:', 'Min\\nword\\nlength:', 'Max\\nword\\nlength:', 'Mean\\nword\\nlength:', 'The\\nmost\\nfrequent\\nword:\\n' + most_frequent_word[0][0]])\n",
    "y = np.array([total_pozitive_reviews, total_negative_reviews, word_length_sentiment.min(), word_length_sentiment.max(), int((word_length_sentiment.mean())), most_frequent_word[0][1]])\n",
    "plt.bar(x, y)\n",
    "plt.xlabel('Criteria')\n",
    "plt.ylabel('Value')\n",
    "plt.show()"
   ]
  },
  {
   "cell_type": "markdown",
   "metadata": {},
   "source": [
    "## Afisarea fiecarui review cu numarul de cuvinte"
   ]
  },
  {
   "cell_type": "code",
   "execution_count": 5,
   "metadata": {
    "tags": [
     "outputPrepend"
    ]
   },
   "outputs": [
    {
     "output_type": "execute_result",
     "data": {
      "text/plain": "                                                  text no_words\n0    A very, very, very slow-moving, aimless movie ...       15\n1    Not sure who was more lost - the flat characte...       21\n2    Attempting artiness with black & white and cle...       33\n3         Very little music or anything to speak of.         10\n4    The best scene in the movie was when Gerardo i...       23\n..                                                 ...      ...\n743  I just got bored watching Jessice Lange take h...       13\n744  Unfortunately, any virtue in this film's produ...       16\n745                   In a word, it is embarrassing.          8\n746                               Exceptionally bad!          4\n747  All in all its an insult to one's intelligence...       17\n\n[748 rows x 2 columns]",
      "text/html": "<div>\n<style scoped>\n    .dataframe tbody tr th:only-of-type {\n        vertical-align: middle;\n    }\n\n    .dataframe tbody tr th {\n        vertical-align: top;\n    }\n\n    .dataframe thead th {\n        text-align: right;\n    }\n</style>\n<table border=\"1\" class=\"dataframe\">\n  <thead>\n    <tr style=\"text-align: right;\">\n      <th></th>\n      <th>text</th>\n      <th>no_words</th>\n    </tr>\n  </thead>\n  <tbody>\n    <tr>\n      <th>0</th>\n      <td>A very, very, very slow-moving, aimless movie ...</td>\n      <td>15</td>\n    </tr>\n    <tr>\n      <th>1</th>\n      <td>Not sure who was more lost - the flat characte...</td>\n      <td>21</td>\n    </tr>\n    <tr>\n      <th>2</th>\n      <td>Attempting artiness with black &amp; white and cle...</td>\n      <td>33</td>\n    </tr>\n    <tr>\n      <th>3</th>\n      <td>Very little music or anything to speak of.</td>\n      <td>10</td>\n    </tr>\n    <tr>\n      <th>4</th>\n      <td>The best scene in the movie was when Gerardo i...</td>\n      <td>23</td>\n    </tr>\n    <tr>\n      <th>...</th>\n      <td>...</td>\n      <td>...</td>\n    </tr>\n    <tr>\n      <th>743</th>\n      <td>I just got bored watching Jessice Lange take h...</td>\n      <td>13</td>\n    </tr>\n    <tr>\n      <th>744</th>\n      <td>Unfortunately, any virtue in this film's produ...</td>\n      <td>16</td>\n    </tr>\n    <tr>\n      <th>745</th>\n      <td>In a word, it is embarrassing.</td>\n      <td>8</td>\n    </tr>\n    <tr>\n      <th>746</th>\n      <td>Exceptionally bad!</td>\n      <td>4</td>\n    </tr>\n    <tr>\n      <th>747</th>\n      <td>All in all its an insult to one's intelligence...</td>\n      <td>17</td>\n    </tr>\n  </tbody>\n</table>\n<p>748 rows × 2 columns</p>\n</div>"
     },
     "metadata": {},
     "execution_count": 5
    }
   ],
   "source": [
    "words_number = sentiment.loc[:, 0].apply(lambda x:len(str(x).split(' ')))\n",
    "\n",
    "pd.DataFrame(np.matrix(list(zip(sentiment[0], words_number))), columns=['text', 'no_words'])"
   ]
  },
  {
   "cell_type": "markdown",
   "metadata": {},
   "source": [
    "# Preprocesare"
   ]
  },
  {
   "cell_type": "markdown",
   "metadata": {},
   "source": [
    "## Am convertit la litere mici"
   ]
  },
  {
   "cell_type": "code",
   "execution_count": 6,
   "metadata": {},
   "outputs": [
    {
     "output_type": "execute_result",
     "data": {
      "text/plain": "0      a very, very, very slow-moving, aimless movie ...\n1      not sure who was more lost - the flat characte...\n2      attempting artiness with black & white and cle...\n3           very little music or anything to speak of.  \n4      the best scene in the movie was when gerardo i...\n                             ...                        \n743    i just got bored watching jessice lange take h...\n744    unfortunately, any virtue in this film's produ...\n745                     in a word, it is embarrassing.  \n746                                 exceptionally bad!  \n747    all in all its an insult to one's intelligence...\nName: 0, Length: 748, dtype: object"
     },
     "metadata": {},
     "execution_count": 6
    }
   ],
   "source": [
    "sentiment[0] = sentiment[0].apply(lambda x: x.lower())\n",
    "sentiment[0]"
   ]
  },
  {
   "cell_type": "markdown",
   "metadata": {},
   "source": [
    "## Am eliminat cifrele/numerele"
   ]
  },
  {
   "cell_type": "code",
   "execution_count": 7,
   "metadata": {},
   "outputs": [
    {
     "output_type": "execute_result",
     "data": {
      "text/plain": "0      a very, very, very slow-moving, aimless movie ...\n1      not sure who was more lost - the flat characte...\n2      attempting artiness with black & white and cle...\n3           very little music or anything to speak of.  \n4      the best scene in the movie was when gerardo i...\n                             ...                        \n743    i just got bored watching jessice lange take h...\n744    unfortunately, any virtue in this film's produ...\n745                     in a word, it is embarrassing.  \n746                                 exceptionally bad!  \n747    all in all its an insult to one's intelligence...\nName: 0, Length: 748, dtype: object"
     },
     "metadata": {},
     "execution_count": 7
    }
   ],
   "source": [
    "sentiment[0] = sentiment[0].apply(lambda x: re.sub(r'\\d+', ' ', x))\n",
    "sentiment[0]"
   ]
  },
  {
   "cell_type": "markdown",
   "metadata": {},
   "source": [
    "## Am eliminat semnele de punctuatie"
   ]
  },
  {
   "cell_type": "code",
   "execution_count": 8,
   "metadata": {},
   "outputs": [
    {
     "output_type": "execute_result",
     "data": {
      "text/plain": "0      a very very very slowmoving aimless movie abou...\n1      not sure who was more lost  the flat character...\n2      attempting artiness with black  white and clev...\n3            very little music or anything to speak of  \n4      the best scene in the movie was when gerardo i...\n                             ...                        \n743    i just got bored watching jessice lange take h...\n744    unfortunately any virtue in this films product...\n745                       in a word it is embarrassing  \n746                                  exceptionally bad  \n747    all in all its an insult to ones intelligence ...\nName: 0, Length: 748, dtype: object"
     },
     "metadata": {},
     "execution_count": 8
    }
   ],
   "source": [
    "sentiment[0] = sentiment[0].apply(lambda x: re.sub(r'[!\"#$%&\\'()*+,-./:;<=>?@[\\]ˆ_`{|}~]', '', x))\n",
    "sentiment[0]"
   ]
  },
  {
   "cell_type": "markdown",
   "metadata": {},
   "source": [
    "## Am eliminat spatiile albe (mai exact tab-urile \\t)"
   ]
  },
  {
   "cell_type": "code",
   "execution_count": 9,
   "metadata": {},
   "outputs": [
    {
     "output_type": "execute_result",
     "data": {
      "text/plain": "0      a very very very slowmoving aimless movie abou...\n1      not sure who was more lost  the flat character...\n2      attempting artiness with black  white and clev...\n3              very little music or anything to speak of\n4      the best scene in the movie was when gerardo i...\n                             ...                        \n743    i just got bored watching jessice lange take h...\n744    unfortunately any virtue in this films product...\n745                         in a word it is embarrassing\n746                                    exceptionally bad\n747    all in all its an insult to ones intelligence ...\nName: 0, Length: 748, dtype: object"
     },
     "metadata": {},
     "execution_count": 9
    }
   ],
   "source": [
    "sentiment[0] = sentiment[0].apply(lambda x: x.strip())\n",
    "sentiment[0]"
   ]
  },
  {
   "cell_type": "markdown",
   "metadata": {},
   "source": [
    "## Am eliminat spatiile duble"
   ]
  },
  {
   "cell_type": "code",
   "execution_count": 10,
   "metadata": {},
   "outputs": [
    {
     "output_type": "execute_result",
     "data": {
      "text/plain": "0      a very very very slowmoving aimless movie abou...\n1      not sure who was more lost the flat characters...\n2      attempting artiness with black white and cleve...\n3              very little music or anything to speak of\n4      the best scene in the movie was when gerardo i...\n                             ...                        \n743    i just got bored watching jessice lange take h...\n744    unfortunately any virtue in this films product...\n745                         in a word it is embarrassing\n746                                    exceptionally bad\n747    all in all its an insult to ones intelligence ...\nName: 0, Length: 748, dtype: object"
     },
     "metadata": {},
     "execution_count": 10
    }
   ],
   "source": [
    "sentiment[0] = sentiment[0].apply(lambda x: re.sub(r'\\s{2,}', ' ', x))\n",
    "sentiment[0]"
   ]
  },
  {
   "cell_type": "markdown",
   "metadata": {},
   "source": [
    "## Am transformat cuvintele derivate in cuvinte radacina"
   ]
  },
  {
   "cell_type": "code",
   "execution_count": 11,
   "metadata": {},
   "outputs": [
    {
     "output_type": "execute_result",
     "data": {
      "text/plain": "0      a very very very slowmoving aimless movie abou...\n1      not sure who was more lost the flat characters...\n2      attempting artiness with black white and cleve...\n3              very little music or anything to speak of\n4      the best scene in the movie was when gerardo i...\n                             ...                        \n743    i just got bored watching jessice lange take h...\n744    unfortunately any virtue in this films product...\n745                            in a word it is embarrass\n746                                    exceptionally bad\n747    all in all its an insult to ones intelligence ...\nName: 0, Length: 748, dtype: object"
     },
     "metadata": {},
     "execution_count": 11
    }
   ],
   "source": [
    "stemmer= PorterStemmer()\n",
    "sentiment[0] = sentiment[0].apply(lambda x: stemmer.stem(x))\n",
    "sentiment[0]"
   ]
  },
  {
   "cell_type": "markdown",
   "metadata": {},
   "source": [
    "# Codificare BoW"
   ]
  },
  {
   "cell_type": "code",
   "execution_count": 12,
   "metadata": {},
   "outputs": [],
   "source": [
    "bow = CountVectorizer(analyzer=\"word\")\n",
    "X = bow.fit_transform(sentiment.iloc[:, 0])\n",
    "y = sentiment.iloc[:, 1]"
   ]
  },
  {
   "cell_type": "markdown",
   "metadata": {},
   "source": [
    "# Clasificare"
   ]
  },
  {
   "cell_type": "code",
   "execution_count": 13,
   "metadata": {},
   "outputs": [],
   "source": [
    "sentiment_df = pd.DataFrame()"
   ]
  },
  {
   "cell_type": "code",
   "execution_count": 14,
   "metadata": {},
   "outputs": [],
   "source": [
    "parameters_dtc = {'splitter': ['best', 'random'], 'max_depth': [0.1, 0.2, 0.3, 0.4, 0.5, 0.6, 0.7, 0.8, 0.9, 1.0]}\n",
    "parameters_knn = {'n_neighbors': list(range(1, 10)), 'p': [1, 2, 3, 4.7]}\n",
    "parameters_svc = {'gamma': ['auto', 'scale'], 'C': list(range(1, 10))}\n",
    "parameters_rfc = {'max_depth': [0.1, 0.2, 0.3, 0.4, 0.5, 0.6, 0.7, 0.8, 0.9, 1.0]}"
   ]
  },
  {
   "cell_type": "markdown",
   "metadata": {},
   "source": [
    "## Primul model de clasificare: DecisionTreeClassifier"
   ]
  },
  {
   "cell_type": "code",
   "execution_count": 15,
   "metadata": {},
   "outputs": [],
   "source": [
    "grid_search_dtc = GridSearchCV(estimator=DecisionTreeClassifier(), param_grid=parameters_dtc, scoring='f1', cv=3)\n",
    "grid_scores_dtc = cross_validate(estimator=grid_search_dtc, scoring=('accuracy', 'f1'), X=X, y=y, cv=5, return_train_score=True)\n",
    "\n",
    "df_grid_sentiment = pd.DataFrame(grid_scores_dtc)\n",
    "df_grid_sentiment = df_grid_sentiment.mean()\n",
    "df_grid_sentiment['Model_name'] = 'DecisionTreeClassifier'\n",
    "df_grid_sentiment['Search_strategy'] = 'GridSearch'\n",
    "\n",
    "df_grid_sentiment = pd.Series(df_grid_sentiment)\n",
    "sentiment_df = sentiment_df.append(df_grid_sentiment, ignore_index=True)"
   ]
  },
  {
   "cell_type": "code",
   "execution_count": 16,
   "metadata": {},
   "outputs": [],
   "source": [
    "randomized_search_dtc = RandomizedSearchCV(estimator=DecisionTreeClassifier(), param_distributions=parameters_dtc, random_state=0, scoring='f1', cv=3, n_iter=5)\n",
    "randomized_scores_dtc = cross_validate(estimator=randomized_search_dtc, scoring=('accuracy', 'f1'), X=X, y=y, cv=5, return_train_score=True)\n",
    "\n",
    "df_randomized_sentiment = pd.DataFrame(randomized_scores_dtc)\n",
    "df_randomized_sentiment = df_randomized_sentiment.mean()\n",
    "df_randomized_sentiment['Model_name'] = 'DecisionTreeClassifier'\n",
    "df_randomized_sentiment['Search_strategy'] = 'RandomizedSearch'\n",
    "\n",
    "df_randomized_sentiment = pd.Series(df_randomized_sentiment)\n",
    "sentiment_df = sentiment_df.append(df_randomized_sentiment, ignore_index=True)"
   ]
  },
  {
   "cell_type": "markdown",
   "metadata": {},
   "source": [
    "## Al doilea model de clasificare: KNeighborsClassifier"
   ]
  },
  {
   "cell_type": "code",
   "execution_count": 17,
   "metadata": {},
   "outputs": [],
   "source": [
    "grid_search_knn = GridSearchCV(estimator=KNeighborsClassifier(), param_grid=parameters_knn, scoring='f1', cv=3)\n",
    "grid_scores_knn = cross_validate(estimator=grid_search_knn, scoring=('accuracy', 'f1'), X=X, y=y, cv=5, return_train_score=True)\n",
    "\n",
    "df_grid_sentiment = pd.DataFrame(grid_scores_knn)\n",
    "df_grid_sentiment = df_grid_sentiment.mean()\n",
    "df_grid_sentiment['Model_name'] = 'KNeighborsClassifier'\n",
    "df_grid_sentiment['Search_strategy'] = 'GridSearch'\n",
    "\n",
    "df_grid_sentiment = pd.Series(df_grid_sentiment)\n",
    "sentiment_df = sentiment_df.append(df_grid_sentiment, ignore_index=True)"
   ]
  },
  {
   "cell_type": "code",
   "execution_count": 18,
   "metadata": {},
   "outputs": [],
   "source": [
    "randomized_search_knn = RandomizedSearchCV(estimator=KNeighborsClassifier(), param_distributions=parameters_knn, random_state=0, scoring='f1', cv=3, n_iter=5)\n",
    "randomized_scores_knn = cross_validate(estimator=randomized_search_knn, scoring=('accuracy', 'f1'), X=X, y=y, cv=5, return_train_score=True)\n",
    "\n",
    "df_randomized_sentiment = pd.DataFrame(randomized_scores_knn)\n",
    "df_randomized_sentiment = df_randomized_sentiment.mean()\n",
    "df_randomized_sentiment['Model_name'] = 'KNeighborsClassifier'\n",
    "df_randomized_sentiment['Search_strategy'] = 'RandomizedSearch'\n",
    "\n",
    "df_randomized_sentiment = pd.Series(df_randomized_sentiment)\n",
    "sentiment_df = sentiment_df.append(df_randomized_sentiment, ignore_index=True)"
   ]
  },
  {
   "cell_type": "markdown",
   "metadata": {},
   "source": [
    "## Al treilea model de clasificare: SVM.SVC"
   ]
  },
  {
   "cell_type": "code",
   "execution_count": 19,
   "metadata": {},
   "outputs": [],
   "source": [
    "grid_search_svc = GridSearchCV(estimator=SVC(), param_grid=parameters_svc, scoring='f1', cv=3)\n",
    "grid_scores_svc = cross_validate(estimator=grid_search_svc, scoring=('accuracy', 'f1'), X=X, y=y, cv=5, return_train_score=True)\n",
    "\n",
    "df_grid_sentiment = pd.DataFrame(grid_scores_svc)\n",
    "df_grid_sentiment = df_grid_sentiment.mean()\n",
    "df_grid_sentiment['Model_name'] = 'SVC'\n",
    "df_grid_sentiment['Search_strategy'] = 'GridSearch'\n",
    "\n",
    "df_grid_sentiment = pd.Series(df_grid_sentiment)\n",
    "sentiment_df = sentiment_df.append(df_grid_sentiment, ignore_index=True)"
   ]
  },
  {
   "cell_type": "code",
   "execution_count": 20,
   "metadata": {},
   "outputs": [],
   "source": [
    "randomized_search_svc = RandomizedSearchCV(estimator=SVC(), param_distributions=parameters_svc, random_state=0, scoring='f1', cv=3, n_iter=5)\n",
    "randomized_scores_svc = cross_validate(estimator=randomized_search_svc, scoring=('accuracy', 'f1'), X=X, y=y, cv=5, return_train_score=True)\n",
    "\n",
    "df_randomized_sentiment = pd.DataFrame(randomized_scores_svc)\n",
    "df_randomized_sentiment = df_randomized_sentiment.mean()\n",
    "df_randomized_sentiment['Model_name'] = 'SVC'\n",
    "df_randomized_sentiment['Search_strategy'] = 'RandomizedSearch'\n",
    "\n",
    "df_randomized_sentiment = pd.Series(df_randomized_sentiment)\n",
    "sentiment_df = sentiment_df.append(df_randomized_sentiment, ignore_index=True)"
   ]
  },
  {
   "cell_type": "markdown",
   "metadata": {},
   "source": [
    "## Al patrulea model de clasificare: RandomForestClassifier"
   ]
  },
  {
   "cell_type": "code",
   "execution_count": 21,
   "metadata": {},
   "outputs": [],
   "source": [
    "grid_search_rfc = GridSearchCV(estimator=RandomForestClassifier(), param_grid=parameters_rfc, scoring='f1', cv=3)\n",
    "grid_scores_rfc = cross_validate(estimator=grid_search_rfc, scoring=('accuracy', 'f1'), X=X, y=y, cv=5, return_train_score=True)\n",
    "\n",
    "df_grid_sentiment = pd.DataFrame(grid_scores_rfc)\n",
    "df_grid_sentiment = df_grid_sentiment.mean()\n",
    "df_grid_sentiment['Model_name'] = 'RandomForestClassifier'\n",
    "df_grid_sentiment['Search_strategy'] = 'GridSearch'\n",
    "\n",
    "df_grid_sentiment = pd.Series(df_grid_sentiment)\n",
    "sentiment_df = sentiment_df.append(df_grid_sentiment, ignore_index=True)"
   ]
  },
  {
   "cell_type": "code",
   "execution_count": 22,
   "metadata": {},
   "outputs": [],
   "source": [
    "randomized_search_rfc = RandomizedSearchCV(estimator=RandomForestClassifier(), param_distributions=parameters_rfc, random_state=0, scoring='f1', cv=3, n_iter=5)\n",
    "randomized_scores_rfc = cross_validate(estimator=randomized_search_rfc, scoring=('accuracy', 'f1'), X=X, y=y, cv=5, return_train_score=True)\n",
    "\n",
    "df_randomized_sentiment = pd.DataFrame(randomized_scores_rfc)\n",
    "df_randomized_sentiment = df_randomized_sentiment.mean()\n",
    "df_randomized_sentiment['Model_name'] = 'RandomForestClassifier'\n",
    "df_randomized_sentiment['Search_strategy'] = 'RandomizedSearch'\n",
    "\n",
    "df_randomized_sentiment = pd.Series(df_randomized_sentiment)\n",
    "sentiment_df = sentiment_df.append(df_randomized_sentiment, ignore_index=True)"
   ]
  },
  {
   "cell_type": "markdown",
   "metadata": {},
   "source": [
    "# Raportul final"
   ]
  },
  {
   "cell_type": "code",
   "execution_count": 23,
   "metadata": {},
   "outputs": [
    {
     "output_type": "execute_result",
     "data": {
      "text/plain": "               Model_name   Search_strategy   fit_time  score_time  \\\n0  DecisionTreeClassifier        GridSearch   0.498384    0.005550   \n1  DecisionTreeClassifier  RandomizedSearch   0.132549    0.003492   \n2    KNeighborsClassifier        GridSearch   2.103713    0.027777   \n3    KNeighborsClassifier  RandomizedSearch   0.362900    0.040366   \n4                     SVC        GridSearch   3.374050    0.019023   \n5                     SVC  RandomizedSearch   0.942537    0.023163   \n6  RandomForestClassifier        GridSearch  13.164714    0.022785   \n7  RandomForestClassifier  RandomizedSearch   4.829067    0.025209   \n\n   test_accuracy   test_f1  train_accuracy  train_f1  \n0       0.538828  0.689071        0.551456  0.695842  \n1       0.538828  0.689071        0.551456  0.695842  \n2       0.565494  0.651313        0.881700  0.899931  \n3       0.566792  0.634839        0.733288  0.773725  \n4       0.705817  0.720371        0.978291  0.978952  \n5       0.569745  0.676538        0.654622  0.752698  \n6       0.518711  0.678583        0.546125  0.693795  \n7       0.525405  0.684451        0.530410  0.686898  ",
      "text/html": "<div>\n<style scoped>\n    .dataframe tbody tr th:only-of-type {\n        vertical-align: middle;\n    }\n\n    .dataframe tbody tr th {\n        vertical-align: top;\n    }\n\n    .dataframe thead th {\n        text-align: right;\n    }\n</style>\n<table border=\"1\" class=\"dataframe\">\n  <thead>\n    <tr style=\"text-align: right;\">\n      <th></th>\n      <th>Model_name</th>\n      <th>Search_strategy</th>\n      <th>fit_time</th>\n      <th>score_time</th>\n      <th>test_accuracy</th>\n      <th>test_f1</th>\n      <th>train_accuracy</th>\n      <th>train_f1</th>\n    </tr>\n  </thead>\n  <tbody>\n    <tr>\n      <th>0</th>\n      <td>DecisionTreeClassifier</td>\n      <td>GridSearch</td>\n      <td>0.498384</td>\n      <td>0.005550</td>\n      <td>0.538828</td>\n      <td>0.689071</td>\n      <td>0.551456</td>\n      <td>0.695842</td>\n    </tr>\n    <tr>\n      <th>1</th>\n      <td>DecisionTreeClassifier</td>\n      <td>RandomizedSearch</td>\n      <td>0.132549</td>\n      <td>0.003492</td>\n      <td>0.538828</td>\n      <td>0.689071</td>\n      <td>0.551456</td>\n      <td>0.695842</td>\n    </tr>\n    <tr>\n      <th>2</th>\n      <td>KNeighborsClassifier</td>\n      <td>GridSearch</td>\n      <td>2.103713</td>\n      <td>0.027777</td>\n      <td>0.565494</td>\n      <td>0.651313</td>\n      <td>0.881700</td>\n      <td>0.899931</td>\n    </tr>\n    <tr>\n      <th>3</th>\n      <td>KNeighborsClassifier</td>\n      <td>RandomizedSearch</td>\n      <td>0.362900</td>\n      <td>0.040366</td>\n      <td>0.566792</td>\n      <td>0.634839</td>\n      <td>0.733288</td>\n      <td>0.773725</td>\n    </tr>\n    <tr>\n      <th>4</th>\n      <td>SVC</td>\n      <td>GridSearch</td>\n      <td>3.374050</td>\n      <td>0.019023</td>\n      <td>0.705817</td>\n      <td>0.720371</td>\n      <td>0.978291</td>\n      <td>0.978952</td>\n    </tr>\n    <tr>\n      <th>5</th>\n      <td>SVC</td>\n      <td>RandomizedSearch</td>\n      <td>0.942537</td>\n      <td>0.023163</td>\n      <td>0.569745</td>\n      <td>0.676538</td>\n      <td>0.654622</td>\n      <td>0.752698</td>\n    </tr>\n    <tr>\n      <th>6</th>\n      <td>RandomForestClassifier</td>\n      <td>GridSearch</td>\n      <td>13.164714</td>\n      <td>0.022785</td>\n      <td>0.518711</td>\n      <td>0.678583</td>\n      <td>0.546125</td>\n      <td>0.693795</td>\n    </tr>\n    <tr>\n      <th>7</th>\n      <td>RandomForestClassifier</td>\n      <td>RandomizedSearch</td>\n      <td>4.829067</td>\n      <td>0.025209</td>\n      <td>0.525405</td>\n      <td>0.684451</td>\n      <td>0.530410</td>\n      <td>0.686898</td>\n    </tr>\n  </tbody>\n</table>\n</div>"
     },
     "metadata": {},
     "execution_count": 23
    }
   ],
   "source": [
    "sentiment_df"
   ]
  },
  {
   "cell_type": "code",
   "execution_count": 24,
   "metadata": {},
   "outputs": [
    {
     "output_type": "execute_result",
     "data": {
      "text/plain": "<pandas.io.formats.style.Styler at 0x1a2635ff10>",
      "text/html": "<style  type=\"text/css\" >\n    #T_5f2f740a_a0fc_11ea_8234_98e0d99a8cd3row1_col2 {\n            : ;\n            background-color:  green;\n        }    #T_5f2f740a_a0fc_11ea_8234_98e0d99a8cd3row1_col3 {\n            : ;\n            background-color:  green;\n        }    #T_5f2f740a_a0fc_11ea_8234_98e0d99a8cd3row3_col3 {\n            background-color:  red;\n            : ;\n        }    #T_5f2f740a_a0fc_11ea_8234_98e0d99a8cd3row3_col5 {\n            : ;\n            background-color:  green;\n        }    #T_5f2f740a_a0fc_11ea_8234_98e0d99a8cd3row4_col4 {\n            background-color:  red;\n            : ;\n        }    #T_5f2f740a_a0fc_11ea_8234_98e0d99a8cd3row4_col5 {\n            background-color:  red;\n            : ;\n        }    #T_5f2f740a_a0fc_11ea_8234_98e0d99a8cd3row4_col6 {\n            background-color:  red;\n            : ;\n        }    #T_5f2f740a_a0fc_11ea_8234_98e0d99a8cd3row4_col7 {\n            background-color:  red;\n            : ;\n        }    #T_5f2f740a_a0fc_11ea_8234_98e0d99a8cd3row6_col2 {\n            background-color:  red;\n            : ;\n        }    #T_5f2f740a_a0fc_11ea_8234_98e0d99a8cd3row6_col4 {\n            : ;\n            background-color:  green;\n        }    #T_5f2f740a_a0fc_11ea_8234_98e0d99a8cd3row7_col6 {\n            : ;\n            background-color:  green;\n        }    #T_5f2f740a_a0fc_11ea_8234_98e0d99a8cd3row7_col7 {\n            : ;\n            background-color:  green;\n        }</style><table id=\"T_5f2f740a_a0fc_11ea_8234_98e0d99a8cd3\" ><thead>    <tr>        <th class=\"blank level0\" ></th>        <th class=\"col_heading level0 col0\" >Model_name</th>        <th class=\"col_heading level0 col1\" >Search_strategy</th>        <th class=\"col_heading level0 col2\" >fit_time</th>        <th class=\"col_heading level0 col3\" >score_time</th>        <th class=\"col_heading level0 col4\" >test_accuracy</th>        <th class=\"col_heading level0 col5\" >test_f1</th>        <th class=\"col_heading level0 col6\" >train_accuracy</th>        <th class=\"col_heading level0 col7\" >train_f1</th>    </tr></thead><tbody>\n                <tr>\n                        <th id=\"T_5f2f740a_a0fc_11ea_8234_98e0d99a8cd3level0_row0\" class=\"row_heading level0 row0\" >0</th>\n                        <td id=\"T_5f2f740a_a0fc_11ea_8234_98e0d99a8cd3row0_col0\" class=\"data row0 col0\" >DecisionTreeClassifier</td>\n                        <td id=\"T_5f2f740a_a0fc_11ea_8234_98e0d99a8cd3row0_col1\" class=\"data row0 col1\" >GridSearch</td>\n                        <td id=\"T_5f2f740a_a0fc_11ea_8234_98e0d99a8cd3row0_col2\" class=\"data row0 col2\" >0.498384</td>\n                        <td id=\"T_5f2f740a_a0fc_11ea_8234_98e0d99a8cd3row0_col3\" class=\"data row0 col3\" >0.005550</td>\n                        <td id=\"T_5f2f740a_a0fc_11ea_8234_98e0d99a8cd3row0_col4\" class=\"data row0 col4\" >0.538828</td>\n                        <td id=\"T_5f2f740a_a0fc_11ea_8234_98e0d99a8cd3row0_col5\" class=\"data row0 col5\" >0.689071</td>\n                        <td id=\"T_5f2f740a_a0fc_11ea_8234_98e0d99a8cd3row0_col6\" class=\"data row0 col6\" >0.551456</td>\n                        <td id=\"T_5f2f740a_a0fc_11ea_8234_98e0d99a8cd3row0_col7\" class=\"data row0 col7\" >0.695842</td>\n            </tr>\n            <tr>\n                        <th id=\"T_5f2f740a_a0fc_11ea_8234_98e0d99a8cd3level0_row1\" class=\"row_heading level0 row1\" >1</th>\n                        <td id=\"T_5f2f740a_a0fc_11ea_8234_98e0d99a8cd3row1_col0\" class=\"data row1 col0\" >DecisionTreeClassifier</td>\n                        <td id=\"T_5f2f740a_a0fc_11ea_8234_98e0d99a8cd3row1_col1\" class=\"data row1 col1\" >RandomizedSearch</td>\n                        <td id=\"T_5f2f740a_a0fc_11ea_8234_98e0d99a8cd3row1_col2\" class=\"data row1 col2\" >0.132549</td>\n                        <td id=\"T_5f2f740a_a0fc_11ea_8234_98e0d99a8cd3row1_col3\" class=\"data row1 col3\" >0.003492</td>\n                        <td id=\"T_5f2f740a_a0fc_11ea_8234_98e0d99a8cd3row1_col4\" class=\"data row1 col4\" >0.538828</td>\n                        <td id=\"T_5f2f740a_a0fc_11ea_8234_98e0d99a8cd3row1_col5\" class=\"data row1 col5\" >0.689071</td>\n                        <td id=\"T_5f2f740a_a0fc_11ea_8234_98e0d99a8cd3row1_col6\" class=\"data row1 col6\" >0.551456</td>\n                        <td id=\"T_5f2f740a_a0fc_11ea_8234_98e0d99a8cd3row1_col7\" class=\"data row1 col7\" >0.695842</td>\n            </tr>\n            <tr>\n                        <th id=\"T_5f2f740a_a0fc_11ea_8234_98e0d99a8cd3level0_row2\" class=\"row_heading level0 row2\" >2</th>\n                        <td id=\"T_5f2f740a_a0fc_11ea_8234_98e0d99a8cd3row2_col0\" class=\"data row2 col0\" >KNeighborsClassifier</td>\n                        <td id=\"T_5f2f740a_a0fc_11ea_8234_98e0d99a8cd3row2_col1\" class=\"data row2 col1\" >GridSearch</td>\n                        <td id=\"T_5f2f740a_a0fc_11ea_8234_98e0d99a8cd3row2_col2\" class=\"data row2 col2\" >2.103713</td>\n                        <td id=\"T_5f2f740a_a0fc_11ea_8234_98e0d99a8cd3row2_col3\" class=\"data row2 col3\" >0.027777</td>\n                        <td id=\"T_5f2f740a_a0fc_11ea_8234_98e0d99a8cd3row2_col4\" class=\"data row2 col4\" >0.565494</td>\n                        <td id=\"T_5f2f740a_a0fc_11ea_8234_98e0d99a8cd3row2_col5\" class=\"data row2 col5\" >0.651313</td>\n                        <td id=\"T_5f2f740a_a0fc_11ea_8234_98e0d99a8cd3row2_col6\" class=\"data row2 col6\" >0.881700</td>\n                        <td id=\"T_5f2f740a_a0fc_11ea_8234_98e0d99a8cd3row2_col7\" class=\"data row2 col7\" >0.899931</td>\n            </tr>\n            <tr>\n                        <th id=\"T_5f2f740a_a0fc_11ea_8234_98e0d99a8cd3level0_row3\" class=\"row_heading level0 row3\" >3</th>\n                        <td id=\"T_5f2f740a_a0fc_11ea_8234_98e0d99a8cd3row3_col0\" class=\"data row3 col0\" >KNeighborsClassifier</td>\n                        <td id=\"T_5f2f740a_a0fc_11ea_8234_98e0d99a8cd3row3_col1\" class=\"data row3 col1\" >RandomizedSearch</td>\n                        <td id=\"T_5f2f740a_a0fc_11ea_8234_98e0d99a8cd3row3_col2\" class=\"data row3 col2\" >0.362900</td>\n                        <td id=\"T_5f2f740a_a0fc_11ea_8234_98e0d99a8cd3row3_col3\" class=\"data row3 col3\" >0.040366</td>\n                        <td id=\"T_5f2f740a_a0fc_11ea_8234_98e0d99a8cd3row3_col4\" class=\"data row3 col4\" >0.566792</td>\n                        <td id=\"T_5f2f740a_a0fc_11ea_8234_98e0d99a8cd3row3_col5\" class=\"data row3 col5\" >0.634839</td>\n                        <td id=\"T_5f2f740a_a0fc_11ea_8234_98e0d99a8cd3row3_col6\" class=\"data row3 col6\" >0.733288</td>\n                        <td id=\"T_5f2f740a_a0fc_11ea_8234_98e0d99a8cd3row3_col7\" class=\"data row3 col7\" >0.773725</td>\n            </tr>\n            <tr>\n                        <th id=\"T_5f2f740a_a0fc_11ea_8234_98e0d99a8cd3level0_row4\" class=\"row_heading level0 row4\" >4</th>\n                        <td id=\"T_5f2f740a_a0fc_11ea_8234_98e0d99a8cd3row4_col0\" class=\"data row4 col0\" >SVC</td>\n                        <td id=\"T_5f2f740a_a0fc_11ea_8234_98e0d99a8cd3row4_col1\" class=\"data row4 col1\" >GridSearch</td>\n                        <td id=\"T_5f2f740a_a0fc_11ea_8234_98e0d99a8cd3row4_col2\" class=\"data row4 col2\" >3.374050</td>\n                        <td id=\"T_5f2f740a_a0fc_11ea_8234_98e0d99a8cd3row4_col3\" class=\"data row4 col3\" >0.019023</td>\n                        <td id=\"T_5f2f740a_a0fc_11ea_8234_98e0d99a8cd3row4_col4\" class=\"data row4 col4\" >0.705817</td>\n                        <td id=\"T_5f2f740a_a0fc_11ea_8234_98e0d99a8cd3row4_col5\" class=\"data row4 col5\" >0.720371</td>\n                        <td id=\"T_5f2f740a_a0fc_11ea_8234_98e0d99a8cd3row4_col6\" class=\"data row4 col6\" >0.978291</td>\n                        <td id=\"T_5f2f740a_a0fc_11ea_8234_98e0d99a8cd3row4_col7\" class=\"data row4 col7\" >0.978952</td>\n            </tr>\n            <tr>\n                        <th id=\"T_5f2f740a_a0fc_11ea_8234_98e0d99a8cd3level0_row5\" class=\"row_heading level0 row5\" >5</th>\n                        <td id=\"T_5f2f740a_a0fc_11ea_8234_98e0d99a8cd3row5_col0\" class=\"data row5 col0\" >SVC</td>\n                        <td id=\"T_5f2f740a_a0fc_11ea_8234_98e0d99a8cd3row5_col1\" class=\"data row5 col1\" >RandomizedSearch</td>\n                        <td id=\"T_5f2f740a_a0fc_11ea_8234_98e0d99a8cd3row5_col2\" class=\"data row5 col2\" >0.942537</td>\n                        <td id=\"T_5f2f740a_a0fc_11ea_8234_98e0d99a8cd3row5_col3\" class=\"data row5 col3\" >0.023163</td>\n                        <td id=\"T_5f2f740a_a0fc_11ea_8234_98e0d99a8cd3row5_col4\" class=\"data row5 col4\" >0.569745</td>\n                        <td id=\"T_5f2f740a_a0fc_11ea_8234_98e0d99a8cd3row5_col5\" class=\"data row5 col5\" >0.676538</td>\n                        <td id=\"T_5f2f740a_a0fc_11ea_8234_98e0d99a8cd3row5_col6\" class=\"data row5 col6\" >0.654622</td>\n                        <td id=\"T_5f2f740a_a0fc_11ea_8234_98e0d99a8cd3row5_col7\" class=\"data row5 col7\" >0.752698</td>\n            </tr>\n            <tr>\n                        <th id=\"T_5f2f740a_a0fc_11ea_8234_98e0d99a8cd3level0_row6\" class=\"row_heading level0 row6\" >6</th>\n                        <td id=\"T_5f2f740a_a0fc_11ea_8234_98e0d99a8cd3row6_col0\" class=\"data row6 col0\" >RandomForestClassifier</td>\n                        <td id=\"T_5f2f740a_a0fc_11ea_8234_98e0d99a8cd3row6_col1\" class=\"data row6 col1\" >GridSearch</td>\n                        <td id=\"T_5f2f740a_a0fc_11ea_8234_98e0d99a8cd3row6_col2\" class=\"data row6 col2\" >13.164714</td>\n                        <td id=\"T_5f2f740a_a0fc_11ea_8234_98e0d99a8cd3row6_col3\" class=\"data row6 col3\" >0.022785</td>\n                        <td id=\"T_5f2f740a_a0fc_11ea_8234_98e0d99a8cd3row6_col4\" class=\"data row6 col4\" >0.518711</td>\n                        <td id=\"T_5f2f740a_a0fc_11ea_8234_98e0d99a8cd3row6_col5\" class=\"data row6 col5\" >0.678583</td>\n                        <td id=\"T_5f2f740a_a0fc_11ea_8234_98e0d99a8cd3row6_col6\" class=\"data row6 col6\" >0.546125</td>\n                        <td id=\"T_5f2f740a_a0fc_11ea_8234_98e0d99a8cd3row6_col7\" class=\"data row6 col7\" >0.693795</td>\n            </tr>\n            <tr>\n                        <th id=\"T_5f2f740a_a0fc_11ea_8234_98e0d99a8cd3level0_row7\" class=\"row_heading level0 row7\" >7</th>\n                        <td id=\"T_5f2f740a_a0fc_11ea_8234_98e0d99a8cd3row7_col0\" class=\"data row7 col0\" >RandomForestClassifier</td>\n                        <td id=\"T_5f2f740a_a0fc_11ea_8234_98e0d99a8cd3row7_col1\" class=\"data row7 col1\" >RandomizedSearch</td>\n                        <td id=\"T_5f2f740a_a0fc_11ea_8234_98e0d99a8cd3row7_col2\" class=\"data row7 col2\" >4.829067</td>\n                        <td id=\"T_5f2f740a_a0fc_11ea_8234_98e0d99a8cd3row7_col3\" class=\"data row7 col3\" >0.025209</td>\n                        <td id=\"T_5f2f740a_a0fc_11ea_8234_98e0d99a8cd3row7_col4\" class=\"data row7 col4\" >0.525405</td>\n                        <td id=\"T_5f2f740a_a0fc_11ea_8234_98e0d99a8cd3row7_col5\" class=\"data row7 col5\" >0.684451</td>\n                        <td id=\"T_5f2f740a_a0fc_11ea_8234_98e0d99a8cd3row7_col6\" class=\"data row7 col6\" >0.530410</td>\n                        <td id=\"T_5f2f740a_a0fc_11ea_8234_98e0d99a8cd3row7_col7\" class=\"data row7 col7\" >0.686898</td>\n            </tr>\n    </tbody></table>"
     },
     "metadata": {},
     "execution_count": 24
    }
   ],
   "source": [
    "sentiment_df.style.highlight_max(color='red').highlight_min(color='green')"
   ]
  },
  {
   "cell_type": "markdown",
   "metadata": {},
   "source": [
    "## Randarea fisierului html"
   ]
  },
  {
   "cell_type": "code",
   "execution_count": 29,
   "metadata": {},
   "outputs": [],
   "source": [
    "sentiment_html = sentiment_df.style.highlight_max(color='red').highlight_min(color='green').render()\n",
    "\n",
    "text_file = open('../html_files/sentiment.html', 'w')\n",
    "text_file.write('<br>')\n",
    "text_file.write('<h1><center> Dataset: Sentiment Labelled Sentences <center></h1>')\n",
    "text_file.write('<br><br><br><br><br><br><br><center>')\n",
    "text_file.write(sentiment_html)\n",
    "text_file.write('</center>')\n",
    "text_file.close()"
   ]
  }
 ],
 "metadata": {
  "language_info": {
   "codemirror_mode": {
    "name": "ipython",
    "version": 3
   },
   "file_extension": ".py",
   "mimetype": "text/x-python",
   "name": "python",
   "nbconvert_exporter": "python",
   "pygments_lexer": "ipython3",
   "version": "3.7.7-final"
  },
  "orig_nbformat": 2,
  "kernelspec": {
   "name": "python3",
   "display_name": "Python 3"
  }
 },
 "nbformat": 4,
 "nbformat_minor": 2
}