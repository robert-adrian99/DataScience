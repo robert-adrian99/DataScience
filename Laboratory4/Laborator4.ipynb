{
 "cells": [
  {
   "cell_type": "markdown",
   "execution_count": null,
   "metadata": {},
   "outputs": [],
   "source": [
    "# Introducere in Data Science - Tema 2 Laborator 4\n",
    "## Grupa\n",
    "### 10LF381\n",
    "## Membri\n",
    "### - Bucur Robert-Adrian\n",
    "### - Bogdan Gheorghe-Nicolae"
   ]
  },
  {
   "cell_type": "markdown",
   "metadata": {},
   "source": [
    "**Precizari**:\n",
    "* Se acorda 3 puncte din oficiu.\n",
    "* Predarea se va face in saptamana 23-27 martie 2020.\n",
    "* Temele se pot lucra in echipe de cate 2 studenti. Tema se va depune in lucrarea de pe site-ul de elearning"
   ],
   "execution_count": null,
   "outputs": []
  },
  {
   "cell_type": "markdown",
   "execution_count": null,
   "metadata": {},
   "outputs": [],
   "source": [
    "# Exercitii cu Pandas"
   ]
  },
  {
   "cell_type": "code",
   "execution_count": 2,
   "metadata": {},
   "outputs": [],
   "source": [
    "import pandas as pd"
   ]
  },
  {
   "cell_type": "markdown",
   "execution_count": null,
   "metadata": {},
   "outputs": [],
   "source": [
    "## Exercitiul 1\n",
    "Incarcati setul de date in format tsv [https://raw.githubusercontent.com/justmarkham/DAT8/master/data/chipotle.tsv](https://raw.githubusercontent.com/justmarkham/DAT8/master/data/chipotle.tsv) intr-un obiect Pandas DataFrame."
   ]
  },
  {
   "cell_type": "code",
   "execution_count": 3,
   "metadata": {},
   "outputs": [],
   "source": [
    "data = pd.read_csv('chipotle.tsv', sep='\\t')"
   ]
  },
  {
   "cell_type": "markdown",
   "execution_count": null,
   "metadata": {},
   "outputs": [],
   "source": [
    "**1. (optional) Afisati primele 5 linii din tabel**"
   ]
  },
  {
   "cell_type": "code",
   "execution_count": 4,
   "metadata": {},
   "outputs": [
    {
     "output_type": "execute_result",
     "data": {
      "text/plain": "   order_id  quantity                              item_name  \\\n0         1         1           Chips and Fresh Tomato Salsa   \n1         1         1                                   Izze   \n2         1         1                       Nantucket Nectar   \n3         1         1  Chips and Tomatillo-Green Chili Salsa   \n4         2         2                           Chicken Bowl   \n\n                                  choice_description item_price  \n0                                                NaN     $2.39   \n1                                       [Clementine]     $3.39   \n2                                            [Apple]     $3.39   \n3                                                NaN     $2.39   \n4  [Tomatillo-Red Chili Salsa (Hot), [Black Beans...    $16.98   ",
      "text/html": "<div>\n<style scoped>\n    .dataframe tbody tr th:only-of-type {\n        vertical-align: middle;\n    }\n\n    .dataframe tbody tr th {\n        vertical-align: top;\n    }\n\n    .dataframe thead th {\n        text-align: right;\n    }\n</style>\n<table border=\"1\" class=\"dataframe\">\n  <thead>\n    <tr style=\"text-align: right;\">\n      <th></th>\n      <th>order_id</th>\n      <th>quantity</th>\n      <th>item_name</th>\n      <th>choice_description</th>\n      <th>item_price</th>\n    </tr>\n  </thead>\n  <tbody>\n    <tr>\n      <th>0</th>\n      <td>1</td>\n      <td>1</td>\n      <td>Chips and Fresh Tomato Salsa</td>\n      <td>NaN</td>\n      <td>$2.39</td>\n    </tr>\n    <tr>\n      <th>1</th>\n      <td>1</td>\n      <td>1</td>\n      <td>Izze</td>\n      <td>[Clementine]</td>\n      <td>$3.39</td>\n    </tr>\n    <tr>\n      <th>2</th>\n      <td>1</td>\n      <td>1</td>\n      <td>Nantucket Nectar</td>\n      <td>[Apple]</td>\n      <td>$3.39</td>\n    </tr>\n    <tr>\n      <th>3</th>\n      <td>1</td>\n      <td>1</td>\n      <td>Chips and Tomatillo-Green Chili Salsa</td>\n      <td>NaN</td>\n      <td>$2.39</td>\n    </tr>\n    <tr>\n      <th>4</th>\n      <td>2</td>\n      <td>2</td>\n      <td>Chicken Bowl</td>\n      <td>[Tomatillo-Red Chili Salsa (Hot), [Black Beans...</td>\n      <td>$16.98</td>\n    </tr>\n  </tbody>\n</table>\n</div>"
     },
     "metadata": {},
     "execution_count": 4
    }
   ],
   "source": [
    "data.head()"
   ]
  },
  {
   "cell_type": "markdown",
   "execution_count": null,
   "metadata": {},
   "outputs": [],
   "source": [
    "**2. (optional) Care este numarul de inregistrari din DataFrame?**"
   ]
  },
  {
   "cell_type": "code",
   "execution_count": 39,
   "metadata": {},
   "outputs": [
    {
     "output_type": "stream",
     "name": "stdout",
     "text": "Numarul de inregistrari:  4622\n"
    }
   ],
   "source": [
    "print('Numarul de inregistrari: ', data.shape[0])"
   ]
  },
  {
   "cell_type": "markdown",
   "execution_count": null,
   "metadata": {},
   "outputs": [],
   "source": [
    "**3. (optional) Comparati iesirea metodelor `info()` si `describe()`.**"
   ]
  },
  {
   "cell_type": "code",
   "execution_count": 6,
   "metadata": {},
   "outputs": [
    {
     "output_type": "stream",
     "name": "stdout",
     "text": "<class 'pandas.core.frame.DataFrame'>\nRangeIndex: 4622 entries, 0 to 4621\nData columns (total 5 columns):\n #   Column              Non-Null Count  Dtype \n---  ------              --------------  ----- \n 0   order_id            4622 non-null   int64 \n 1   quantity            4622 non-null   int64 \n 2   item_name           4622 non-null   object\n 3   choice_description  3376 non-null   object\n 4   item_price          4622 non-null   object\ndtypes: int64(2), object(3)\nmemory usage: 180.7+ KB\n"
    },
    {
     "output_type": "execute_result",
     "data": {
      "text/plain": "          order_id     quantity\ncount  4622.000000  4622.000000\nmean    927.254868     1.075725\nstd     528.890796     0.410186\nmin       1.000000     1.000000\n25%     477.250000     1.000000\n50%     926.000000     1.000000\n75%    1393.000000     1.000000\nmax    1834.000000    15.000000",
      "text/html": "<div>\n<style scoped>\n    .dataframe tbody tr th:only-of-type {\n        vertical-align: middle;\n    }\n\n    .dataframe tbody tr th {\n        vertical-align: top;\n    }\n\n    .dataframe thead th {\n        text-align: right;\n    }\n</style>\n<table border=\"1\" class=\"dataframe\">\n  <thead>\n    <tr style=\"text-align: right;\">\n      <th></th>\n      <th>order_id</th>\n      <th>quantity</th>\n    </tr>\n  </thead>\n  <tbody>\n    <tr>\n      <th>count</th>\n      <td>4622.000000</td>\n      <td>4622.000000</td>\n    </tr>\n    <tr>\n      <th>mean</th>\n      <td>927.254868</td>\n      <td>1.075725</td>\n    </tr>\n    <tr>\n      <th>std</th>\n      <td>528.890796</td>\n      <td>0.410186</td>\n    </tr>\n    <tr>\n      <th>min</th>\n      <td>1.000000</td>\n      <td>1.000000</td>\n    </tr>\n    <tr>\n      <th>25%</th>\n      <td>477.250000</td>\n      <td>1.000000</td>\n    </tr>\n    <tr>\n      <th>50%</th>\n      <td>926.000000</td>\n      <td>1.000000</td>\n    </tr>\n    <tr>\n      <th>75%</th>\n      <td>1393.000000</td>\n      <td>1.000000</td>\n    </tr>\n    <tr>\n      <th>max</th>\n      <td>1834.000000</td>\n      <td>15.000000</td>\n    </tr>\n  </tbody>\n</table>\n</div>"
     },
     "metadata": {},
     "execution_count": 6
    }
   ],
   "source": [
    "data.info()\n",
    "data.describe()"
   ]
  },
  {
   "cell_type": "markdown",
   "execution_count": null,
   "metadata": {},
   "outputs": [],
   "source": [
    "**4. (optional) Care e numarul de coloane? afisati numele lor.**"
   ]
  },
  {
   "cell_type": "code",
   "execution_count": 40,
   "metadata": {},
   "outputs": [
    {
     "output_type": "stream",
     "name": "stdout",
     "text": "Numarul de coloane:  7\nAcestea sunt:  Index(['order_id', 'quantity', 'item_name', 'choice_description', 'item_price',\n       'item_price_float', 'total_sum'],\n      dtype='object')\n"
    }
   ],
   "source": [
    "print('Numarul de coloane: ', data.shape[1])\n",
    "print('Acestea sunt: ', data.columns)"
   ]
  },
  {
   "cell_type": "markdown",
   "execution_count": null,
   "metadata": {},
   "outputs": [],
   "source": [
    "**5. (0.5 puncte) Cum e indexat setul de date? Sunt valorile din index unice?**"
   ]
  },
  {
   "cell_type": "code",
   "execution_count": 8,
   "metadata": {},
   "outputs": [
    {
     "output_type": "stream",
     "name": "stdout",
     "text": "0          1\n1          1\n2          1\n3          1\n4          2\n        ... \n4617    1833\n4618    1833\n4619    1834\n4620    1834\n4621    1834\nName: order_id, Length: 4622, dtype: int64\n"
    },
    {
     "output_type": "execute_result",
     "data": {
      "text/plain": "False"
     },
     "metadata": {},
     "execution_count": 8
    }
   ],
   "source": [
    "print(data.order_id)\n",
    "data.order_id.is_unique"
   ]
  },
  {
   "cell_type": "markdown",
   "execution_count": null,
   "metadata": {},
   "outputs": [],
   "source": [
    "**6. (0.5 puncte) Care sunt marfurile vandute, in ordine alfabetica? Cate sunt?**"
   ]
  },
  {
   "cell_type": "code",
   "execution_count": 9,
   "metadata": {},
   "outputs": [
    {
     "output_type": "stream",
     "name": "stdout",
     "text": "0                         6 Pack Soft Drink\n1                             Barbacoa Bowl\n2                          Barbacoa Burrito\n3                     Barbacoa Crispy Tacos\n4                       Barbacoa Salad Bowl\n5                       Barbacoa Soft Tacos\n6                             Bottled Water\n7                                      Bowl\n8                                   Burrito\n9                               Canned Soda\n10                        Canned Soft Drink\n11                            Carnitas Bowl\n12                         Carnitas Burrito\n13                    Carnitas Crispy Tacos\n14                           Carnitas Salad\n15                      Carnitas Salad Bowl\n16                      Carnitas Soft Tacos\n17                             Chicken Bowl\n18                          Chicken Burrito\n19                     Chicken Crispy Tacos\n20                            Chicken Salad\n21                       Chicken Salad Bowl\n22                       Chicken Soft Tacos\n23                                    Chips\n24             Chips and Fresh Tomato Salsa\n25                      Chips and Guacamole\n26        Chips and Mild Fresh Tomato Salsa\n27       Chips and Roasted Chili Corn Salsa\n28       Chips and Roasted Chili-Corn Salsa\n29    Chips and Tomatillo Green Chili Salsa\n30      Chips and Tomatillo Red Chili Salsa\n31    Chips and Tomatillo-Green Chili Salsa\n32      Chips and Tomatillo-Red Chili Salsa\n33                             Crispy Tacos\n34                                     Izze\n35                         Nantucket Nectar\n36                                    Salad\n37                            Side of Chips\n38                               Steak Bowl\n39                            Steak Burrito\n40                       Steak Crispy Tacos\n41                              Steak Salad\n42                         Steak Salad Bowl\n43                         Steak Soft Tacos\n44                              Veggie Bowl\n45                           Veggie Burrito\n46                      Veggie Crispy Tacos\n47                             Veggie Salad\n48                        Veggie Salad Bowl\n49                        Veggie Soft Tacos\ndtype: object\n"
    },
    {
     "output_type": "execute_result",
     "data": {
      "text/plain": "50"
     },
     "metadata": {},
     "execution_count": 9
    }
   ],
   "source": [
    "items = pd.Series(data['item_name'].sort_values().unique())\n",
    "print(items)\n",
    "len(items)"
   ]
  },
  {
   "cell_type": "markdown",
   "execution_count": null,
   "metadata": {},
   "outputs": [],
   "source": [
    "**7. (0.5 puncte) Cate obiecte (items) au fost comandate, in total - suma pe coloana 'quantity'?**"
   ]
  },
  {
   "cell_type": "code",
   "execution_count": 10,
   "metadata": {},
   "outputs": [
    {
     "output_type": "execute_result",
     "data": {
      "text/plain": "4972"
     },
     "metadata": {},
     "execution_count": 10
    }
   ],
   "source": [
    "data['quantity'].sum()"
   ]
  },
  {
   "cell_type": "markdown",
   "metadata": {},
   "source": [
    "**8. (0.5 puncte) Transformati intr-un alt dataframe coloana 'item_price' din stringuri in valori floating point. Care sunt preturile (minim, maxim, mediu, median) cu care s-a vandut produsul 'Chicken Crispy Tacos'? Cate astfel de produse au fost comandate in total? Care sunt veniturile obtinute din vanzarea acestui produs? *Nota*: puteti folosi metoda `describe()` a unui dataframe/series.**"
   ]
  },
  {
   "cell_type": "code",
   "execution_count": 38,
   "metadata": {},
   "outputs": [
    {
     "output_type": "stream",
     "name": "stdout",
     "text": "Pretul minim: $ 8.49\nPretul maxim: $ 17.5\nPretul mediu: $ 10.04531914893617\nPretul median: $ 8.75\nNumarul de produse comandate:  50\nVeniturile totale: $ 472.13\n"
    }
   ],
   "source": [
    "data_price = pd.DataFrame(data[data['item_name'] == 'Chicken Crispy Tacos'].item_price)\n",
    "data_price['item_price'].replace(regex=True,inplace=True,to_replace=r'\\$',value=r'')\n",
    "data_price = data_price.astype(float)\n",
    "print('Pretul minim: $', float(data_price.describe().loc['min']))\n",
    "print('Pretul maxim: $', float(data_price.describe().loc['max']))\n",
    "print('Pretul mediu: $', float(data_price.describe().loc['mean']))\n",
    "print('Pretul median: $', float(data_price.describe().loc['50%']))\n",
    "print('Numarul de produse comandate: ', (data[data.item_name == 'Chicken Crispy Tacos'].quantity).sum())\n",
    "print('Veniturile totale: $' , float(data_price.sum()))"
   ]
  },
  {
   "cell_type": "markdown",
   "metadata": {},
   "source": [
    "**9. (0.5 puncte) Care sunt cele mai comandate 3 marfuri? Folositi `groupby()` pentru grupare, ne intereseaza cantitatile cele mai mari. *Nota:* sectiunea 'Aggregation and Grouping' din [Python Data Science Handbook](https://jakevdp.github.io/PythonDataScienceHandbook/) e utila pentru intelegerea agregarilor.**"
   ],
   "execution_count": null,
   "outputs": []
  },
  {
   "cell_type": "code",
   "execution_count": 12,
   "metadata": {},
   "outputs": [
    {
     "output_type": "execute_result",
     "data": {
      "text/plain": "item_name\nChicken Bowl           761\nChicken Burrito        591\nChips and Guacamole    506\nName: quantity, dtype: int64"
     },
     "metadata": {},
     "execution_count": 12
    }
   ],
   "source": [
    "data.groupby('item_name')['quantity'].sum().nlargest(3)"
   ]
  },
  {
   "cell_type": "markdown",
   "execution_count": null,
   "metadata": {},
   "outputs": [],
   "source": [
    "**10. (0.5 puncte) De cate ori s-a comandat 'Veggie Salad Bowl'?**"
   ]
  },
  {
   "cell_type": "code",
   "execution_count": 13,
   "metadata": {},
   "outputs": [
    {
     "output_type": "stream",
     "name": "stdout",
     "text": "18\n"
    }
   ],
   "source": [
    "print(data[data['item_name'] == 'Veggie Salad Bowl'].count().quantity)"
   ]
  },
  {
   "cell_type": "markdown",
   "metadata": {},
   "source": [
    "**11. (0.5 puncte) De cate ori intr-o comanda s-au cerut mai mult de o 'Canned Soda'?**"
   ],
   "execution_count": null,
   "outputs": []
  },
  {
   "cell_type": "code",
   "execution_count": 14,
   "metadata": {},
   "outputs": [
    {
     "output_type": "execute_result",
     "data": {
      "text/plain": "20"
     },
     "metadata": {},
     "execution_count": 14
    }
   ],
   "source": [
    "data.loc[data['item_name'] == 'Canned Soda'][data['quantity'] > 1].quantity.count()"
   ]
  },
  {
   "cell_type": "markdown",
   "metadata": {},
   "source": [
    "**12. (0.5 puncte) Care sunt sumele incasate pentru fiecare comanda? atentie, pentru fiecare item comandat trebuie luat in considerare si cantitatea. Puteti crea coloane auxiliare (pret transformat din string in float, pret total pe acel item = pret_unitar * cantitate etc.)**"
   ],
   "execution_count": null,
   "outputs": []
  },
  {
   "cell_type": "code",
   "execution_count": 15,
   "metadata": {},
   "outputs": [
    {
     "output_type": "execute_result",
     "data": {
      "text/plain": "      order_id  quantity                              item_name  \\\n0            1         1           Chips and Fresh Tomato Salsa   \n1            1         1                                   Izze   \n2            1         1                       Nantucket Nectar   \n3            1         1  Chips and Tomatillo-Green Chili Salsa   \n4            2         2                           Chicken Bowl   \n...        ...       ...                                    ...   \n4617      1833         1                          Steak Burrito   \n4618      1833         1                          Steak Burrito   \n4619      1834         1                     Chicken Salad Bowl   \n4620      1834         1                     Chicken Salad Bowl   \n4621      1834         1                     Chicken Salad Bowl   \n\n                                     choice_description item_price  \\\n0                                                   NaN     $2.39    \n1                                          [Clementine]     $3.39    \n2                                               [Apple]     $3.39    \n3                                                   NaN     $2.39    \n4     [Tomatillo-Red Chili Salsa (Hot), [Black Beans...    $16.98    \n...                                                 ...        ...   \n4617  [Fresh Tomato Salsa, [Rice, Black Beans, Sour ...    $11.75    \n4618  [Fresh Tomato Salsa, [Rice, Sour Cream, Cheese...    $11.75    \n4619  [Fresh Tomato Salsa, [Fajita Vegetables, Pinto...    $11.25    \n4620  [Fresh Tomato Salsa, [Fajita Vegetables, Lettu...     $8.75    \n4621  [Fresh Tomato Salsa, [Fajita Vegetables, Pinto...     $8.75    \n\n      item_price_float  total_sum  \n0                 2.39       2.39  \n1                 3.39       3.39  \n2                 3.39       3.39  \n3                 2.39       2.39  \n4                16.98      33.96  \n...                ...        ...  \n4617             11.75      11.75  \n4618             11.75      11.75  \n4619             11.25      11.25  \n4620              8.75       8.75  \n4621              8.75       8.75  \n\n[4622 rows x 7 columns]",
      "text/html": "<div>\n<style scoped>\n    .dataframe tbody tr th:only-of-type {\n        vertical-align: middle;\n    }\n\n    .dataframe tbody tr th {\n        vertical-align: top;\n    }\n\n    .dataframe thead th {\n        text-align: right;\n    }\n</style>\n<table border=\"1\" class=\"dataframe\">\n  <thead>\n    <tr style=\"text-align: right;\">\n      <th></th>\n      <th>order_id</th>\n      <th>quantity</th>\n      <th>item_name</th>\n      <th>choice_description</th>\n      <th>item_price</th>\n      <th>item_price_float</th>\n      <th>total_sum</th>\n    </tr>\n  </thead>\n  <tbody>\n    <tr>\n      <th>0</th>\n      <td>1</td>\n      <td>1</td>\n      <td>Chips and Fresh Tomato Salsa</td>\n      <td>NaN</td>\n      <td>$2.39</td>\n      <td>2.39</td>\n      <td>2.39</td>\n    </tr>\n    <tr>\n      <th>1</th>\n      <td>1</td>\n      <td>1</td>\n      <td>Izze</td>\n      <td>[Clementine]</td>\n      <td>$3.39</td>\n      <td>3.39</td>\n      <td>3.39</td>\n    </tr>\n    <tr>\n      <th>2</th>\n      <td>1</td>\n      <td>1</td>\n      <td>Nantucket Nectar</td>\n      <td>[Apple]</td>\n      <td>$3.39</td>\n      <td>3.39</td>\n      <td>3.39</td>\n    </tr>\n    <tr>\n      <th>3</th>\n      <td>1</td>\n      <td>1</td>\n      <td>Chips and Tomatillo-Green Chili Salsa</td>\n      <td>NaN</td>\n      <td>$2.39</td>\n      <td>2.39</td>\n      <td>2.39</td>\n    </tr>\n    <tr>\n      <th>4</th>\n      <td>2</td>\n      <td>2</td>\n      <td>Chicken Bowl</td>\n      <td>[Tomatillo-Red Chili Salsa (Hot), [Black Beans...</td>\n      <td>$16.98</td>\n      <td>16.98</td>\n      <td>33.96</td>\n    </tr>\n    <tr>\n      <th>...</th>\n      <td>...</td>\n      <td>...</td>\n      <td>...</td>\n      <td>...</td>\n      <td>...</td>\n      <td>...</td>\n      <td>...</td>\n    </tr>\n    <tr>\n      <th>4617</th>\n      <td>1833</td>\n      <td>1</td>\n      <td>Steak Burrito</td>\n      <td>[Fresh Tomato Salsa, [Rice, Black Beans, Sour ...</td>\n      <td>$11.75</td>\n      <td>11.75</td>\n      <td>11.75</td>\n    </tr>\n    <tr>\n      <th>4618</th>\n      <td>1833</td>\n      <td>1</td>\n      <td>Steak Burrito</td>\n      <td>[Fresh Tomato Salsa, [Rice, Sour Cream, Cheese...</td>\n      <td>$11.75</td>\n      <td>11.75</td>\n      <td>11.75</td>\n    </tr>\n    <tr>\n      <th>4619</th>\n      <td>1834</td>\n      <td>1</td>\n      <td>Chicken Salad Bowl</td>\n      <td>[Fresh Tomato Salsa, [Fajita Vegetables, Pinto...</td>\n      <td>$11.25</td>\n      <td>11.25</td>\n      <td>11.25</td>\n    </tr>\n    <tr>\n      <th>4620</th>\n      <td>1834</td>\n      <td>1</td>\n      <td>Chicken Salad Bowl</td>\n      <td>[Fresh Tomato Salsa, [Fajita Vegetables, Lettu...</td>\n      <td>$8.75</td>\n      <td>8.75</td>\n      <td>8.75</td>\n    </tr>\n    <tr>\n      <th>4621</th>\n      <td>1834</td>\n      <td>1</td>\n      <td>Chicken Salad Bowl</td>\n      <td>[Fresh Tomato Salsa, [Fajita Vegetables, Pinto...</td>\n      <td>$8.75</td>\n      <td>8.75</td>\n      <td>8.75</td>\n    </tr>\n  </tbody>\n</table>\n<p>4622 rows × 7 columns</p>\n</div>"
     },
     "metadata": {},
     "execution_count": 15
    }
   ],
   "source": [
    "data['item_price_float'] = data['item_price']\n",
    "data['item_price_float'].replace(regex=True,inplace=True,to_replace=r'\\$',value=r'')\n",
    "data.item_price_float = data.item_price_float.astype(float)\n",
    "data['total_sum'] = data.item_price_float * data.quantity\n",
    "data"
   ]
  },
  {
   "cell_type": "markdown",
   "metadata": {},
   "source": [
    "## Exercitiul 2\n",
    "Incarcati setul de date de la [https://raw.githubusercontent.com/jokecamp/FootballData/master/UEFA_European_Championship/Euro%202012/Euro%202012%20stats%20TEAM.csv](https://raw.githubusercontent.com/jokecamp/FootballData/master/UEFA_European_Championship/Euro%202012/Euro%202012%20stats%20TEAM.csv) intr-un obiect Pandas DataFrame."
   ],
   "execution_count": null,
   "outputs": []
  },
  {
   "cell_type": "code",
   "execution_count": 16,
   "metadata": {},
   "outputs": [],
   "source": [
    "euro2020 = pd.read_csv('Euro2020.csv', sep=',')"
   ]
  },
  {
   "cell_type": "markdown",
   "metadata": {},
   "source": [
    "**1. (optional) Cate echipe au participat la Euro 2012?**"
   ],
   "execution_count": null,
   "outputs": []
  },
  {
   "cell_type": "code",
   "execution_count": 17,
   "metadata": {},
   "outputs": [
    {
     "output_type": "execute_result",
     "data": {
      "text/plain": "16"
     },
     "metadata": {},
     "execution_count": 17
    }
   ],
   "source": [
    "euro2020.shape[0]"
   ]
  },
  {
   "cell_type": "markdown",
   "metadata": {},
   "source": [
    "**2. (optional) Sa se sorteze echipele dupa numarul de cartonase rosii, apoi dupa cele galbene, descrescator - sortare dupa criteriu dublu.**"
   ],
   "execution_count": null,
   "outputs": []
  },
  {
   "cell_type": "code",
   "execution_count": 18,
   "metadata": {},
   "outputs": [
    {
     "output_type": "execute_result",
     "data": {
      "text/plain": "                   Team  Goals  Shots on target  Shots off target  \\\n2               Denmark      4               10                10   \n5               Germany     10               32                32   \n3               England      5               11                18   \n8           Netherlands      2               12                36   \n15              Ukraine      2                7                26   \n4                France      3               22                24   \n12               Russia      5                9                31   \n1        Czech Republic      4               13                18   \n14               Sweden      5               17                19   \n0               Croatia      4               13                12   \n13                Spain     12               42                33   \n10             Portugal      6               22                42   \n7                 Italy      6               34                45   \n11  Republic of Ireland      1                7                12   \n9                Poland      2               15                23   \n6                Greece      5                8                18   \n\n   Shooting Accuracy % Goals-to-shots  Total shots (inc. Blocked)  \\\n2              50.0%            20.0%                          27   \n5              47.8%            15.6%                          80   \n3              50.0%            17.2%                          40   \n8              25.0%             4.1%                          60   \n15             21.2%             6.0%                          38   \n4              37.9%             6.5%                          65   \n12             22.5%            12.5%                          59   \n1              41.9%            12.9%                          39   \n14             47.2%            13.8%                          39   \n0              51.9%            16.0%                          32   \n13             55.9%            16.0%                         100   \n10             34.3%             9.3%                          82   \n7              43.0%             7.5%                         110   \n11             36.8%             5.2%                          28   \n9              39.4%             5.2%                          48   \n6              30.7%            19.2%                          32   \n\n    Hit Woodwork  Penalty goals  Penalties not scored  ...  Saves made  \\\n2              1              0                     0  ...          10   \n5              2              1                     0  ...          10   \n3              0              0                     0  ...          22   \n8              2              0                     0  ...          12   \n15             0              0                     0  ...          13   \n4              1              0                     0  ...           6   \n12             2              0                     0  ...          10   \n1              0              0                     0  ...           9   \n14             3              0                     0  ...           8   \n0              0              0                     0  ...          13   \n13             0              1                     0  ...          15   \n10             6              0                     0  ...          10   \n7              2              0                     0  ...          20   \n11             0              0                     0  ...          17   \n9              0              0                     0  ...           6   \n6              1              1                     1  ...          13   \n\n    Saves-to-shots ratio  Fouls Won Fouls Conceded  Offsides  Yellow Cards  \\\n2                  66.7%         25             38         8             4   \n5                  62.6%         63             49        12             4   \n3                  88.1%         43             45         6             5   \n8                  70.6%         35             30         3             5   \n15                 76.5%         48             31         4             5   \n4                  54.6%         36             51         5             6   \n12                 77.0%         34             43         4             6   \n1                  60.1%         53             73         8             7   \n14                 61.6%         35             51         7             7   \n0                  81.3%         41             62         2             9   \n13                 93.8%        102             83        19            11   \n10                 71.5%         73             90        10            12   \n7                  74.1%        101             89        16            16   \n11                 65.4%         43             51        11             6   \n9                  66.7%         48             56         3             7   \n6                  65.1%         67             48        12             9   \n\n    Red Cards  Subs on  Subs off  Players Used  \n2           0        7         7            15  \n5           0       15        15            17  \n3           0       11        11            16  \n8           0        7         7            15  \n15          0        9         9            18  \n4           0       11        11            19  \n12          0        7         7            16  \n1           0       11        11            19  \n14          0        9         9            18  \n0           0        9         9            16  \n13          0       17        17            18  \n10          0       14        14            16  \n7           0       18        18            19  \n11          1       10        10            17  \n9           1        7         7            17  \n6           1       12        12            20  \n\n[16 rows x 35 columns]",
      "text/html": "<div>\n<style scoped>\n    .dataframe tbody tr th:only-of-type {\n        vertical-align: middle;\n    }\n\n    .dataframe tbody tr th {\n        vertical-align: top;\n    }\n\n    .dataframe thead th {\n        text-align: right;\n    }\n</style>\n<table border=\"1\" class=\"dataframe\">\n  <thead>\n    <tr style=\"text-align: right;\">\n      <th></th>\n      <th>Team</th>\n      <th>Goals</th>\n      <th>Shots on target</th>\n      <th>Shots off target</th>\n      <th>Shooting Accuracy</th>\n      <th>% Goals-to-shots</th>\n      <th>Total shots (inc. Blocked)</th>\n      <th>Hit Woodwork</th>\n      <th>Penalty goals</th>\n      <th>Penalties not scored</th>\n      <th>...</th>\n      <th>Saves made</th>\n      <th>Saves-to-shots ratio</th>\n      <th>Fouls Won</th>\n      <th>Fouls Conceded</th>\n      <th>Offsides</th>\n      <th>Yellow Cards</th>\n      <th>Red Cards</th>\n      <th>Subs on</th>\n      <th>Subs off</th>\n      <th>Players Used</th>\n    </tr>\n  </thead>\n  <tbody>\n    <tr>\n      <th>2</th>\n      <td>Denmark</td>\n      <td>4</td>\n      <td>10</td>\n      <td>10</td>\n      <td>50.0%</td>\n      <td>20.0%</td>\n      <td>27</td>\n      <td>1</td>\n      <td>0</td>\n      <td>0</td>\n      <td>...</td>\n      <td>10</td>\n      <td>66.7%</td>\n      <td>25</td>\n      <td>38</td>\n      <td>8</td>\n      <td>4</td>\n      <td>0</td>\n      <td>7</td>\n      <td>7</td>\n      <td>15</td>\n    </tr>\n    <tr>\n      <th>5</th>\n      <td>Germany</td>\n      <td>10</td>\n      <td>32</td>\n      <td>32</td>\n      <td>47.8%</td>\n      <td>15.6%</td>\n      <td>80</td>\n      <td>2</td>\n      <td>1</td>\n      <td>0</td>\n      <td>...</td>\n      <td>10</td>\n      <td>62.6%</td>\n      <td>63</td>\n      <td>49</td>\n      <td>12</td>\n      <td>4</td>\n      <td>0</td>\n      <td>15</td>\n      <td>15</td>\n      <td>17</td>\n    </tr>\n    <tr>\n      <th>3</th>\n      <td>England</td>\n      <td>5</td>\n      <td>11</td>\n      <td>18</td>\n      <td>50.0%</td>\n      <td>17.2%</td>\n      <td>40</td>\n      <td>0</td>\n      <td>0</td>\n      <td>0</td>\n      <td>...</td>\n      <td>22</td>\n      <td>88.1%</td>\n      <td>43</td>\n      <td>45</td>\n      <td>6</td>\n      <td>5</td>\n      <td>0</td>\n      <td>11</td>\n      <td>11</td>\n      <td>16</td>\n    </tr>\n    <tr>\n      <th>8</th>\n      <td>Netherlands</td>\n      <td>2</td>\n      <td>12</td>\n      <td>36</td>\n      <td>25.0%</td>\n      <td>4.1%</td>\n      <td>60</td>\n      <td>2</td>\n      <td>0</td>\n      <td>0</td>\n      <td>...</td>\n      <td>12</td>\n      <td>70.6%</td>\n      <td>35</td>\n      <td>30</td>\n      <td>3</td>\n      <td>5</td>\n      <td>0</td>\n      <td>7</td>\n      <td>7</td>\n      <td>15</td>\n    </tr>\n    <tr>\n      <th>15</th>\n      <td>Ukraine</td>\n      <td>2</td>\n      <td>7</td>\n      <td>26</td>\n      <td>21.2%</td>\n      <td>6.0%</td>\n      <td>38</td>\n      <td>0</td>\n      <td>0</td>\n      <td>0</td>\n      <td>...</td>\n      <td>13</td>\n      <td>76.5%</td>\n      <td>48</td>\n      <td>31</td>\n      <td>4</td>\n      <td>5</td>\n      <td>0</td>\n      <td>9</td>\n      <td>9</td>\n      <td>18</td>\n    </tr>\n    <tr>\n      <th>4</th>\n      <td>France</td>\n      <td>3</td>\n      <td>22</td>\n      <td>24</td>\n      <td>37.9%</td>\n      <td>6.5%</td>\n      <td>65</td>\n      <td>1</td>\n      <td>0</td>\n      <td>0</td>\n      <td>...</td>\n      <td>6</td>\n      <td>54.6%</td>\n      <td>36</td>\n      <td>51</td>\n      <td>5</td>\n      <td>6</td>\n      <td>0</td>\n      <td>11</td>\n      <td>11</td>\n      <td>19</td>\n    </tr>\n    <tr>\n      <th>12</th>\n      <td>Russia</td>\n      <td>5</td>\n      <td>9</td>\n      <td>31</td>\n      <td>22.5%</td>\n      <td>12.5%</td>\n      <td>59</td>\n      <td>2</td>\n      <td>0</td>\n      <td>0</td>\n      <td>...</td>\n      <td>10</td>\n      <td>77.0%</td>\n      <td>34</td>\n      <td>43</td>\n      <td>4</td>\n      <td>6</td>\n      <td>0</td>\n      <td>7</td>\n      <td>7</td>\n      <td>16</td>\n    </tr>\n    <tr>\n      <th>1</th>\n      <td>Czech Republic</td>\n      <td>4</td>\n      <td>13</td>\n      <td>18</td>\n      <td>41.9%</td>\n      <td>12.9%</td>\n      <td>39</td>\n      <td>0</td>\n      <td>0</td>\n      <td>0</td>\n      <td>...</td>\n      <td>9</td>\n      <td>60.1%</td>\n      <td>53</td>\n      <td>73</td>\n      <td>8</td>\n      <td>7</td>\n      <td>0</td>\n      <td>11</td>\n      <td>11</td>\n      <td>19</td>\n    </tr>\n    <tr>\n      <th>14</th>\n      <td>Sweden</td>\n      <td>5</td>\n      <td>17</td>\n      <td>19</td>\n      <td>47.2%</td>\n      <td>13.8%</td>\n      <td>39</td>\n      <td>3</td>\n      <td>0</td>\n      <td>0</td>\n      <td>...</td>\n      <td>8</td>\n      <td>61.6%</td>\n      <td>35</td>\n      <td>51</td>\n      <td>7</td>\n      <td>7</td>\n      <td>0</td>\n      <td>9</td>\n      <td>9</td>\n      <td>18</td>\n    </tr>\n    <tr>\n      <th>0</th>\n      <td>Croatia</td>\n      <td>4</td>\n      <td>13</td>\n      <td>12</td>\n      <td>51.9%</td>\n      <td>16.0%</td>\n      <td>32</td>\n      <td>0</td>\n      <td>0</td>\n      <td>0</td>\n      <td>...</td>\n      <td>13</td>\n      <td>81.3%</td>\n      <td>41</td>\n      <td>62</td>\n      <td>2</td>\n      <td>9</td>\n      <td>0</td>\n      <td>9</td>\n      <td>9</td>\n      <td>16</td>\n    </tr>\n    <tr>\n      <th>13</th>\n      <td>Spain</td>\n      <td>12</td>\n      <td>42</td>\n      <td>33</td>\n      <td>55.9%</td>\n      <td>16.0%</td>\n      <td>100</td>\n      <td>0</td>\n      <td>1</td>\n      <td>0</td>\n      <td>...</td>\n      <td>15</td>\n      <td>93.8%</td>\n      <td>102</td>\n      <td>83</td>\n      <td>19</td>\n      <td>11</td>\n      <td>0</td>\n      <td>17</td>\n      <td>17</td>\n      <td>18</td>\n    </tr>\n    <tr>\n      <th>10</th>\n      <td>Portugal</td>\n      <td>6</td>\n      <td>22</td>\n      <td>42</td>\n      <td>34.3%</td>\n      <td>9.3%</td>\n      <td>82</td>\n      <td>6</td>\n      <td>0</td>\n      <td>0</td>\n      <td>...</td>\n      <td>10</td>\n      <td>71.5%</td>\n      <td>73</td>\n      <td>90</td>\n      <td>10</td>\n      <td>12</td>\n      <td>0</td>\n      <td>14</td>\n      <td>14</td>\n      <td>16</td>\n    </tr>\n    <tr>\n      <th>7</th>\n      <td>Italy</td>\n      <td>6</td>\n      <td>34</td>\n      <td>45</td>\n      <td>43.0%</td>\n      <td>7.5%</td>\n      <td>110</td>\n      <td>2</td>\n      <td>0</td>\n      <td>0</td>\n      <td>...</td>\n      <td>20</td>\n      <td>74.1%</td>\n      <td>101</td>\n      <td>89</td>\n      <td>16</td>\n      <td>16</td>\n      <td>0</td>\n      <td>18</td>\n      <td>18</td>\n      <td>19</td>\n    </tr>\n    <tr>\n      <th>11</th>\n      <td>Republic of Ireland</td>\n      <td>1</td>\n      <td>7</td>\n      <td>12</td>\n      <td>36.8%</td>\n      <td>5.2%</td>\n      <td>28</td>\n      <td>0</td>\n      <td>0</td>\n      <td>0</td>\n      <td>...</td>\n      <td>17</td>\n      <td>65.4%</td>\n      <td>43</td>\n      <td>51</td>\n      <td>11</td>\n      <td>6</td>\n      <td>1</td>\n      <td>10</td>\n      <td>10</td>\n      <td>17</td>\n    </tr>\n    <tr>\n      <th>9</th>\n      <td>Poland</td>\n      <td>2</td>\n      <td>15</td>\n      <td>23</td>\n      <td>39.4%</td>\n      <td>5.2%</td>\n      <td>48</td>\n      <td>0</td>\n      <td>0</td>\n      <td>0</td>\n      <td>...</td>\n      <td>6</td>\n      <td>66.7%</td>\n      <td>48</td>\n      <td>56</td>\n      <td>3</td>\n      <td>7</td>\n      <td>1</td>\n      <td>7</td>\n      <td>7</td>\n      <td>17</td>\n    </tr>\n    <tr>\n      <th>6</th>\n      <td>Greece</td>\n      <td>5</td>\n      <td>8</td>\n      <td>18</td>\n      <td>30.7%</td>\n      <td>19.2%</td>\n      <td>32</td>\n      <td>1</td>\n      <td>1</td>\n      <td>1</td>\n      <td>...</td>\n      <td>13</td>\n      <td>65.1%</td>\n      <td>67</td>\n      <td>48</td>\n      <td>12</td>\n      <td>9</td>\n      <td>1</td>\n      <td>12</td>\n      <td>12</td>\n      <td>20</td>\n    </tr>\n  </tbody>\n</table>\n<p>16 rows × 35 columns</p>\n</div>"
     },
     "metadata": {},
     "execution_count": 18
    }
   ],
   "source": [
    "euro2020.sort_values(by=['Red Cards', 'Yellow Cards'])"
   ]
  },
  {
   "cell_type": "markdown",
   "metadata": {},
   "source": [
    "**3. (0.5 puncte) Care e numarul mediu de cartonase rosii date? Dar mediana?**"
   ],
   "execution_count": null,
   "outputs": []
  },
  {
   "cell_type": "code",
   "execution_count": 19,
   "metadata": {},
   "outputs": [
    {
     "output_type": "stream",
     "name": "stdout",
     "text": "0.1875\n0.0\n"
    }
   ],
   "source": [
    "print(euro2020['Red Cards'].describe().loc['mean'])\n",
    "print(euro2020['Red Cards'].describe().loc['50%'])"
   ]
  },
  {
   "cell_type": "markdown",
   "metadata": {},
   "source": [
    "**4. (0.5 puncte) Care sunt echipele care au luat mai multe cartonase rosii decat media?**"
   ],
   "execution_count": null,
   "outputs": []
  },
  {
   "cell_type": "code",
   "execution_count": 20,
   "metadata": {},
   "outputs": [
    {
     "output_type": "execute_result",
     "data": {
      "text/plain": "6                  Greece\n9                  Poland\n11    Republic of Ireland\nName: Team, dtype: object"
     },
     "metadata": {},
     "execution_count": 20
    }
   ],
   "source": [
    "euro2020['Team'][euro2020['Red Cards'] > euro2020['Red Cards'].describe().loc['mean']]"
   ]
  },
  {
   "cell_type": "markdown",
   "metadata": {},
   "source": [
    "**5. (obligatoriu, 0 puncte) Care sunt echipele al caror nume incepe cu litera G? *Indicatie*: documentati-va despre Vectorized String Operations, sectiunea omonima din Ref bib 1 din curs 1.**"
   ],
   "execution_count": null,
   "outputs": []
  },
  {
   "cell_type": "code",
   "execution_count": 21,
   "metadata": {},
   "outputs": [
    {
     "output_type": "execute_result",
     "data": {
      "text/plain": "      Team  Goals  Shots on target  Shots off target Shooting Accuracy  \\\n5  Germany     10               32                32             47.8%   \n6   Greece      5                8                18             30.7%   \n\n  % Goals-to-shots  Total shots (inc. Blocked)  Hit Woodwork  Penalty goals  \\\n5            15.6%                          80             2              1   \n6            19.2%                          32             1              1   \n\n   Penalties not scored  ...  Saves made  Saves-to-shots ratio  Fouls Won  \\\n5                     0  ...          10                 62.6%         63   \n6                     1  ...          13                 65.1%         67   \n\n  Fouls Conceded  Offsides  Yellow Cards  Red Cards  Subs on  Subs off  \\\n5             49        12             4          0       15        15   \n6             48        12             9          1       12        12   \n\n   Players Used  \n5            17  \n6            20  \n\n[2 rows x 35 columns]",
      "text/html": "<div>\n<style scoped>\n    .dataframe tbody tr th:only-of-type {\n        vertical-align: middle;\n    }\n\n    .dataframe tbody tr th {\n        vertical-align: top;\n    }\n\n    .dataframe thead th {\n        text-align: right;\n    }\n</style>\n<table border=\"1\" class=\"dataframe\">\n  <thead>\n    <tr style=\"text-align: right;\">\n      <th></th>\n      <th>Team</th>\n      <th>Goals</th>\n      <th>Shots on target</th>\n      <th>Shots off target</th>\n      <th>Shooting Accuracy</th>\n      <th>% Goals-to-shots</th>\n      <th>Total shots (inc. Blocked)</th>\n      <th>Hit Woodwork</th>\n      <th>Penalty goals</th>\n      <th>Penalties not scored</th>\n      <th>...</th>\n      <th>Saves made</th>\n      <th>Saves-to-shots ratio</th>\n      <th>Fouls Won</th>\n      <th>Fouls Conceded</th>\n      <th>Offsides</th>\n      <th>Yellow Cards</th>\n      <th>Red Cards</th>\n      <th>Subs on</th>\n      <th>Subs off</th>\n      <th>Players Used</th>\n    </tr>\n  </thead>\n  <tbody>\n    <tr>\n      <th>5</th>\n      <td>Germany</td>\n      <td>10</td>\n      <td>32</td>\n      <td>32</td>\n      <td>47.8%</td>\n      <td>15.6%</td>\n      <td>80</td>\n      <td>2</td>\n      <td>1</td>\n      <td>0</td>\n      <td>...</td>\n      <td>10</td>\n      <td>62.6%</td>\n      <td>63</td>\n      <td>49</td>\n      <td>12</td>\n      <td>4</td>\n      <td>0</td>\n      <td>15</td>\n      <td>15</td>\n      <td>17</td>\n    </tr>\n    <tr>\n      <th>6</th>\n      <td>Greece</td>\n      <td>5</td>\n      <td>8</td>\n      <td>18</td>\n      <td>30.7%</td>\n      <td>19.2%</td>\n      <td>32</td>\n      <td>1</td>\n      <td>1</td>\n      <td>1</td>\n      <td>...</td>\n      <td>13</td>\n      <td>65.1%</td>\n      <td>67</td>\n      <td>48</td>\n      <td>12</td>\n      <td>9</td>\n      <td>1</td>\n      <td>12</td>\n      <td>12</td>\n      <td>20</td>\n    </tr>\n  </tbody>\n</table>\n<p>2 rows × 35 columns</p>\n</div>"
     },
     "metadata": {},
     "execution_count": 21
    }
   ],
   "source": [
    "euro2020[euro2020['Team'].str.startswith('G')]"
   ]
  },
  {
   "cell_type": "markdown",
   "metadata": {},
   "source": [
    "**6. (0.5 puncte) Care sunt Shooting accuracy pentru Anglia, Grecia, Rusia?**"
   ],
   "execution_count": null,
   "outputs": []
  },
  {
   "cell_type": "code",
   "execution_count": 22,
   "metadata": {},
   "outputs": [
    {
     "output_type": "stream",
     "name": "stdout",
     "text": "England\n3    50.0%\nName: Shooting Accuracy, dtype: object\nGreece\n6    30.7%\nName: Shooting Accuracy, dtype: object\nRussia\n12    22.5%\nName: Shooting Accuracy, dtype: object\n"
    }
   ],
   "source": [
    "print('England')\n",
    "print(euro2020.loc[euro2020['Team'] == \"England\"]['Shooting Accuracy'])\n",
    "print('Greece')\n",
    "print(euro2020.loc[euro2020['Team'] == \"Greece\"]['Shooting Accuracy'])\n",
    "print('Russia')\n",
    "print(euro2020.loc[euro2020['Team'] == \"Russia\"]['Shooting Accuracy'])"
   ]
  },
  {
   "cell_type": "markdown",
   "metadata": {},
   "source": [
    "## Exercitiul 3\n",
    "Incarcati setul de date de la [https://raw.githubusercontent.com/justmarkham/DAT8/master/data/drinks.csv](https://raw.githubusercontent.com/justmarkham/DAT8/master/data/drinks.csv). Folosind grupari (`groupby`) dupa o documentare serioasa in sectiunea 'Aggregation and Grouping' din ref bibliografica [1] din primul curs, rezolvati:"
   ],
   "execution_count": null,
   "outputs": []
  },
  {
   "cell_type": "code",
   "execution_count": 23,
   "metadata": {},
   "outputs": [],
   "source": [
    "drinks = pd.read_csv('drinks.csv', sep=',')"
   ]
  },
  {
   "cell_type": "markdown",
   "metadata": {},
   "source": [
    "**1. (0.5 puncte) Pe care continent se bea mai multa bere, in medie?**"
   ],
   "execution_count": null,
   "outputs": []
  },
  {
   "cell_type": "code",
   "execution_count": 24,
   "metadata": {},
   "outputs": [
    {
     "output_type": "execute_result",
     "data": {
      "text/plain": "'EU'"
     },
     "metadata": {},
     "execution_count": 24
    }
   ],
   "source": [
    "drinks.groupby('continent')['beer_servings'].mean().idxmax()"
   ]
  },
  {
   "cell_type": "markdown",
   "metadata": {},
   "source": [
    "**2. (0.5 puncte) Pentru fiecare continent sa se afiseze statisticile pentru consumul de vin.**"
   ],
   "execution_count": null,
   "outputs": []
  },
  {
   "cell_type": "code",
   "execution_count": 25,
   "metadata": {},
   "outputs": [
    {
     "output_type": "execute_result",
     "data": {
      "text/plain": "           count        mean        std  min   25%    50%     75%    max\ncontinent                                                               \nAF          53.0   16.264151  38.846419  0.0   1.0    2.0   13.00  233.0\nAS          44.0    9.068182  21.667034  0.0   0.0    1.0    8.00  123.0\nEU          45.0  142.222222  97.421738  0.0  59.0  128.0  195.00  370.0\nOC          16.0   35.625000  64.555790  0.0   1.0    8.5   23.25  212.0\nSA          12.0   62.416667  88.620189  1.0   3.0   12.0   98.50  221.0",
      "text/html": "<div>\n<style scoped>\n    .dataframe tbody tr th:only-of-type {\n        vertical-align: middle;\n    }\n\n    .dataframe tbody tr th {\n        vertical-align: top;\n    }\n\n    .dataframe thead th {\n        text-align: right;\n    }\n</style>\n<table border=\"1\" class=\"dataframe\">\n  <thead>\n    <tr style=\"text-align: right;\">\n      <th></th>\n      <th>count</th>\n      <th>mean</th>\n      <th>std</th>\n      <th>min</th>\n      <th>25%</th>\n      <th>50%</th>\n      <th>75%</th>\n      <th>max</th>\n    </tr>\n    <tr>\n      <th>continent</th>\n      <th></th>\n      <th></th>\n      <th></th>\n      <th></th>\n      <th></th>\n      <th></th>\n      <th></th>\n      <th></th>\n    </tr>\n  </thead>\n  <tbody>\n    <tr>\n      <th>AF</th>\n      <td>53.0</td>\n      <td>16.264151</td>\n      <td>38.846419</td>\n      <td>0.0</td>\n      <td>1.0</td>\n      <td>2.0</td>\n      <td>13.00</td>\n      <td>233.0</td>\n    </tr>\n    <tr>\n      <th>AS</th>\n      <td>44.0</td>\n      <td>9.068182</td>\n      <td>21.667034</td>\n      <td>0.0</td>\n      <td>0.0</td>\n      <td>1.0</td>\n      <td>8.00</td>\n      <td>123.0</td>\n    </tr>\n    <tr>\n      <th>EU</th>\n      <td>45.0</td>\n      <td>142.222222</td>\n      <td>97.421738</td>\n      <td>0.0</td>\n      <td>59.0</td>\n      <td>128.0</td>\n      <td>195.00</td>\n      <td>370.0</td>\n    </tr>\n    <tr>\n      <th>OC</th>\n      <td>16.0</td>\n      <td>35.625000</td>\n      <td>64.555790</td>\n      <td>0.0</td>\n      <td>1.0</td>\n      <td>8.5</td>\n      <td>23.25</td>\n      <td>212.0</td>\n    </tr>\n    <tr>\n      <th>SA</th>\n      <td>12.0</td>\n      <td>62.416667</td>\n      <td>88.620189</td>\n      <td>1.0</td>\n      <td>3.0</td>\n      <td>12.0</td>\n      <td>98.50</td>\n      <td>221.0</td>\n    </tr>\n  </tbody>\n</table>\n</div>"
     },
     "metadata": {},
     "execution_count": 25
    }
   ],
   "source": [
    "drinks.groupby('continent')['wine_servings'].describe()"
   ]
  },
  {
   "cell_type": "markdown",
   "metadata": {},
   "source": [
    "**3. (0.5 puncte) Sa se tipareasca min, max, media pentru consumul de bere pe fiecare continent. Folositi functia `agg`.**"
   ],
   "execution_count": null,
   "outputs": []
  },
  {
   "cell_type": "code",
   "execution_count": 26,
   "metadata": {},
   "outputs": [
    {
     "output_type": "execute_result",
     "data": {
      "text/plain": "           min  max        mean\ncontinent                      \nAF           0  376   61.471698\nAS           0  247   37.045455\nEU           0  361  193.777778\nOC           0  306   89.687500\nSA          93  333  175.083333",
      "text/html": "<div>\n<style scoped>\n    .dataframe tbody tr th:only-of-type {\n        vertical-align: middle;\n    }\n\n    .dataframe tbody tr th {\n        vertical-align: top;\n    }\n\n    .dataframe thead th {\n        text-align: right;\n    }\n</style>\n<table border=\"1\" class=\"dataframe\">\n  <thead>\n    <tr style=\"text-align: right;\">\n      <th></th>\n      <th>min</th>\n      <th>max</th>\n      <th>mean</th>\n    </tr>\n    <tr>\n      <th>continent</th>\n      <th></th>\n      <th></th>\n      <th></th>\n    </tr>\n  </thead>\n  <tbody>\n    <tr>\n      <th>AF</th>\n      <td>0</td>\n      <td>376</td>\n      <td>61.471698</td>\n    </tr>\n    <tr>\n      <th>AS</th>\n      <td>0</td>\n      <td>247</td>\n      <td>37.045455</td>\n    </tr>\n    <tr>\n      <th>EU</th>\n      <td>0</td>\n      <td>361</td>\n      <td>193.777778</td>\n    </tr>\n    <tr>\n      <th>OC</th>\n      <td>0</td>\n      <td>306</td>\n      <td>89.687500</td>\n    </tr>\n    <tr>\n      <th>SA</th>\n      <td>93</td>\n      <td>333</td>\n      <td>175.083333</td>\n    </tr>\n  </tbody>\n</table>\n</div>"
     },
     "metadata": {},
     "execution_count": 26
    }
   ],
   "source": [
    "drinks.groupby('continent')['beer_servings'].agg(func = ['min','max','mean'])"
   ]
  },
  {
   "cell_type": "code",
   "execution_count": null,
   "metadata": {},
   "outputs": [],
   "source": []
  }
 ],
 "metadata": {
  "kernelspec": {
   "display_name": "Python 3",
   "language": "python",
   "name": "python3"
  },
  "language_info": {
   "codemirror_mode": {
    "name": "ipython",
    "version": 3
   },
   "file_extension": ".py",
   "mimetype": "text/x-python",
   "name": "python",
   "nbconvert_exporter": "python",
   "pygments_lexer": "ipython3",
   "version": "3.7.6-final"
  },
  "toc": {
   "base_numbering": 1,
   "nav_menu": {},
   "number_sections": true,
   "sideBar": true,
   "skip_h1_title": false,
   "title_cell": "Table of Contents",
   "title_sidebar": "Contents",
   "toc_cell": false,
   "toc_position": {},
   "toc_section_display": true,
   "toc_window_display": false
  },
  "varInspector": {
   "cols": {
    "lenName": 16,
    "lenType": 16,
    "lenVar": 40
   },
   "kernels_config": {
    "python": {
     "delete_cmd_postfix": "",
     "delete_cmd_prefix": "del ",
     "library": "var_list.py",
     "varRefreshCmd": "print(var_dic_list())"
    },
    "r": {
     "delete_cmd_postfix": ") ",
     "delete_cmd_prefix": "rm(",
     "library": "var_list.r",
     "varRefreshCmd": "cat(var_dic_list()) "
    }
   },
   "types_to_exclude": [
    "module",
    "function",
    "builtin_function_or_method",
    "instance",
    "_Feature"
   ],
   "window_display": false
  }
 },
 "nbformat": 4,
 "nbformat_minor": 2
}