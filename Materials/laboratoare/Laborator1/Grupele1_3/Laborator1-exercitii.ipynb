{
 "cells": [
  {
   "cell_type": "markdown",
   "metadata": {},
   "source": [
    "# Laborator 1\n",
    "* Instalare Python si auxiliare\n",
    "* Exercitii"
   ]
  },
  {
   "cell_type": "markdown",
   "metadata": {},
   "source": [
    "## Instalare Anaconda\n",
    "\n",
    "Instalarea este prezentata in notebook-ul [Laborator1_Anaconda_Python.ipynb](./Laborator1_Anaconda_Python.ipynb)"
   ]
  },
  {
   "cell_type": "markdown",
   "metadata": {},
   "source": [
    "# Exercitii\n",
    "\n",
    "Exercitiile de mai jos au ca scop familiarizarea cu limbajul Python, care va fi folosit in laboratorul de Inteligenta artificiala.\n",
    "\n",
    "1. Documentati-va pentru lucru cu fisiere text. Gasiti cuvintele diferite (case insensitive) si de cate ori apar ele intr-un fisier text, cu cate un cuvant pe fiecare linie. Puteti folosi tipurile `set` si `collections.Counter`. Un exemplu de fisier de intrare este data/words.txt.\n",
    "1. Sa se determine daca cuvintele 'reggae' si 'simfonic' apar de acelasi numar de ori intr-un sir dat.\n",
    "1. In fisierul `data\\Postures.csv`, cate linii nu contin deloc caracterul '?' (adica datele sunt complete)? Puteti folosi modulul `re` pentru expresii regulate. \n",
    "1. Sa se calculeze $S_n = \\sum\\limits_{i=1}^n \\frac{1}{i^2}$ pentru un $n \\in \\mathcal{N^*}$ dat."
   ]
  },
  {
   "cell_type": "markdown",
   "metadata": {},
   "source": [
    "# Bibliografie\n",
    "1. Jake VanderPlas, [*Python Data Science Handbook - Essential tools for working with data*](https://jakevdp.github.io/PythonDataScienceHandbook/), O'Reilly Media Inc., 2017; [notebooks](https://github.com/jakevdp/PythonDataScienceHandbook) \n",
    "1. Allen B. Downey, [*Think Python: How to Think Like a Computer Scientist*](http://greenteapress.com/wp/think-python-2e/), editia a doua, Green Tea Press\n",
    "1. [Learn to Program Using Python](https://www.edx.org/course/learn-program-using-python-utarlingtonx-cse1309x)"
   ]
  }
 ],
 "metadata": {
  "kernelspec": {
   "display_name": "Python 3",
   "language": "python",
   "name": "python3"
  },
  "language_info": {
   "codemirror_mode": {
    "name": "ipython",
    "version": 3
   },
   "file_extension": ".py",
   "mimetype": "text/x-python",
   "name": "python",
   "nbconvert_exporter": "python",
   "pygments_lexer": "ipython3",
   "version": "3.7.6"
  },
  "toc": {
   "base_numbering": 1,
   "nav_menu": {},
   "number_sections": true,
   "sideBar": true,
   "skip_h1_title": false,
   "title_cell": "Table of Contents",
   "title_sidebar": "Contents",
   "toc_cell": false,
   "toc_position": {
    "height": "calc(100% - 180px)",
    "left": "10px",
    "top": "150px",
    "width": "341.804px"
   },
   "toc_section_display": true,
   "toc_window_display": true
  },
  "varInspector": {
   "cols": {
    "lenName": 16,
    "lenType": 16,
    "lenVar": 40
   },
   "kernels_config": {
    "python": {
     "delete_cmd_postfix": "",
     "delete_cmd_prefix": "del ",
     "library": "var_list.py",
     "varRefreshCmd": "print(var_dic_list())"
    },
    "r": {
     "delete_cmd_postfix": ") ",
     "delete_cmd_prefix": "rm(",
     "library": "var_list.r",
     "varRefreshCmd": "cat(var_dic_list()) "
    }
   },
   "types_to_exclude": [
    "module",
    "function",
    "builtin_function_or_method",
    "instance",
    "_Feature"
   ],
   "window_display": false
  }
 },
 "nbformat": 4,
 "nbformat_minor": 2
}
