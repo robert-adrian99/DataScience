{
 "cells": [
  {
   "cell_type": "markdown",
   "metadata": {},
   "source": [
    "# Laborator 4"
   ]
  },
  {
   "cell_type": "markdown",
   "metadata": {},
   "source": [
    "## 1. Exercitii cu Pandas"
   ]
  },
  {
   "cell_type": "markdown",
   "metadata": {},
   "source": [
    "1. Incarcati setul de date in format tsv [https://raw.githubusercontent.com/justmarkham/DAT8/master/data/chipotle.tsv](https://raw.githubusercontent.com/justmarkham/DAT8/master/data/chipotle.tsv) intr-un obiect Pandas DataFrame.\n",
    "    1. (optional) Afisati primele 5 linii din tabel\n",
    "    1. (optional) Care este numarul de inregistrari din DataFrame?\n",
    "    1. (optional) Comparati iesirea metodelor `info()` si `describe()`.\n",
    "    1. (optional) Care e numarul de coloane? afisati numele lor.\n",
    "    1. (0.5 puncte) Cum e indexat setul de date? sunt valorile din index unice?\n",
    "    1. (0.5 puncte) Care sunt marfurile vandute, in ordine alfabetica? Cate sunt?\n",
    "    1. (0.5 puncte) Cate obiecte (items) au fost comandate, in total - suma pe coloana 'quantity'?\n",
    "    1. (0.5 puncte) Transformati intr-un alt dataframe coloana 'item_price' din stringuri in valori floating point. Care sunt preturile (minim, maxim, mediu, median) cu care s-a vandut produsul 'Chicken Crispy Tacos'? Cate astfel de produse au fost comandate in total? Care sunt veniturile obtinute din vanzarea acestui produs? *Nota*: puteti folosi metoda `describe()` a unui dataframe/series.\n",
    "    1. (0.5 puncte) Care sunt cele mai comandate 3 marfuri? Folositi `groupby()` pentru grupare, ne intereseaza cantitatile cele mai mari. *Nota:* sectiunea 'Aggregation and Grouping' din [Python Data Science Handbook](https://jakevdp.github.io/PythonDataScienceHandbook/) e utila pentru intelegerea agregarilor.\n",
    "    1. (0.5 puncte) De cate ori s-a comandat 'Veggie Salad Bowl'?\n",
    "    1. (0.5 puncte) De cate ori intr-o comanda s-au cerut mai mult de o 'Canned Soda'?\n",
    "    1. (0.5 puncte) Care sunt sumele incasate pentru fiecare comanda? atentie, pentru fiecare item comandat trebuie luat in considerare si cantitatea. Puteti crea coloane auxiliare (pret transformat din string in float, pret total pe acel item = pret_unitar * cantitate etc.)\n",
    "1. Incarcati setul de date de la [https://raw.githubusercontent.com/jokecamp/FootballData/master/UEFA_European_Championship/Euro%202012/Euro%202012%20stats%20TEAM.csv](https://raw.githubusercontent.com/jokecamp/FootballData/master/UEFA_European_Championship/Euro%202012/Euro%202012%20stats%20TEAM.csv) intr-un obiect Pandas DataFrame.\n",
    "    1. (optional) Cate echipe au participat la Euro 2012?\n",
    "    1. (optional) Sa se sorteze echipele dupa numarul de cartonase rosii, apoi dupa cele galbene, descrescator - sortare dupa criteriu dublu.\n",
    "    1. (0.5 puncte) Care e numarul mediu de cartonase rosii date? Dar mediana?\n",
    "    1. (0.5 puncte) Care sunt echipele care au luat mai multe cartonase rosii decat media?\n",
    "    1. (obligatoriu, 0 puncte) Care sunt echipele al caror nume incepe cu litera G? *Indicatie*: documentati-va despre Vectorized String Operations, sectiunea omonima din Ref bib 1 din curs 1.\n",
    "    1. (0.5 puncte) Care sunt Shooting accuracy pentru Anglia, Grecia, Rusia?\n",
    "1. Incarcati setul de date de la [https://raw.githubusercontent.com/justmarkham/DAT8/master/data/drinks.csv](https://raw.githubusercontent.com/justmarkham/DAT8/master/data/drinks.csv). Folosind grupari (`groupby`) dupa o documentare serioasa in sectiunea 'Aggregation and Grouping' din ref bibliografica [1] din primul curs, rezolvati:\n",
    "    1. (0.5 puncte) Pe care continent se bea mai multa bere, in medie?\n",
    "    1. (0.5 puncte) Pentru fiecare continent sa se afiseze statisticile pentru consumul de vin.\n",
    "    1. (0.5 puncte) Sa se tipareasca min, max, media pentru consumul de bere pe fiecare continent. Folositi functia `agg`."
   ]
  },
  {
   "cell_type": "markdown",
   "metadata": {},
   "source": [
    "**Precizari**:\n",
    "* Se acorda 3 puncte din oficiu.\n",
    "* Predarea se va face in saptamana 23-27 martie 2020.\n",
    "* Temele se pot lucra in echipe de cate 2 studenti. Tema se va depune in lucrarea de pe site=ul de elearning"
   ]
  }
 ],
 "metadata": {
  "kernelspec": {
   "display_name": "Python 3",
   "language": "python",
   "name": "python3"
  },
  "language_info": {
   "codemirror_mode": {
    "name": "ipython",
    "version": 3
   },
   "file_extension": ".py",
   "mimetype": "text/x-python",
   "name": "python",
   "nbconvert_exporter": "python",
   "pygments_lexer": "ipython3",
   "version": "3.7.6"
  },
  "toc": {
   "base_numbering": 1,
   "nav_menu": {},
   "number_sections": true,
   "sideBar": true,
   "skip_h1_title": false,
   "title_cell": "Table of Contents",
   "title_sidebar": "Contents",
   "toc_cell": false,
   "toc_position": {},
   "toc_section_display": true,
   "toc_window_display": false
  },
  "varInspector": {
   "cols": {
    "lenName": 16,
    "lenType": 16,
    "lenVar": 40
   },
   "kernels_config": {
    "python": {
     "delete_cmd_postfix": "",
     "delete_cmd_prefix": "del ",
     "library": "var_list.py",
     "varRefreshCmd": "print(var_dic_list())"
    },
    "r": {
     "delete_cmd_postfix": ") ",
     "delete_cmd_prefix": "rm(",
     "library": "var_list.r",
     "varRefreshCmd": "cat(var_dic_list()) "
    }
   },
   "types_to_exclude": [
    "module",
    "function",
    "builtin_function_or_method",
    "instance",
    "_Feature"
   ],
   "window_display": false
  }
 },
 "nbformat": 4,
 "nbformat_minor": 2
}
