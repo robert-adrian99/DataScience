{
 "cells": [
  {
   "cell_type": "markdown",
   "metadata": {},
   "source": [
    "# Curs 7: Optimizarea modelelor, preprocesare, pipelines"
   ]
  },
  {
   "cell_type": "markdown",
   "metadata": {},
   "source": [
    "## Optimizarea modelelor"
   ]
  },
  {
   "cell_type": "markdown",
   "metadata": {},
   "source": [
    "In cursul anterior s-a aratat cum se poate folosi k-fold cross validation pentru estimarea performantei unui model. Totodata, s-a aratat o maniera simpla de cautare a valorilor celor mai potrivite pentru hiperparametri - in cazul respectiv,valoarea adecvata a numarului de vecini pentru un model de KNN. \n",
    "\n",
    "Vom continua aceasta idee pentru mai multi hiperparametri, apoi folosim facilitatile bibliotecii `sklearn` pentru automatizarea procesului."
   ]
  },
  {
   "cell_type": "markdown",
   "metadata": {},
   "source": [
    "K-fold cross validation asigura ca fiecare din cele k partitii ale setului de date initial este pe rand folosit ca subset de testare:"
   ]
  },
  {
   "cell_type": "code",
   "execution_count": 1,
   "metadata": {
    "ExecuteTime": {
     "end_time": "2020-04-06T16:08:08.178334Z",
     "start_time": "2020-04-06T16:08:03.614536Z"
    }
   },
   "outputs": [
    {
     "name": "stdout",
     "output_type": "stream",
     "text": [
      "Requirement already up-to-date: prettytable in c:\\anaconda3\\lib\\site-packages (0.7.2)\n"
     ]
    }
   ],
   "source": [
    "from sklearn.model_selection import KFold\n",
    "!pip install prettytable --upgrade\n",
    "from prettytable import PrettyTable"
   ]
  },
  {
   "cell_type": "code",
   "execution_count": 2,
   "metadata": {
    "ExecuteTime": {
     "end_time": "2020-04-06T16:08:08.189336Z",
     "start_time": "2020-04-06T16:08:08.181325Z"
    }
   },
   "outputs": [
    {
     "name": "stdout",
     "output_type": "stream",
     "text": [
      "+------+---------------------------------------------------------------+---------------------------------+\n",
      "| Iter | Train                                                         | Test                            |\n",
      "+------+---------------------------------------------------------------+---------------------------------+\n",
      "| 1    | [10 11 12 13 14 15 16 17 18 19 20 21 22 23 24 25 26 27 28 29] | [0 1 2 3 4 5 6 7 8 9]           |\n",
      "| 2    | [ 0  1  2  3  4  5  6  7  8  9 20 21 22 23 24 25 26 27 28 29] | [10 11 12 13 14 15 16 17 18 19] |\n",
      "| 3    | [ 0  1  2  3  4  5  6  7  8  9 10 11 12 13 14 15 16 17 18 19] | [20 21 22 23 24 25 26 27 28 29] |\n",
      "+------+---------------------------------------------------------------+---------------------------------+\n"
     ]
    }
   ],
   "source": [
    "kf = KFold(n_splits=3)\n",
    "splits = kf.split(range(30))\n",
    "t = PrettyTable(['Iter', 'Train', 'Test'])\n",
    "t.align = 'l'\n",
    "for i, data in enumerate(splits):\n",
    "    t.add_row([i+1, data[0], data[1]])\n",
    "print(t)"
   ]
  },
  {
   "cell_type": "markdown",
   "metadata": {},
   "source": [
    "Folosim k-fold cross validation pentru a face evaluarea de modele pentru diferite valori ale hiperparametrilor. "
   ]
  },
  {
   "cell_type": "code",
   "execution_count": 3,
   "metadata": {
    "ExecuteTime": {
     "end_time": "2020-04-06T16:08:08.600204Z",
     "start_time": "2020-04-06T16:08:08.191301Z"
    }
   },
   "outputs": [
    {
     "name": "stdout",
     "output_type": "stream",
     "text": [
      "numpy:  1.18.1\n",
      "pandas:  1.0.3\n"
     ]
    }
   ],
   "source": [
    "import numpy as np\n",
    "import pandas as pd\n",
    "print ('numpy: ', np.__version__)\n",
    "print ('pandas: ', pd.__version__)"
   ]
  },
  {
   "cell_type": "code",
   "execution_count": 4,
   "metadata": {
    "ExecuteTime": {
     "end_time": "2020-04-06T16:08:08.705928Z",
     "start_time": "2020-04-06T16:08:08.602201Z"
    }
   },
   "outputs": [],
   "source": [
    "from sklearn.model_selection import cross_val_score, train_test_split\n",
    "from sklearn.neighbors import KNeighborsClassifier\n",
    "from sklearn.metrics import accuracy_score\n",
    "\n",
    "from sklearn.datasets import load_iris\n",
    "\n",
    "iris = load_iris()\n",
    "X = iris.data\n",
    "y = iris.target"
   ]
  },
  {
   "cell_type": "markdown",
   "metadata": {},
   "source": [
    "Pentru k-nearest neighbors vom cauta valorile optime pentru:\n",
    "* numarul de vecini, $k \\in \\{1, \\dots, 31\\}$\n",
    "* putere corespunzatoare metricii Minkowski:\n",
    "$$\n",
    "d(\\mathbf{x}, \\mathbf{y}) = \\left( \\sum\\limits_{i=1}^n \\left|x_i-y_i\\right|^p \\right)^{1/p}\n",
    "$$"
   ]
  },
  {
   "cell_type": "code",
   "execution_count": 23,
   "metadata": {
    "ExecuteTime": {
     "end_time": "2020-04-06T16:32:24.324869Z",
     "start_time": "2020-04-06T16:32:14.506121Z"
    }
   },
   "outputs": [
    {
     "name": "stdout",
     "output_type": "stream",
     "text": [
      "Best score: 0.9420112781954886\n",
      "Best params: {'n_neighbors': 6, 'p': 1}\n",
      "Accuracy on whole set: 0.9525483304042179\n"
     ]
    }
   ],
   "source": [
    "best_score = 0\n",
    "for k in range(1, 31):\n",
    "    for p in [1, 2, 3, 4.7]:\n",
    "        model = KNeighborsClassifier(n_neighbors=k, p=p)\n",
    "        score = np.mean(cross_val_score(model, X, y, cv=10))\n",
    "        if score >= best_score:\n",
    "            best_score = score\n",
    "            best_params = {'n_neighbors':k, 'p':p}\n",
    "print('Best score:', best_score)\n",
    "print('Best params:', best_params)   \n",
    "model = KNeighborsClassifier(n_neighbors=best_params['n_neighbors'], p=best_params['p'])\n",
    "model.fit(X, y)\n",
    "y_predicted = model.predict(X)\n",
    "print('Accuracy on whole set:', accuracy_score(y, y_predicted))"
   ]
  },
  {
   "cell_type": "markdown",
   "metadata": {},
   "source": [
    "Pentru procesul de mai sus urmatoarele comentarii sunt necesare:\n",
    "1. strategia implementata se numeste grid search: se cauta peste toate combinatiile de 30\\*4 variante si sa retine cea mai buna; este consumatoare de resurse, dar o prima varianta de lucru acceptabila\n",
    "1. am dori sa avem o modalitate automatizata de considerare a tuturor combinatiilor de parametri din multimea de valori candidat. Codul devine greu de scris cand sunt multi hiperparametri, fiecare cu multimea proprie de valori candidat\n",
    "1. estimarea efectuata in final este de cele mai multe ori optimista: optimizarea parametrilor s-a facut peste niste date, care date in final sunt cele folosite pentru evaluarea finala; am ajuns practic sa facem evaluare pe setul de antrenare, ceea ce e o idee proasta. Estimarea finala a performantelor modelului trebuie facuta peste un set de date aparte, care nu a fost folosit nici pentru antrenare, nici pentru validarea modelelor candidat. Altfel, modelul poate face overfitting (invatare foarte buna a datelor de pe setul de antrenare, dar generalizare foarte slaba = rezultatul de pe un set de testare separat sutn foarte slabe).\n"
   ]
  },
  {
   "cell_type": "markdown",
   "metadata": {},
   "source": [
    "Pentru ultimul punct se recomanda ca setul sa fie impartit ca mai jos:\n",
    "![train_validation_test](./images/train_validation_test.png)"
   ]
  },
  {
   "cell_type": "markdown",
   "metadata": {},
   "source": [
    "Ca atare, va trebui sa rescriem codul astfel:"
   ]
  },
  {
   "cell_type": "code",
   "execution_count": 6,
   "metadata": {
    "ExecuteTime": {
     "end_time": "2020-04-06T16:08:17.601141Z",
     "start_time": "2020-04-06T16:08:13.182953Z"
    }
   },
   "outputs": [
    {
     "name": "stdout",
     "output_type": "stream",
     "text": [
      "Best score: 0.9833333333333332\n",
      "Best params: {'n_neighbors': 27, 'p': 3}\n",
      "0.9\n"
     ]
    }
   ],
   "source": [
    "X_trainval, X_test, y_trainval, y_test = train_test_split(X, y, test_size=1/5)\n",
    "best_score = 0\n",
    "for k in range(1, 31):\n",
    "    for p in [1, 2, 3, 4.7]:\n",
    "        model = KNeighborsClassifier(n_neighbors=k, p=p)\n",
    "        score = np.mean(cross_val_score(model, X_trainval, y_trainval, cv=10))\n",
    "        if score >= best_score:\n",
    "            best_score = score\n",
    "            best_params = {'n_neighbors':k, 'p':p}\n",
    "print('Best score:', best_score)\n",
    "print('Best params:', best_params)   \n",
    "\n",
    "model = KNeighborsClassifier(n_neighbors=best_params['n_neighbors'], p=best_params['p'])\n",
    "model.fit(X_trainval, y_trainval)\n",
    "y_predicted = model.predict(X_test)\n",
    "print(accuracy_score(y_test, y_predicted))"
   ]
  },
  {
   "cell_type": "markdown",
   "metadata": {},
   "source": [
    "Desigur, si implementarea de mai sus e criticabila: s-a facut evaluare pe un singur set de testare, anume cel rezultat dupa impartirea initiala in partitiile \\*\\_trainvalid si \\*\\_test. Este totusi o estimare mai corect facuta decat cea precedenta.  In realitate, acest stil de lucru este frecvent intalnit: exista un set de testare unic, dar necunoscut la inceput. Singurele date disponibile sunt impartite in *training set* si *validation set* (eventual mai multe) pentru a obtine un model care se spera ca generalizeaza bine = se comporta bine pe setul de testare. "
   ]
  },
  {
   "cell_type": "markdown",
   "metadata": {},
   "source": [
    "Varianta anterioara se numeste **grid search with cross validation**. Exista clasa `sklearn.model_selection.GridSearchCV` care automatizeaza procesul:\n"
   ]
  },
  {
   "cell_type": "code",
   "execution_count": 7,
   "metadata": {
    "ExecuteTime": {
     "end_time": "2020-04-06T16:08:18.728129Z",
     "start_time": "2020-04-06T16:08:17.605130Z"
    }
   },
   "outputs": [
    {
     "data": {
      "text/plain": [
       "GridSearchCV(cv=5, error_score=nan,\n",
       "             estimator=KNeighborsClassifier(algorithm='auto', leaf_size=30,\n",
       "                                            metric='minkowski',\n",
       "                                            metric_params=None, n_jobs=None,\n",
       "                                            n_neighbors=5, p=2,\n",
       "                                            weights='uniform'),\n",
       "             iid='deprecated', n_jobs=None,\n",
       "             param_grid={'n_neighbors': [1, 2, 3, 4, 5, 6, 7, 8, 9],\n",
       "                         'p': [1, 2, 3, 4.7]},\n",
       "             pre_dispatch='2*n_jobs', refit=True, return_train_score=True,\n",
       "             scoring='accuracy', verbose=0)"
      ]
     },
     "execution_count": 7,
     "metadata": {},
     "output_type": "execute_result"
    }
   ],
   "source": [
    "from sklearn.model_selection import GridSearchCV\n",
    "X_train, X_test, y_train, y_test = train_test_split(X, y, test_size=1/5)\n",
    "parameter_grid = {'n_neighbors': list(range(1, 10)), 'p': [1, 2, 3, 4.7]}\n",
    "grid_search = GridSearchCV(estimator = KNeighborsClassifier(), param_grid=parameter_grid, scoring='accuracy', cv=5, \n",
    "                           return_train_score=True)\n",
    "grid_search.fit(X_train, y_train)"
   ]
  },
  {
   "cell_type": "code",
   "execution_count": 8,
   "metadata": {
    "ExecuteTime": {
     "end_time": "2020-04-06T16:08:18.739131Z",
     "start_time": "2020-04-06T16:08:18.730121Z"
    }
   },
   "outputs": [
    {
     "name": "stdout",
     "output_type": "stream",
     "text": [
      "0.9\n"
     ]
    }
   ],
   "source": [
    "y_estimated = grid_search.predict(X_test)\n",
    "print(accuracy_score(y_test, y_estimated))"
   ]
  },
  {
   "cell_type": "markdown",
   "metadata": {},
   "source": [
    "Valorile optimale ale hiperparametrilor sunt retinute in atributul `best_params_`:"
   ]
  },
  {
   "cell_type": "code",
   "execution_count": 9,
   "metadata": {
    "ExecuteTime": {
     "end_time": "2020-04-06T16:08:18.748075Z",
     "start_time": "2020-04-06T16:08:18.742092Z"
    }
   },
   "outputs": [
    {
     "name": "stdout",
     "output_type": "stream",
     "text": [
      "{'n_neighbors': 2, 'p': 2}\n"
     ]
    }
   ],
   "source": [
    "print(grid_search.best_params_)"
   ]
  },
  {
   "cell_type": "markdown",
   "metadata": {},
   "source": [
    "In codul anterior denumirile cheilor din dictionarul `parameter_grid` nu sunt intamplatoare: ele coincid cu numele parametrilor modelului vizat. Instantierea `estimator = KNeighborsClassifier()` se face cu valorile implicite ale parametrilor, apoi insa se ruleaza metode de tip `set_` care seteaza parametrii dati in dictionarul `parameter_grid`."
   ]
  },
  {
   "cell_type": "markdown",
   "metadata": {},
   "source": [
    "Pentru cei interesati, valorile de performanta pentru fiecare fold se pot inspecta. Pentru ca acestea sa fie disponibile, este obligatorie setarea parametrului `return_train_score=True` din clasa `GridSearchCV`."
   ]
  },
  {
   "cell_type": "code",
   "execution_count": 10,
   "metadata": {
    "ExecuteTime": {
     "end_time": "2020-04-06T16:08:18.777998Z",
     "start_time": "2020-04-06T16:08:18.751066Z"
    }
   },
   "outputs": [
    {
     "name": "stdout",
     "output_type": "stream",
     "text": [
      "<class 'pandas.core.frame.DataFrame'>\n",
      "RangeIndex: 36 entries, 0 to 35\n",
      "Data columns (total 22 columns):\n",
      " #   Column              Non-Null Count  Dtype  \n",
      "---  ------              --------------  -----  \n",
      " 0   mean_fit_time       36 non-null     float64\n",
      " 1   std_fit_time        36 non-null     float64\n",
      " 2   mean_score_time     36 non-null     float64\n",
      " 3   std_score_time      36 non-null     float64\n",
      " 4   param_n_neighbors   36 non-null     object \n",
      " 5   param_p             36 non-null     object \n",
      " 6   params              36 non-null     object \n",
      " 7   split0_test_score   36 non-null     float64\n",
      " 8   split1_test_score   36 non-null     float64\n",
      " 9   split2_test_score   36 non-null     float64\n",
      " 10  split3_test_score   36 non-null     float64\n",
      " 11  split4_test_score   36 non-null     float64\n",
      " 12  mean_test_score     36 non-null     float64\n",
      " 13  std_test_score      36 non-null     float64\n",
      " 14  rank_test_score     36 non-null     int32  \n",
      " 15  split0_train_score  36 non-null     float64\n",
      " 16  split1_train_score  36 non-null     float64\n",
      " 17  split2_train_score  36 non-null     float64\n",
      " 18  split3_train_score  36 non-null     float64\n",
      " 19  split4_train_score  36 non-null     float64\n",
      " 20  mean_train_score    36 non-null     float64\n",
      " 21  std_train_score     36 non-null     float64\n",
      "dtypes: float64(18), int32(1), object(3)\n",
      "memory usage: 6.2+ KB\n"
     ]
    }
   ],
   "source": [
    "df_grid_search = pd.DataFrame(grid_search.cv_results_)\n",
    "df_grid_search.info()"
   ]
  },
  {
   "cell_type": "code",
   "execution_count": 11,
   "metadata": {
    "ExecuteTime": {
     "end_time": "2020-04-06T16:08:18.829855Z",
     "start_time": "2020-04-06T16:08:18.780986Z"
    }
   },
   "outputs": [
    {
     "data": {
      "text/html": [
       "<div>\n",
       "<style scoped>\n",
       "    .dataframe tbody tr th:only-of-type {\n",
       "        vertical-align: middle;\n",
       "    }\n",
       "\n",
       "    .dataframe tbody tr th {\n",
       "        vertical-align: top;\n",
       "    }\n",
       "\n",
       "    .dataframe thead th {\n",
       "        text-align: right;\n",
       "    }\n",
       "</style>\n",
       "<table border=\"1\" class=\"dataframe\">\n",
       "  <thead>\n",
       "    <tr style=\"text-align: right;\">\n",
       "      <th></th>\n",
       "      <th>mean_fit_time</th>\n",
       "      <th>std_fit_time</th>\n",
       "      <th>mean_score_time</th>\n",
       "      <th>std_score_time</th>\n",
       "      <th>param_n_neighbors</th>\n",
       "      <th>param_p</th>\n",
       "      <th>params</th>\n",
       "      <th>split0_test_score</th>\n",
       "      <th>split1_test_score</th>\n",
       "      <th>split2_test_score</th>\n",
       "      <th>...</th>\n",
       "      <th>mean_test_score</th>\n",
       "      <th>std_test_score</th>\n",
       "      <th>rank_test_score</th>\n",
       "      <th>split0_train_score</th>\n",
       "      <th>split1_train_score</th>\n",
       "      <th>split2_train_score</th>\n",
       "      <th>split3_train_score</th>\n",
       "      <th>split4_train_score</th>\n",
       "      <th>mean_train_score</th>\n",
       "      <th>std_train_score</th>\n",
       "    </tr>\n",
       "  </thead>\n",
       "  <tbody>\n",
       "    <tr>\n",
       "      <th>0</th>\n",
       "      <td>0.000807</td>\n",
       "      <td>0.000404</td>\n",
       "      <td>0.002391</td>\n",
       "      <td>0.001192</td>\n",
       "      <td>1</td>\n",
       "      <td>1</td>\n",
       "      <td>{'n_neighbors': 1, 'p': 1}</td>\n",
       "      <td>0.958333</td>\n",
       "      <td>0.916667</td>\n",
       "      <td>0.958333</td>\n",
       "      <td>...</td>\n",
       "      <td>0.958333</td>\n",
       "      <td>0.026352</td>\n",
       "      <td>9</td>\n",
       "      <td>1.000000</td>\n",
       "      <td>1.000000</td>\n",
       "      <td>1.000000</td>\n",
       "      <td>1.00000</td>\n",
       "      <td>1.000000</td>\n",
       "      <td>1.000000</td>\n",
       "      <td>0.00000</td>\n",
       "    </tr>\n",
       "    <tr>\n",
       "      <th>1</th>\n",
       "      <td>0.000603</td>\n",
       "      <td>0.000493</td>\n",
       "      <td>0.000998</td>\n",
       "      <td>0.000001</td>\n",
       "      <td>1</td>\n",
       "      <td>2</td>\n",
       "      <td>{'n_neighbors': 1, 'p': 2}</td>\n",
       "      <td>0.958333</td>\n",
       "      <td>0.916667</td>\n",
       "      <td>0.958333</td>\n",
       "      <td>...</td>\n",
       "      <td>0.958333</td>\n",
       "      <td>0.026352</td>\n",
       "      <td>9</td>\n",
       "      <td>1.000000</td>\n",
       "      <td>1.000000</td>\n",
       "      <td>1.000000</td>\n",
       "      <td>1.00000</td>\n",
       "      <td>1.000000</td>\n",
       "      <td>1.000000</td>\n",
       "      <td>0.00000</td>\n",
       "    </tr>\n",
       "    <tr>\n",
       "      <th>2</th>\n",
       "      <td>0.000200</td>\n",
       "      <td>0.000400</td>\n",
       "      <td>0.001590</td>\n",
       "      <td>0.000789</td>\n",
       "      <td>1</td>\n",
       "      <td>3</td>\n",
       "      <td>{'n_neighbors': 1, 'p': 3}</td>\n",
       "      <td>0.958333</td>\n",
       "      <td>0.916667</td>\n",
       "      <td>0.958333</td>\n",
       "      <td>...</td>\n",
       "      <td>0.958333</td>\n",
       "      <td>0.026352</td>\n",
       "      <td>9</td>\n",
       "      <td>1.000000</td>\n",
       "      <td>1.000000</td>\n",
       "      <td>1.000000</td>\n",
       "      <td>1.00000</td>\n",
       "      <td>1.000000</td>\n",
       "      <td>1.000000</td>\n",
       "      <td>0.00000</td>\n",
       "    </tr>\n",
       "    <tr>\n",
       "      <th>3</th>\n",
       "      <td>0.000601</td>\n",
       "      <td>0.000491</td>\n",
       "      <td>0.001794</td>\n",
       "      <td>0.000746</td>\n",
       "      <td>1</td>\n",
       "      <td>4.7</td>\n",
       "      <td>{'n_neighbors': 1, 'p': 4.7}</td>\n",
       "      <td>0.958333</td>\n",
       "      <td>0.916667</td>\n",
       "      <td>0.958333</td>\n",
       "      <td>...</td>\n",
       "      <td>0.958333</td>\n",
       "      <td>0.026352</td>\n",
       "      <td>9</td>\n",
       "      <td>1.000000</td>\n",
       "      <td>1.000000</td>\n",
       "      <td>1.000000</td>\n",
       "      <td>1.00000</td>\n",
       "      <td>1.000000</td>\n",
       "      <td>1.000000</td>\n",
       "      <td>0.00000</td>\n",
       "    </tr>\n",
       "    <tr>\n",
       "      <th>4</th>\n",
       "      <td>0.000399</td>\n",
       "      <td>0.000488</td>\n",
       "      <td>0.001406</td>\n",
       "      <td>0.000491</td>\n",
       "      <td>2</td>\n",
       "      <td>1</td>\n",
       "      <td>{'n_neighbors': 2, 'p': 1}</td>\n",
       "      <td>1.000000</td>\n",
       "      <td>0.875000</td>\n",
       "      <td>0.916667</td>\n",
       "      <td>...</td>\n",
       "      <td>0.941667</td>\n",
       "      <td>0.042492</td>\n",
       "      <td>36</td>\n",
       "      <td>0.958333</td>\n",
       "      <td>0.989583</td>\n",
       "      <td>0.989583</td>\n",
       "      <td>0.96875</td>\n",
       "      <td>0.958333</td>\n",
       "      <td>0.972917</td>\n",
       "      <td>0.01413</td>\n",
       "    </tr>\n",
       "  </tbody>\n",
       "</table>\n",
       "<p>5 rows × 22 columns</p>\n",
       "</div>"
      ],
      "text/plain": [
       "   mean_fit_time  std_fit_time  mean_score_time  std_score_time  \\\n",
       "0       0.000807      0.000404         0.002391        0.001192   \n",
       "1       0.000603      0.000493         0.000998        0.000001   \n",
       "2       0.000200      0.000400         0.001590        0.000789   \n",
       "3       0.000601      0.000491         0.001794        0.000746   \n",
       "4       0.000399      0.000488         0.001406        0.000491   \n",
       "\n",
       "  param_n_neighbors param_p                        params  split0_test_score  \\\n",
       "0                 1       1    {'n_neighbors': 1, 'p': 1}           0.958333   \n",
       "1                 1       2    {'n_neighbors': 1, 'p': 2}           0.958333   \n",
       "2                 1       3    {'n_neighbors': 1, 'p': 3}           0.958333   \n",
       "3                 1     4.7  {'n_neighbors': 1, 'p': 4.7}           0.958333   \n",
       "4                 2       1    {'n_neighbors': 2, 'p': 1}           1.000000   \n",
       "\n",
       "   split1_test_score  split2_test_score  ...  mean_test_score  std_test_score  \\\n",
       "0           0.916667           0.958333  ...         0.958333        0.026352   \n",
       "1           0.916667           0.958333  ...         0.958333        0.026352   \n",
       "2           0.916667           0.958333  ...         0.958333        0.026352   \n",
       "3           0.916667           0.958333  ...         0.958333        0.026352   \n",
       "4           0.875000           0.916667  ...         0.941667        0.042492   \n",
       "\n",
       "   rank_test_score  split0_train_score  split1_train_score  \\\n",
       "0                9            1.000000            1.000000   \n",
       "1                9            1.000000            1.000000   \n",
       "2                9            1.000000            1.000000   \n",
       "3                9            1.000000            1.000000   \n",
       "4               36            0.958333            0.989583   \n",
       "\n",
       "   split2_train_score  split3_train_score  split4_train_score  \\\n",
       "0            1.000000             1.00000            1.000000   \n",
       "1            1.000000             1.00000            1.000000   \n",
       "2            1.000000             1.00000            1.000000   \n",
       "3            1.000000             1.00000            1.000000   \n",
       "4            0.989583             0.96875            0.958333   \n",
       "\n",
       "   mean_train_score  std_train_score  \n",
       "0          1.000000          0.00000  \n",
       "1          1.000000          0.00000  \n",
       "2          1.000000          0.00000  \n",
       "3          1.000000          0.00000  \n",
       "4          0.972917          0.01413  \n",
       "\n",
       "[5 rows x 22 columns]"
      ]
     },
     "execution_count": 11,
     "metadata": {},
     "output_type": "execute_result"
    }
   ],
   "source": [
    "df_grid_search.head()"
   ]
  },
  {
   "cell_type": "markdown",
   "metadata": {},
   "source": [
    "Pentru situatia in care se doreste evaluarea nu doar pe un singur set de testare, ci in stil cross-validation, se poate face un *nested cross-validation*:"
   ]
  },
  {
   "cell_type": "code",
   "execution_count": 12,
   "metadata": {
    "ExecuteTime": {
     "end_time": "2020-04-06T16:08:23.824588Z",
     "start_time": "2020-04-06T16:08:18.831849Z"
    }
   },
   "outputs": [],
   "source": [
    "scores = cross_val_score(GridSearchCV(estimator = KNeighborsClassifier(), param_grid=parameter_grid, \n",
    "                                       scoring='accuracy', cv=5), X, y, cv=10) "
   ]
  },
  {
   "cell_type": "code",
   "execution_count": 13,
   "metadata": {
    "ExecuteTime": {
     "end_time": "2020-04-06T16:08:23.833481Z",
     "start_time": "2020-04-06T16:08:23.826496Z"
    }
   },
   "outputs": [
    {
     "name": "stdout",
     "output_type": "stream",
     "text": [
      "0.9666666666666668\n"
     ]
    }
   ],
   "source": [
    "print(scores.mean())"
   ]
  },
  {
   "cell_type": "markdown",
   "metadata": {},
   "source": [
    "## Metode de preprocesare"
   ]
  },
  {
   "cell_type": "markdown",
   "metadata": {},
   "source": [
    "Uneori, inainte de aplicarea vreunui model, este nevoie ca datele de intrare sa fie supuse unor transformari. De exemplu, daca pentru algoritmul k-NN vreuna din trasaturi (fie ea *F*) are valori de ordinul sutelor si celelalte de ordinul unitatilor, atunci distanta dintre doi vectori ar fi dominata de diferenta pe dimensiunea *F*; celelalte dimensiuni nu ar conta prea mult.\n",
    "\n",
    "Intr-o astfel de situatie se recomanda sa se faca o scalare in prealabil a datelor la intervale comparbile, de ex [0, 1]. \n",
    "\n",
    "In modulul `sklearn.preprocessing` se afla clasa `MinMaxScaler` care permite scalarea independenta a trasaturilor. Il vom demonstra pe un set de date care are trasaturi cu marimi disproportionate."
   ]
  },
  {
   "cell_type": "code",
   "execution_count": 14,
   "metadata": {
    "ExecuteTime": {
     "end_time": "2020-04-06T16:08:23.864406Z",
     "start_time": "2020-04-06T16:08:23.836469Z"
    }
   },
   "outputs": [],
   "source": [
    "from sklearn.datasets import load_breast_cancer\n",
    "medical = load_breast_cancer()\n",
    "X, y = medical.data, medical.target"
   ]
  },
  {
   "cell_type": "code",
   "execution_count": 15,
   "metadata": {
    "ExecuteTime": {
     "end_time": "2020-04-06T16:08:23.889328Z",
     "start_time": "2020-04-06T16:08:23.867387Z"
    }
   },
   "outputs": [
    {
     "name": "stdout",
     "output_type": "stream",
     "text": [
      "6.981 28.11\n",
      "9.71 39.28\n",
      "43.79 188.5\n",
      "143.5 2501.0\n",
      "0.05263 0.1634\n",
      "0.01938 0.3454\n",
      "0.0 0.4268\n",
      "0.0 0.2012\n",
      "0.106 0.304\n",
      "0.04996 0.09744\n",
      "0.1115 2.873\n",
      "0.3602 4.885\n",
      "0.757 21.98\n",
      "6.802 542.2\n",
      "0.001713 0.03113\n",
      "0.002252 0.1354\n",
      "0.0 0.396\n",
      "0.0 0.05279\n",
      "0.007882 0.07895\n",
      "0.0008948 0.02984\n",
      "7.93 36.04\n",
      "12.02 49.54\n",
      "50.41 251.2\n",
      "185.2 4254.0\n",
      "0.07117 0.2226\n",
      "0.02729 1.058\n",
      "0.0 1.252\n",
      "0.0 0.291\n",
      "0.1565 0.6638\n",
      "0.05504 0.2075\n"
     ]
    }
   ],
   "source": [
    "def print_ranges(X):\n",
    "    for col_index in range(X.shape[1]):\n",
    "        column = X[:, col_index]\n",
    "        print(np.min(column), np.max(column))\n",
    "        \n",
    "print_ranges(X)"
   ]
  },
  {
   "cell_type": "code",
   "execution_count": 16,
   "metadata": {
    "ExecuteTime": {
     "end_time": "2020-04-06T16:08:23.923238Z",
     "start_time": "2020-04-06T16:08:23.893322Z"
    }
   },
   "outputs": [
    {
     "name": "stdout",
     "output_type": "stream",
     "text": [
      "0.0 1.0\n",
      "0.0 1.0\n",
      "0.0 1.0\n",
      "0.0 0.9999999999999999\n",
      "0.0 1.0\n",
      "0.0 0.9999999999999999\n",
      "0.0 0.9999999999999999\n",
      "0.0 0.9999999999999999\n",
      "0.0 1.0\n",
      "0.0 1.0\n",
      "0.0 0.9999999999999999\n",
      "0.0 1.0\n",
      "0.0 1.0\n",
      "0.0 1.0000000000000002\n",
      "0.0 1.0\n",
      "0.0 0.9999999999999999\n",
      "0.0 1.0\n",
      "0.0 0.9999999999999999\n",
      "0.0 1.0\n",
      "0.0 1.0\n",
      "0.0 0.9999999999999999\n",
      "0.0 1.0\n",
      "0.0 1.0\n",
      "0.0 1.0\n",
      "0.0 0.9999999999999998\n",
      "0.0 1.0\n",
      "0.0 1.0\n",
      "0.0 1.0\n",
      "0.0 0.9999999999999999\n",
      "0.0 1.0\n"
     ]
    }
   ],
   "source": [
    "from sklearn.preprocessing import MinMaxScaler\n",
    "scaler = MinMaxScaler()\n",
    "scaler.fit(X)\n",
    "X = scaler.transform(X)\n",
    "\n",
    "print_ranges(X)"
   ]
  },
  {
   "cell_type": "markdown",
   "metadata": {},
   "source": [
    "De mentionat ca secventa `fit` si `transform` se poate apela intr-un singur pas:"
   ]
  },
  {
   "cell_type": "code",
   "execution_count": 17,
   "metadata": {
    "ExecuteTime": {
     "end_time": "2020-04-06T16:08:23.956150Z",
     "start_time": "2020-04-06T16:08:23.926230Z"
    }
   },
   "outputs": [
    {
     "name": "stdout",
     "output_type": "stream",
     "text": [
      "0.0 1.0\n",
      "0.0 1.0\n",
      "0.0 1.0\n",
      "0.0 0.9999999999999999\n",
      "0.0 1.0\n",
      "0.0 0.9999999999999999\n",
      "0.0 0.9999999999999999\n",
      "0.0 0.9999999999999999\n",
      "0.0 1.0\n",
      "0.0 1.0\n",
      "0.0 0.9999999999999999\n",
      "0.0 1.0\n",
      "0.0 1.0\n",
      "0.0 1.0000000000000002\n",
      "0.0 1.0\n",
      "0.0 0.9999999999999999\n",
      "0.0 1.0\n",
      "0.0 0.9999999999999999\n",
      "0.0 1.0\n",
      "0.0 1.0\n",
      "0.0 0.9999999999999999\n",
      "0.0 1.0\n",
      "0.0 1.0\n",
      "0.0 1.0\n",
      "0.0 0.9999999999999998\n",
      "0.0 1.0\n",
      "0.0 1.0\n",
      "0.0 1.0\n",
      "0.0 0.9999999999999999\n",
      "0.0 1.0\n"
     ]
    }
   ],
   "source": [
    "X, y = medical.data, medical.target\n",
    "X = scaler.fit_transform(X)\n",
    "print_ranges(X)"
   ]
  },
  {
   "cell_type": "markdown",
   "metadata": {},
   "source": [
    "De regula, setul de date se imparte in doua (in modul naiv): set de antrenare si set de testare. Se presupune ca setul de testare este cunoscut mult mai tarziu decat cel de antrenare. Ca atare, doar cel de antrenare se trece prin preprocesor, iar  valorile 'invatate' via `fit ` se pastreaza (obiectul de tip `MinMaxScaler` are stare). Ele vor fi folosite pentru scalarea setului de test:"
   ]
  },
  {
   "cell_type": "code",
   "execution_count": 18,
   "metadata": {
    "ExecuteTime": {
     "end_time": "2020-04-06T16:08:23.987067Z",
     "start_time": "2020-04-06T16:08:23.963133Z"
    }
   },
   "outputs": [
    {
     "name": "stdout",
     "output_type": "stream",
     "text": [
      "-0.036700848829792444 0.9661449389136945\n",
      "-0.028595817328211624 1.2334613743064444\n",
      "-0.0293782899416703 0.9886185801678762\n",
      "-0.015214205671924845 1.000861994655633\n",
      "0.11853389907014528 0.8311817279046674\n",
      "0.039077357217348646 0.8199496963376482\n",
      "0.0 1.0009380863039399\n",
      "0.0 1.0713525026624067\n",
      "0.07828282828282829 0.8055555555555556\n",
      "0.006333260537235521 1.0369076217514739\n",
      "-0.0028689715281812918 0.8816095293434049\n",
      "-0.00042008445908598704 0.6097636472174932\n",
      "-0.00411144913205369 0.8424496477590474\n",
      "-0.0008720044140400431 1.0320249408696125\n",
      "0.03243022741951933 0.7348471971988986\n",
      "0.005707934028299334 0.782197254183315\n",
      "0.0 0.7671717171717172\n",
      "0.0 0.6605417692744838\n",
      "0.02331569764169529 0.7281476895367818\n",
      "0.0019139615549382955 0.7588546632947778\n",
      "-0.04228732207878186 1.1208209202250912\n",
      "-0.06643244969658257 1.131906739061003\n",
      "-0.03801401157477917 1.1851964666463597\n",
      "-0.018448200544373128 1.3488020430794045\n",
      "0.10942349600475473 0.9154724955424949\n",
      "0.021577359296019248 0.8140117006723521\n",
      "0.0 1.07008547008547\n",
      "0.0 0.9470790378006874\n",
      "0.05179377524352575 1.2052744119743404\n",
      "0.02813852813852813 0.773711137347501\n"
     ]
    }
   ],
   "source": [
    "X_train, X_test, y_train, y_test = train_test_split(X, y, test_size=1/3)\n",
    "scaler = MinMaxScaler()\n",
    "X_train = scaler.fit_transform(X_train)\n",
    "X_test = scaler.transform(X_test)\n",
    "print_ranges(X_test)"
   ]
  },
  {
   "cell_type": "markdown",
   "metadata": {},
   "source": [
    "Se remarca faptul ca, folosindu-se parametrii de scalare din setul de antrenare, nu se poate garanta ca setul de testare este cuprins de asemenea in hipercubul unitate $[0, 1]^{X.shape[1]}$"
   ]
  },
  {
   "cell_type": "markdown",
   "metadata": {},
   "source": [
    "Exista si alte metode de preprocesare in modulul [`sklearn.preprocessing`](http://scikit-learn.org/stable/modules/preprocessing.html). \n"
   ]
  },
  {
   "cell_type": "markdown",
   "metadata": {},
   "source": [
    "## Pipelines"
   ]
  },
  {
   "cell_type": "markdown",
   "metadata": {},
   "source": [
    "Se prefera inlantuirea intr-un proces a pasilor: preprocesare si aplicare de model. Exemplificam pentru cazul simplu in care exista un set de antrenare si unul de testare:"
   ]
  },
  {
   "cell_type": "code",
   "execution_count": 19,
   "metadata": {
    "ExecuteTime": {
     "end_time": "2020-04-06T16:08:23.997040Z",
     "start_time": "2020-04-06T16:08:23.991057Z"
    }
   },
   "outputs": [],
   "source": [
    "X, y = medical.data, medical.target\n",
    "X_train, X_test, y_train, y_test = train_test_split(X, y, test_size=1/3)"
   ]
  },
  {
   "cell_type": "code",
   "execution_count": 20,
   "metadata": {
    "ExecuteTime": {
     "end_time": "2020-04-06T16:08:24.030949Z",
     "start_time": "2020-04-06T16:08:24.000032Z"
    }
   },
   "outputs": [
    {
     "name": "stdout",
     "output_type": "stream",
     "text": [
      "0.9789473684210527\n"
     ]
    }
   ],
   "source": [
    "from sklearn.pipeline import Pipeline\n",
    "pipe = Pipeline([('scaler', MinMaxScaler()), ('knn', KNeighborsClassifier())])\n",
    "pipe.fit(X_train, y_train)\n",
    "y_predicted = pipe.predict(X_test) \n",
    "print(accuracy_score(y_test, y_predicted))"
   ]
  },
  {
   "cell_type": "markdown",
   "metadata": {},
   "source": [
    "Pentru cazul in care se vrea k-fold cross validation pentru determinarea valorilor optime pentru hiperparametri, urmata de testare pe un set de testare:"
   ]
  },
  {
   "cell_type": "code",
   "execution_count": 21,
   "metadata": {
    "ExecuteTime": {
     "end_time": "2020-04-06T16:08:27.688173Z",
     "start_time": "2020-04-06T16:08:24.032945Z"
    }
   },
   "outputs": [
    {
     "data": {
      "text/plain": [
       "GridSearchCV(cv=5, error_score=nan,\n",
       "             estimator=Pipeline(memory=None,\n",
       "                                steps=[('scaler',\n",
       "                                        MinMaxScaler(copy=True,\n",
       "                                                     feature_range=(0, 1))),\n",
       "                                       ('knn',\n",
       "                                        KNeighborsClassifier(algorithm='auto',\n",
       "                                                             leaf_size=30,\n",
       "                                                             metric='minkowski',\n",
       "                                                             metric_params=None,\n",
       "                                                             n_jobs=None,\n",
       "                                                             n_neighbors=5, p=2,\n",
       "                                                             weights='uniform'))],\n",
       "                                verbose=False),\n",
       "             iid='deprecated', n_jobs=None,\n",
       "             param_grid={'knn__n_neighbors': [1, 2, 3, 4, 5, 6, 7, 8, 9],\n",
       "                         'knn__p': [1, 2, 3, 4.7]},\n",
       "             pre_dispatch='2*n_jobs', refit=True, return_train_score=False,\n",
       "             scoring='accuracy', verbose=0)"
      ]
     },
     "execution_count": 21,
     "metadata": {},
     "output_type": "execute_result"
    }
   ],
   "source": [
    "X_trainval, X_test, y_trainval, y_test = train_test_split(X, y, test_size=1/3)\n",
    "parameter_grid = {'knn__n_neighbors': list(range(1, 10)), 'knn__p': [1, 2, 3, 4.7]}\n",
    "grid = GridSearchCV(pipe, param_grid = parameter_grid, scoring = 'accuracy', cv=5)\n",
    "grid.fit(X_trainval, y_trainval)"
   ]
  },
  {
   "cell_type": "code",
   "execution_count": 22,
   "metadata": {
    "ExecuteTime": {
     "end_time": "2020-04-06T16:08:27.710114Z",
     "start_time": "2020-04-06T16:08:27.690168Z"
    }
   },
   "outputs": [
    {
     "name": "stdout",
     "output_type": "stream",
     "text": [
      "0.9578947368421052\n"
     ]
    }
   ],
   "source": [
    "y_predicted = grid.predict(X_test)\n",
    "print(accuracy_score(y_test, y_predicted))"
   ]
  }
 ],
 "metadata": {
  "kernelspec": {
   "display_name": "Python 3",
   "language": "python",
   "name": "python3"
  },
  "language_info": {
   "codemirror_mode": {
    "name": "ipython",
    "version": 3
   },
   "file_extension": ".py",
   "mimetype": "text/x-python",
   "name": "python",
   "nbconvert_exporter": "python",
   "pygments_lexer": "ipython3",
   "version": "3.7.7"
  },
  "toc": {
   "base_numbering": 1,
   "nav_menu": {},
   "number_sections": true,
   "sideBar": true,
   "skip_h1_title": false,
   "title_cell": "Table of Contents",
   "title_sidebar": "Contents",
   "toc_cell": false,
   "toc_position": {},
   "toc_section_display": true,
   "toc_window_display": false
  },
  "varInspector": {
   "cols": {
    "lenName": 16,
    "lenType": 16,
    "lenVar": 40
   },
   "kernels_config": {
    "python": {
     "delete_cmd_postfix": "",
     "delete_cmd_prefix": "del ",
     "library": "var_list.py",
     "varRefreshCmd": "print(var_dic_list())"
    },
    "r": {
     "delete_cmd_postfix": ") ",
     "delete_cmd_prefix": "rm(",
     "library": "var_list.r",
     "varRefreshCmd": "cat(var_dic_list()) "
    }
   },
   "types_to_exclude": [
    "module",
    "function",
    "builtin_function_or_method",
    "instance",
    "_Feature"
   ],
   "window_display": false
  }
 },
 "nbformat": 4,
 "nbformat_minor": 2
}
