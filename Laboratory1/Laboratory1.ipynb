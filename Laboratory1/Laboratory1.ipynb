{
 "cells": [
  {
   "cell_type": "markdown",
   "metadata": {
    "ExecuteTime": {
     "end_time": "2020-02-26T13:38:20.593673Z",
     "start_time": "2020-02-26T13:38:20.578215Z"
    }
   },
   "source": [
    "## Exercitiul 1"
   ]
  },
  {
   "cell_type": "markdown",
   "metadata": {},
   "source": [
    "Gasiti cuvintele diferite (case insensitive) si de cate ori apar ele intr-un fisier text, cu cate un cuvant pe fiecare linie. Puteti folosi tipurile set si collections.Counter. Un exemplu de fisier de intrare este data/words.txt."
   ]
  },
  {
   "cell_type": "code",
   "execution_count": 18,
   "metadata": {
    "ExecuteTime": {
     "end_time": "2020-02-26T17:22:01.260497Z",
     "start_time": "2020-02-26T17:22:01.251240Z"
    }
   },
   "outputs": [
    {
     "name": "stdout",
     "output_type": "stream",
     "text": [
      "['ana\\n', 'dana\\n', 'maria\\n', 'vasile\\n', 'ana\\n', 'maria\\n', 'george\\n', 'viorel\\n', 'maria\\n', 'inca_un_nume']\n"
     ]
    }
   ],
   "source": [
    "# deschidem fisierul\n",
    "file = open(\"words.txt\",\"r\")\n",
    "# extragem datele din fisier intr-o lista\n",
    "lista = file.readlines()\n",
    "# fiecare element din lista il trecem la minuscule\n",
    "for index, element in enumerate(lista):\n",
    "    lista[index] = element.lower()\n",
    "# afisam lista\n",
    "print(lista)"
   ]
  },
  {
   "cell_type": "code",
   "execution_count": 19,
   "metadata": {
    "ExecuteTime": {
     "end_time": "2020-02-26T17:22:51.643366Z",
     "start_time": "2020-02-26T17:22:51.635213Z"
    }
   },
   "outputs": [
    {
     "name": "stdout",
     "output_type": "stream",
     "text": [
      "{'ana\\n': 2, 'dana\\n': 1, 'maria\\n': 3, 'vasile\\n': 1, 'george\\n': 1, 'viorel\\n': 1, 'inca_un_nume': 1}\n"
     ]
    }
   ],
   "source": [
    "#declaram un dictionar gol\n",
    "dictionar = {}\n",
    "# pentru fiecare element din lista numaram de cate ori apare\n",
    "for element in lista:\n",
    "    if dictionar.get(element):\n",
    "        dictionar[element] += 1\n",
    "    else:\n",
    "        dictionar[element] = 1\n",
    "# afisam dictionarul    \n",
    "print(dictionar)"
   ]
  },
  {
   "cell_type": "markdown",
   "metadata": {},
   "source": [
    "## Exercitiul 2"
   ]
  },
  {
   "cell_type": "markdown",
   "metadata": {},
   "source": [
    "Sa se determine daca cuvintele 'reggae' si 'simfonic' apar de acelasi numar de ori intr-un sir dat."
   ]
  },
  {
   "cell_type": "code",
   "execution_count": 20,
   "metadata": {
    "ExecuteTime": {
     "end_time": "2020-02-26T17:23:19.051448Z",
     "start_time": "2020-02-26T17:23:19.042797Z"
    }
   },
   "outputs": [
    {
     "name": "stdout",
     "output_type": "stream",
     "text": [
      "['simfonic', 'reggae', 'reggae', 'simfonic', 'simfonic', 'reggae']\n"
     ]
    }
   ],
   "source": [
    "# cream lista de elemente\n",
    "text = ['simfonic', 'reggae', 'reggae', 'simfonic', 'simfonic', 'reggae']\n",
    "# afisam lista de elemente\n",
    "print(text)"
   ]
  },
  {
   "cell_type": "code",
   "execution_count": 21,
   "metadata": {
    "ExecuteTime": {
     "end_time": "2020-02-26T17:24:37.850913Z",
     "start_time": "2020-02-26T17:24:37.843335Z"
    }
   },
   "outputs": [
    {
     "name": "stdout",
     "output_type": "stream",
     "text": [
      "Acelasi numar!\n",
      "{'simfonic': 3, 'reggae': 3}\n"
     ]
    }
   ],
   "source": [
    "# cream un dictionar gol\n",
    "dictionar2 = {}\n",
    "# pentru fiecare element din lista numaram de cate ori apare\n",
    "for element in text:\n",
    "    if dictionar2.get(element):\n",
    "        dictionar2[element] += 1\n",
    "    else:\n",
    "        dictionar2[element] = 1\n",
    "# verificam daca 'simfonic' apare de acelasi numar de ori ca si 'reggae'\n",
    "if dictionar2['simfonic'] == dictionar2['reggae']:\n",
    "    print('Acelasi numar!')\n",
    "else:\n",
    "    print('Nu e acelasi numar')\n",
    "# afisam dictionarul\n",
    "print(dictionar2)"
   ]
  },
  {
   "cell_type": "markdown",
   "metadata": {},
   "source": [
    "## Exercitiul 3"
   ]
  },
  {
   "cell_type": "markdown",
   "metadata": {},
   "source": [
    "In fisierul data\\Postures.csv, cate linii nu contin deloc caracterul '?' (adica datele sunt complete)? Puteti folosi modulul re pentru expresii regulate."
   ]
  },
  {
   "cell_type": "code",
   "execution_count": null,
   "metadata": {},
   "outputs": [],
   "source": []
  }
 ],
 "metadata": {
  "kernelspec": {
   "display_name": "Python 3",
   "language": "python",
   "name": "python3"
  },
  "language_info": {
   "codemirror_mode": {
    "name": "ipython",
    "version": 3
   },
   "file_extension": ".py",
   "mimetype": "text/x-python",
   "name": "python",
   "nbconvert_exporter": "python",
   "pygments_lexer": "ipython3",
   "version": "3.7.6"
  },
  "varInspector": {
   "cols": {
    "lenName": 16,
    "lenType": 16,
    "lenVar": 40
   },
   "kernels_config": {
    "python": {
     "delete_cmd_postfix": "",
     "delete_cmd_prefix": "del ",
     "library": "var_list.py",
     "varRefreshCmd": "print(var_dic_list())"
    },
    "r": {
     "delete_cmd_postfix": ") ",
     "delete_cmd_prefix": "rm(",
     "library": "var_list.r",
     "varRefreshCmd": "cat(var_dic_list()) "
    }
   },
   "types_to_exclude": [
    "module",
    "function",
    "builtin_function_or_method",
    "instance",
    "_Feature"
   ],
   "window_display": false
  }
 },
 "nbformat": 4,
 "nbformat_minor": 4
}
