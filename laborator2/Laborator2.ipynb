{
 "cells": [
  {
   "cell_type": "markdown",
   "metadata": {},
   "source": [
    "# Introducere in Data Science - Tema 1 Laborator 2\n",
    "## Grupa\n",
    "### 10LF381\n",
    "## Membri\n",
    "### - Bucur Robert-Adrian\n",
    "### - Bogdan Gheorghe-Nicolae"
   ]
  },
  {
   "cell_type": "markdown",
   "metadata": {},
   "source": [
    "# Exercitii functii\n",
    "Nota: aceste exercitii nu se puncteaza.\n",
    "## Exercitiul 1\n",
    "Sa se scrie o functie care primeste ca parametru o lista de numere si returneaza un tuplu continand: suma elementelor si diferenta maxima dintre elementele listei."
   ]
  },
  {
   "cell_type": "code",
   "execution_count": 10,
   "metadata": {},
   "outputs": [],
   "source": [
    "from typing import List"
   ]
  },
  {
   "cell_type": "code",
   "execution_count": 11,
   "metadata": {},
   "outputs": [],
   "source": [
    "def sum_diff_max(lista : List[float]) -> (float, float):\n",
    "    '''Function for summing the elements in a list and calculating the maximum difference\n",
    "    :param lista: the list for summing up the elements and calculate the difference\n",
    "    :return: tuple of two values of int which represents the sum and the diff'''\n",
    "    \n",
    "    return (sum(lista), max(lista) - min(lista))"
   ]
  },
  {
   "cell_type": "code",
   "execution_count": 12,
   "metadata": {},
   "outputs": [
    {
     "data": {
      "text/plain": "(15, 4)"
     },
     "execution_count": 12,
     "metadata": {},
     "output_type": "execute_result"
    }
   ],
   "source": [
    "sum_diff_max([1,2,3,4,5])"
   ]
  },
  {
   "cell_type": "markdown",
   "metadata": {},
   "source": [
    "## Exercitiul 2\n",
    "Scrieti o functie care preia doua liste si returneaza True daca cele doua liste de numere contin cel putin $k$ elemente comune ($k \\ge 1$ dat ca parametru intreg, valoare implicita 1), False altfel."
   ]
  },
  {
   "cell_type": "code",
   "execution_count": 13,
   "metadata": {},
   "outputs": [],
   "source": [
    "def same_k_elements(list1 : List[int], list2 : List[int], k : int = 1) -> bool:\n",
    "    '''Function to verify if the intersection of two lists has at least k elements\n",
    "    :param list1: the first list\n",
    "    :param list2: the second list\n",
    "    :return: True if the condition is verified and False else'''\n",
    "    set1, set2 = set(list1), set(list2)\n",
    "    return len(set1.intersection(set2)) >= k"
   ]
  },
  {
   "cell_type": "code",
   "execution_count": 14,
   "metadata": {},
   "outputs": [
    {
     "data": {
      "text/plain": "False"
     },
     "execution_count": 14,
     "metadata": {},
     "output_type": "execute_result"
    }
   ],
   "source": [
    "same_k_elements([1,2,3,4],[2,3,4,5,6],4)"
   ]
  },
  {
   "cell_type": "markdown",
   "metadata": {},
   "source": [
    "## Exercitiul 3\n",
    "Sa se scrie o functie care determina daca o lista contine cuvinte reprezentand doar numere intregi (optional: numere fractionare, scrise sub forma parte intreaga, optional urmata de punct zecimal, optional urmata de parte fractionara: 1, 2., 13.14) (Puteti folosi modulul re pentru lucrul cu expresii regulate.) Functia trebuie sa testeze daca:\n",
    "- elementele din lista sunt stringuri\n",
    "- fiecare din stringuri este un numar"
   ]
  },
  {
   "cell_type": "code",
   "execution_count": 15,
   "metadata": {},
   "outputs": [],
   "source": [
    "def validate_list_to_integer(list_str : List[str]) -> bool:\n",
    "    '''Function to verify if all words from list_str are integers\n",
    "    :param list_str: list of words for verification\n",
    "    :return: True if the condition is verified and False else'''\n",
    "    for item in list_str:\n",
    "        if not item.isdigit():\n",
    "            return False\n",
    "    return True"
   ]
  },
  {
   "cell_type": "code",
   "execution_count": 16,
   "metadata": {},
   "outputs": [
    {
     "data": {
      "text/plain": "False"
     },
     "execution_count": 16,
     "metadata": {},
     "output_type": "execute_result"
    }
   ],
   "source": [
    "validate_list_to_integer(['1','2','3','hello'])"
   ]
  },
  {
   "cell_type": "markdown",
   "metadata": {},
   "source": [
    "## Exercitiul 4\n",
    "Sa se scrie o functie care returneaza numarul de vocale si de consoane dintr-un parametru dat - rezultatul returnat de functie este tuplu cu doua valori. Cuvantul se va converti la litere mici in interiorul functiei."
   ]
  },
  {
   "cell_type": "code",
   "execution_count": 17,
   "metadata": {},
   "outputs": [],
   "source": [
    "def number_of_vowel_consonants(word : str) -> (int, int):\n",
    "    '''Function to count the number of vowels and consonants in a word\n",
    "    :param word: the string for counting the vowels and consonants\n",
    "    :return: tuple containing the number of vowels and consonants'''\n",
    "    word.lower()\n",
    "    vowels = ['a', 'e', 'i', 'o', 'u']\n",
    "    number_of_vowels = 0\n",
    "    number_of_consonants = 0\n",
    "    for character in word:\n",
    "        if character in vowels:\n",
    "            number_of_vowels += 1\n",
    "        else:\n",
    "            number_of_consonants += 1\n",
    "    return (number_of_vowels, number_of_consonants)"
   ]
  },
  {
   "cell_type": "code",
   "execution_count": 18,
   "metadata": {},
   "outputs": [
    {
     "data": {
      "text/plain": "(2, 4)"
     },
     "execution_count": 18,
     "metadata": {},
     "output_type": "execute_result"
    }
   ],
   "source": [
    "number_of_vowel_consonants('Hammer')"
   ]
  },
  {
   "cell_type": "markdown",
   "metadata": {},
   "source": [
    "## Exercitiul 5\n",
    "Sa se scrie o functie care primind o lista de dictionare, returneaza True daca toate dictionarele contin cel putin $n$ elemente, $n$ transmis ca parametru, False altfel."
   ]
  },
  {
   "cell_type": "code",
   "execution_count": 19,
   "metadata": {},
   "outputs": [],
   "source": [
    "def n_elements_dicts(list_dict : List[dict],n : int = 1) -> bool:\n",
    "    '''Function to verify each dictionar in a list of dictionaries has at least n elements\n",
    "    :param list_dict: the list of dictionaries\n",
    "    :param n: the minimum number of elements which each dictionar must contain\n",
    "    :return: True if the condition is verified and False else'''\n",
    "    for dictionar in list_dict:\n",
    "        if len(dictionar) < n:\n",
    "            return False\n",
    "    return True"
   ]
  },
  {
   "cell_type": "code",
   "execution_count": 20,
   "metadata": {},
   "outputs": [
    {
     "data": {
      "text/plain": "False"
     },
     "execution_count": 20,
     "metadata": {},
     "output_type": "execute_result"
    }
   ],
   "source": [
    "list_dict = [{1 : 'ana', 2 : 'are', 3 : 'mere'},\n",
    "            {'ana' : 'are', 'mere' : 'pere'},\n",
    "            {1 : 2, 3 : 4, 5 : 6, 7 : 8, 9 : 10}]\n",
    "n_elements_dicts(list_dict,n=3)"
   ]
  },
  {
   "cell_type": "markdown",
   "metadata": {},
   "source": [
    "# Exercitiul 6\n",
    "Sa se scrie o functie recursiva care sa faca ridicarea la putere a unui numar, astfel: $$\n",
    "a^n = \\begin{cases}\n",
    "a \\space\\space\\space\\space\\space\\space\\space\\space\\space\\space\\space\\space\\space\\space\\space\\space\\space\\space\\space \\text{ , daca }n=1\n",
    "\\\\\n",
    "\\left(a^{n//2}\\right)^2 \\space\\space\\space\\space\\space\\space\\space\\space\\space \\text{ , daca } n \\text{ e par}\n",
    "\\\\\n",
    "\\left(a^{n//2}\\right)^2 \\cdot a \\space\\space\\space\\space \\text{ , daca } n \\text{ e impar}, n > 1\n",
    "\\\\\n",
    "\\end{cases}\n",
    "$$ unde prin $n//2$ se reprezinta catul impartirii intregi intre $n$ si 2."
   ]
  },
  {
   "cell_type": "code",
   "execution_count": 21,
   "metadata": {},
   "outputs": [],
   "source": [
    "def power_recursive(a : int, n : int = 1) -> int:\n",
    "    '''Function to calculate a at power n recursive\n",
    "    :param a: an integer; the base\n",
    "    :param n: an integere; the power\n",
    "    :return: an integer; the result of a**n'''\n",
    "    if n == 1:\n",
    "        return a\n",
    "    if n % 2 == 0:\n",
    "        return power_recursive(a, n//2) ** 2\n",
    "    return (power_recursive(a, n//2) ** 2) * a"
   ]
  },
  {
   "cell_type": "code",
   "execution_count": 22,
   "metadata": {},
   "outputs": [
    {
     "data": {
      "text/plain": "8"
     },
     "execution_count": 22,
     "metadata": {},
     "output_type": "execute_result"
    }
   ],
   "source": [
    "power_recursive(a=2,n=3)"
   ]
  },
  {
   "cell_type": "markdown",
   "metadata": {},
   "source": [
    "# Exercitii NumPy\n",
    "Nota: in rezolvarea exercitiilor se vor folosi cat mai mult functii NumPy vectorizate. Functiile scrise de voi vor fi documentate cu docstrings (tutoriale: Docstrings in Python, urmati NumPy Style Python Docstrings). Folositi type annotations. Utilizati doar pachetele NumPy."
   ]
  },
  {
   "cell_type": "code",
   "execution_count": 3,
   "metadata": {},
   "outputs": [],
   "source": [
    "import numpy as np"
   ]
  },
  {
   "cell_type": "markdown",
   "metadata": {},
   "source": [
    "## Exercitiul 1\n",
    "(0.5 puncte) Pentru un vector NumPy dat, sa se determine care sunt elementele unice, in ordine descrescatoare. Exemplu: pentru x = np.array([-4, 3,  5, 3, 2, 1, -3, -4, 2, -4]) functia scrisa de dvs va intoarce rezultatul [ 5,  3,  2,  1, -3, -4]."
   ]
  },
  {
   "cell_type": "code",
   "execution_count": 24,
   "metadata": {},
   "outputs": [],
   "source": [
    "def sorted_desc_unique_items(x : np.array) -> np.array:\n",
    "    '''Function to sort the descending, unique items of a np.array\n",
    "    :param x: the np.array to sort\n",
    "    :return: the sorted np.array'''\n",
    "    return sorted(np.unique(x),reverse=True)"
   ]
  },
  {
   "cell_type": "code",
   "execution_count": 25,
   "metadata": {},
   "outputs": [
    {
     "data": {
      "text/plain": "[5, 3, 2, 1, -3, -4]"
     },
     "execution_count": 25,
     "metadata": {},
     "output_type": "execute_result"
    }
   ],
   "source": [
    "x = np.array([-4, 3, 5, 3, 2, 1, -3, -4, 2, -4])\n",
    "sorted_desc_unique_items(x)"
   ]
  },
  {
   "cell_type": "markdown",
   "metadata": {},
   "source": [
    "## Exercitiul 2\n",
    "(0.5 puncte) Pentru un vector NumPy dat, sa se determine care e elementul cel mai frecvent si cel mai putin frecvent (tuplu de 2 valori). Daca exista mai multe numere cele mai frecvente (cele mai putin frecvente), se va raporta oricare din ele. Exemplu: pentru x = np.array([-4, 3,  5, 3, 2, 1, -3, -4, 2, -4]) functia scrisa de dvs va intoarce rezultatul (-4, -3)."
   ]
  },
  {
   "cell_type": "code",
   "execution_count": 8,
   "metadata": {},
   "outputs": [],
   "source": [
    "def most_least_frequent(x : np.array) -> (int, int):\n",
    "    '''Function to determin which element appears the most and which element appears the least in a np.array\n",
    "    :param x: the np.array\n",
    "    :return: a tuple with the two elements'''\n",
    "    (unique_values, counts) = np.unique(x, return_counts=True)\n",
    "    max_index, min_index = np.argmax(counts), np.argmin(counts)\n",
    "    return (unique_values[max_index], unique_values[min_index])"
   ]
  },
  {
   "cell_type": "code",
   "execution_count": 9,
   "metadata": {},
   "outputs": [
    {
     "data": {
      "text/plain": "(-4, -3)"
     },
     "execution_count": 9,
     "metadata": {},
     "output_type": "execute_result"
    }
   ],
   "source": [
    "x = np.array([-4, 3, 5, 3, 2, 1, -3, -4, 2, -4])\n",
    "most_least_frequent(x)"
   ]
  },
  {
   "cell_type": "markdown",
   "metadata": {},
   "source": [
    "## Exercitiul 3\n",
    "(0.5 puncte) Plecand de la o matrice, sa se scrie o functie care returneaza vectorul minimelor de pe linii si vectorul maximelor de pe coloane. Exemplu: pentru matricea mat = np.array([[1, 2, 3, 4], [1, -2, 3, -4], [3, 10, 3, 4]]) functia va returna tuplul de vectori: (array([ 1, -4,  3]), array([ 3, 10,  3,  4])). Indicatie: folositi-va de parametrul axis."
   ]
  },
  {
   "cell_type": "code",
   "execution_count": 36,
   "metadata": {
    "ExecuteTime": {
     "end_time": "2020-03-06T13:11:16.563436Z",
     "start_time": "2020-03-06T13:11:16.557374Z"
    }
   },
   "outputs": [],
   "source": [
    "def min_line_max_col(mat : np.array) -> (np.array, np.array):\n",
    "    '''Function to determin the minimum value of each line and \n",
    "    maximum value of each column in a matrix like np.array\n",
    "    :param mat: the matrix like np.aprray\n",
    "    :return: a tuple with the two np.arrays'''\n",
    "    min_line = np.amin(mat, axis=1)\n",
    "    max_col = np.amax(mat, axis=0)\n",
    "    return (min_line, max_col)"
   ]
  },
  {
   "cell_type": "code",
   "execution_count": 37,
   "metadata": {
    "ExecuteTime": {
     "end_time": "2020-03-06T13:11:17.801770Z",
     "start_time": "2020-03-06T13:11:17.789890Z"
    }
   },
   "outputs": [
    {
     "data": {
      "text/plain": [
       "(array([ 1, -4,  3]), array([ 3, 10,  3,  4]))"
      ]
     },
     "execution_count": 37,
     "metadata": {},
     "output_type": "execute_result"
    }
   ],
   "source": [
    "mat = np.array([[1, 2, 3, 4], [1, -2, 3, -4], [3, 10, 3, 4]])\n",
    "min_line_max_col(mat)"
   ]
  },
  {
   "cell_type": "markdown",
   "metadata": {},
   "source": [
    "## Exercitiul 4\n",
    "(0.5 puncte) Pentru o matrice de numere, sa se determine produsul elementelor pe linii sau de pe coloane, in functie de valoarea unui parametru boolean compute_on_lines. Exemplu: pentru matricea mat = np.array([[1, 2, 3, 4], [1, -2, 3, -4], [3, 10, 3, 4]]) si parametrul compute_on_lines=True, functia va returna vectorul [ 24  24 360], iar pentru compute_on_lines=False se va returna [  3 -40  27 -64]."
   ]
  },
  {
   "cell_type": "code",
   "execution_count": 38,
   "metadata": {
    "ExecuteTime": {
     "end_time": "2020-03-06T13:25:20.599938Z",
     "start_time": "2020-03-06T13:25:20.593580Z"
    }
   },
   "outputs": [],
   "source": [
    "def multiplication_line_column(mat : np.array, compute_on_lines : bool = True) -> np.array:\n",
    "    '''Function to calculate the multiplication of elements on lines or columns depends on compute_on_lines\n",
    "    :param mat: the matrix like np.aprray\n",
    "    :param compute_on_lines: if True the multiplication is calculated on lines, else is calculated on columns\n",
    "    :return: the array with the result of multiplication on each line or column'''\n",
    "    if compute_on_lines is True:\n",
    "        return np.prod(mat, axis=1)\n",
    "    return np.prod(mat, axis=0)"
   ]
  },
  {
   "cell_type": "code",
   "execution_count": 42,
   "metadata": {
    "ExecuteTime": {
     "end_time": "2020-03-06T13:27:02.485712Z",
     "start_time": "2020-03-06T13:27:02.471304Z"
    }
   },
   "outputs": [
    {
     "name": "stdout",
     "output_type": "stream",
     "text": [
      "[ 24  24 360]\n"
     ]
    },
    {
     "data": {
      "text/plain": [
       "array([  3, -40,  27, -64])"
      ]
     },
     "execution_count": 42,
     "metadata": {},
     "output_type": "execute_result"
    }
   ],
   "source": [
    "mat = np.array([[1, 2, 3, 4], [1, -2, 3, -4], [3, 10, 3, 4]])\n",
    "print(multiplication_line_column(mat))\n",
    "multiplication_line_column(mat,compute_on_lines=False)"
   ]
  },
  {
   "cell_type": "markdown",
   "metadata": {},
   "source": [
    "## Exercitiul 5\n",
    "(0.5 puncte) Determinati daca macar unul din elementele unei matrice a este mai mare decat cel de pe pozitia corespondenta din b (adica daca avem macar o pereche de indecsi (i, j) pentru care a[i, j] > b[i, j]). Daca da, se va returna o astfel de pereche de indecsi; daca nu, se va returna None."
   ]
  },
  {
   "cell_type": "code",
   "execution_count": 13,
   "metadata": {},
   "outputs": [],
   "source": [
    "from typing import Optional, Tuple"
   ]
  },
  {
   "cell_type": "code",
   "execution_count": 33,
   "metadata": {},
   "outputs": [],
   "source": [
    "def element_a_gt_element_b(a : np.array, b : np.array) -> Optional[Tuple[int,int]]:\n",
    "    '''Function to determin a pair of indices (i,j) for which a[i,j]>b[i,j];\n",
    "    if does not exit such a pair the function returns None\n",
    "    :param a: the first matrix\n",
    "    :param b: the second matrix\n",
    "    :return: a tuple of ints which represents indices in matrix or None'''\n",
    "    assert a.shape == b.shape , 'The two matrices have not the same shape'\n",
    "    mat_indices = np.argwhere(a > b)\n",
    "    if len(mat_indices):\n",
    "        return (mat_indices[0,0], mat_indices[0,1])\n",
    "    return None"
   ]
  },
  {
   "cell_type": "code",
   "execution_count": 34,
   "metadata": {},
   "outputs": [
    {
     "name": "stdout",
     "output_type": "stream",
     "text": "(0, 1)\n"
    }
   ],
   "source": [
    "a = np.array([[1, 2, 3, 4], [1, -2, 3, -4], [3, 10, 3, 4]])\n",
    "b = np.array([[1, -2, 3, -4], [1, 2, 3, 4], [3, 10, 3, 4]])\n",
    "indices = element_a_gt_element_b(a,b) \n",
    "if indices is not None:\n",
    "    print(indices)\n",
    "else:\n",
    "    print(\"There isn't a value!\")"
   ]
  },
  {
   "cell_type": "markdown",
   "metadata": {},
   "source": [
    "## Exercitiul 6\n",
    "(0.5 puncte) Construiti o functie care, primind o matrice, determina pe ce pozitii se afla valorile in afara unui interval [min, max] dat prin parametri."
   ]
  },
  {
   "cell_type": "code",
   "execution_count": 117,
   "metadata": {
    "ExecuteTime": {
     "end_time": "2020-03-06T15:35:29.988283Z",
     "start_time": "2020-03-06T15:35:29.981949Z"
    }
   },
   "outputs": [],
   "source": [
    "def elements_out_range_min_max(mat : np.array, range_min_max : (int, int)) -> np.array:\n",
    "    '''Function to determin element's indices which don't belong to the range [min_range,max_range]\n",
    "    :param mat: the matrix to look in\n",
    "    :param min_range: the minimum value of the range\n",
    "    :param max_range: the maximum value of the range\n",
    "    :return: a np.array of indices'''\n",
    "    return np.concatenate((np.argwhere(mat < range_min_max[0]),np.argwhere(mat > range_min_max[1])))"
   ]
  },
  {
   "cell_type": "code",
   "execution_count": 118,
   "metadata": {
    "ExecuteTime": {
     "end_time": "2020-03-06T15:35:35.132521Z",
     "start_time": "2020-03-06T15:35:35.121977Z"
    }
   },
   "outputs": [
    {
     "data": {
      "text/plain": [
       "array([[1, 1],\n",
       "       [1, 3],\n",
       "       [0, 3],\n",
       "       [2, 1],\n",
       "       [2, 3]])"
      ]
     },
     "execution_count": 118,
     "metadata": {},
     "output_type": "execute_result"
    }
   ],
   "source": [
    "mat = np.array([[1, 2, 3, 4], [1, -2, 3, -4], [3, 10, 3, 4]])\n",
    "elements_out_range_min_max(mat, (0, 3))"
   ]
  },
  {
   "cell_type": "markdown",
   "metadata": {},
   "source": [
    "## Exercitiul 7\n",
    "(1 punct) Se considera vectorul: a = np.array([230, 10, 284, 39, 76]). Folosind indexarea logica, sa se inmulteasca elementele din vector care sunt mai mici ca 100 cu 2 (restul raman neschimbate). Folosind ciclare, sa se aplice aceeasi operatie pana cand toate elementele devin mai mari ca 100. Sa se afiseze din vectorul final elementele care sunt mai mari de 150 si mai mici de 200."
   ]
  },
  {
   "cell_type": "code",
   "execution_count": 36,
   "metadata": {},
   "outputs": [],
   "source": [
    "def double_elements_under_100(a : np.array) -> np.array:\n",
    "    '''Function to double the elements less than 100 in a np.array\n",
    "    :param a: the input np.array\n",
    "    :return: the result np.array'''\n",
    "    while any(a < 100):\n",
    "        a[a < 100] *= 2\n",
    "    return a"
   ]
  },
  {
   "cell_type": "code",
   "execution_count": 38,
   "metadata": {},
   "outputs": [
    {
     "name": "stdout",
     "output_type": "stream",
     "text": "[160 156 152]\n"
    }
   ],
   "source": [
    "a = np.array([230, 10, 284, 39, 76])\n",
    "double_elements_under_100(a)\n",
    "print(a[a[a > 150] < 200])"
   ]
  },
  {
   "cell_type": "markdown",
   "metadata": {},
   "source": [
    "## Exercitiul 8\n",
    "(1 punct) Sa se scrie o functie `pair_max` care preia doi vectori de aceeasi lungime si returneaza maximele pe pozitiile corespunzatoare:\n",
    "```\n",
    "a = np.array([3, 7, 9, 13, -10, 200, 3])\n",
    "b = np.array([4, 5, -9, 100, 300, 230, 1])\n",
    "pair_max(a, b)\n",
    "# iesire dorita: \n",
    "array([  4,   7,   9, 100, 300, 230,   3])\n",
    "```\n",
    "Functia va verifica cu `assert` ca vectorii au lungimi egale."
   ]
  },
  {
   "cell_type": "code",
   "execution_count": 42,
   "metadata": {},
   "outputs": [],
   "source": [
    "def pair_max(a : np.array, b : np.array) -> np.array:\n",
    "    '''Function to determin maximum value on each position in two np.arrays\n",
    "    :param a: the first np.array\n",
    "    :param b: the second np.array\n",
    "    :return: the resulting np.array'''\n",
    "    assert len(a) == len(b) , 'The two arrays have not the same length!'\n",
    "    return np.maximum(a, b)"
   ]
  },
  {
   "cell_type": "code",
   "execution_count": 43,
   "metadata": {},
   "outputs": [
    {
     "data": {
      "text/plain": "array([  4,   7,   9, 100, 300, 230,   3])"
     },
     "execution_count": 43,
     "metadata": {},
     "output_type": "execute_result"
    }
   ],
   "source": [
    "a = np.array([3, 7, 9, 13, -10, 200, 3])\n",
    "b = np.array([4, 5, -9, 100, 300, 230, 1])\n",
    "pair_max(a, b)"
   ]
  },
  {
   "cell_type": "markdown",
   "metadata": {},
   "source": [
    "## Exercitiul 9\n",
    "(1 punct) Descarcati setul de date Iris de la adresa 'https://archive.ics.uci.edu/ml/machine-learning-databases/iris/iris.data', si incarcati-l intr-o matrice NumPy, folosind np.genfromtxt. Alegeti aleator 10 pozitii in matricea de 150 linii si 4 coloane (omiteti ultima coloana, de tip text), setati aceste valori pe NaN. Construiti o functie care, primind la intrare o matrice, returneaza un tuplu cu indicii de linii respectiv de coloane in care se gasesc valori NaN."
   ]
  },
  {
   "cell_type": "code",
   "execution_count": 179,
   "metadata": {
    "ExecuteTime": {
     "end_time": "2020-03-06T16:30:17.535143Z",
     "start_time": "2020-03-06T16:30:17.528488Z"
    }
   },
   "outputs": [],
   "source": [
    "def detect_NaN(mat : np.array): ##-> (List[int], List[int]):\n",
    "    '''Function to detect on which lines and on which columns are values of NaN\n",
    "    :param mat: the matrix to look in\n",
    "    :return: a tuple of lists of lines and columns indices'''\n",
    "    np.argwhere(mat == 100)\n",
    "    return "
   ]
  },
  {
   "cell_type": "code",
   "execution_count": 181,
   "metadata": {
    "ExecuteTime": {
     "end_time": "2020-03-06T16:34:10.580794Z",
     "start_time": "2020-03-06T16:34:10.561504Z"
    }
   },
   "outputs": [
    {
     "name": "stdout",
     "output_type": "stream",
     "text": [
      "Nefinalizat\n"
     ]
    }
   ],
   "source": [
    "b = np.array([[3, 7, 9, 13, -10, 100, 3], [4, 5, -9, 100, 100, 230, 1], [230, 10, 284, 39, 76, 100, 13]])\n",
    "detect_NaN(b)\n",
    "print('Nefinalizat')"
   ]
  },
  {
   "cell_type": "markdown",
   "metadata": {},
   "source": [
    "## Exercitiul 10\n",
    "(1 punct) Sa se construiasca o functie care returneaza cele mai mici k valori dintr-un vector de cel putin k elemente, impreuna cu pozitiile lor."
   ]
  },
  {
   "cell_type": "code",
   "execution_count": 54,
   "metadata": {},
   "outputs": [],
   "source": [
    "def k_mins(a : np.array, k : int) -> Tuple[np.array, np.array]:\n",
    "    '''Function to determin the minimum k items in np.array\n",
    "    :param a: the array to look in\n",
    "    :param k: the number of values\n",
    "    :return: the minimum values with their position'''\n",
    "    assert len(a) >= k , 'The np.array does not have at least k elements'\n",
    "    return (a[np.argpartition(a, k)[:k]], np.argpartition(a, k)[:k])"
   ]
  },
  {
   "cell_type": "code",
   "execution_count": 55,
   "metadata": {},
   "outputs": [
    {
     "data": {
      "text/plain": "(array([38, 45,  4, 13]), array([1, 7, 4, 8]))"
     },
     "execution_count": 55,
     "metadata": {},
     "output_type": "execute_result"
    }
   ],
   "source": [
    "a = np.array([69, 38, 60, 91, 4, 81, 54, 45, 13, 95])\n",
    "k_mins(a, 4)"
   ]
  }
 ],
 "metadata": {
  "kernelspec": {
   "display_name": "Python 3",
   "language": "python",
   "name": "python3"
  },
  "language_info": {
   "codemirror_mode": {
    "name": "ipython",
    "version": 3
   },
   "file_extension": ".py",
   "mimetype": "text/x-python",
   "name": "python",
   "nbconvert_exporter": "python",
   "pygments_lexer": "ipython3",
   "version": "3.7.6-final"
  },
  "varInspector": {
   "cols": {
    "lenName": 16,
    "lenType": 16,
    "lenVar": 40
   },
   "kernels_config": {
    "python": {
     "delete_cmd_postfix": "",
     "delete_cmd_prefix": "del ",
     "library": "var_list.py",
     "varRefreshCmd": "print(var_dic_list())"
    },
    "r": {
     "delete_cmd_postfix": ") ",
     "delete_cmd_prefix": "rm(",
     "library": "var_list.r",
     "varRefreshCmd": "cat(var_dic_list()) "
    }
   },
   "types_to_exclude": [
    "module",
    "function",
    "builtin_function_or_method",
    "instance",
    "_Feature"
   ],
   "window_display": false
  }
 },
 "nbformat": 4,
 "nbformat_minor": 4
}