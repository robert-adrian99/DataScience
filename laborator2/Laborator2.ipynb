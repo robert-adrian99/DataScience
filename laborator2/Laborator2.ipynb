{
 "cells": [
  {
   "cell_type": "markdown",
   "metadata": {},
   "source": [
    "# Exercitii functii\n",
    "Nota: aceste exercitii nu se puncteaza.\n",
    "## Exercitiul 1\n",
    "Sa se scrie o functie care primeste ca parametru o lista de numere si returneaza un tuplu continand: suma elementelor si diferenta maxima dintre elementele listei."
   ]
  },
  {
   "cell_type": "code",
   "execution_count": 4,
   "metadata": {
    "ExecuteTime": {
     "end_time": "2020-03-04T13:05:36.682421Z",
     "start_time": "2020-03-04T13:05:36.674266Z"
    }
   },
   "outputs": [],
   "source": [
    "from typing import List"
   ]
  },
  {
   "cell_type": "code",
   "execution_count": 5,
   "metadata": {
    "ExecuteTime": {
     "end_time": "2020-03-04T13:05:37.840511Z",
     "start_time": "2020-03-04T13:05:37.833720Z"
    }
   },
   "outputs": [],
   "source": [
    "def sum_diff_max(lista : List[float]) -> (float, float):\n",
    "    '''Function for summing the elements in a list and calculating the maximum difference\n",
    "    :param lista: the list for summing up the elements and calculate the difference\n",
    "    :return: tuple of two values of int which represents the sum and the diff'''\n",
    "    \n",
    "    return (sum(lista), max(lista) - min(lista))"
   ]
  },
  {
   "cell_type": "code",
   "execution_count": 7,
   "metadata": {
    "ExecuteTime": {
     "end_time": "2020-03-04T13:05:39.734620Z",
     "start_time": "2020-03-04T13:05:39.721383Z"
    }
   },
   "outputs": [
    {
     "data": {
      "text/plain": [
       "(15, 4)"
      ]
     },
     "execution_count": 7,
     "metadata": {},
     "output_type": "execute_result"
    }
   ],
   "source": [
    "sum_diff_max([1,2,3,4,5])"
   ]
  },
  {
   "cell_type": "markdown",
   "metadata": {},
   "source": [
    "## Exercitiul 2\n",
    "Scrieti o functie care preia doua liste si returneaza True daca cele doua liste de numere contin cel putin $k$ elemente comune ($k \\ge 1$ dat ca parametru intreg, valoare implicita 1), False altfel."
   ]
  },
  {
   "cell_type": "code",
   "execution_count": 16,
   "metadata": {
    "ExecuteTime": {
     "end_time": "2020-03-04T13:20:53.878970Z",
     "start_time": "2020-03-04T13:20:53.871577Z"
    }
   },
   "outputs": [],
   "source": [
    "def same_k_elements(list1 : List[int], list2 : List[int], k : int = 1) -> bool:\n",
    "    '''Function to verify if the intersection of two lists has at least k elements\n",
    "    :param list1: the first list\n",
    "    :param list2: the second list\n",
    "    :return: True if the condition is verified and False else'''\n",
    "    set1, set2 = set(list1), set(list2)\n",
    "    return len(set1.intersection(set2)) >= k"
   ]
  },
  {
   "cell_type": "code",
   "execution_count": 17,
   "metadata": {
    "ExecuteTime": {
     "end_time": "2020-03-04T13:20:55.675274Z",
     "start_time": "2020-03-04T13:20:55.662306Z"
    }
   },
   "outputs": [
    {
     "data": {
      "text/plain": [
       "False"
      ]
     },
     "execution_count": 17,
     "metadata": {},
     "output_type": "execute_result"
    }
   ],
   "source": [
    "same_k_elements([1,2,3,4],[2,3,4,5,6],4)"
   ]
  },
  {
   "cell_type": "markdown",
   "metadata": {},
   "source": [
    "## Exercitiul 3\n",
    "Sa se scrie o functie care determina daca o lista contine cuvinte reprezentand doar numere intregi (optional: numere fractionare, scrise sub forma parte intreaga, optional urmata de punct zecimal, optional urmata de parte fractionara: 1, 2., 13.14) (Puteti folosi modulul re pentru lucrul cu expresii regulate.) Functia trebuie sa testeze daca:\n",
    "- elementele din lista sunt stringuri\n",
    "- fiecare din stringuri este un numar"
   ]
  },
  {
   "cell_type": "code",
   "execution_count": 31,
   "metadata": {
    "ExecuteTime": {
     "end_time": "2020-03-04T13:28:33.729548Z",
     "start_time": "2020-03-04T13:28:33.722354Z"
    }
   },
   "outputs": [],
   "source": [
    "def validate_list_to_integer(list_str : List[str]) -> bool:\n",
    "    '''Function to verify if all words from list_str are integers\n",
    "    :param list_str: list of words for verification\n",
    "    :return: True if the condition is verified and False else'''\n",
    "    for item in list_str:\n",
    "        if not item.isdigit():\n",
    "            return False\n",
    "    return True"
   ]
  },
  {
   "cell_type": "code",
   "execution_count": 33,
   "metadata": {
    "ExecuteTime": {
     "end_time": "2020-03-04T13:28:40.446760Z",
     "start_time": "2020-03-04T13:28:40.434316Z"
    }
   },
   "outputs": [
    {
     "data": {
      "text/plain": [
       "False"
      ]
     },
     "execution_count": 33,
     "metadata": {},
     "output_type": "execute_result"
    }
   ],
   "source": [
    "validate_list_to_integer(['1','2','3','hello'])"
   ]
  },
  {
   "cell_type": "markdown",
   "metadata": {},
   "source": [
    "## Exercitiul 4\n",
    "Sa se scrie o functie care returneaza numarul de vocale si de consoane dintr-un parametru dat - rezultatul returnat de functie este tuplu cu doua valori. Cuvantul se va converti la litere mici in interiorul functiei."
   ]
  },
  {
   "cell_type": "code",
   "execution_count": 41,
   "metadata": {
    "ExecuteTime": {
     "end_time": "2020-03-04T13:40:44.581341Z",
     "start_time": "2020-03-04T13:40:44.573283Z"
    }
   },
   "outputs": [],
   "source": [
    "def number_of_vowel_consonants(word : str) -> (int, int):\n",
    "    '''Function to count the number of vowels and consonants in a word\n",
    "    :param word: the string for counting the vowels and consonants\n",
    "    :return: tuple containing the number of vowels and consonants'''\n",
    "    word.lower()\n",
    "    vowels = ['a', 'e', 'i', 'o', 'u']\n",
    "    number_of_vowels = 0\n",
    "    number_of_consonants = 0\n",
    "    for character in word:\n",
    "        if character in vowels:\n",
    "            number_of_vowels += 1\n",
    "        else:\n",
    "            number_of_consonants += 1\n",
    "    return (number_of_vowels, number_of_consonants)"
   ]
  },
  {
   "cell_type": "code",
   "execution_count": 43,
   "metadata": {
    "ExecuteTime": {
     "end_time": "2020-03-04T13:40:53.309439Z",
     "start_time": "2020-03-04T13:40:53.301094Z"
    }
   },
   "outputs": [
    {
     "data": {
      "text/plain": [
       "(2, 4)"
      ]
     },
     "execution_count": 43,
     "metadata": {},
     "output_type": "execute_result"
    }
   ],
   "source": [
    "number_of_vowel_consonants('Hammer')"
   ]
  },
  {
   "cell_type": "markdown",
   "metadata": {},
   "source": [
    "## Exercitiul 5\n",
    "Sa se scrie o functie care primind o lista de dictionare, returneaza True daca toate dictionarele contin cel putin $n$ elemente, $n$ transmis ca parametru, False altfel."
   ]
  },
  {
   "cell_type": "code",
   "execution_count": null,
   "metadata": {},
   "outputs": [],
   "source": []
  },
  {
   "cell_type": "markdown",
   "metadata": {},
   "source": [
    "# Exercitii NumPy\n",
    "Nota: in rezolvarea exercitiilor se vor folosi cat mai mult functii NumPy vectorizate. Functiile scrise de voi vor fi documentate cu docstrings (tutoriale: Docstrings in Python, urmati NumPy Style Python Docstrings). Folositi type annotations. Utilizati doar pachetele NumPy.\n",
    "## Exercitiul 1\n",
    "(0.5 puncte) Pentru un vector NumPy dat, sa se determine care sunt elementele unice, in ordine descrescatoare. Exemplu: pentru x = np.array([-4, 3,  5, 3, 2, 1, -3, -4, 2, -4]) functia scrisa de dvs va intoarce rezultatul [ 5,  3,  2,  1, -3, -4]."
   ]
  },
  {
   "cell_type": "code",
   "execution_count": null,
   "metadata": {},
   "outputs": [],
   "source": []
  },
  {
   "cell_type": "code",
   "execution_count": null,
   "metadata": {},
   "outputs": [],
   "source": []
  }
 ],
 "metadata": {
  "kernelspec": {
   "display_name": "Python 3",
   "language": "python",
   "name": "python3"
  },
  "language_info": {
   "codemirror_mode": {
    "name": "ipython",
    "version": 3
   },
   "file_extension": ".py",
   "mimetype": "text/x-python",
   "name": "python",
   "nbconvert_exporter": "python",
   "pygments_lexer": "ipython3",
   "version": "3.7.6"
  },
  "varInspector": {
   "cols": {
    "lenName": 16,
    "lenType": 16,
    "lenVar": 40
   },
   "kernels_config": {
    "python": {
     "delete_cmd_postfix": "",
     "delete_cmd_prefix": "del ",
     "library": "var_list.py",
     "varRefreshCmd": "print(var_dic_list())"
    },
    "r": {
     "delete_cmd_postfix": ") ",
     "delete_cmd_prefix": "rm(",
     "library": "var_list.r",
     "varRefreshCmd": "cat(var_dic_list()) "
    }
   },
   "types_to_exclude": [
    "module",
    "function",
    "builtin_function_or_method",
    "instance",
    "_Feature"
   ],
   "window_display": false
  }
 },
 "nbformat": 4,
 "nbformat_minor": 4
}
